{
 "cells": [
  {
   "cell_type": "code",
   "execution_count": 1,
   "metadata": {
    "id": "dGXE2lmyyJne"
   },
   "outputs": [],
   "source": [
    "# CS2170 Final Project\n",
    "# lenz Baron Balita and Cara L. Roño\n"
   ]
  },
  {
   "cell_type": "code",
   "execution_count": 2,
   "metadata": {
    "colab": {
     "base_uri": "https://localhost:8080/"
    },
    "id": "7_MrZMyOyWLK",
    "outputId": "fd22d49b-43fe-440c-fa4c-3ea074e03a02"
   },
   "outputs": [
    {
     "name": "stdout",
     "output_type": "stream",
     "text": [
      "Requirement already satisfied: pyLDAvis==2.1.2 in c:\\python39\\lib\\site-packages (2.1.2)\n",
      "Requirement already satisfied: scipy>=0.18.0 in c:\\users\\slash\\appdata\\roaming\\python\\python39\\site-packages (from pyLDAvis==2.1.2) (1.5.4)\n",
      "Requirement already satisfied: jinja2>=2.7.2 in c:\\python39\\lib\\site-packages (from pyLDAvis==2.1.2) (2.11.2)\n",
      "Requirement already satisfied: numpy>=1.9.2 in c:\\python39\\lib\\site-packages (from pyLDAvis==2.1.2) (1.19.3)\n",
      "Requirement already satisfied: pytest in c:\\python39\\lib\\site-packages (from pyLDAvis==2.1.2) (6.2.2)\n",
      "Requirement already satisfied: future in c:\\python39\\lib\\site-packages (from pyLDAvis==2.1.2) (0.18.2)\n",
      "Requirement already satisfied: pandas>=0.17.0 in c:\\python39\\lib\\site-packages (from pyLDAvis==2.1.2) (1.2.1)\n",
      "Requirement already satisfied: wheel>=0.23.0 in c:\\python39\\lib\\site-packages (from pyLDAvis==2.1.2) (0.36.2)\n",
      "Requirement already satisfied: funcy in c:\\python39\\lib\\site-packages (from pyLDAvis==2.1.2) (1.15)\n",
      "Requirement already satisfied: joblib>=0.8.4 in c:\\python39\\lib\\site-packages (from pyLDAvis==2.1.2) (1.0.0)\n",
      "Requirement already satisfied: numexpr in c:\\python39\\lib\\site-packages (from pyLDAvis==2.1.2) (2.7.2)\n",
      "Requirement already satisfied: MarkupSafe>=0.23 in c:\\python39\\lib\\site-packages (from jinja2>=2.7.2->pyLDAvis==2.1.2) (1.1.1)\n",
      "Requirement already satisfied: pytz>=2017.3 in c:\\python39\\lib\\site-packages (from pandas>=0.17.0->pyLDAvis==2.1.2) (2020.4)\n",
      "Requirement already satisfied: python-dateutil>=2.7.3 in c:\\python39\\lib\\site-packages (from pandas>=0.17.0->pyLDAvis==2.1.2) (2.8.1)\n",
      "Requirement already satisfied: six>=1.5 in c:\\python39\\lib\\site-packages (from python-dateutil>=2.7.3->pandas>=0.17.0->pyLDAvis==2.1.2) (1.15.0)\n",
      "Requirement already satisfied: iniconfig in c:\\python39\\lib\\site-packages (from pytest->pyLDAvis==2.1.2) (1.1.1)\n",
      "Requirement already satisfied: attrs>=19.2.0 in c:\\python39\\lib\\site-packages (from pytest->pyLDAvis==2.1.2) (20.3.0)\n",
      "Requirement already satisfied: colorama in c:\\python39\\lib\\site-packages (from pytest->pyLDAvis==2.1.2) (0.4.4)\n",
      "Requirement already satisfied: pluggy<1.0.0a1,>=0.12 in c:\\python39\\lib\\site-packages (from pytest->pyLDAvis==2.1.2) (0.13.1)\n",
      "Requirement already satisfied: py>=1.8.2 in c:\\python39\\lib\\site-packages (from pytest->pyLDAvis==2.1.2) (1.10.0)\n",
      "Requirement already satisfied: atomicwrites>=1.0 in c:\\python39\\lib\\site-packages (from pytest->pyLDAvis==2.1.2) (1.4.0)\n",
      "Requirement already satisfied: packaging in c:\\python39\\lib\\site-packages (from pytest->pyLDAvis==2.1.2) (20.4)\n",
      "Requirement already satisfied: toml in c:\\python39\\lib\\site-packages (from pytest->pyLDAvis==2.1.2) (0.10.2)\n",
      "Requirement already satisfied: pyparsing>=2.0.2 in c:\\python39\\lib\\site-packages (from packaging->pytest->pyLDAvis==2.1.2) (2.4.7)\n"
     ]
    },
    {
     "name": "stderr",
     "output_type": "stream",
     "text": [
      "WARNING: You are using pip version 20.3.3; however, version 21.0.1 is available.\n",
      "You should consider upgrading via the 'c:\\python39\\python.exe -m pip install --upgrade pip' command.\n"
     ]
    },
    {
     "name": "stdout",
     "output_type": "stream",
     "text": [
      "Requirement already satisfied: nltk in c:\\python39\\lib\\site-packages (3.5)\n",
      "Requirement already satisfied: regex in c:\\python39\\lib\\site-packages (from nltk) (2020.11.13)\n",
      "Requirement already satisfied: tqdm in c:\\python39\\lib\\site-packages (from nltk) (4.56.2)\n",
      "Requirement already satisfied: click in c:\\python39\\lib\\site-packages (from nltk) (7.1.2)\n",
      "Requirement already satisfied: joblib in c:\\python39\\lib\\site-packages (from nltk) (1.0.0)\n"
     ]
    },
    {
     "name": "stderr",
     "output_type": "stream",
     "text": [
      "WARNING: You are using pip version 20.3.3; however, version 21.0.1 is available.\n",
      "You should consider upgrading via the 'c:\\python39\\python.exe -m pip install --upgrade pip' command.\n"
     ]
    },
    {
     "name": "stdout",
     "output_type": "stream",
     "text": [
      "Requirement already satisfied: sklearn in c:\\python39\\lib\\site-packages (0.0)\n",
      "Requirement already satisfied: scikit-learn in c:\\python39\\lib\\site-packages (from sklearn) (0.24.0)\n",
      "Requirement already satisfied: joblib>=0.11 in c:\\python39\\lib\\site-packages (from scikit-learn->sklearn) (1.0.0)\n",
      "Requirement already satisfied: numpy>=1.13.3 in c:\\python39\\lib\\site-packages (from scikit-learn->sklearn) (1.19.3)\n",
      "Requirement already satisfied: threadpoolctl>=2.0.0 in c:\\python39\\lib\\site-packages (from scikit-learn->sklearn) (2.1.0)\n",
      "Requirement already satisfied: scipy>=0.19.1 in c:\\users\\slash\\appdata\\roaming\\python\\python39\\site-packages (from scikit-learn->sklearn) (1.5.4)\n"
     ]
    },
    {
     "name": "stderr",
     "output_type": "stream",
     "text": [
      "WARNING: You are using pip version 20.3.3; however, version 21.0.1 is available.\n",
      "You should consider upgrading via the 'c:\\python39\\python.exe -m pip install --upgrade pip' command.\n"
     ]
    },
    {
     "name": "stdout",
     "output_type": "stream",
     "text": [
      "Requirement already satisfied: gensim in c:\\python39\\lib\\site-packages (3.8.3)\n",
      "Requirement already satisfied: scipy>=0.18.1 in c:\\users\\slash\\appdata\\roaming\\python\\python39\\site-packages (from gensim) (1.5.4)\n",
      "Requirement already satisfied: numpy>=1.11.3 in c:\\python39\\lib\\site-packages (from gensim) (1.19.3)\n",
      "Requirement already satisfied: smart-open>=1.8.1 in c:\\python39\\lib\\site-packages (from gensim) (4.1.2)\n",
      "Requirement already satisfied: six>=1.5.0 in c:\\python39\\lib\\site-packages (from gensim) (1.15.0)\n"
     ]
    },
    {
     "name": "stderr",
     "output_type": "stream",
     "text": [
      "WARNING: You are using pip version 20.3.3; however, version 21.0.1 is available.\n",
      "You should consider upgrading via the 'c:\\python39\\python.exe -m pip install --upgrade pip' command.\n"
     ]
    },
    {
     "name": "stdout",
     "output_type": "stream",
     "text": [
      "Requirement already satisfied: seaborn in c:\\python39\\lib\\site-packages (0.11.0)\n",
      "Requirement already satisfied: matplotlib>=2.2 in c:\\python39\\lib\\site-packages (from seaborn) (3.3.3)\n",
      "Requirement already satisfied: scipy>=1.0 in c:\\users\\slash\\appdata\\roaming\\python\\python39\\site-packages (from seaborn) (1.5.4)\n",
      "Requirement already satisfied: numpy>=1.15 in c:\\python39\\lib\\site-packages (from seaborn) (1.19.3)\n",
      "Requirement already satisfied: pandas>=0.23 in c:\\python39\\lib\\site-packages (from seaborn) (1.2.1)\n",
      "Requirement already satisfied: kiwisolver>=1.0.1 in c:\\python39\\lib\\site-packages (from matplotlib>=2.2->seaborn) (1.3.1)\n"
     ]
    },
    {
     "name": "stderr",
     "output_type": "stream",
     "text": [
      "WARNING: You are using pip version 20.3.3; however, version 21.0.1 is available.\n",
      "You should consider upgrading via the 'c:\\python39\\python.exe -m pip install --upgrade pip' command.\n"
     ]
    },
    {
     "name": "stdout",
     "output_type": "stream",
     "text": [
      "Requirement already satisfied: python-dateutil>=2.1 in c:\\python39\\lib\\site-packages (from matplotlib>=2.2->seaborn) (2.8.1)\n",
      "Requirement already satisfied: pillow>=6.2.0 in c:\\python39\\lib\\site-packages (from matplotlib>=2.2->seaborn) (8.0.1)\n",
      "Requirement already satisfied: cycler>=0.10 in c:\\python39\\lib\\site-packages (from matplotlib>=2.2->seaborn) (0.10.0)\n",
      "Requirement already satisfied: pyparsing!=2.0.4,!=2.1.2,!=2.1.6,>=2.0.3 in c:\\python39\\lib\\site-packages (from matplotlib>=2.2->seaborn) (2.4.7)\n",
      "Requirement already satisfied: six in c:\\python39\\lib\\site-packages (from cycler>=0.10->matplotlib>=2.2->seaborn) (1.15.0)\n",
      "Requirement already satisfied: pytz>=2017.3 in c:\\python39\\lib\\site-packages (from pandas>=0.23->seaborn) (2020.4)\n"
     ]
    },
    {
     "name": "stderr",
     "output_type": "stream",
     "text": [
      "WARNING: You are using pip version 20.3.3; however, version 21.0.1 is available.\n",
      "You should consider upgrading via the 'c:\\python39\\python.exe -m pip install --upgrade pip' command.\n"
     ]
    },
    {
     "name": "stdout",
     "output_type": "stream",
     "text": [
      "Requirement already satisfied: plotly in c:\\python39\\lib\\site-packages (4.14.3)\n",
      "Requirement already satisfied: six in c:\\python39\\lib\\site-packages (from plotly) (1.15.0)\n",
      "Requirement already satisfied: retrying>=1.3.3 in c:\\python39\\lib\\site-packages (from plotly) (1.3.3)\n"
     ]
    },
    {
     "name": "stderr",
     "output_type": "stream",
     "text": [
      "[nltk_data] Downloading package wordnet to\n",
      "[nltk_data]     C:\\Users\\slash\\AppData\\Roaming\\nltk_data...\n",
      "[nltk_data]   Package wordnet is already up-to-date!\n",
      "[nltk_data] Downloading package words to\n",
      "[nltk_data]     C:\\Users\\slash\\AppData\\Roaming\\nltk_data...\n",
      "[nltk_data]   Package words is already up-to-date!\n",
      "[nltk_data] Downloading package punkt to\n",
      "[nltk_data]     C:\\Users\\slash\\AppData\\Roaming\\nltk_data...\n",
      "[nltk_data]   Package punkt is already up-to-date!\n",
      "[nltk_data] Downloading package averaged_perceptron_tagger to\n",
      "[nltk_data]     C:\\Users\\slash\\AppData\\Roaming\\nltk_data...\n",
      "[nltk_data]   Package averaged_perceptron_tagger is already up-to-\n",
      "[nltk_data]       date!\n"
     ]
    }
   ],
   "source": [
    "!pip install pyLDAvis==2.1.2\n",
    "!pip install nltk\n",
    "!pip install sklearn\n",
    "!pip install gensim\n",
    "!pip install seaborn\n",
    "!pip install plotly\n",
    "import pandas as pd\n",
    "import numpy as np\n",
    "import statsmodels.tools.tools as stattools\n",
    "import matplotlib.pyplot as plt\n",
    "import seaborn as sns\n",
    "import plotly.express as px\n",
    "from sklearn.model_selection import train_test_split\n",
    "import random\n",
    "\n",
    "\n",
    "#topic modeling\n",
    "import nltk\n",
    "nltk.download('wordnet')\n",
    "nltk.download('words')\n",
    "nltk.download('punkt')\n",
    "nltk.download('averaged_perceptron_tagger') \n",
    "from nltk.util import ngrams\n",
    "import nltk, re, string, gensim\n",
    "from nltk.corpus import stopwords, wordnet as wn\n",
    "from nltk.stem import WordNetLemmatizer \n",
    "from sklearn.feature_extraction.text import TfidfVectorizer, CountVectorizer\n",
    "from collections import defaultdict\n",
    "from gensim import corpora\n",
    "from nltk.stem import SnowballStemmer\n",
    "\n",
    "import os\n",
    "for dirname, _, filenames in os.walk('/kaggle/input'):\n",
    "    for filename in filenames:\n",
    "        print(os.path.join(dirname, filename))\n",
    "\n"
   ]
  },
  {
   "cell_type": "markdown",
   "metadata": {
    "id": "o9NMx2nYzKNS"
   },
   "source": [
    "## **I. Data Gathering**\n",
    "\n",
    "the dataset that will be used in this study is sourced from Kaggle. The dataset is about Netflix movies and TV shows. It contains more than 7000 rows of different movies and TV shows and listing each of their description, genres, title, directors, and much more. \n",
    "\n",
    "In importing the dataset there are two path specified either by colab or jupyter. \n"
   ]
  },
  {
   "cell_type": "code",
   "execution_count": 3,
   "metadata": {
    "colab": {
     "base_uri": "https://localhost:8080/"
    },
    "id": "xU-q_8ZpxMtd",
    "outputId": "e80934d8-212d-4f57-ff5d-345fb50cbe35"
   },
   "outputs": [],
   "source": [
    "#If will be opened in jupyter remove this\n",
    "#from google.colab import drive\n",
    "#drive.mount('/content/drive')"
   ]
  },
  {
   "cell_type": "code",
   "execution_count": 4,
   "metadata": {
    "colab": {
     "base_uri": "https://localhost:8080/",
     "height": 380
    },
    "id": "-qcW-qHFxe-Y",
    "outputId": "5b1957ad-0565-4417-9bed-6e91778f0675"
   },
   "outputs": [
    {
     "data": {
      "text/html": [
       "<div>\n",
       "<style scoped>\n",
       "    .dataframe tbody tr th:only-of-type {\n",
       "        vertical-align: middle;\n",
       "    }\n",
       "\n",
       "    .dataframe tbody tr th {\n",
       "        vertical-align: top;\n",
       "    }\n",
       "\n",
       "    .dataframe thead th {\n",
       "        text-align: right;\n",
       "    }\n",
       "</style>\n",
       "<table border=\"1\" class=\"dataframe\">\n",
       "  <thead>\n",
       "    <tr style=\"text-align: right;\">\n",
       "      <th></th>\n",
       "      <th>show_id</th>\n",
       "      <th>type</th>\n",
       "      <th>title</th>\n",
       "      <th>director</th>\n",
       "      <th>cast</th>\n",
       "      <th>country</th>\n",
       "      <th>date_added</th>\n",
       "      <th>release_year</th>\n",
       "      <th>rating</th>\n",
       "      <th>duration</th>\n",
       "      <th>listed_in</th>\n",
       "      <th>description</th>\n",
       "    </tr>\n",
       "  </thead>\n",
       "  <tbody>\n",
       "    <tr>\n",
       "      <th>0</th>\n",
       "      <td>s1</td>\n",
       "      <td>TV Show</td>\n",
       "      <td>3%</td>\n",
       "      <td>NaN</td>\n",
       "      <td>João Miguel, Bianca Comparato, Michel Gomes, R...</td>\n",
       "      <td>Brazil</td>\n",
       "      <td>August 14, 2020</td>\n",
       "      <td>2020</td>\n",
       "      <td>TV-MA</td>\n",
       "      <td>4 Seasons</td>\n",
       "      <td>International TV Shows, TV Dramas, TV Sci-Fi &amp;...</td>\n",
       "      <td>In a future where the elite inhabit an island ...</td>\n",
       "    </tr>\n",
       "    <tr>\n",
       "      <th>1</th>\n",
       "      <td>s2</td>\n",
       "      <td>Movie</td>\n",
       "      <td>7:19</td>\n",
       "      <td>Jorge Michel Grau</td>\n",
       "      <td>Demián Bichir, Héctor Bonilla, Oscar Serrano, ...</td>\n",
       "      <td>Mexico</td>\n",
       "      <td>December 23, 2016</td>\n",
       "      <td>2016</td>\n",
       "      <td>TV-MA</td>\n",
       "      <td>93 min</td>\n",
       "      <td>Dramas, International Movies</td>\n",
       "      <td>After a devastating earthquake hits Mexico Cit...</td>\n",
       "    </tr>\n",
       "    <tr>\n",
       "      <th>2</th>\n",
       "      <td>s3</td>\n",
       "      <td>Movie</td>\n",
       "      <td>23:59</td>\n",
       "      <td>Gilbert Chan</td>\n",
       "      <td>Tedd Chan, Stella Chung, Henley Hii, Lawrence ...</td>\n",
       "      <td>Singapore</td>\n",
       "      <td>December 20, 2018</td>\n",
       "      <td>2011</td>\n",
       "      <td>R</td>\n",
       "      <td>78 min</td>\n",
       "      <td>Horror Movies, International Movies</td>\n",
       "      <td>When an army recruit is found dead, his fellow...</td>\n",
       "    </tr>\n",
       "    <tr>\n",
       "      <th>3</th>\n",
       "      <td>s4</td>\n",
       "      <td>Movie</td>\n",
       "      <td>9</td>\n",
       "      <td>Shane Acker</td>\n",
       "      <td>Elijah Wood, John C. Reilly, Jennifer Connelly...</td>\n",
       "      <td>United States</td>\n",
       "      <td>November 16, 2017</td>\n",
       "      <td>2009</td>\n",
       "      <td>PG-13</td>\n",
       "      <td>80 min</td>\n",
       "      <td>Action &amp; Adventure, Independent Movies, Sci-Fi...</td>\n",
       "      <td>In a postapocalyptic world, rag-doll robots hi...</td>\n",
       "    </tr>\n",
       "    <tr>\n",
       "      <th>4</th>\n",
       "      <td>s5</td>\n",
       "      <td>Movie</td>\n",
       "      <td>21</td>\n",
       "      <td>Robert Luketic</td>\n",
       "      <td>Jim Sturgess, Kevin Spacey, Kate Bosworth, Aar...</td>\n",
       "      <td>United States</td>\n",
       "      <td>January 1, 2020</td>\n",
       "      <td>2008</td>\n",
       "      <td>PG-13</td>\n",
       "      <td>123 min</td>\n",
       "      <td>Dramas</td>\n",
       "      <td>A brilliant group of students become card-coun...</td>\n",
       "    </tr>\n",
       "  </tbody>\n",
       "</table>\n",
       "</div>"
      ],
      "text/plain": [
       "  show_id     type  title           director  \\\n",
       "0      s1  TV Show     3%                NaN   \n",
       "1      s2    Movie   7:19  Jorge Michel Grau   \n",
       "2      s3    Movie  23:59       Gilbert Chan   \n",
       "3      s4    Movie      9        Shane Acker   \n",
       "4      s5    Movie     21     Robert Luketic   \n",
       "\n",
       "                                                cast        country  \\\n",
       "0  João Miguel, Bianca Comparato, Michel Gomes, R...         Brazil   \n",
       "1  Demián Bichir, Héctor Bonilla, Oscar Serrano, ...         Mexico   \n",
       "2  Tedd Chan, Stella Chung, Henley Hii, Lawrence ...      Singapore   \n",
       "3  Elijah Wood, John C. Reilly, Jennifer Connelly...  United States   \n",
       "4  Jim Sturgess, Kevin Spacey, Kate Bosworth, Aar...  United States   \n",
       "\n",
       "          date_added  release_year rating   duration  \\\n",
       "0    August 14, 2020          2020  TV-MA  4 Seasons   \n",
       "1  December 23, 2016          2016  TV-MA     93 min   \n",
       "2  December 20, 2018          2011      R     78 min   \n",
       "3  November 16, 2017          2009  PG-13     80 min   \n",
       "4    January 1, 2020          2008  PG-13    123 min   \n",
       "\n",
       "                                           listed_in  \\\n",
       "0  International TV Shows, TV Dramas, TV Sci-Fi &...   \n",
       "1                       Dramas, International Movies   \n",
       "2                Horror Movies, International Movies   \n",
       "3  Action & Adventure, Independent Movies, Sci-Fi...   \n",
       "4                                             Dramas   \n",
       "\n",
       "                                         description  \n",
       "0  In a future where the elite inhabit an island ...  \n",
       "1  After a devastating earthquake hits Mexico Cit...  \n",
       "2  When an army recruit is found dead, his fellow...  \n",
       "3  In a postapocalyptic world, rag-doll robots hi...  \n",
       "4  A brilliant group of students become card-coun...  "
      ]
     },
     "execution_count": 4,
     "metadata": {},
     "output_type": "execute_result"
    }
   ],
   "source": [
    "#path for Jupyter\n",
    "df=pd.read_csv(r\"..\\CS170-BALITA-RONO-FINALPROJECT\\netflix_titles.csv\")\n",
    "\n",
    "#path for colab\n",
    "#df = pd.read_csv('/content/drive/MyDrive/Colab Notebooks/CS170 Project/netflix_titles.csv')\n",
    "df.head(5)"
   ]
  },
  {
   "cell_type": "code",
   "execution_count": 5,
   "metadata": {
    "colab": {
     "base_uri": "https://localhost:8080/"
    },
    "id": "8FLRWShazGuU",
    "outputId": "c358bb9e-e969-4d7b-dca3-8e4427a3b691"
   },
   "outputs": [
    {
     "data": {
      "text/plain": [
       "Index(['show_id', 'type', 'title', 'director', 'cast', 'country', 'date_added',\n",
       "       'release_year', 'rating', 'duration', 'listed_in', 'description'],\n",
       "      dtype='object')"
      ]
     },
     "execution_count": 5,
     "metadata": {},
     "output_type": "execute_result"
    }
   ],
   "source": [
    "# The data set contains the following columns\n",
    "df.columns"
   ]
  },
  {
   "cell_type": "code",
   "execution_count": 6,
   "metadata": {
    "colab": {
     "base_uri": "https://localhost:8080/"
    },
    "id": "9zGBnMuyzgFZ",
    "outputId": "ba91976b-7e49-4a64-d58c-fe087dd92b59"
   },
   "outputs": [
    {
     "data": {
      "text/plain": [
       "(7787, 12)"
      ]
     },
     "execution_count": 6,
     "metadata": {},
     "output_type": "execute_result"
    }
   ],
   "source": [
    "#With 7787 rows and 12 columns\n",
    "df.shape"
   ]
  },
  {
   "cell_type": "markdown",
   "metadata": {
    "id": "sJGRyeqEzkgR"
   },
   "source": [
    "#**II. Data Cleaning**\n",
    "\n",
    "In here we will first look into the type of fields of each column and to know what we're working on. The data set has quite a few columns thus we will delete some columns that will not be used in the study. We will also change some names of some columns to make them suitable for their contents. \n",
    "\n",
    "The data set will be split into Movies and Shows because it will used seperately to see differences of results between movies and shows. There will also be checking of duplicate rows and null values and if there are any will be deleted or filled. Some numeric field will also be standardized to check some outliers in the data. "
   ]
  },
  {
   "cell_type": "code",
   "execution_count": 7,
   "metadata": {
    "colab": {
     "base_uri": "https://localhost:8080/"
    },
    "id": "koPw9z7ZzpLw",
    "outputId": "ed71e6ec-2a20-4f58-e2b0-a2f01981b2d4"
   },
   "outputs": [
    {
     "data": {
      "text/plain": [
       "show_id         object\n",
       "type            object\n",
       "title           object\n",
       "director        object\n",
       "cast            object\n",
       "country         object\n",
       "date_added      object\n",
       "release_year     int64\n",
       "rating          object\n",
       "duration        object\n",
       "listed_in       object\n",
       "description     object\n",
       "dtype: object"
      ]
     },
     "execution_count": 7,
     "metadata": {},
     "output_type": "execute_result"
    }
   ],
   "source": [
    "# checking data types of fields\n",
    "df.dtypes"
   ]
  },
  {
   "cell_type": "code",
   "execution_count": 8,
   "metadata": {
    "colab": {
     "base_uri": "https://localhost:8080/",
     "height": 147
    },
    "id": "f7A85ac3TFWr",
    "outputId": "fd39bab0-5f2d-4ce1-99b5-6a822cd5968d"
   },
   "outputs": [
    {
     "data": {
      "text/html": [
       "<div>\n",
       "<style scoped>\n",
       "    .dataframe tbody tr th:only-of-type {\n",
       "        vertical-align: middle;\n",
       "    }\n",
       "\n",
       "    .dataframe tbody tr th {\n",
       "        vertical-align: top;\n",
       "    }\n",
       "\n",
       "    .dataframe thead th {\n",
       "        text-align: right;\n",
       "    }\n",
       "</style>\n",
       "<table border=\"1\" class=\"dataframe\">\n",
       "  <thead>\n",
       "    <tr style=\"text-align: right;\">\n",
       "      <th></th>\n",
       "      <th>type</th>\n",
       "      <th>title</th>\n",
       "      <th>director</th>\n",
       "      <th>country</th>\n",
       "      <th>date_added</th>\n",
       "      <th>release_year</th>\n",
       "      <th>rating</th>\n",
       "      <th>duration</th>\n",
       "      <th>listed_in</th>\n",
       "      <th>description</th>\n",
       "    </tr>\n",
       "  </thead>\n",
       "  <tbody>\n",
       "    <tr>\n",
       "      <th>0</th>\n",
       "      <td>TV Show</td>\n",
       "      <td>3%</td>\n",
       "      <td>NaN</td>\n",
       "      <td>Brazil</td>\n",
       "      <td>August 14, 2020</td>\n",
       "      <td>2020</td>\n",
       "      <td>TV-MA</td>\n",
       "      <td>4 Seasons</td>\n",
       "      <td>International TV Shows, TV Dramas, TV Sci-Fi &amp;...</td>\n",
       "      <td>In a future where the elite inhabit an island ...</td>\n",
       "    </tr>\n",
       "    <tr>\n",
       "      <th>1</th>\n",
       "      <td>Movie</td>\n",
       "      <td>7:19</td>\n",
       "      <td>Jorge Michel Grau</td>\n",
       "      <td>Mexico</td>\n",
       "      <td>December 23, 2016</td>\n",
       "      <td>2016</td>\n",
       "      <td>TV-MA</td>\n",
       "      <td>93 min</td>\n",
       "      <td>Dramas, International Movies</td>\n",
       "      <td>After a devastating earthquake hits Mexico Cit...</td>\n",
       "    </tr>\n",
       "  </tbody>\n",
       "</table>\n",
       "</div>"
      ],
      "text/plain": [
       "      type title           director country         date_added  release_year  \\\n",
       "0  TV Show    3%                NaN  Brazil    August 14, 2020          2020   \n",
       "1    Movie  7:19  Jorge Michel Grau  Mexico  December 23, 2016          2016   \n",
       "\n",
       "  rating   duration                                          listed_in  \\\n",
       "0  TV-MA  4 Seasons  International TV Shows, TV Dramas, TV Sci-Fi &...   \n",
       "1  TV-MA     93 min                       Dramas, International Movies   \n",
       "\n",
       "                                         description  \n",
       "0  In a future where the elite inhabit an island ...  \n",
       "1  After a devastating earthquake hits Mexico Cit...  "
      ]
     },
     "execution_count": 8,
     "metadata": {},
     "output_type": "execute_result"
    }
   ],
   "source": [
    "# Dropping irrelevant columns that will not be used. \n",
    "df = df.drop(['show_id', 'cast', ], axis=1)\n",
    "df.head(2)"
   ]
  },
  {
   "cell_type": "code",
   "execution_count": 9,
   "metadata": {
    "colab": {
     "base_uri": "https://localhost:8080/"
    },
    "id": "FepAqa3uT4xM",
    "outputId": "9a6b77a0-e6ad-44a7-f9e6-e3f295506704"
   },
   "outputs": [
    {
     "data": {
      "text/plain": [
       "Index(['type', 'title', 'director', 'country', 'date_added', 'release_year',\n",
       "       'rating', 'duration', 'genre', 'description'],\n",
       "      dtype='object')"
      ]
     },
     "execution_count": 9,
     "metadata": {},
     "output_type": "execute_result"
    }
   ],
   "source": [
    "# renaming some column names. \n",
    "df = df.rename(columns={\"listed_in\":\"genre\"})\n",
    "df.columns"
   ]
  },
  {
   "cell_type": "code",
   "execution_count": 10,
   "metadata": {
    "id": "VAvvpo9i0Ug3"
   },
   "outputs": [],
   "source": [
    "# splitting the dataset between Movies and TV shows\n",
    "netflix_movies = df[df['type'] == 'Movie']\n",
    "netflix_shows = df[df['type'] == 'TV Show']"
   ]
  },
  {
   "cell_type": "code",
   "execution_count": 11,
   "metadata": {
    "colab": {
     "base_uri": "https://localhost:8080/"
    },
    "id": "qRur5k95Ywty",
    "outputId": "ea4bf19c-c9c7-4f8b-dea4-109d15be6d1b"
   },
   "outputs": [
    {
     "name": "stdout",
     "output_type": "stream",
     "text": [
      "number of duplicate rows:  (0, 10)\n"
     ]
    }
   ],
   "source": [
    "#checking duplicate rows. There are no duplicate rows\n",
    "duplicate_rows_df = df[df.duplicated()]\n",
    "print(\"number of duplicate rows: \", duplicate_rows_df.shape)"
   ]
  },
  {
   "cell_type": "code",
   "execution_count": 12,
   "metadata": {
    "colab": {
     "base_uri": "https://localhost:8080/"
    },
    "id": "uRh3ym650Mme",
    "outputId": "7d0fc41a-575d-42f8-b096-954aa3270451"
   },
   "outputs": [
    {
     "name": "stdout",
     "output_type": "stream",
     "text": [
      "type               0\n",
      "title              0\n",
      "director        2389\n",
      "country          507\n",
      "date_added        10\n",
      "release_year       0\n",
      "rating             7\n",
      "duration           0\n",
      "genre              0\n",
      "description        0\n",
      "dtype: int64\n"
     ]
    }
   ],
   "source": [
    "#checking null columns\n",
    "print(df.isnull().sum())"
   ]
  },
  {
   "cell_type": "code",
   "execution_count": 13,
   "metadata": {
    "colab": {
     "base_uri": "https://localhost:8080/",
     "height": 754
    },
    "id": "dn9L3hxqaGrR",
    "outputId": "aa19b135-b948-4827-95f8-c17a10c662a5"
   },
   "outputs": [
    {
     "data": {
      "text/html": [
       "<div>\n",
       "<style scoped>\n",
       "    .dataframe tbody tr th:only-of-type {\n",
       "        vertical-align: middle;\n",
       "    }\n",
       "\n",
       "    .dataframe tbody tr th {\n",
       "        vertical-align: top;\n",
       "    }\n",
       "\n",
       "    .dataframe thead th {\n",
       "        text-align: right;\n",
       "    }\n",
       "</style>\n",
       "<table border=\"1\" class=\"dataframe\">\n",
       "  <thead>\n",
       "    <tr style=\"text-align: right;\">\n",
       "      <th></th>\n",
       "      <th>type</th>\n",
       "      <th>title</th>\n",
       "      <th>director</th>\n",
       "      <th>country</th>\n",
       "      <th>date_added</th>\n",
       "      <th>release_year</th>\n",
       "      <th>rating</th>\n",
       "      <th>duration</th>\n",
       "      <th>genre</th>\n",
       "      <th>description</th>\n",
       "    </tr>\n",
       "  </thead>\n",
       "  <tbody>\n",
       "    <tr>\n",
       "      <th>0</th>\n",
       "      <td>TV Show</td>\n",
       "      <td>3%</td>\n",
       "      <td>none</td>\n",
       "      <td>Brazil</td>\n",
       "      <td>August 14, 2020</td>\n",
       "      <td>2020</td>\n",
       "      <td>TV-MA</td>\n",
       "      <td>4 Seasons</td>\n",
       "      <td>International TV Shows, TV Dramas, TV Sci-Fi &amp;...</td>\n",
       "      <td>In a future where the elite inhabit an island ...</td>\n",
       "    </tr>\n",
       "    <tr>\n",
       "      <th>1</th>\n",
       "      <td>Movie</td>\n",
       "      <td>7:19</td>\n",
       "      <td>Jorge Michel Grau</td>\n",
       "      <td>Mexico</td>\n",
       "      <td>December 23, 2016</td>\n",
       "      <td>2016</td>\n",
       "      <td>TV-MA</td>\n",
       "      <td>93 min</td>\n",
       "      <td>Dramas, International Movies</td>\n",
       "      <td>After a devastating earthquake hits Mexico Cit...</td>\n",
       "    </tr>\n",
       "    <tr>\n",
       "      <th>2</th>\n",
       "      <td>Movie</td>\n",
       "      <td>23:59</td>\n",
       "      <td>Gilbert Chan</td>\n",
       "      <td>Singapore</td>\n",
       "      <td>December 20, 2018</td>\n",
       "      <td>2011</td>\n",
       "      <td>R</td>\n",
       "      <td>78 min</td>\n",
       "      <td>Horror Movies, International Movies</td>\n",
       "      <td>When an army recruit is found dead, his fellow...</td>\n",
       "    </tr>\n",
       "    <tr>\n",
       "      <th>3</th>\n",
       "      <td>Movie</td>\n",
       "      <td>9</td>\n",
       "      <td>Shane Acker</td>\n",
       "      <td>United States</td>\n",
       "      <td>November 16, 2017</td>\n",
       "      <td>2009</td>\n",
       "      <td>PG-13</td>\n",
       "      <td>80 min</td>\n",
       "      <td>Action &amp; Adventure, Independent Movies, Sci-Fi...</td>\n",
       "      <td>In a postapocalyptic world, rag-doll robots hi...</td>\n",
       "    </tr>\n",
       "    <tr>\n",
       "      <th>4</th>\n",
       "      <td>Movie</td>\n",
       "      <td>21</td>\n",
       "      <td>Robert Luketic</td>\n",
       "      <td>United States</td>\n",
       "      <td>January 1, 2020</td>\n",
       "      <td>2008</td>\n",
       "      <td>PG-13</td>\n",
       "      <td>123 min</td>\n",
       "      <td>Dramas</td>\n",
       "      <td>A brilliant group of students become card-coun...</td>\n",
       "    </tr>\n",
       "    <tr>\n",
       "      <th>...</th>\n",
       "      <td>...</td>\n",
       "      <td>...</td>\n",
       "      <td>...</td>\n",
       "      <td>...</td>\n",
       "      <td>...</td>\n",
       "      <td>...</td>\n",
       "      <td>...</td>\n",
       "      <td>...</td>\n",
       "      <td>...</td>\n",
       "      <td>...</td>\n",
       "    </tr>\n",
       "    <tr>\n",
       "      <th>7782</th>\n",
       "      <td>Movie</td>\n",
       "      <td>Zozo</td>\n",
       "      <td>Josef Fares</td>\n",
       "      <td>Sweden, Czech Republic, United Kingdom, Denmar...</td>\n",
       "      <td>October 19, 2020</td>\n",
       "      <td>2005</td>\n",
       "      <td>TV-MA</td>\n",
       "      <td>99 min</td>\n",
       "      <td>Dramas, International Movies</td>\n",
       "      <td>When Lebanon's Civil War deprives Zozo of his ...</td>\n",
       "    </tr>\n",
       "    <tr>\n",
       "      <th>7783</th>\n",
       "      <td>Movie</td>\n",
       "      <td>Zubaan</td>\n",
       "      <td>Mozez Singh</td>\n",
       "      <td>India</td>\n",
       "      <td>March 2, 2019</td>\n",
       "      <td>2015</td>\n",
       "      <td>TV-14</td>\n",
       "      <td>111 min</td>\n",
       "      <td>Dramas, International Movies, Music &amp; Musicals</td>\n",
       "      <td>A scrappy but poor boy worms his way into a ty...</td>\n",
       "    </tr>\n",
       "    <tr>\n",
       "      <th>7784</th>\n",
       "      <td>Movie</td>\n",
       "      <td>Zulu Man in Japan</td>\n",
       "      <td>none</td>\n",
       "      <td>none</td>\n",
       "      <td>September 25, 2020</td>\n",
       "      <td>2019</td>\n",
       "      <td>TV-MA</td>\n",
       "      <td>44 min</td>\n",
       "      <td>Documentaries, International Movies, Music &amp; M...</td>\n",
       "      <td>In this documentary, South African rapper Nast...</td>\n",
       "    </tr>\n",
       "    <tr>\n",
       "      <th>7785</th>\n",
       "      <td>TV Show</td>\n",
       "      <td>Zumbo's Just Desserts</td>\n",
       "      <td>none</td>\n",
       "      <td>Australia</td>\n",
       "      <td>October 31, 2020</td>\n",
       "      <td>2019</td>\n",
       "      <td>TV-PG</td>\n",
       "      <td>1 Season</td>\n",
       "      <td>International TV Shows, Reality TV</td>\n",
       "      <td>Dessert wizard Adriano Zumbo looks for the nex...</td>\n",
       "    </tr>\n",
       "    <tr>\n",
       "      <th>7786</th>\n",
       "      <td>Movie</td>\n",
       "      <td>ZZ TOP: THAT LITTLE OL' BAND FROM TEXAS</td>\n",
       "      <td>Sam Dunn</td>\n",
       "      <td>United Kingdom, Canada, United States</td>\n",
       "      <td>March 1, 2020</td>\n",
       "      <td>2019</td>\n",
       "      <td>TV-MA</td>\n",
       "      <td>90 min</td>\n",
       "      <td>Documentaries, Music &amp; Musicals</td>\n",
       "      <td>This documentary delves into the mystique behi...</td>\n",
       "    </tr>\n",
       "  </tbody>\n",
       "</table>\n",
       "<p>7787 rows × 10 columns</p>\n",
       "</div>"
      ],
      "text/plain": [
       "         type                                    title           director  \\\n",
       "0     TV Show                                       3%               none   \n",
       "1       Movie                                     7:19  Jorge Michel Grau   \n",
       "2       Movie                                    23:59       Gilbert Chan   \n",
       "3       Movie                                        9        Shane Acker   \n",
       "4       Movie                                       21     Robert Luketic   \n",
       "...       ...                                      ...                ...   \n",
       "7782    Movie                                     Zozo        Josef Fares   \n",
       "7783    Movie                                   Zubaan        Mozez Singh   \n",
       "7784    Movie                        Zulu Man in Japan               none   \n",
       "7785  TV Show                    Zumbo's Just Desserts               none   \n",
       "7786    Movie  ZZ TOP: THAT LITTLE OL' BAND FROM TEXAS           Sam Dunn   \n",
       "\n",
       "                                                country          date_added  \\\n",
       "0                                                Brazil     August 14, 2020   \n",
       "1                                                Mexico   December 23, 2016   \n",
       "2                                             Singapore   December 20, 2018   \n",
       "3                                         United States   November 16, 2017   \n",
       "4                                         United States     January 1, 2020   \n",
       "...                                                 ...                 ...   \n",
       "7782  Sweden, Czech Republic, United Kingdom, Denmar...    October 19, 2020   \n",
       "7783                                              India       March 2, 2019   \n",
       "7784                                               none  September 25, 2020   \n",
       "7785                                          Australia    October 31, 2020   \n",
       "7786              United Kingdom, Canada, United States       March 1, 2020   \n",
       "\n",
       "      release_year rating   duration  \\\n",
       "0             2020  TV-MA  4 Seasons   \n",
       "1             2016  TV-MA     93 min   \n",
       "2             2011      R     78 min   \n",
       "3             2009  PG-13     80 min   \n",
       "4             2008  PG-13    123 min   \n",
       "...            ...    ...        ...   \n",
       "7782          2005  TV-MA     99 min   \n",
       "7783          2015  TV-14    111 min   \n",
       "7784          2019  TV-MA     44 min   \n",
       "7785          2019  TV-PG   1 Season   \n",
       "7786          2019  TV-MA     90 min   \n",
       "\n",
       "                                                  genre  \\\n",
       "0     International TV Shows, TV Dramas, TV Sci-Fi &...   \n",
       "1                          Dramas, International Movies   \n",
       "2                   Horror Movies, International Movies   \n",
       "3     Action & Adventure, Independent Movies, Sci-Fi...   \n",
       "4                                                Dramas   \n",
       "...                                                 ...   \n",
       "7782                       Dramas, International Movies   \n",
       "7783     Dramas, International Movies, Music & Musicals   \n",
       "7784  Documentaries, International Movies, Music & M...   \n",
       "7785                 International TV Shows, Reality TV   \n",
       "7786                    Documentaries, Music & Musicals   \n",
       "\n",
       "                                            description  \n",
       "0     In a future where the elite inhabit an island ...  \n",
       "1     After a devastating earthquake hits Mexico Cit...  \n",
       "2     When an army recruit is found dead, his fellow...  \n",
       "3     In a postapocalyptic world, rag-doll robots hi...  \n",
       "4     A brilliant group of students become card-coun...  \n",
       "...                                                 ...  \n",
       "7782  When Lebanon's Civil War deprives Zozo of his ...  \n",
       "7783  A scrappy but poor boy worms his way into a ty...  \n",
       "7784  In this documentary, South African rapper Nast...  \n",
       "7785  Dessert wizard Adriano Zumbo looks for the nex...  \n",
       "7786  This documentary delves into the mystique behi...  \n",
       "\n",
       "[7787 rows x 10 columns]"
      ]
     },
     "execution_count": 13,
     "metadata": {},
     "output_type": "execute_result"
    }
   ],
   "source": [
    "#replacing null values with 'not specified' or none\n",
    "\n",
    "df.fillna('Not specified')\n",
    "df.replace(np.nan, ' none')"
   ]
  },
  {
   "cell_type": "code",
   "execution_count": 14,
   "metadata": {
    "colab": {
     "base_uri": "https://localhost:8080/"
    },
    "id": "rApJr1DNhMPX",
    "outputId": "71eee6dc-300f-4d3c-ea5e-2fea4e93b5df"
   },
   "outputs": [
    {
     "data": {
      "text/plain": [
       "0       0.692878\n",
       "1       0.236092\n",
       "2      -0.334890\n",
       "3      -0.563284\n",
       "4      -0.677480\n",
       "          ...   \n",
       "7782   -1.020070\n",
       "7783    0.121896\n",
       "7784    0.578682\n",
       "7785    0.578682\n",
       "7786    0.578682\n",
       "Name: release_year_z, Length: 7787, dtype: float64"
      ]
     },
     "execution_count": 14,
     "metadata": {},
     "output_type": "execute_result"
    }
   ],
   "source": [
    "#standardizing numeric field 'release_year'\n",
    "from scipy import stats\n",
    "df['release_year_z']= stats.zscore(df['release_year'])\n",
    "df['release_year_z']"
   ]
  },
  {
   "cell_type": "code",
   "execution_count": 15,
   "metadata": {
    "colab": {
     "base_uri": "https://localhost:8080/",
     "height": 49
    },
    "id": "dHF8U_3nN0XM",
    "outputId": "09cbc44b-1dce-4925-967c-10fac49724b2"
   },
   "outputs": [
    {
     "data": {
      "text/html": [
       "<div>\n",
       "<style scoped>\n",
       "    .dataframe tbody tr th:only-of-type {\n",
       "        vertical-align: middle;\n",
       "    }\n",
       "\n",
       "    .dataframe tbody tr th {\n",
       "        vertical-align: top;\n",
       "    }\n",
       "\n",
       "    .dataframe thead th {\n",
       "        text-align: right;\n",
       "    }\n",
       "</style>\n",
       "<table border=\"1\" class=\"dataframe\">\n",
       "  <thead>\n",
       "    <tr style=\"text-align: right;\">\n",
       "      <th></th>\n",
       "      <th>type</th>\n",
       "      <th>title</th>\n",
       "      <th>director</th>\n",
       "      <th>country</th>\n",
       "      <th>date_added</th>\n",
       "      <th>release_year</th>\n",
       "      <th>rating</th>\n",
       "      <th>duration</th>\n",
       "      <th>genre</th>\n",
       "      <th>description</th>\n",
       "      <th>release_year_z</th>\n",
       "    </tr>\n",
       "  </thead>\n",
       "  <tbody>\n",
       "  </tbody>\n",
       "</table>\n",
       "</div>"
      ],
      "text/plain": [
       "Empty DataFrame\n",
       "Columns: [type, title, director, country, date_added, release_year, rating, duration, genre, description, release_year_z]\n",
       "Index: []"
      ]
     },
     "execution_count": 15,
     "metadata": {},
     "output_type": "execute_result"
    }
   ],
   "source": [
    "# detecting outliers z-values wither greater than 3 or less than -3. There are no outliers. \n",
    "outliers = df.query('release_year_z>3 | release_year<-3')\n",
    "outliers"
   ]
  },
  {
   "cell_type": "markdown",
   "metadata": {
    "id": "9aSStnnA0oFB"
   },
   "source": [
    "# **III. Exploratory Data Analysis**\n",
    "\n",
    "General Question: **What are the common topics in Netflix based on their descriptions**\n",
    "\n",
    "    - What are the common topics per genre and type(Movies/TV shows)?\n",
    "    - what are the top keywords used in Movies and TV shows ? \n",
    "    - Are there similarities with the Movie/Show's genre and its description? \n"
   ]
  },
  {
   "cell_type": "code",
   "execution_count": 16,
   "metadata": {
    "colab": {
     "base_uri": "https://localhost:8080/",
     "height": 721
    },
    "id": "TQJFU2ranOnt",
    "outputId": "2962f5cc-ecd6-4d14-e890-b0b49074c34d"
   },
   "outputs": [
    {
     "data": {
      "text/plain": [
       "Text(0.5, 1.0, 'Distribution of Movie/TV Show')"
      ]
     },
     "execution_count": 16,
     "metadata": {},
     "output_type": "execute_result"
    },
    {
     "data": {
      "image/png": "[encoded data removed]",
      "text/plain": [
       "<Figure size 864x864 with 1 Axes>"
      ]
     },
     "metadata": {},
     "output_type": "display_data"
    }
   ],
   "source": [
    "# Distribution of Movies/Shows\n",
    "bar, ax = plt.subplots(figsize = (12,12))\n",
    "plt.pie(df['type'].value_counts(), labels = df['type'].value_counts().index, autopct=\"%.1f%%\")\n",
    "plt.title('Distribution of Movie/TV Show', size=20)"
   ]
  },
  {
   "cell_type": "code",
   "execution_count": 17,
   "metadata": {
    "colab": {
     "base_uri": "https://localhost:8080/",
     "height": 638
    },
    "id": "XVaU01URBrhE",
    "outputId": "df22b8c4-28b4-4132-cf47-79720a6b5dd9"
   },
   "outputs": [
    {
     "data": {
      "text/plain": [
       "Text(0.5, 1.0, 'Release Frequency over Years')"
      ]
     },
     "execution_count": 17,
     "metadata": {},
     "output_type": "execute_result"
    },
    {
     "data": {
      "image/png": "[encoded data removed]",
      "text/plain": [
       "<Figure size 720x720 with 1 Axes>"
      ]
     },
     "metadata": {
      "needs_background": "light"
     },
     "output_type": "display_data"
    }
   ],
   "source": [
    "#changes size of figure\n",
    "bar, ax = plt.subplots(figsize = (10,10))\n",
    "#plotting a barplot using seaborn. with the x value ot release year and y value of total produced\n",
    "sns.barplot(x = df['release_year'].value_counts().index[:5], y = df['release_year'].value_counts()[:5])\n",
    "plt.xlabel('Year')\n",
    "plt.ylabel('Frequency')\n",
    "plt.title('Release Frequency over Years')"
   ]
  },
  {
   "cell_type": "markdown",
   "metadata": {
    "id": "k7JxLViLfE6S"
   },
   "source": [
    "The bar plot above indicates that the year of the mose production of movies and TV shows in netflix was in 2018"
   ]
  },
  {
   "cell_type": "code",
   "execution_count": 18,
   "metadata": {
    "id": "6r654OQmIqUL"
   },
   "outputs": [],
   "source": [
    "#Growth of Movie/Show over the years\n",
    "movie_data = df[df['type'] == 'Movie']\n",
    "tv_show_data = df[df['type'] == 'TV Show']\n",
    "temp = df[['type', 'release_year']]\n",
    "temp = temp.value_counts().to_frame()\n",
    "temp.reset_index(level=[0,1], inplace=True)\n",
    "temp = temp.rename(columns = {0:'count'})\n",
    "temp = pd.concat([temp[temp['type'] == 'Movie'][:5], temp[temp['type']== 'TV Show'][:5]])"
   ]
  },
  {
   "cell_type": "code",
   "execution_count": 19,
   "metadata": {
    "colab": {
     "base_uri": "https://localhost:8080/",
     "height": 417
    },
    "id": "IfPP0vmAF73d",
    "outputId": "04541674-badc-4145-b451-182c7f1d8860"
   },
   "outputs": [
    {
     "data": {
      "text/plain": [
       "Text(0.5, 1.0, 'Growth of Movie/TV Show over Years')"
      ]
     },
     "execution_count": 19,
     "metadata": {},
     "output_type": "execute_result"
    },
    {
     "data": {
      "image/png": "[encoded data removed]",
      "text/plain": [
       "<Figure size 438.75x360 with 1 Axes>"
      ]
     },
     "metadata": {
      "needs_background": "light"
     },
     "output_type": "display_data"
    }
   ],
   "source": [
    "sns.catplot(x = 'release_year', y = 'count', hue = 'type', data = temp, kind = 'point')\n",
    "plt.xlabel('Release Year')\n",
    "plt.ylabel('Frequency')\n",
    "plt.title('Growth of Movie/TV Show over Years', size=14)"
   ]
  },
  {
   "cell_type": "markdown",
   "metadata": {
    "id": "2lb0RY2qe3jI"
   },
   "source": [
    "In the plot above it can be seen how there is a decrease of production of Movies from 2018 onwards and increase in the production of TV shows. "
   ]
  },
  {
   "cell_type": "code",
   "execution_count": 20,
   "metadata": {
    "colab": {
     "base_uri": "https://localhost:8080/",
     "height": 516
    },
    "id": "7Ci10ZV_A5Ku",
    "outputId": "1802e742-3f9e-4a06-9743-3927058bd9fa"
   },
   "outputs": [
    {
     "data": {
      "text/plain": [
       "<AxesSubplot:title={'center':'Top 10 countries that produced most movies'}>"
      ]
     },
     "execution_count": 20,
     "metadata": {},
     "output_type": "execute_result"
    },
    {
     "data": {
      "image/png": "[encoded data removed]",
      "text/plain": [
       "<Figure size 1152x576 with 1 Axes>"
      ]
     },
     "metadata": {
      "needs_background": "light"
     },
     "output_type": "display_data"
    }
   ],
   "source": [
    "#Top 10 countries that produced most movies in Netflix\n",
    "\n",
    "histo1= netflix_movies.country.value_counts().head(10)\n",
    "#barplot\n",
    "histo1.plot(kind='bar')\n",
    "plt.title('Top 10 countries that produced most movies')\n",
    "histo1.plot(figsize=(16,8))\n"
   ]
  },
  {
   "cell_type": "markdown",
   "metadata": {
    "id": "aRCRfV3QeoDL"
   },
   "source": [
    "In the barplot above it can be seen that the US followed by Indi tops the most movies produced in Netflix. Philippines is in the 8th place which is cool. "
   ]
  },
  {
   "cell_type": "code",
   "execution_count": 21,
   "metadata": {
    "colab": {
     "base_uri": "https://localhost:8080/",
     "height": 516
    },
    "id": "a-PMTs_UB9-C",
    "outputId": "5b342e46-054b-4379-82b9-5e97cee0718d"
   },
   "outputs": [
    {
     "data": {
      "text/plain": [
       "<AxesSubplot:title={'center':'Top 10 countries that produced most TV shows'}>"
      ]
     },
     "execution_count": 21,
     "metadata": {},
     "output_type": "execute_result"
    },
    {
     "data": {
      "image/png": "[encoded data removed]",
      "text/plain": [
       "<Figure size 1152x576 with 1 Axes>"
      ]
     },
     "metadata": {
      "needs_background": "light"
     },
     "output_type": "display_data"
    }
   ],
   "source": [
    "#Top 10 countries that produced most TV shows in Netflix\n",
    "\n",
    "histo2=netflix_shows.country.value_counts().head(10)\n",
    "histo2.plot(kind='bar', color='orange')\n",
    "plt.title('Top 10 countries that produced most TV shows')\n",
    "histo2.plot(figsize=(16,8))"
   ]
  },
  {
   "cell_type": "markdown",
   "metadata": {
    "id": "eKxm5FiregMQ"
   },
   "source": [
    "as seen in this chart United states tops the production of TV shows followed by UK and Japan"
   ]
  },
  {
   "cell_type": "code",
   "execution_count": 22,
   "metadata": {
    "colab": {
     "base_uri": "https://localhost:8080/",
     "height": 286
    },
    "id": "Ds7AhgKIF8gM",
    "outputId": "494eeb0a-96c0-4428-9a59-bc62ecc48b1e"
   },
   "outputs": [
    {
     "data": {
      "text/plain": [
       "<AxesSubplot:>"
      ]
     },
     "execution_count": 22,
     "metadata": {},
     "output_type": "execute_result"
    },
    {
     "data": {
      "image/png": "[encoded data removed]",
      "text/plain": [
       "<Figure size 432x288 with 1 Axes>"
      ]
     },
     "metadata": {
      "needs_background": "light"
     },
     "output_type": "display_data"
    }
   ],
   "source": [
    "# top genres in Netflix\n",
    "\n",
    "#filling null values \n",
    "df['genre']=df['genre'].fillna('Not Specified')\n",
    "#Splitting multiple genres. \n",
    "FGenre=pd.DataFrame()\n",
    "FGenre=df['genre'].str.split(',', expand=True).stack()\n",
    "FGenre=FGenre.to_frame()\n",
    "FGenre.columns=['Genre']\n",
    "#grouping different genres and getting total content\n",
    "genres=FGenre.groupby(['Genre']).size().reset_index(name='Total Content')\n",
    "genres=genres[genres.Genre !='Not Specified']\n",
    "genres=genres.sort_values(by=['Total Content'],ascending=False)\n",
    "genres=genres.head()\n",
    "#plotting bar chart\n",
    "genres=FGenre.Genre.value_counts().head(5)\n",
    "genres.plot(kind=\"barh\", fontsize=14)"
   ]
  },
  {
   "cell_type": "markdown",
   "metadata": {
    "id": "5IYMOYO6nAeF"
   },
   "source": [
    "## Recommendations\n",
    "Recommends movie based on description and grabs the similarity as its results"
   ]
  },
  {
   "cell_type": "code",
   "execution_count": 23,
   "metadata": {
    "id": "tNUWTZCATxoF"
   },
   "outputs": [],
   "source": [
    "from sklearn.feature_extraction.text import TfidfVectorizer\n",
    "from sklearn.metrics.pairwise import linear_kernel\n",
    "\n",
    "class ContentAnalysis():\n",
    "    def __init__(self, data_frame, threshold = 0.1, stop_words = 'english', lowercase = True, use_idf = True, norm=u'l2', smooth_idf = True):\n",
    "        self.data_frame = data_frame\n",
    "        self.model = TfidfVectorizer(max_df=threshold,stop_words=stop_words, lowercase=lowercase, use_idf=use_idf,norm=norm,smooth_idf=smooth_idf)\n",
    "        self.vector = False\n",
    "\n",
    "    def generate_vector(self, data):\n",
    "        self.vector = self.model.fit_transform(data)\n",
    "    \n",
    "\n",
    "    def find_movies(self, request, top = 10):\n",
    "        if self.vector is not False:\n",
    "            content_transformation = self.model.transform([request])\n",
    "            movie_relatively = np.array(np.dot(content_transformation,np.transpose(self.vector)).toarray()[0])\n",
    "            index = np.argsort(movie_relatively)[-top:][::-1]\n",
    "            rate = [movie_relatively[i] for i in index]\n",
    "            result = zip(index, rate)     \n",
    "            self.render_result(request, result)\n",
    "            \n",
    "\n",
    "    def recommend_movie(self, request_index , top = 15):\n",
    "        if self.vector is not False:\n",
    "            cosine_similarity = linear_kernel(self.vector[request_index:request_index+1], self.vector).flatten()\n",
    "            index = cosine_similarity.argsort()[-top-1:-1][::-1]\n",
    "            rate = [cosine_similarity[i] for i in index]\n",
    "            result = zip(index, rate)     \n",
    "            self.render_result(str(self.data_frame[request_index:request_index+1]), result)\n",
    "\n",
    "    def render_result(self, request_content,indices):\n",
    "        print('Your request : ' + request_content)\n",
    "        print('----------------------------------')\n",
    "        print('Best Results :')\n",
    "        data = self.data_frame\n",
    "        for index, rate in indices:\n",
    "            print('Confidence: {:.2f}%, {}'.format(rate*100, data['title'].loc[index] ))"
   ]
  },
  {
   "cell_type": "code",
   "execution_count": 24,
   "metadata": {
    "colab": {
     "base_uri": "https://localhost:8080/"
    },
    "id": "wri2KI35lmqa",
    "outputId": "f0196425-ad6c-4164-b60b-acd666e3b860"
   },
   "outputs": [
    {
     "name": "stdout",
     "output_type": "stream",
     "text": [
      "Your request : Happy Birthday\n",
      "----------------------------------\n",
      "Best Results :\n",
      "Confidence: 62.52%, My Birthday Song\n",
      "Confidence: 59.06%, Happy And\n",
      "Confidence: 59.06%, Almost Happy\n",
      "Confidence: 59.06%, Happy!\n",
      "Confidence: 42.85%, My Happy Family\n",
      "Confidence: 37.23%, Merry Happy Whatever\n",
      "Confidence: 37.23%, Happy Go Lucky\n",
      "Confidence: 37.23%, Happy Hunting\n",
      "Confidence: 37.23%, Happy Times\n",
      "Confidence: 36.64%, Happy Valley\n"
     ]
    }
   ],
   "source": [
    "vector = ContentAnalysis(df)\n",
    "vector.generate_vector(df[\"title\"])\n",
    "vector.find_movies('Happy Birthday')"
   ]
  },
  {
   "cell_type": "code",
   "execution_count": 25,
   "metadata": {
    "colab": {
     "base_uri": "https://localhost:8080/"
    },
    "id": "8EwccW_dUnin",
    "outputId": "eef78f13-f8f2-4dd7-ee0b-3dd262da3708"
   },
   "outputs": [
    {
     "name": "stdout",
     "output_type": "stream",
     "text": [
      "Your request :       type     title         director country      date_added  release_year  \\\n",
      "100  Movie  3 Idiots  Rajkumar Hirani   India  August 1, 2019          2009   \n",
      "\n",
      "    rating duration                                   genre  \\\n",
      "100  PG-13  164 min  Comedies, Dramas, International Movies   \n",
      "\n",
      "                                           description  release_year_z  \n",
      "100  While attending one of India's premier college...       -0.563284  \n",
      "----------------------------------\n",
      "Best Results :\n",
      "Confidence: 23.19%, College Romance\n",
      "Confidence: 17.27%, Engineering Girls\n",
      "Confidence: 15.25%, Candy Jar\n",
      "Confidence: 15.13%, Mr. Young\n",
      "Confidence: 14.78%, 100 Things to do Before High School\n",
      "Confidence: 14.70%, Pahuna\n",
      "Confidence: 14.66%, Best Neighbors\n",
      "Confidence: 13.64%, Be with Me\n",
      "Confidence: 13.47%, Moms at War\n",
      "Confidence: 12.88%, Lovesong\n",
      "Confidence: 12.67%, Limitless\n",
      "Confidence: 12.65%, The Prince & Me\n",
      "Confidence: 11.99%, Singles Villa\n",
      "Confidence: 11.32%, Barrio Universitario\n",
      "Confidence: 10.70%, LEGO Friends: The Power of Friendship\n"
     ]
    }
   ],
   "source": [
    "#Recommends movie based on description and grabs the similarity as its results\n",
    "vector = ContentAnalysis(df)\n",
    "vector.generate_vector(df[\"description\"])\n",
    "vector.recommend_movie(100)"
   ]
  },
  {
   "cell_type": "markdown",
   "metadata": {
    "id": "hWuGu72zUW7c"
   },
   "source": [
    "# **IV. Modeling**"
   ]
  },
  {
   "cell_type": "markdown",
   "metadata": {
    "id": "WIxBjUQg4ceX"
   },
   "source": [
    "TOPIC MODELING - This creates topics/groups based on descriptions.\n",
    "\n",
    "We used the Latent Dirichlet Allocation(LDA) that will look into the descriptions of each movies and hows in the dataset. \n",
    "\n",
    "training LDA model that is based on the title's descriptions and used to determine the topic of unseen description\n",
    "\n",
    "Libraries used: gensim, nltk"
   ]
  },
  {
   "cell_type": "code",
   "execution_count": 26,
   "metadata": {
    "colab": {
     "base_uri": "https://localhost:8080/"
    },
    "id": "J5h9QRmK1ULD",
    "outputId": "b7d400c4-9cac-40b6-e109-87aa466547be"
   },
   "outputs": [
    {
     "name": "stdout",
     "output_type": "stream",
     "text": [
      "\n",
      "Sample of Topics:\n",
      "Topic-10 => 0.085*\"school\" + 0.084*\"student\" + 0.058*\"high_school\" + 0.050*\"business\" + 0.046*\"drama\" + 0.044*\"childhood\" + 0.035*\"share\" + 0.027*\"teacher\" + 0.023*\"footage\" + 0.022*\"college\"\n",
      "Topic-18 => 0.071*\"discover\" + 0.062*\"relationship\" + 0.057*\"heart\" + 0.036*\"government\" + 0.026*\"rural\" + 0.023*\"course\" + 0.023*\"quirky\" + 0.022*\"reunite\" + 0.020*\"monster\" + 0.020*\"help\"\n",
      "Topic-1 => 0.073*\"people\" + 0.052*\"bring\" + 0.036*\"reveal\" + 0.036*\"series\" + 0.028*\"break\" + 0.026*\"write\" + 0.022*\"transform\" + 0.022*\"collection\" + 0.021*\"colorful\" + 0.021*\"documentary\"\n",
      "Topic-32 => 0.082*\"leave\" + 0.079*\"brother\" + 0.050*\"young\" + 0.047*\"adventure\" + 0.043*\"romantic\" + 0.041*\"family\" + 0.037*\"begin\" + 0.029*\"country\" + 0.022*\"woman\" + 0.018*\"torn_between\"\n",
      "Topic-3 => 0.109*\"murder\" + 0.046*\"determine\" + 0.043*\"steal\" + 0.031*\"prove\" + 0.030*\"rescue\" + 0.027*\"corruption\" + 0.026*\"young\" + 0.023*\"politician\" + 0.023*\"lawyer\" + 0.020*\"kingdom\"\n",
      "Topic-31 => 0.082*\"music\" + 0.055*\"quest\" + 0.038*\"actor\" + 0.035*\"community\" + 0.031*\"famous\" + 0.028*\"seven\" + 0.028*\"major\" + 0.024*\"passion\" + 0.023*\"pursue\" + 0.022*\"industry\"\n",
      "Topic-12 => 0.074*\"friend\" + 0.062*\"different\" + 0.060*\"marry\" + 0.046*\"wealthy\" + 0.038*\"young\" + 0.035*\"journey\" + 0.033*\"animal\" + 0.028*\"family\" + 0.028*\"crush\" + 0.027*\"scheme\"\n",
      "Topic-19 => 0.074*\"future\" + 0.063*\"new_york\" + 0.062*\"college\" + 0.029*\"world\" + 0.026*\"corrupt\" + 0.024*\"documentary\" + 0.020*\"small_town\" + 0.019*\"peace\" + 0.016*\"energy\" + 0.015*\"grandmother\"\n",
      "Topic-30 => 0.060*\"try\" + 0.053*\"ambitious\" + 0.044*\"director\" + 0.040*\"compete\" + 0.036*\"humanity\" + 0.032*\"solve\" + 0.026*\"final\" + 0.026*\"divorce\" + 0.022*\"animated\" + 0.020*\"save\"\n",
      "Topic-5 => 0.084*\"personal\" + 0.070*\"follow\" + 0.069*\"come\" + 0.064*\"human\" + 0.057*\"police\" + 0.054*\"political\" + 0.021*\"target\" + 0.021*\"princess\" + 0.020*\"center\" + 0.019*\"humor\"\n"
     ]
    }
   ],
   "source": [
    "ps = SnowballStemmer('english')\n",
    "lemmatizer = WordNetLemmatizer() \n",
    "\n",
    "tag_map = defaultdict(lambda : wn.NOUN)\n",
    "tag_map['J'] = wn.ADJ\n",
    "tag_map['V'] = wn.VERB\n",
    "tag_map['R'] = wn.ADV\n",
    "\n",
    "\n",
    "#Words from corpus - dictionary \n",
    "words = set(nltk.corpus.words.words())\n",
    "\n",
    "\n",
    "#Text cleaning - tokenization, remove special characters, punctions, meaningless words etc.\n",
    "def txt_clean(txt):\n",
    "    tokens = nltk.word_tokenize(txt.lower())\n",
    "    tokens_clean = [w for w in tokens if w.isalpha() and w in words] \n",
    "    return tokens_clean\n",
    "\n",
    "#create unigram/bigram/trigram words, remove stopwords, lemmatize\n",
    "def lemmatize_stem(tokens, ngram_type=None):\n",
    "    \n",
    "    bigram = gensim.models.Phrases(tokens, min_count=2, threshold=100)\n",
    "    bigram_tokens = [bigram[tokens[w]] for w in range(len(tokens))]\n",
    "    trigram = gensim.models.Phrases(bigram[tokens],threshold=100)\n",
    "    trigram_tokens = [trigram[tokens[w]] for w in range(len(tokens))]\n",
    "    \n",
    "    tokens_clean = []\n",
    "    if ngram_type == \"bigram\":\n",
    "        tokens_c = bigram_tokens\n",
    "    elif ngram_type == \"trigram\":\n",
    "        tokens_c = trigram_tokens\n",
    "    else:\n",
    "        tokens_c = tokens\n",
    "\n",
    "    for i in range(len(tokens)-1):\n",
    "        txt = tokens_c[i]\n",
    "        txt_above5 = [k for k in txt if len(k)>=5 and k not in gensim.parsing.preprocessing.STOPWORDS]\n",
    "        lemma_txt = [lemmatizer.lemmatize(w,pos=tag_map[tg[0]]) for w,tg in nltk.pos_tag(txt_above5)]\n",
    "        stem_txt = [w for w in lemma_txt]\n",
    "        tokens_clean.append(stem_txt)\n",
    "\n",
    "    dictionary = corpora.Dictionary(tokens_clean)\n",
    "    corpus = [dictionary.doc2bow(text) for text in tokens_clean]\n",
    "    \n",
    "    return dictionary, corpus, tokens_clean\n",
    "#splitting data sets for unseen data\n",
    "unseen_len = int(round(0.10 * len(df),0))\n",
    "unseen_data = df[\"description\"].sample(unseen_len) #random sample\n",
    "txt_data = df[\"description\"].drop(unseen_data.index)\n",
    "\n",
    "#Tokenize and clean\n",
    "tokens = list(txt_data.apply(lambda x: txt_clean(x)))\n",
    "\n",
    "#Chose bigram - it had the best performace (tried both unigram and trigram)\n",
    "dictionary, corpus, tokens_clean = lemmatize_stem(tokens, \"bigram\")\n",
    "\n",
    "from gensim.models import CoherenceModel\n",
    "\n",
    "#(The number of topics and decay shouldn't be too high or too low)\n",
    "topic_num = 40\n",
    "min_probability = 0.05\n",
    "learning_decay = 0.5\n",
    "\n",
    "\n",
    "ldamodel = gensim.models.ldamodel.LdaModel(corpus, num_topics = topic_num, id2word=dictionary, passes=15, minimum_probability=min_probability, decay=learning_decay)\n",
    "\n",
    "print(\"\\nSample of Topics:\")\n",
    "for i,j in ldamodel.show_topics(formatted=True,num_words= 10):\n",
    "    print(\"Topic-{} => {}\".format(i,j))\n",
    "topics = ldamodel.print_topics(num_words=10)\n",
    "\n"
   ]
  },
  {
   "cell_type": "code",
   "execution_count": 27,
   "metadata": {
    "colab": {
     "base_uri": "https://localhost:8080/",
     "height": 206
    },
    "id": "eeLoIO821VSD",
    "outputId": "c6bbd5f5-d9d6-4dfb-9878-76c7fafc4078"
   },
   "outputs": [
    {
     "data": {
      "text/html": [
       "<div>\n",
       "<style scoped>\n",
       "    .dataframe tbody tr th:only-of-type {\n",
       "        vertical-align: middle;\n",
       "    }\n",
       "\n",
       "    .dataframe tbody tr th {\n",
       "        vertical-align: top;\n",
       "    }\n",
       "\n",
       "    .dataframe thead th {\n",
       "        text-align: right;\n",
       "    }\n",
       "</style>\n",
       "<table border=\"1\" class=\"dataframe\">\n",
       "  <thead>\n",
       "    <tr style=\"text-align: right;\">\n",
       "      <th></th>\n",
       "      <th>Description</th>\n",
       "      <th>Top Keywords</th>\n",
       "      <th>Dominant Topic</th>\n",
       "      <th>Probability</th>\n",
       "    </tr>\n",
       "  </thead>\n",
       "  <tbody>\n",
       "    <tr>\n",
       "      <th>0</th>\n",
       "      <td>In a future where the elite inhabit an island ...</td>\n",
       "      <td>father,daughter,mother,mission</td>\n",
       "      <td>14</td>\n",
       "      <td>0.50</td>\n",
       "    </tr>\n",
       "    <tr>\n",
       "      <th>1</th>\n",
       "      <td>When an army recruit is found dead, his fellow...</td>\n",
       "      <td>secret,writer,inside,brutal</td>\n",
       "      <td>39</td>\n",
       "      <td>0.27</td>\n",
       "    </tr>\n",
       "    <tr>\n",
       "      <th>2</th>\n",
       "      <td>In a postapocalyptic world, rag-doll robots hi...</td>\n",
       "      <td>dangerous,navigate,battle,world</td>\n",
       "      <td>0</td>\n",
       "      <td>0.72</td>\n",
       "    </tr>\n",
       "    <tr>\n",
       "      <th>3</th>\n",
       "      <td>A brilliant group of students become card-coun...</td>\n",
       "      <td>future,new_york,college,world</td>\n",
       "      <td>19</td>\n",
       "      <td>0.43</td>\n",
       "    </tr>\n",
       "    <tr>\n",
       "      <th>4</th>\n",
       "      <td>A genetics professor experiments with a treatm...</td>\n",
       "      <td>sister,inspire,celebrity,female</td>\n",
       "      <td>36</td>\n",
       "      <td>0.70</td>\n",
       "    </tr>\n",
       "  </tbody>\n",
       "</table>\n",
       "</div>"
      ],
      "text/plain": [
       "                                         Description  \\\n",
       "0  In a future where the elite inhabit an island ...   \n",
       "1  When an army recruit is found dead, his fellow...   \n",
       "2  In a postapocalyptic world, rag-doll robots hi...   \n",
       "3  A brilliant group of students become card-coun...   \n",
       "4  A genetics professor experiments with a treatm...   \n",
       "\n",
       "                      Top Keywords  Dominant Topic  Probability  \n",
       "0   father,daughter,mother,mission              14         0.50  \n",
       "1      secret,writer,inside,brutal              39         0.27  \n",
       "2  dangerous,navigate,battle,world               0         0.72  \n",
       "3    future,new_york,college,world              19         0.43  \n",
       "4  sister,inspire,celebrity,female              36         0.70  "
      ]
     },
     "execution_count": 27,
     "metadata": {},
     "output_type": "execute_result"
    }
   ],
   "source": [
    "#Description-topic distributions for our training set  - It lists top 4 keywords and Dominant topic for each sentence\n",
    "arr = []\n",
    "for i, j in enumerate(ldamodel[corpus]):\n",
    "    if len(j) > 0:\n",
    "        max_val = sorted([w[1] for w in j],reverse=True)[0]\n",
    "        max_topic = [w[0] for w in j if w[1]==max_val][0]\n",
    "        keywords = ldamodel.show_topic(max_topic,topn=4)\n",
    "        keywords = [k[0] for k in keywords]\n",
    "        description = txt_data.iloc[i]\n",
    "        arr.append([description,  \",\".join(keywords), max_topic, round(max_val,2),])\n",
    "\n",
    "lda_distribution = pd.DataFrame(arr, columns=['Description', 'Top Keywords', 'Dominant Topic', 'Probability'])\n",
    "lda_distribution.head()"
   ]
  },
  {
   "cell_type": "code",
   "execution_count": 28,
   "metadata": {
    "colab": {
     "base_uri": "https://localhost:8080/",
     "height": 293
    },
    "id": "LyyxCppV1jPx",
    "outputId": "5dd8193c-27d4-4b90-b167-9d7e82181574"
   },
   "outputs": [
    {
     "data": {
      "text/html": [
       "<div>\n",
       "<style scoped>\n",
       "    .dataframe tbody tr th:only-of-type {\n",
       "        vertical-align: middle;\n",
       "    }\n",
       "\n",
       "    .dataframe tbody tr th {\n",
       "        vertical-align: top;\n",
       "    }\n",
       "\n",
       "    .dataframe thead th {\n",
       "        text-align: right;\n",
       "    }\n",
       "</style>\n",
       "<table border=\"1\" class=\"dataframe\">\n",
       "  <thead>\n",
       "    <tr style=\"text-align: right;\">\n",
       "      <th></th>\n",
       "      <th>Description</th>\n",
       "      <th>Tokens</th>\n",
       "      <th>topic_1</th>\n",
       "      <th>topic_1_prob</th>\n",
       "      <th>topic_2</th>\n",
       "      <th>topic_2_prob</th>\n",
       "      <th>topic_3</th>\n",
       "      <th>topic_3_prob</th>\n",
       "    </tr>\n",
       "  </thead>\n",
       "  <tbody>\n",
       "    <tr>\n",
       "      <th>0</th>\n",
       "      <td>Comic Sam Kinison lets it rip with this perfor...</td>\n",
       "      <td>[comic, sam, it, rip, with, this, performance,...</td>\n",
       "      <td>2</td>\n",
       "      <td>0.15</td>\n",
       "      <td>16</td>\n",
       "      <td>0.289287</td>\n",
       "      <td>26</td>\n",
       "      <td>0.146431</td>\n",
       "    </tr>\n",
       "    <tr>\n",
       "      <th>1</th>\n",
       "      <td>While suitors swoon over her cousin, a single ...</td>\n",
       "      <td>[while, swoon, over, her, cousin, a, single, w...</td>\n",
       "      <td>8</td>\n",
       "      <td>0.18</td>\n",
       "      <td>14</td>\n",
       "      <td>0.215085</td>\n",
       "      <td>32</td>\n",
       "      <td>0.190691</td>\n",
       "    </tr>\n",
       "    <tr>\n",
       "      <th>2</th>\n",
       "      <td>While investigating a series of murders and th...</td>\n",
       "      <td>[while, investigating, a, series, of, and, the...</td>\n",
       "      <td>11</td>\n",
       "      <td>0.15</td>\n",
       "      <td>20</td>\n",
       "      <td>0.14643</td>\n",
       "      <td>21</td>\n",
       "      <td>0.574901</td>\n",
       "    </tr>\n",
       "    <tr>\n",
       "      <th>3</th>\n",
       "      <td>Eight stories celebrating family, faith, love ...</td>\n",
       "      <td>[eight, family, faith, love, and, forgiveness,...</td>\n",
       "      <td>14</td>\n",
       "      <td>0.21</td>\n",
       "      <td>20</td>\n",
       "      <td>0.104366</td>\n",
       "      <td>32</td>\n",
       "      <td>0.220633</td>\n",
       "    </tr>\n",
       "    <tr>\n",
       "      <th>4</th>\n",
       "      <td>Lazy, lasagna-loving fat cat Garfield lives li...</td>\n",
       "      <td>[lazy, fat, cat, life, on, his, own, which, te...</td>\n",
       "      <td>2</td>\n",
       "      <td>0.26</td>\n",
       "      <td>4</td>\n",
       "      <td>0.256231</td>\n",
       "      <td>34</td>\n",
       "      <td>0.256285</td>\n",
       "    </tr>\n",
       "  </tbody>\n",
       "</table>\n",
       "</div>"
      ],
      "text/plain": [
       "                                         Description  \\\n",
       "0  Comic Sam Kinison lets it rip with this perfor...   \n",
       "1  While suitors swoon over her cousin, a single ...   \n",
       "2  While investigating a series of murders and th...   \n",
       "3  Eight stories celebrating family, faith, love ...   \n",
       "4  Lazy, lasagna-loving fat cat Garfield lives li...   \n",
       "\n",
       "                                              Tokens  topic_1  topic_1_prob  \\\n",
       "0  [comic, sam, it, rip, with, this, performance,...        2          0.15   \n",
       "1  [while, swoon, over, her, cousin, a, single, w...        8          0.18   \n",
       "2  [while, investigating, a, series, of, and, the...       11          0.15   \n",
       "3  [eight, family, faith, love, and, forgiveness,...       14          0.21   \n",
       "4  [lazy, fat, cat, life, on, his, own, which, te...        2          0.26   \n",
       "\n",
       "  topic_2 topic_2_prob topic_3 topic_3_prob  \n",
       "0      16     0.289287      26     0.146431  \n",
       "1      14     0.215085      32     0.190691  \n",
       "2      20      0.14643      21     0.574901  \n",
       "3      20     0.104366      32     0.220633  \n",
       "4       4     0.256231      34     0.256285  "
      ]
     },
     "execution_count": 28,
     "metadata": {},
     "output_type": "execute_result"
    }
   ],
   "source": [
    "#predicting topics for unseen data\n",
    "unseen_clean = unseen_data.apply(lambda x: txt_clean(x))\n",
    "    \n",
    "arr = []\n",
    "for i in unseen_clean:\n",
    "    lemma_txt = [lemmatizer.lemmatize(w,pos=tag_map[tg[0]]) for w,tg in nltk.pos_tag(i)]\n",
    "    lemma_txt2 = [w for w in lemma_txt if w not in gensim.parsing.preprocessing.STOPWORDS]\n",
    "    arr2 = ldamodel[dictionary.doc2bow(lemma_txt2)]\n",
    "    max_arr2 = sorted([x[1] for x in arr2],reverse=True)[:3]\n",
    "    sel_arr2 = [list(x) for x in arr2 if x[1] in max_arr2][:3]\n",
    "    sel_arr2 = sum(sel_arr2,[])\n",
    "    if len(sel_arr2) != 6:\n",
    "        sel_arr2.extend([\"None\"]*(6-len(sel_arr2)))\n",
    "    \n",
    "    sel_arr2.extend([i])\n",
    "    arr.append(sel_arr2)\n",
    "\n",
    "unseen_df = pd.DataFrame(arr, columns = [\"topic_1\", \"topic_1_prob\", \"topic_2\", \"topic_2_prob\", \"topic_3\", \"topic_3_prob\", 'Tokens']).round(2)\n",
    "unseen_df[\"Description\"] = list(unseen_data)\n",
    "cols = list(unseen_df.columns)\n",
    "cols = cols[-1:] + [cols[-2]] + cols[:-2]\n",
    "unseen_df = unseen_df[cols]\n",
    "unseen_df.head()"
   ]
  },
  {
   "cell_type": "markdown",
   "metadata": {
    "id": "3bc_qM5Ag9zn"
   },
   "source": [
    "clustering data set with the model results"
   ]
  },
  {
   "cell_type": "code",
   "execution_count": 29,
   "metadata": {
    "colab": {
     "base_uri": "https://localhost:8080/",
     "height": 424
    },
    "id": "xRwH1niF7baq",
    "outputId": "e2223823-37b4-4764-8aa4-cc9c95d14155"
   },
   "outputs": [
    {
     "data": {
      "text/html": [
       "<div>\n",
       "<style scoped>\n",
       "    .dataframe tbody tr th:only-of-type {\n",
       "        vertical-align: middle;\n",
       "    }\n",
       "\n",
       "    .dataframe tbody tr th {\n",
       "        vertical-align: top;\n",
       "    }\n",
       "\n",
       "    .dataframe thead th {\n",
       "        text-align: right;\n",
       "    }\n",
       "</style>\n",
       "<table border=\"1\" class=\"dataframe\">\n",
       "  <thead>\n",
       "    <tr style=\"text-align: right;\">\n",
       "      <th></th>\n",
       "      <th>Genre</th>\n",
       "      <th>Description</th>\n",
       "      <th>Top_Keywords</th>\n",
       "      <th>Dominant_Topic</th>\n",
       "      <th>Probability</th>\n",
       "      <th>type</th>\n",
       "    </tr>\n",
       "  </thead>\n",
       "  <tbody>\n",
       "    <tr>\n",
       "      <th>0</th>\n",
       "      <td>International TV Shows</td>\n",
       "      <td>In a future where the elite inhabit an island ...</td>\n",
       "      <td>father,daughter,mother,mission</td>\n",
       "      <td>14</td>\n",
       "      <td>0.50</td>\n",
       "      <td>TV Show</td>\n",
       "    </tr>\n",
       "    <tr>\n",
       "      <th>1</th>\n",
       "      <td>Dramas</td>\n",
       "      <td>When an army recruit is found dead, his fellow...</td>\n",
       "      <td>secret,writer,inside,brutal</td>\n",
       "      <td>39</td>\n",
       "      <td>0.27</td>\n",
       "      <td>Movie</td>\n",
       "    </tr>\n",
       "    <tr>\n",
       "      <th>2</th>\n",
       "      <td>Horror Movies</td>\n",
       "      <td>In a postapocalyptic world, rag-doll robots hi...</td>\n",
       "      <td>dangerous,navigate,battle,world</td>\n",
       "      <td>0</td>\n",
       "      <td>0.72</td>\n",
       "      <td>Movie</td>\n",
       "    </tr>\n",
       "    <tr>\n",
       "      <th>3</th>\n",
       "      <td>Action &amp; Adventure</td>\n",
       "      <td>A brilliant group of students become card-coun...</td>\n",
       "      <td>future,new_york,college,world</td>\n",
       "      <td>19</td>\n",
       "      <td>0.43</td>\n",
       "      <td>Movie</td>\n",
       "    </tr>\n",
       "    <tr>\n",
       "      <th>4</th>\n",
       "      <td>Dramas</td>\n",
       "      <td>A genetics professor experiments with a treatm...</td>\n",
       "      <td>sister,inspire,celebrity,female</td>\n",
       "      <td>36</td>\n",
       "      <td>0.70</td>\n",
       "      <td>Movie</td>\n",
       "    </tr>\n",
       "    <tr>\n",
       "      <th>...</th>\n",
       "      <td>...</td>\n",
       "      <td>...</td>\n",
       "      <td>...</td>\n",
       "      <td>...</td>\n",
       "      <td>...</td>\n",
       "      <td>...</td>\n",
       "    </tr>\n",
       "    <tr>\n",
       "      <th>6997</th>\n",
       "      <td>Documentaries</td>\n",
       "      <td>While living alone in a spooky town, a young g...</td>\n",
       "      <td>base,true_story,desperate,escape</td>\n",
       "      <td>27</td>\n",
       "      <td>0.24</td>\n",
       "      <td>Movie</td>\n",
       "    </tr>\n",
       "    <tr>\n",
       "      <th>6998</th>\n",
       "      <td>Kids' TV</td>\n",
       "      <td>An assortment of talent takes the stage for a ...</td>\n",
       "      <td>night,earth,powerful,social</td>\n",
       "      <td>33</td>\n",
       "      <td>0.17</td>\n",
       "      <td>TV Show</td>\n",
       "    </tr>\n",
       "    <tr>\n",
       "      <th>6999</th>\n",
       "      <td>Kids' TV</td>\n",
       "      <td>A scrappy but poor boy worms his way into a ty...</td>\n",
       "      <td>magical,accident,seek,visit</td>\n",
       "      <td>8</td>\n",
       "      <td>0.25</td>\n",
       "      <td>TV Show</td>\n",
       "    </tr>\n",
       "    <tr>\n",
       "      <th>7000</th>\n",
       "      <td>Children &amp; Family Movies</td>\n",
       "      <td>In this documentary, South African rapper Nast...</td>\n",
       "      <td>series,comedy,comedian,reality</td>\n",
       "      <td>20</td>\n",
       "      <td>0.32</td>\n",
       "      <td>Movie</td>\n",
       "    </tr>\n",
       "    <tr>\n",
       "      <th>7001</th>\n",
       "      <td>British TV Shows</td>\n",
       "      <td>Dessert wizard Adriano Zumbo looks for the nex...</td>\n",
       "      <td>chance,explore,competition,world</td>\n",
       "      <td>23</td>\n",
       "      <td>0.34</td>\n",
       "      <td>TV Show</td>\n",
       "    </tr>\n",
       "  </tbody>\n",
       "</table>\n",
       "<p>7002 rows × 6 columns</p>\n",
       "</div>"
      ],
      "text/plain": [
       "                         Genre  \\\n",
       "0       International TV Shows   \n",
       "1                       Dramas   \n",
       "2                Horror Movies   \n",
       "3           Action & Adventure   \n",
       "4                       Dramas   \n",
       "...                        ...   \n",
       "6997             Documentaries   \n",
       "6998                  Kids' TV   \n",
       "6999                  Kids' TV   \n",
       "7000  Children & Family Movies   \n",
       "7001          British TV Shows   \n",
       "\n",
       "                                            Description  \\\n",
       "0     In a future where the elite inhabit an island ...   \n",
       "1     When an army recruit is found dead, his fellow...   \n",
       "2     In a postapocalyptic world, rag-doll robots hi...   \n",
       "3     A brilliant group of students become card-coun...   \n",
       "4     A genetics professor experiments with a treatm...   \n",
       "...                                                 ...   \n",
       "6997  While living alone in a spooky town, a young g...   \n",
       "6998  An assortment of talent takes the stage for a ...   \n",
       "6999  A scrappy but poor boy worms his way into a ty...   \n",
       "7000  In this documentary, South African rapper Nast...   \n",
       "7001  Dessert wizard Adriano Zumbo looks for the nex...   \n",
       "\n",
       "                          Top_Keywords  Dominant_Topic  Probability     type  \n",
       "0       father,daughter,mother,mission              14         0.50  TV Show  \n",
       "1          secret,writer,inside,brutal              39         0.27    Movie  \n",
       "2      dangerous,navigate,battle,world               0         0.72    Movie  \n",
       "3        future,new_york,college,world              19         0.43    Movie  \n",
       "4      sister,inspire,celebrity,female              36         0.70    Movie  \n",
       "...                                ...             ...          ...      ...  \n",
       "6997  base,true_story,desperate,escape              27         0.24    Movie  \n",
       "6998       night,earth,powerful,social              33         0.17  TV Show  \n",
       "6999       magical,accident,seek,visit               8         0.25  TV Show  \n",
       "7000    series,comedy,comedian,reality              20         0.32    Movie  \n",
       "7001  chance,explore,competition,world              23         0.34  TV Show  \n",
       "\n",
       "[7002 rows x 6 columns]"
      ]
     },
     "execution_count": 29,
     "metadata": {},
     "output_type": "execute_result"
    }
   ],
   "source": [
    "#Clustering each movie/show per genre\n",
    "\n",
    "#adding genre column in lds_distribution table\n",
    "genres = pd.DataFrame(df['genre'])\n",
    "Ntype =pd.DataFrame(df['type'])\n",
    "LDA = pd.DataFrame(lda_distribution)\n",
    "LDA = LDA.join(genres)\n",
    "LDA = LDA.join(Ntype)\n",
    "FGenre = pd.DataFrame(LDA['genre'])\n",
    "FGenre=LDA['genre'].str.split(',', expand=True)\n",
    "FGenre=FGenre[0]\n",
    "FGenre=FGenre.to_frame()\n",
    "FGenre.columns=['genre']\n",
    "\n",
    "LDA.insert(0,\"Genre\", FGenre)\n",
    "LDA = LDA.drop(['genre'], axis=1)\n",
    "\n",
    "LDA = LDA.rename(columns={\"Dominant Topic\" : \"Dominant_Topic\"})\n",
    "LDA = LDA.rename(columns={\"Top Keywords\" : \"Top_Keywords\"})\n",
    "LDA"
   ]
  },
  {
   "cell_type": "code",
   "execution_count": 30,
   "metadata": {
    "id": "vAGaVhLGD063"
   },
   "outputs": [],
   "source": [
    "#Now we will cluster the results from the model by genre and type\n",
    "#sort by the genres: Dramas, Documentaries, Comedy, International movies\n",
    "\n",
    "Drama=LDA[LDA['Genre'].str.contains('Dramas')]\n",
    "Docu=LDA[LDA['Genre'].str.contains('Documentaries')]\n",
    "Comedy=LDA[LDA['Genre'].str.contains('Comedy')]\n",
    "IntMovies = LDA[LDA['Genre'].str.contains('International Movies')]\n",
    "\n",
    "# sort by type (movie/TV show)\n",
    "movies=LDA[LDA['type'].str.contains('Movie')]\n",
    "shows=LDA[LDA['type'].str.contains('TV Show')]"
   ]
  },
  {
   "cell_type": "code",
   "execution_count": 31,
   "metadata": {
    "id": "0Di-NOsCP9bA"
   },
   "outputs": [],
   "source": [
    "TopTopicsDF = pd.DataFrame(columns=['Genre', 'Top_Topics'])\n",
    "TopTopicsTypes = pd.DataFrame(columns=['Type', 'Top_Topics']) "
   ]
  },
  {
   "cell_type": "code",
   "execution_count": 32,
   "metadata": {
    "id": "8wk5unpeXBE8"
   },
   "outputs": [],
   "source": [
    "#Sorting top key words for movies\n",
    "\n",
    "#Splitting multiple keywords \n",
    "TopKeyWordsM=pd.DataFrame()\n",
    "TopKeyWordsM=movies['Top_Keywords'].str.split(',', expand=True).stack()\n",
    "TopKeyWordsM=TopKeyWordsM.to_frame()\n",
    "TopKeyWordsM.columns=['Top_Keywords']\n",
    "#grouping different genres and getting total content\n",
    "KWMovies=TopKeyWordsM.groupby(['Top_Keywords']).size().reset_index(name='Total Content')\n",
    "KWMovies=KWMovies.sort_values(by=['Top_Keywords'],ascending=False)\n",
    "KWMovies=KWMovies.head()\n",
    "#plotting bar chart of top keywords for movies\n",
    "KWMovies=TopKeyWordsM.Top_Keywords.value_counts().head(5)\n"
   ]
  },
  {
   "cell_type": "code",
   "execution_count": 33,
   "metadata": {
    "id": "RUbinaCjOSOY"
   },
   "outputs": [],
   "source": [
    "#Sorting top key words for Netflix\n",
    "#Splitting multiple keywords \n",
    "TopKeyWordsM=pd.DataFrame()\n",
    "TopKeyWordsM=LDA['Top_Keywords'].str.split(',', expand=True).stack()\n",
    "TopKeyWordsM=TopKeyWordsM.to_frame()\n",
    "TopKeyWordsM.columns=['Top_Keywords']\n",
    "#grouping different genres and getting total content\n",
    "KW=TopKeyWordsM.groupby(['Top_Keywords']).size().reset_index(name='Total Content')\n",
    "KW=KW.sort_values(by=['Top_Keywords'],ascending=False)\n",
    "KW=KW.head()\n",
    "#plotting bar chart of top keywords for movies\n",
    "KW=TopKeyWordsM.Top_Keywords.value_counts().head(5)\n",
    "\n"
   ]
  },
  {
   "cell_type": "code",
   "execution_count": 34,
   "metadata": {
    "id": "Tt0-sUYre0hb"
   },
   "outputs": [],
   "source": [
    "#Sorting top key words for Shows\n",
    "#Splitting multiple keywords \n",
    "TopKeyWordsM=pd.DataFrame()\n",
    "TopKeyWordsM=shows['Top_Keywords'].str.split(',', expand=True).stack()\n",
    "TopKeyWordsM=TopKeyWordsM.to_frame()\n",
    "TopKeyWordsM.columns=['Top_Keywords']\n",
    "#grouping different genres and getting total content\n",
    "KWShows=TopKeyWordsM.groupby(['Top_Keywords']).size().reset_index(name='Total Content')\n",
    "KWShows=KWShows.sort_values(by=['Top_Keywords'],ascending=False)\n",
    "KWShows=KWShows.head()\n",
    "#plotting bar chart of top keywords for movies\n",
    "KWShows=TopKeyWordsM.Top_Keywords.value_counts().head(5)"
   ]
  },
  {
   "cell_type": "code",
   "execution_count": 35,
   "metadata": {
    "colab": {
     "base_uri": "https://localhost:8080/",
     "height": 112
    },
    "id": "aqBaN2zPPJeT",
    "outputId": "4c240ecc-e88c-40ce-f4e9-5a452a1b6b4c"
   },
   "outputs": [
    {
     "data": {
      "text/html": [
       "<div>\n",
       "<style scoped>\n",
       "    .dataframe tbody tr th:only-of-type {\n",
       "        vertical-align: middle;\n",
       "    }\n",
       "\n",
       "    .dataframe tbody tr th {\n",
       "        vertical-align: top;\n",
       "    }\n",
       "\n",
       "    .dataframe thead th {\n",
       "        text-align: right;\n",
       "    }\n",
       "</style>\n",
       "<table border=\"1\" class=\"dataframe\">\n",
       "  <thead>\n",
       "    <tr style=\"text-align: right;\">\n",
       "      <th></th>\n",
       "      <th>Type</th>\n",
       "      <th>Top_Topics</th>\n",
       "    </tr>\n",
       "  </thead>\n",
       "  <tbody>\n",
       "    <tr>\n",
       "      <th>0</th>\n",
       "      <td>[Movies]</td>\n",
       "      <td>[9, 14, 18]</td>\n",
       "    </tr>\n",
       "    <tr>\n",
       "      <th>1</th>\n",
       "      <td>[TV Shows]</td>\n",
       "      <td>[3, 18, 14]</td>\n",
       "    </tr>\n",
       "  </tbody>\n",
       "</table>\n",
       "</div>"
      ],
      "text/plain": [
       "         Type   Top_Topics\n",
       "0    [Movies]  [9, 14, 18]\n",
       "1  [TV Shows]  [3, 18, 14]"
      ]
     },
     "execution_count": 35,
     "metadata": {},
     "output_type": "execute_result"
    }
   ],
   "source": [
    "#Gets the top dominant topics per type(Movies/Shows)\n",
    "DTopicsType=pd.DataFrame()\n",
    "DTopics=movies['Dominant_Topic']\n",
    "DTopics=DTopics.to_frame()\n",
    "DTopics.columns=['Dominant_Topic']\n",
    "\n",
    "#gets the total content of Dominant Topics\n",
    "TTopics=DTopics.groupby(['Dominant_Topic']).size().reset_index(name='Total Content')\n",
    "TTopics=TTopics.sort_values(by=['Dominant_Topic'],ascending=False)\n",
    "TTopics=TTopics.head()\n",
    "\n",
    "\n",
    "#displays the top 3 dominant topics for movies\n",
    "TTopics=DTopics.Dominant_Topic.value_counts().head(3)\n",
    "\n",
    "#manually inputted the topics into a dictionary\n",
    "Data={'Type':['Movies'],\n",
    "        'Top_Topics':['9', '14', '18']}\n",
    "#appended to the dataframe\n",
    "TopTopicsTypes = TopTopicsTypes.append(Data, ignore_index=True)\n",
    "\n",
    "#same process but for TV shows\n",
    "DTopicsType=pd.DataFrame()\n",
    "DTopics=shows['Dominant_Topic']\n",
    "DTopics=DTopics.to_frame()\n",
    "DTopics.columns=['Dominant_Topic']\n",
    "TTopics=DTopics.groupby(['Dominant_Topic']).size().reset_index(name='Total Content')\n",
    "TTopics=TTopics.sort_values(by=['Dominant_Topic'],ascending=False)\n",
    "TTopics=TTopics.head()\n",
    "TTopics=DTopics.Dominant_Topic.value_counts().head(3)\n",
    "Data={'Type':['TV Shows'],\n",
    "        'Top_Topics':['3', '18', '14']}\n",
    "TopTopicsTypes = TopTopicsTypes.append(Data, ignore_index=True)\n",
    "TopTopicsTypes"
   ]
  },
  {
   "cell_type": "code",
   "execution_count": 36,
   "metadata": {
    "colab": {
     "base_uri": "https://localhost:8080/",
     "height": 81
    },
    "id": "fbuEzEEs-P2b",
    "outputId": "5552c284-9c55-47aa-bc4d-df5ed5e42ad0"
   },
   "outputs": [
    {
     "data": {
      "text/html": [
       "<div>\n",
       "<style scoped>\n",
       "    .dataframe tbody tr th:only-of-type {\n",
       "        vertical-align: middle;\n",
       "    }\n",
       "\n",
       "    .dataframe tbody tr th {\n",
       "        vertical-align: top;\n",
       "    }\n",
       "\n",
       "    .dataframe thead th {\n",
       "        text-align: right;\n",
       "    }\n",
       "</style>\n",
       "<table border=\"1\" class=\"dataframe\">\n",
       "  <thead>\n",
       "    <tr style=\"text-align: right;\">\n",
       "      <th></th>\n",
       "      <th>Genre</th>\n",
       "      <th>Top_Topics</th>\n",
       "    </tr>\n",
       "  </thead>\n",
       "  <tbody>\n",
       "    <tr>\n",
       "      <th>0</th>\n",
       "      <td>[Drama]</td>\n",
       "      <td>[9, 18, 19]</td>\n",
       "    </tr>\n",
       "  </tbody>\n",
       "</table>\n",
       "</div>"
      ],
      "text/plain": [
       "     Genre   Top_Topics\n",
       "0  [Drama]  [9, 18, 19]"
      ]
     },
     "execution_count": 36,
     "metadata": {},
     "output_type": "execute_result"
    }
   ],
   "source": [
    "#same process as the top dominant topic for type but this time for genres\n",
    "DTopics=pd.DataFrame()\n",
    "DTopics=Drama['Dominant_Topic']\n",
    "DTopics=DTopics.to_frame()\n",
    "DTopics.columns=['Dominant_Topic']\n",
    "\n",
    "TTopics=DTopics.groupby(['Dominant_Topic']).size().reset_index(name='Total Content')\n",
    "TTopics=TTopics.sort_values(by=['Dominant_Topic'],ascending=False)\n",
    "TTopics=TTopics.head()\n",
    "TTopics=DTopics.Dominant_Topic.value_counts().head(3)\n",
    "TTopics\n",
    "\n",
    "DramaData={'Genre':['Drama'],\n",
    "           'Top_Topics':['9', '18', '19']}\n",
    "\n",
    "TopTopicsDF = TopTopicsDF.append(DramaData, ignore_index=True)\n",
    "TopTopicsDF\n"
   ]
  },
  {
   "cell_type": "code",
   "execution_count": 37,
   "metadata": {
    "colab": {
     "base_uri": "https://localhost:8080/",
     "height": 112
    },
    "id": "GRPFs4P1w_z8",
    "outputId": "695799e0-3df0-43c6-c9a3-c956547ac847"
   },
   "outputs": [
    {
     "data": {
      "text/html": [
       "<div>\n",
       "<style scoped>\n",
       "    .dataframe tbody tr th:only-of-type {\n",
       "        vertical-align: middle;\n",
       "    }\n",
       "\n",
       "    .dataframe tbody tr th {\n",
       "        vertical-align: top;\n",
       "    }\n",
       "\n",
       "    .dataframe thead th {\n",
       "        text-align: right;\n",
       "    }\n",
       "</style>\n",
       "<table border=\"1\" class=\"dataframe\">\n",
       "  <thead>\n",
       "    <tr style=\"text-align: right;\">\n",
       "      <th></th>\n",
       "      <th>Genre</th>\n",
       "      <th>Top_Topics</th>\n",
       "    </tr>\n",
       "  </thead>\n",
       "  <tbody>\n",
       "    <tr>\n",
       "      <th>0</th>\n",
       "      <td>[Drama]</td>\n",
       "      <td>[9, 18, 19]</td>\n",
       "    </tr>\n",
       "    <tr>\n",
       "      <th>1</th>\n",
       "      <td>[Comedy]</td>\n",
       "      <td>[19, 3, 18]</td>\n",
       "    </tr>\n",
       "  </tbody>\n",
       "</table>\n",
       "</div>"
      ],
      "text/plain": [
       "      Genre   Top_Topics\n",
       "0   [Drama]  [9, 18, 19]\n",
       "1  [Comedy]  [19, 3, 18]"
      ]
     },
     "execution_count": 37,
     "metadata": {},
     "output_type": "execute_result"
    }
   ],
   "source": [
    "DTopics=pd.DataFrame()\n",
    "DTopics=Comedy['Dominant_Topic']\n",
    "DTopics=DTopics.to_frame()\n",
    "DTopics.columns=['Dominant_Topic']\n",
    "#joining two data frames\n",
    "TTopics=DTopics.groupby(['Dominant_Topic']).size().reset_index(name='Total Content')\n",
    "TTopics=TTopics.sort_values(by=['Dominant_Topic'],ascending=False)\n",
    "TTopics=TTopics.head()\n",
    "#plotting bar chart\n",
    "TTopics=DTopics.Dominant_Topic.value_counts().head(3)\n",
    "TTopics\n",
    "\n",
    "DramaData={'Genre':['Comedy'],\n",
    "           'Top_Topics':['19', '3', '18']}\n",
    "TopTopicsDF = TopTopicsDF.append(DramaData, ignore_index=True)\n",
    "TopTopicsDF"
   ]
  },
  {
   "cell_type": "code",
   "execution_count": 38,
   "metadata": {
    "colab": {
     "base_uri": "https://localhost:8080/",
     "height": 143
    },
    "id": "PV_hkaAGxAdB",
    "outputId": "0850a98d-d22a-46a4-a662-93f34d38e52b"
   },
   "outputs": [
    {
     "data": {
      "text/html": [
       "<div>\n",
       "<style scoped>\n",
       "    .dataframe tbody tr th:only-of-type {\n",
       "        vertical-align: middle;\n",
       "    }\n",
       "\n",
       "    .dataframe tbody tr th {\n",
       "        vertical-align: top;\n",
       "    }\n",
       "\n",
       "    .dataframe thead th {\n",
       "        text-align: right;\n",
       "    }\n",
       "</style>\n",
       "<table border=\"1\" class=\"dataframe\">\n",
       "  <thead>\n",
       "    <tr style=\"text-align: right;\">\n",
       "      <th></th>\n",
       "      <th>Genre</th>\n",
       "      <th>Top_Topics</th>\n",
       "    </tr>\n",
       "  </thead>\n",
       "  <tbody>\n",
       "    <tr>\n",
       "      <th>0</th>\n",
       "      <td>[Drama]</td>\n",
       "      <td>[9, 18, 19]</td>\n",
       "    </tr>\n",
       "    <tr>\n",
       "      <th>1</th>\n",
       "      <td>[Comedy]</td>\n",
       "      <td>[19, 3, 18]</td>\n",
       "    </tr>\n",
       "    <tr>\n",
       "      <th>2</th>\n",
       "      <td>[Documentaries]</td>\n",
       "      <td>[14, 5, 18]</td>\n",
       "    </tr>\n",
       "  </tbody>\n",
       "</table>\n",
       "</div>"
      ],
      "text/plain": [
       "             Genre   Top_Topics\n",
       "0          [Drama]  [9, 18, 19]\n",
       "1         [Comedy]  [19, 3, 18]\n",
       "2  [Documentaries]  [14, 5, 18]"
      ]
     },
     "execution_count": 38,
     "metadata": {},
     "output_type": "execute_result"
    }
   ],
   "source": [
    "DTopics=pd.DataFrame()\n",
    "DTopics=Docu['Dominant_Topic']\n",
    "DTopics=DTopics.to_frame()\n",
    "DTopics.columns=['Dominant_Topic']\n",
    "#joining two data frames\n",
    "TTopics=DTopics.groupby(['Dominant_Topic']).size().reset_index(name='Total Content')\n",
    "TTopics=TTopics.sort_values(by=['Dominant_Topic'],ascending=False)\n",
    "TTopics=TTopics.head()\n",
    "#plotting bar chart\n",
    "TTopics=DTopics.Dominant_Topic.value_counts().head(3)\n",
    "TTopics\n",
    "DramaData={'Genre':['Documentaries'],\n",
    "           'Top_Topics':['14', '5', '18']}\n",
    "TopTopicsDF = TopTopicsDF.append(DramaData, ignore_index=True)\n",
    "TopTopicsDF"
   ]
  },
  {
   "cell_type": "code",
   "execution_count": 39,
   "metadata": {
    "colab": {
     "base_uri": "https://localhost:8080/",
     "height": 175
    },
    "id": "TWp6AWd90Mra",
    "outputId": "ded9d7e0-793b-4b38-9dde-adc62bb14eaa"
   },
   "outputs": [
    {
     "data": {
      "text/html": [
       "<div>\n",
       "<style scoped>\n",
       "    .dataframe tbody tr th:only-of-type {\n",
       "        vertical-align: middle;\n",
       "    }\n",
       "\n",
       "    .dataframe tbody tr th {\n",
       "        vertical-align: top;\n",
       "    }\n",
       "\n",
       "    .dataframe thead th {\n",
       "        text-align: right;\n",
       "    }\n",
       "</style>\n",
       "<table border=\"1\" class=\"dataframe\">\n",
       "  <thead>\n",
       "    <tr style=\"text-align: right;\">\n",
       "      <th></th>\n",
       "      <th>Genre</th>\n",
       "      <th>Top_Topics</th>\n",
       "    </tr>\n",
       "  </thead>\n",
       "  <tbody>\n",
       "    <tr>\n",
       "      <th>0</th>\n",
       "      <td>[Drama]</td>\n",
       "      <td>[9, 18, 19]</td>\n",
       "    </tr>\n",
       "    <tr>\n",
       "      <th>1</th>\n",
       "      <td>[Comedy]</td>\n",
       "      <td>[19, 3, 18]</td>\n",
       "    </tr>\n",
       "    <tr>\n",
       "      <th>2</th>\n",
       "      <td>[Documentaries]</td>\n",
       "      <td>[14, 5, 18]</td>\n",
       "    </tr>\n",
       "    <tr>\n",
       "      <th>3</th>\n",
       "      <td>[International Movies]</td>\n",
       "      <td>[27, 5, 9]</td>\n",
       "    </tr>\n",
       "  </tbody>\n",
       "</table>\n",
       "</div>"
      ],
      "text/plain": [
       "                    Genre   Top_Topics\n",
       "0                 [Drama]  [9, 18, 19]\n",
       "1                [Comedy]  [19, 3, 18]\n",
       "2         [Documentaries]  [14, 5, 18]\n",
       "3  [International Movies]   [27, 5, 9]"
      ]
     },
     "execution_count": 39,
     "metadata": {},
     "output_type": "execute_result"
    }
   ],
   "source": [
    "DTopics=pd.DataFrame()\n",
    "DTopics=IntMovies['Dominant_Topic']\n",
    "DTopics=DTopics.to_frame()\n",
    "DTopics.columns=['Dominant_Topic']\n",
    "#joining two data frames\n",
    "TTopics=DTopics.groupby(['Dominant_Topic']).size().reset_index(name='Total Content')\n",
    "TTopics=TTopics.sort_values(by=['Dominant_Topic'],ascending=False)\n",
    "TTopics=TTopics.head()\n",
    "#plotting bar chart\n",
    "TTopics=DTopics.Dominant_Topic.value_counts().head(3)\n",
    "TTopics\n",
    "\n",
    "DramaData={'Genre':['International Movies'],\n",
    "           'Top_Topics':['27', '5', '9']}\n",
    "TopTopicsDF = TopTopicsDF.append(DramaData, ignore_index=True)\n",
    "TopTopicsDF"
   ]
  },
  {
   "cell_type": "markdown",
   "metadata": {
    "id": "j2-rt1aP-x-_"
   },
   "source": [
    "##Model Evaluation\n"
   ]
  },
  {
   "cell_type": "code",
   "execution_count": 40,
   "metadata": {
    "colab": {
     "base_uri": "https://localhost:8080/"
    },
    "id": "wg4I3ozS-2pf",
    "outputId": "2b556846-78ca-4b48-9374-b94acc0910cc"
   },
   "outputs": [
    {
     "name": "stdout",
     "output_type": "stream",
     "text": [
      "Perplexity:  -13.346223014358463\n"
     ]
    }
   ],
   "source": [
    "#Perplexity - how probable where some of the new unseen data that were given to the model that was learned earlier.\n",
    "print('Perplexity: ', ldamodel.log_perplexity(corpus))"
   ]
  },
  {
   "cell_type": "code",
   "execution_count": 41,
   "metadata": {
    "colab": {
     "base_uri": "https://localhost:8080/"
    },
    "id": "5pSTLXsS-2i0",
    "outputId": "f2daed80-2c11-45b4-b580-d1f5e156ab9c"
   },
   "outputs": [
    {
     "name": "stdout",
     "output_type": "stream",
     "text": [
      "Coherence Score:  0.5767568659772858\n"
     ]
    }
   ],
   "source": [
    "#Coherence - measure the degree of semantic similarity between high scoring words in each topic (and then average across topics)\n",
    "coherence_model_lda = CoherenceModel(model=ldamodel, texts = tokens_clean, dictionary=dictionary, coherence='c_v')\n",
    "coherence_lda = coherence_model_lda.get_coherence()\n",
    "print('Coherence Score: ', coherence_lda)\n"
   ]
  },
  {
   "cell_type": "markdown",
   "metadata": {
    "id": "VKRJE4219pcQ"
   },
   "source": [
    "# **V. Evaluation (Interpreting Results)**\n",
    "\n",
    "\n"
   ]
  },
  {
   "cell_type": "markdown",
   "metadata": {
    "id": "FoyHnmp6bJOz"
   },
   "source": [
    "  Now that we have used the Latent Dirichlet allocation model to look into the Netflix data sets we will use it results to answer the question: What are the common topics in netflix based on their descriptions?  We will look into the common topics per genre, type. \n",
    "\n",
    "\n",
    " \n",
    "  The model's purpose is to create topics/groups based on descriptions. Given a new movie, can we predict the topic probabilities? This will be helpful when assigning genres, recommending movies, etc. First we will look into the common topics per genre. We will only look into the top genres in Netflix: Dramas, Documentaries, Comedy, and International movies.  \n",
    "\n",
    " \n",
    "   As seen from each description formed different kinds of topics with different probabilities, which shows that each topic had their own views. \n",
    "\n",
    "  Topic number we got is around 40 with 5k rows (train set) represented with 40 topics along with different probabilities. The \"unseen\" description can be seen with sum of \"n\" number of topics and each of these topics are not unique so we can't define the topics.\n",
    "\n",
    " Since precision and recall necessarily depend on the notion of true classes for the data, it can't be applied because LDA model is an unsupervised method. Coherence score is good, but with the unseen data predictions the probability of the distributions of topics are low. \n"
   ]
  },
  {
   "cell_type": "code",
   "execution_count": 42,
   "metadata": {
    "colab": {
     "base_uri": "https://localhost:8080/",
     "height": 175
    },
    "id": "JzTQFs1IskCA",
    "outputId": "533ba8b4-6593-444f-d792-e17c2419aefa"
   },
   "outputs": [
    {
     "data": {
      "text/html": [
       "<div>\n",
       "<style scoped>\n",
       "    .dataframe tbody tr th:only-of-type {\n",
       "        vertical-align: middle;\n",
       "    }\n",
       "\n",
       "    .dataframe tbody tr th {\n",
       "        vertical-align: top;\n",
       "    }\n",
       "\n",
       "    .dataframe thead th {\n",
       "        text-align: right;\n",
       "    }\n",
       "</style>\n",
       "<table border=\"1\" class=\"dataframe\">\n",
       "  <thead>\n",
       "    <tr style=\"text-align: right;\">\n",
       "      <th></th>\n",
       "      <th>Genre</th>\n",
       "      <th>Top_Topics</th>\n",
       "    </tr>\n",
       "  </thead>\n",
       "  <tbody>\n",
       "    <tr>\n",
       "      <th>0</th>\n",
       "      <td>[Drama]</td>\n",
       "      <td>[9, 18, 19]</td>\n",
       "    </tr>\n",
       "    <tr>\n",
       "      <th>1</th>\n",
       "      <td>[Comedy]</td>\n",
       "      <td>[19, 3, 18]</td>\n",
       "    </tr>\n",
       "    <tr>\n",
       "      <th>2</th>\n",
       "      <td>[Documentaries]</td>\n",
       "      <td>[14, 5, 18]</td>\n",
       "    </tr>\n",
       "    <tr>\n",
       "      <th>3</th>\n",
       "      <td>[International Movies]</td>\n",
       "      <td>[27, 5, 9]</td>\n",
       "    </tr>\n",
       "  </tbody>\n",
       "</table>\n",
       "</div>"
      ],
      "text/plain": [
       "                    Genre   Top_Topics\n",
       "0                 [Drama]  [9, 18, 19]\n",
       "1                [Comedy]  [19, 3, 18]\n",
       "2         [Documentaries]  [14, 5, 18]\n",
       "3  [International Movies]   [27, 5, 9]"
      ]
     },
     "execution_count": 42,
     "metadata": {},
     "output_type": "execute_result"
    }
   ],
   "source": [
    "# In here we will see the top 3 topics per genre, but they are still in number and will be translated into the words using the pyLDAvis chart below . \n",
    "TopTopicsDF"
   ]
  },
  {
   "cell_type": "code",
   "execution_count": 43,
   "metadata": {
    "colab": {
     "base_uri": "https://localhost:8080/",
     "height": 112
    },
    "id": "S4Z1iiY0G5i4",
    "outputId": "4b865439-2fcd-40bf-8d74-cedbe3a95949"
   },
   "outputs": [
    {
     "data": {
      "text/html": [
       "<div>\n",
       "<style scoped>\n",
       "    .dataframe tbody tr th:only-of-type {\n",
       "        vertical-align: middle;\n",
       "    }\n",
       "\n",
       "    .dataframe tbody tr th {\n",
       "        vertical-align: top;\n",
       "    }\n",
       "\n",
       "    .dataframe thead th {\n",
       "        text-align: right;\n",
       "    }\n",
       "</style>\n",
       "<table border=\"1\" class=\"dataframe\">\n",
       "  <thead>\n",
       "    <tr style=\"text-align: right;\">\n",
       "      <th></th>\n",
       "      <th>Type</th>\n",
       "      <th>Top_Topics</th>\n",
       "    </tr>\n",
       "  </thead>\n",
       "  <tbody>\n",
       "    <tr>\n",
       "      <th>0</th>\n",
       "      <td>[Movies]</td>\n",
       "      <td>[9, 14, 18]</td>\n",
       "    </tr>\n",
       "    <tr>\n",
       "      <th>1</th>\n",
       "      <td>[TV Shows]</td>\n",
       "      <td>[3, 18, 14]</td>\n",
       "    </tr>\n",
       "  </tbody>\n",
       "</table>\n",
       "</div>"
      ],
      "text/plain": [
       "         Type   Top_Topics\n",
       "0    [Movies]  [9, 14, 18]\n",
       "1  [TV Shows]  [3, 18, 14]"
      ]
     },
     "execution_count": 43,
     "metadata": {},
     "output_type": "execute_result"
    }
   ],
   "source": [
    "# top topics per Type(Movies/TVshows)\n",
    "TopTopicsTypes\n"
   ]
  },
  {
   "cell_type": "code",
   "execution_count": 44,
   "metadata": {
    "colab": {
     "base_uri": "https://localhost:8080/",
     "height": 861
    },
    "id": "XXjYonZiANFJ",
    "outputId": "14a817db-8664-454e-f084-43bcbc8512d6"
   },
   "outputs": [
    {
     "data": {
      "text/html": [
       "\n",
       "<link rel=\"stylesheet\" type=\"text/css\" href=\"https://cdn.rawgit.com/bmabey/pyLDAvis/files/ldavis.v1.0.0.css\">\n",
       "\n",
       "\n",
       "<div id=\"ldavis_el1109225213372162403065169663\"></div>\n",
       "<script type=\"text/javascript\">\n",
       "\n",
       "var ldavis_el1109225213372162403065169663_data = {\"mdsDat\": {\"x\": [0.1312504244629346, 0.1273662031353881, 0.09876423235322972, -0.11715236522198175, 0.042064956242931544, 0.013011544747885425, -0.10341172210248574, 0.033604212741285756, -0.02222993416330503, 0.012682213372991183, 0.01768661391520295, -0.1385498238610076, -0.10804916154283521, -0.10528728602422158, -0.1882363245236399, 0.037732280826317306, -0.09644794777812679, 0.04994313863509298, -0.026990461034413805, 0.09627766670040196, 0.18813761928458575, -0.0745943296499188, 0.05353438632617362, 0.000631433402965743, 0.04368134006090301, 0.038988484722491674, -0.019352161692561206, -0.06930008717556803, 0.02900799883301066, 0.10729402666296387, -0.05304170032556157, 0.10210224479891537, -0.1523919987320543, 0.0737758032606333, -0.10865801509686805, 0.011961542935829322, 0.07023101431039931, -0.06264560959666125, 0.01072981709963446, 0.055879729689041105], \"y\": [-0.05265945847123025, 0.13785639734291408, -0.06212329992795432, 0.06446956938355933, 0.1921725680051954, -0.05419987433986031, 0.03572719775866461, -0.07125266653802706, -0.058437281644906115, 0.09191320176548179, 0.06499055541123497, 0.0546862441691046, 0.0043265386283697785, -0.05067423369550412, 0.06084544930108628, -0.07762933534763056, -0.032997951179775414, -0.053371040228909414, 0.02020759296533955, 0.09303047118276028, 0.17156362052761723, -0.0012232518332537885, -0.030758283395770747, -0.035576828078214745, -0.06556838840086669, -0.0808865094940534, 0.08611939822945687, 0.02348974690446071, -0.10795585510699021, -0.007921265853089667, 0.03813582986395101, 0.05987270343081206, 0.033105741220966635, -0.13391934065009067, -0.05190050985155, -0.11207646941201671, -0.007583722570363398, 0.01821429026429307, -0.06212203887401659, -0.039889511461193676], \"topics\": [1, 2, 3, 4, 5, 6, 7, 8, 9, 10, 11, 12, 13, 14, 15, 16, 17, 18, 19, 20, 21, 22, 23, 24, 25, 26, 27, 28, 29, 30, 31, 32, 33, 34, 35, 36, 37, 38, 39, 40], \"cluster\": [1, 1, 1, 1, 1, 1, 1, 1, 1, 1, 1, 1, 1, 1, 1, 1, 1, 1, 1, 1, 1, 1, 1, 1, 1, 1, 1, 1, 1, 1, 1, 1, 1, 1, 1, 1, 1, 1, 1, 1], \"Freq\": [2.3728987643009845, 2.5101178348609245, 2.587375747183075, 2.991223148661121, 2.4447102668033867, 2.5674381649588183, 2.41940923358826, 1.9182003104511756, 2.3294168398805777, 2.208345584872475, 3.1698974832981808, 3.308246533694021, 2.871662010282414, 2.4263474401248293, 4.096110083536321, 2.198410866007663, 2.3297437917107326, 1.9264252267320667, 2.48494025296436, 2.4987997500343195, 3.4308246328270475, 2.4253558969097497, 2.321990414741961, 2.577100729541948, 1.8527226239917043, 2.0190845097963703, 2.206800058871409, 2.075458547769935, 2.420485053934871, 2.228042371524933, 2.1490122823647533, 2.522498001125322, 2.5550429439185907, 2.7931814574612215, 2.8458536694364205, 2.1388937010395086, 2.458422437869779, 2.2585513856926274, 2.4218433804049235, 2.639116566831218]}, \"tinfo\": {\"Term\": [\"series\", \"father\", \"daughter\", \"mother\", \"murder\", \"fight\", \"learn\", \"secret\", \"special\", \"struggle\", \"school\", \"base\", \"comedy\", \"student\", \"couple\", \"young\", \"history\", \"death\", \"personal\", \"power\", \"leave\", \"music\", \"friend\", \"documentary\", \"brother\", \"crime\", \"story\", \"village\", \"each_other\", \"college\", \"dangerous\", \"navigate\", \"right\", \"medical\", \"ruthless\", \"fortune\", \"activist\", \"emotional\", \"shock\", \"forever\", \"examine\", \"anniversary\", \"loyal\", \"globe\", \"speak\", \"drug_lord\", \"destiny\", \"chaotic\", \"happiness\", \"set\", \"intrepid\", \"treat\", \"fearless\", \"marijuana\", \"chain\", \"campus\", \"disguise\", \"source\", \"assassination\", \"motion\", \"cancer\", \"hospital\", \"battle\", \"university\", \"world\", \"millionaire\", \"devastate\", \"documentary\", \"people\", \"reveal\", \"write\", \"transform\", \"collection\", \"colorful\", \"question\", \"revolution\", \"north\", \"organization\", \"loom\", \"simple\", \"cheat\", \"account\", \"dare\", \"mechanic\", \"monkey\", \"camera\", \"animation\", \"jimmy\", \"broadway\", \"widower\", \"ground\", \"extinction\", \"wealthy_businessman\", \"bring\", \"recently_deceased\", \"gather\", \"hopeful\", \"injustice\", \"intimate\", \"football\", \"break\", \"soldier\", \"season\", \"series\", \"documentary\", \"world\", \"learn\", \"comic\", \"dance\", \"twist\", \"hire\", \"underground\", \"captain\", \"evidence\", \"much_more\", \"entire\", \"innocence\", \"perform\", \"original\", \"investigator\", \"agency\", \"resistance\", \"adventurous\", \"variety\", \"policeman\", \"prisoner\", \"cuisine\", \"annual\", \"behavior\", \"wacky\", \"honor\", \"dealer\", \"stay_alive\", \"switch\", \"familiar\", \"outer_space\", \"unravel\", \"hotel\", \"special\", \"building\", \"model\", \"world\", \"family\", \"party\", \"murder\", \"determine\", \"steal\", \"prove\", \"corruption\", \"politician\", \"lawyer\", \"kingdom\", \"prince\", \"frame\", \"quickly\", \"guard\", \"nuclear\", \"ally\", \"conservative\", \"secure\", \"worker\", \"defend\", \"meteoric_rise\", \"racial\", \"personality\", \"beach\", \"freedom\", \"next_door\", \"affection\", \"intent\", \"wrongly\", \"investigation\", \"spree\", \"valiant\", \"accuse\", \"avenge\", \"rescue\", \"lover\", \"pianist\", \"crime\", \"police\", \"young\", \"detective\", \"woman\", \"turn\", \"attempt\", \"small\", \"early\", \"clash\", \"lead\", \"suicide\", \"musician\", \"ghost\", \"scandal\", \"grieve\", \"curse\", \"native\", \"very_different\", \"studio\", \"track\", \"tense\", \"witch\", \"production\", \"unknown\", \"arrogant\", \"phenomenon\", \"possess\", \"possible\", \"aftermath\", \"firsthand\", \"culinary\", \"reunion\", \"crook\", \"canada\", \"derail\", \"sport\", \"dramatic\", \"tragic\", \"transport\", \"documentary\", \"series\", \"career\", \"young\", \"family\", \"personal\", \"follow\", \"come\", \"human\", \"political\", \"target\", \"center\", \"candid\", \"idealistic\", \"betrayal\", \"hatch\", \"strain\", \"silly\", \"letter\", \"trust\", \"connection\", \"carry\", \"realm\", \"ragtag\", \"alcoholic\", \"barbecue\", \"prompt\", \"scholarship\", \"drug_kingpin\", \"hustler\", \"failure\", \"damage\", \"insight\", \"prime_minister\", \"humor\", \"princess\", \"academy\", \"police\", \"deal\", \"paranormal\", \"attack\", \"television\", \"battle\", \"criminal\", \"family\", \"career\", \"village\", \"unexpected\", \"south\", \"remote\", \"road_trip\", \"match\", \"weekend\", \"court\", \"score\", \"win\", \"old\", \"heiress\", \"greedy\", \"throw\", \"lavish\", \"humble\", \"retrieve\", \"witness\", \"newspaper\", \"eager\", \"alive\", \"persona\", \"lucky\", \"attraction\", \"prank\", \"franchise\", \"immigration\", \"lovable\", \"location\", \"russia\", \"husband\", \"marriage\", \"effort\", \"turn\", \"woman\", \"young\", \"travel\", \"change\", \"action\", \"rival\", \"national\", \"officer\", \"daily\", \"wake\", \"vampire\", \"warrior\", \"bizarre\", \"need\", \"guide\", \"prepare\", \"collapse\", \"civilization\", \"cause\", \"inspired\", \"fairy\", \"choose_between\", \"speech\", \"spell\", \"magically\", \"plastic\", \"singh\", \"cheer\", \"reason\", \"apocalypse\", \"ancient_china\", \"profound\", \"dragon\", \"family\", \"spark\", \"person\", \"world\", \"magical\", \"accident\", \"seek\", \"visit\", \"professor\", \"international\", \"complete\", \"suspicious\", \"nightmare\", \"entangle\", \"wilderness\", \"research\", \"strength\", \"glory\", \"cousin\", \"apartment\", \"happen\", \"wonder\", \"quiet\", \"matriarch\", \"kidnap\", \"face\", \"mysteriously\", \"sound\", \"infidelity\", \"secretive\", \"surface\", \"dirty\", \"dynamic\", \"showdown\", \"suddenly\", \"company\", \"classmate\", \"family\", \"woman\", \"force\", \"plague\", \"group\", \"husband\", \"world\", \"story\", \"legendary\", \"trap\", \"enemy\", \"private\", \"member\", \"charismatic\", \"assassin\", \"age\", \"involve\", \"winter\", \"retire\", \"assistant\", \"point\", \"machine\", \"entrepreneur\", \"mobster\", \"pursuit\", \"bounty\", \"retirement\", \"aboard\", \"inventor\", \"bloody\", \"principal\", \"circle\", \"mansion\", \"billionaire\", \"everyone_else\", \"teamwork\", \"fend_off\", \"champion\", \"peaceful\", \"school\", \"documentary\", \"violent\", \"young\", \"student\", \"business\", \"childhood\", \"teacher\", \"footage\", \"chaos\", \"unaware\", \"historical\", \"go\", \"tackle\", \"fierce\", \"teach\", \"architect\", \"german\", \"playboy\", \"balance\", \"irreverent\", \"luxury\", \"sharp\", \"fictional\", \"nasty\", \"cunning\", \"audition\", \"discuss\", \"minister\", \"school\", \"academic\", \"propose\", \"handsome\", \"abduction\", \"high_school\", \"share\", \"drama\", \"attorney\", \"college\", \"orphan\", \"turn\", \"family\", \"documentary\", \"queen\", \"young\", \"search\", \"killer\", \"justice\", \"know\", \"vacation\", \"test\", \"memory\", \"seemingly\", \"gangster\", \"decade\", \"study\", \"corporate\", \"bride\", \"heal\", \"support\", \"installment\", \"teens\", \"operation\", \"vibrant\", \"north_pole\", \"crash\", \"factory\", \"elusive\", \"metal\", \"becomes_entangled\", \"laugh\", \"range\", \"iceland\", \"show\", \"condition\", \"mystery\", \"death\", \"violent\", \"revenge\", \"doctor\", \"surprise\", \"water\", \"miss\", \"fantasy\", \"woman\", \"group\", \"young\", \"truth\", \"documentary\", \"family\", \"mysterious\", \"friend\", \"different\", \"marry\", \"wealthy\", \"animal\", \"crush\", \"charm\", \"science\", \"century\", \"arm\", \"truck\", \"circus\", \"unhappy\", \"excite\", \"actually\", \"unemployed\", \"stick\", \"hostage\", \"fiction\", \"peculiar\", \"green\", \"rebel\", \"sword\", \"skeptical\", \"socially_awkward\", \"terrifying\", \"compel\", \"longs\", \"grade\", \"plenty\", \"crisis\", \"scheme\", \"everyday\", \"close\", \"kill\", \"journey\", \"renowned\", \"adventure\", \"young\", \"family\", \"world\", \"woman\", \"mysterious\", \"couple\", \"violence\", \"scientist\", \"birth\", \"resort\", \"serve\", \"senior\", \"intense\", \"psychologist\", \"kitchen\", \"surgeon\", \"demonic\", \"discovery\", \"respective\", \"tycoon\", \"catholic\", \"bud\", \"recently\", \"getaway\", \"mistake\", \"mermaid\", \"highly\", \"spotlight\", \"isolated\", \"subject\", \"scholar\", \"spending\", \"rattle\", \"stalker\", \"illegal\", \"leader\", \"look\", \"mysterious\", \"relationship\", \"young\", \"group\", \"marriage\", \"work\", \"country\", \"family\", \"turn\", \"father\", \"daughter\", \"mother\", \"child\", \"teenage\", \"desert\", \"crowd\", \"infiltrate\", \"perilous\", \"move\", \"die\", \"believe\", \"incident\", \"ability\", \"state\", \"ranch\", \"vengeance\", \"welcome\", \"paradise\", \"sheriff\", \"invasion\", \"carry_out\", \"wealth\", \"estate\", \"mental\", \"economic\", \"send\", \"foster\", \"onslaught\", \"mission\", \"shape\", \"single\", \"iconic\", \"order\", \"movie\", \"young\", \"family\", \"death\", \"woman\", \"husband\", \"miss\", \"journey\", \"battle\", \"rescue\", \"island\", \"power\", \"raise\", \"teen\", \"beloved\", \"control\", \"summer\", \"office\", \"make\", \"finally\", \"middle\", \"event\", \"police_officer\", \"actress\", \"common\", \"honest\", \"illness\", \"reluctantly\", \"grisly\", \"redemption\", \"fateful\", \"forbidden\", \"older_brother\", \"appear\", \"theater\", \"sexually\", \"ocean\", \"weird\", \"isolate\", \"rock_band\", \"opposite\", \"successful\", \"desperately\", \"eerie\", \"break\", \"friendship\", \"empire\", \"creative\", \"martial\", \"cross\", \"confront\", \"victim\", \"obsession\", \"sequel\", \"strike\", \"stardom\", \"attend\", \"accidentally\", \"rivalry\", \"religion\", \"traumatic\", \"gender\", \"pressure\", \"greed\", \"ultimate\", \"cheerful\", \"venture\", \"mount\", \"historic\", \"fashion_designer\", \"outspoken\", \"wound\", \"expand\", \"loser\", \"phone\", \"aspire\", \"politics\", \"spark\", \"great\", \"grapple\", \"performance\", \"romance\", \"young\", \"family\", \"criminal\", \"protect\", \"trouble\", \"start\", \"beautiful\", \"date\", \"businessman\", \"potential\", \"border\", \"property\", \"married\", \"zombie\", \"birthday\", \"title\", \"cocaine\", \"competitive\", \"emerge\", \"precious\", \"responsible\", \"array\", \"sleep\", \"responsibility\", \"mistress\", \"identify\", \"advice\", \"exact_revenge\", \"beast\", \"offbeat\", \"cold_war\", \"uniquely\", \"deeply\", \"contest\", \"military\", \"video\", \"world\", \"country\", \"battle\", \"island\", \"discover\", \"heart\", \"rural\", \"course\", \"quirky\", \"reunite\", \"monster\", \"help\", \"coach\", \"sudden\", \"bachelor\", \"disease\", \"surround\", \"touch\", \"audience\", \"ballet\", \"serial\", \"immigrant\", \"once_again\", \"magician\", \"throne\", \"jerry\", \"knight\", \"humorous\", \"visual\", \"waste\", \"shed_light\", \"inherit\", \"banker\", \"dinosaur\", \"relationship\", \"government\", \"race\", \"spend\", \"party\", \"prosecutor\", \"mysterious\", \"eccentric\", \"young\", \"woman\", \"force\", \"future\", \"new_york\", \"corrupt\", \"peace\", \"energy\", \"grandmother\", \"reflect\", \"adult\", \"status\", \"nation\", \"brilliant\", \"fill\", \"ordinary\", \"choose\", \"prevent\", \"protection\", \"toxic\", \"grandson\", \"grant\", \"perspective\", \"regime\", \"volatile\", \"midst\", \"remote_island\", \"triad\", \"resilient\", \"unfiltered\", \"cruel\", \"window\", \"quick\", \"trial\", \"college\", \"favorite\", \"small_town\", \"medium\", \"unusual\", \"world\", \"documentary\", \"comedian\", \"woman\", \"comedy\", \"reality\", \"stage\", \"survive\", \"global\", \"funny\", \"diverse\", \"martin\", \"treacherous\", \"adaptation\", \"basketball\", \"player\", \"creator\", \"design\", \"color\", \"southern\", \"amateur\", \"mischief\", \"provocative\", \"interactive\", \"specie\", \"thrive\", \"fugitive\", \"psychotic\", \"backdrop\", \"trump\", \"image\", \"hacker\", \"patriarch\", \"near_future\", \"comedian\", \"return\", \"series\", \"think\", \"special\", \"thanks\", \"documentary\", \"culture\", \"world\", \"career\", \"group\", \"investigate\", \"extraordinary\", \"thriller\", \"tough\", \"complex\", \"link\", \"reach\", \"run\", \"poverty\", \"disappearance\", \"collide\", \"coast\", \"recent\", \"official\", \"gritty\", \"virtual\", \"caught\", \"gain\", \"awkward\", \"mythical\", \"mystical\", \"enter\", \"immortal\", \"period\", \"fourth\", \"straight\", \"making\", \"especially\", \"appearance\", \"closer\", \"detective\", \"crime\", \"sweet\", \"affair\", \"lifelong\", \"abandon\", \"solve\", \"mysterious\", \"criminal\", \"turn\", \"young\", \"history\", \"spirit\", \"holiday\", \"expert\", \"threaten\", \"giant\", \"grandfather\", \"cover\", \"avoid\", \"disaster\", \"ready\", \"do_anything\", \"strict\", \"origin\", \"war_i\", \"golden\", \"process\", \"important\", \"ambition\", \"united\", \"beset\", \"swept\", \"bangkok\", \"embrace\", \"wrestle\", \"side\", \"vulnerable\", \"schoolteacher\", \"separation\", \"yearn\", \"more_than\", \"ancient\", \"trace\", \"social\", \"family\", \"world\", \"battle\", \"company\", \"miss\", \"documentary\", \"chance\", \"competition\", \"grow\", \"unique\", \"living\", \"fighter\", \"forest\", \"dancer\", \"squad\", \"driver\", \"social_media\", \"lethal\", \"festival\", \"skilled\", \"psychic\", \"loose\", \"patient\", \"roommate\", \"winner\", \"wildlife\", \"confine\", \"playful\", \"psychiatrist\", \"creation\", \"tiger\", \"colonial\", \"hungry\", \"explore\", \"smith\", \"elephant\", \"training\", \"encounter\", \"singer\", \"fashion\", \"world\", \"young\", \"aspire\", \"group\", \"complicate\", \"artist\", \"widow\", \"big\", \"fellow\", \"veteran\", \"civil_war\", \"love_triangle\", \"enigmatic\", \"safety\", \"independence\", \"unable\", \"intersect\", \"financial\", \"comedic\", \"misfit\", \"present\", \"inmate\", \"church\", \"commercial\", \"radical\", \"philosophy\", \"achieve\", \"imaginative\", \"evade\", \"good\", \"wizard\", \"instructor\", \"piece\", \"tenacious\", \"vengeful\", \"world\", \"family\", \"crisis\", \"master\", \"conflict\", \"animate\", \"horse\", \"program\", \"turned_upside\", \"trail\", \"mouse\", \"thrown\", \"mentor\", \"novelist\", \"virus\", \"jungle\", \"trainer\", \"general\", \"transfer\", \"lifetime\", \"biological\", \"shadowy\", \"dimension\", \"education\", \"cruise\", \"household\", \"wildly\", \"amidst\", \"infant\", \"mutant\", \"legal\", \"physic\", \"slowly\", \"bitter\", \"thief\", \"leader\", \"world\", \"party\", \"mysterious\", \"each_other\", \"street\", \"society\", \"drive\", \"apart\", \"outside\", \"cultural\", \"terrify\", \"voice\", \"celebration\", \"even\", \"runaway\", \"separate\", \"receive\", \"rediscover\", \"stock\", \"intimacy\", \"understand\", \"satirical\", \"current\", \"genre\", \"regret\", \"debate\", \"interview\", \"familial\", \"flirt\", \"laura\", \"signal\", \"manga\", \"amnesia\", \"impact\", \"romance\", \"figure\", \"universe\", \"island\", \"woman\", \"young\", \"documentary\", \"single\", \"world\", \"small_town\", \"suddenly\", \"base\", \"true_story\", \"desperate\", \"escape\", \"class\", \"stranger\", \"lonely\", \"priest\", \"vicious\", \"adopt\", \"reputation\", \"grand\", \"tumultuous\", \"version\", \"confidence\", \"launch\", \"palace\", \"field\", \"practice\", \"freshman\", \"drug_dealer\", \"promise\", \"mistakenly\", \"feature\", \"graduation\", \"deceit\", \"stigma\", \"kung_fu\", \"motley_crew\", \"outbreak\", \"farmer\", \"reclaim\", \"abuse\", \"drama\", \"young\", \"woman\", \"world\", \"family\", \"force\", \"struggle\", \"talented\", \"unlikely\", \"place\", \"soccer\", \"neighborhood\", \"build\", \"serial_killer\", \"despite\", \"later\", \"realize\", \"embark\", \"track_down\", \"manager\", \"million\", \"staff\", \"movement\", \"record\", \"taxi_driver\", \"prize\", \"inspiration\", \"rebellious\", \"forge\", \"hunt\", \"cabin\", \"painter\", \"guest\", \"spread\", \"stumble\", \"assign\", \"eccentric\", \"well\", \"fall\", \"group\", \"agent\", \"elite\", \"president\", \"decide\", \"space\", \"super\", \"pregnant\", \"secretly\", \"celebrate\", \"newly\", \"character\", \"combat\", \"racism\", \"rise\", \"superhero\", \"station\", \"engineer\", \"radio\", \"buddy\", \"rapper\", \"convince\", \"concert\", \"thing\", \"mountain\", \"instead\", \"modest\", \"organized_crime\", \"suffer\", \"grueling\", \"store\", \"danger\", \"attack\", \"world\", \"try\", \"ambitious\", \"director\", \"compete\", \"humanity\", \"divorce\", \"animated\", \"save\", \"unexpectedly\", \"brave\", \"sexual\", \"destroy\", \"executive\", \"legacy\", \"championship\", \"difficult\", \"nephew\", \"charge\", \"terrible\", \"marital\", \"colleague\", \"sadistic\", \"market\", \"final\", \"trauma\", \"parallel\", \"not_knowing\", \"regional\", \"fisherman\", \"turkey\", \"endure\", \"solve\", \"romance\", \"career\", \"young\", \"music\", \"quest\", \"actor\", \"community\", \"famous\", \"seven\", \"major\", \"passion\", \"pursue\", \"industry\", \"japan\", \"expose\", \"producer\", \"trade\", \"inner\", \"connect\", \"spiritual\", \"nearly\", \"rebellion\", \"argentine\", \"project\", \"rebuild\", \"beauty_pageant\", \"impress\", \"prominent\", \"psychology\", \"retell\", \"revive\", \"talk\", \"rivet\", \"brazil\", \"experience\", \"devote\", \"documentary\", \"career\", \"physical\", \"country\", \"leave\", \"brother\", \"romantic\", \"begin\", \"torn_between\", \"faith\", \"challenge\", \"happy\", \"engage\", \"outrageous\", \"turbulent\", \"intrigue\", \"author\", \"storm\", \"afloat\", \"uncle\", \"juggle\", \"blind\", \"arrival\", \"surprising\", \"china\", \"spring\", \"ahead\", \"shelter\", \"glimpse\", \"manage\", \"display\", \"stalk\", \"plucky\", \"trusty\", \"emperor\", \"adventure\", \"youth\", \"country\", \"young\", \"family\", \"woman\", \"career\", \"best_friend\", \"marriage\", \"night\", \"earth\", \"powerful\", \"planet\", \"magic\", \"musical\", \"catch\", \"wrong\", \"extreme\", \"demon\", \"survival\", \"technology\", \"nature\", \"massive\", \"light\", \"alien\", \"union\", \"attention\", \"mischievous\", \"incredible\", \"possibility\", \"otherworldly\", \"influence\", \"meaning\", \"temple\", \"baseball\", \"petty\", \"choice\", \"defense\", \"independent\", \"supernatural\", \"social\", \"suspect\", \"curious\", \"deadly\", \"world\", \"family\", \"universe\", \"battle\", \"live\", \"prison\", \"owner\", \"modern\", \"strange\", \"wed\", \"traditional\", \"reporter\", \"perfect\", \"meeting\", \"photographer\", \"deliver\", \"arrive\", \"genius\", \"natural\", \"restaurant\", \"beauty\", \"painful\", \"revolutionary\", \"custom\", \"sacred\", \"risky\", \"eclectic\", \"custody\", \"northern\", \"housewife\", \"bodyguard\", \"security\", \"conspiracy\", \"thrust\", \"undercover\", \"work\", \"train\", \"time\", \"stand\", \"criminal\", \"family\", \"young\", \"company\", \"partner\", \"notorious\", \"black\", \"capture\", \"gift\", \"terrorist\", \"royal\", \"fresh\", \"threat\", \"legend\", \"robot\", \"creature\", \"disturb\", \"urban\", \"sing\", \"recover\", \"overcome\", \"await\", \"sweep\", \"insurance\", \"wicked\", \"sketch_comedy\", \"transformative\", \"smart\", \"donkey\", \"bureaucracy\", \"conquer\", \"technological\", \"courage\", \"comfort\", \"deadly\", \"white\", \"queen\", \"talent\", \"mission\", \"family\", \"journey\", \"group\", \"force\", \"doctor\", \"sister\", \"inspire\", \"celebrity\", \"female\", \"house\", \"little\", \"short\", \"success\", \"classic\", \"create\", \"novel\", \"second\", \"effect\", \"horror\", \"wedding\", \"fulfill\", \"fail\", \"service\", \"spooky\", \"late\", \"psychological\", \"cutthroat\", \"valuable\", \"treatment\", \"hilarious\", \"curiosity\", \"contemporary\", \"candy\", \"bound\", \"drinking\", \"leaf\", \"anthology\", \"tragedy\", \"religious\", \"culture\", \"journey\", \"documentary\", \"world\", \"family\", \"money\", \"identity\", \"get\", \"lose\", \"underworld\", \"find\", \"drawn\", \"increasingly\", \"defeat\", \"suburban\", \"turmoil\", \"have_been\", \"restore\", \"existence\", \"sense\", \"treasure\", \"therapist\", \"purpose\", \"watch\", \"league\", \"identical\", \"terminally_ill\", \"rookie\", \"heartbroken\", \"discus\", \"shake\", \"suitor\", \"gorgeous\", \"robbery\", \"neighbor\", \"professional\", \"best_friend\", \"truth\", \"young\", \"turn\", \"fight\", \"local\", \"take\", \"popular\", \"tale\", \"reconnect\", \"frank\", \"chase\", \"shady\", \"passionate\", \"problem\", \"elaborate\", \"sensation\", \"heartbreak\", \"prostitute\", \"slacker\", \"enthusiast\", \"civil\", \"pop_star\", \"clever\", \"carefree\", \"furry\", \"hapless\", \"adulthood\", \"torture\", \"crazy\", \"chess\", \"viking\", \"silence\", \"dream\", \"journalist\", \"prodigy\", \"underwater\", \"group\", \"romance\", \"turn\", \"secret\", \"writer\", \"inside\", \"brutal\", \"uncover\", \"controversial\", \"public\", \"may_be\", \"nurse\", \"settle\", \"offer\", \"string\", \"cartel\", \"blood\", \"nefarious\", \"scene\", \"employee\", \"crack\", \"act\", \"plant\", \"clean\", \"scientific\", \"draw\", \"archival_footage\", \"stuck\", \"scrappy\", \"intimate_look\", \"lively\", \"distant\", \"weigh\", \"sinister\", \"hidden\", \"force\", \"high_school\", \"order\", \"world\", \"mysterious\", \"government\"], \"Freq\": [328.0, 249.0, 175.0, 170.0, 151.0, 140.0, 136.0, 134.0, 161.0, 122.0, 146.0, 111.0, 128.0, 124.0, 113.0, 604.0, 106.0, 142.0, 100.0, 94.0, 98.0, 97.0, 99.0, 292.0, 94.0, 108.0, 89.0, 89.0, 86.0, 105.0, 74.49211648604023, 43.96738661436362, 35.6741379753701, 35.66250179737497, 29.855330164276925, 29.758591379318496, 26.700697186521, 24.31523973948413, 23.805777066414493, 23.160163738355415, 17.969015300290824, 17.705431908250212, 16.23202800431606, 15.367996734338423, 14.35775756365961, 14.357332624037296, 12.19864343848518, 11.898843927163535, 11.6695239800431, 11.235686224432818, 9.516499290853975, 9.111295298131385, 8.98129756408287, 8.667247728125695, 8.350021084510132, 8.28466229874553, 8.284320811121333, 7.740132891276906, 7.423433070397924, 7.2709396471146395, 14.833644886811946, 20.770213194781885, 40.63125219638381, 12.443962618373464, 38.77674196014042, 9.743958719194302, 8.816790636898862, 9.728223665757914, 84.67250512021792, 42.30239286806807, 29.871917177877155, 25.25141883605796, 25.22614646450652, 24.090910927844263, 23.015858123401323, 17.35575675324649, 17.101312974041722, 15.94071299692772, 15.85229219140367, 14.97916489910553, 12.906886756391176, 12.417879581465916, 12.405515269736973, 11.881975758216846, 11.761360083002094, 11.552053894543581, 11.172921745240064, 11.074219551460988, 10.62558079824628, 9.809031469929709, 9.243433801587583, 8.860797076673117, 8.860516537318077, 60.36918365722963, 7.7406083062292215, 7.722138743246649, 7.171088502734183, 7.117949041388055, 22.21815800688563, 15.8223383870627, 32.46289417428276, 14.840863329724316, 17.291096222981842, 41.89646650244928, 24.00371193078541, 12.050629736119166, 135.74269771642594, 64.23565728374722, 57.03716830367415, 32.41203579552427, 26.495681645872782, 24.800588531427714, 20.11900274026347, 17.987007960910695, 14.66173068007767, 14.436748870403848, 14.279747505211136, 13.91788369259844, 13.533319165593678, 13.242605546043592, 10.89822644671234, 10.288823022262862, 9.773270505268062, 9.71990060320947, 9.681480660117524, 9.524832109490417, 9.45684719900215, 8.556333796867175, 8.15695831536861, 8.076254774740798, 7.919261783311509, 7.863444509329477, 7.824940828603288, 7.377790235515278, 5.837670919012479, 4.89639571128126, 18.145266507118826, 29.67056390260388, 106.71907291194587, 10.6348548394949, 10.738836884191048, 30.823796368378943, 26.816450377104953, 9.604933297402582, 150.7558400120372, 64.3346889261908, 58.937723008086735, 43.55375246070908, 37.120703842676946, 31.512663532359195, 31.51073254101377, 28.179408473126983, 27.35755996943238, 25.575626699256112, 20.807887735062224, 16.8811716572075, 16.387638149941022, 14.923017355986737, 13.667724542955796, 13.099045010189418, 12.28848299601646, 11.823884671230166, 10.465312218150633, 10.000102713951197, 9.947412207459537, 9.535735436926153, 24.63637495437547, 8.664112920687073, 7.93734508844071, 7.696107991842093, 6.744920500322995, 23.525425035184533, 6.626369764948398, 6.480201077486669, 22.77537171906689, 16.582154549521633, 41.191277484996085, 17.993134830546936, 9.187097918280102, 26.05143019507825, 20.0313633156612, 35.523585547648, 16.349870230979068, 19.377344549737966, 12.716233720576955, 41.49621671371045, 31.579060803346742, 25.852616013497425, 25.23663506545943, 23.705553676782646, 23.155238457054494, 23.071712612748673, 19.476613679513246, 18.716517524965475, 17.313350645731116, 16.10841628490716, 14.98206221470981, 14.787520927597097, 14.504980855137637, 14.467130701456616, 14.207194805337723, 13.237456967908404, 12.929090935632196, 12.918535216751172, 12.868346497406304, 12.80039366150761, 12.537128378142212, 12.072578638057117, 10.921946203445621, 10.565749240321356, 9.601155285089106, 8.56610090413404, 8.421768907675228, 8.129136234522706, 7.851049586734068, 36.48279670358667, 18.796294116332742, 18.75341084904175, 11.969729477466696, 61.53252823974856, 39.55840784235292, 12.70444907617966, 13.420523684336636, 13.223827157000665, 99.83110671273528, 82.82578003462854, 82.60784313550745, 75.55363279712569, 64.67906546098052, 25.50455996388589, 23.769941252452465, 15.355424521475221, 15.071079087693231, 13.95610570447884, 12.485526865971478, 10.843080865197683, 10.226688326517767, 9.134895500362989, 8.3275516964854, 22.151002638749876, 6.9839335766514266, 6.585823047426871, 6.585481260787627, 6.534409916857241, 6.278233906379637, 6.277846141959102, 6.212729416767748, 6.06075290742727, 5.725596485825824, 5.662878914499241, 5.508550890922802, 5.342428181572017, 5.291357945539976, 22.343087837903028, 24.903584938566468, 16.304123413265646, 68.2759460679009, 11.008501166998126, 10.072074465168477, 21.489684822205064, 9.570782593385285, 12.467449288686112, 9.388960964494535, 11.17793981609366, 9.05308773266427, 88.29492303576502, 50.70666156426708, 44.46860656840721, 40.719113551820314, 26.734190605301585, 26.556565040237185, 21.740756949939932, 20.112808665283477, 19.622523852774524, 16.741616675528565, 16.448950431157925, 14.589949848314125, 13.256270380337371, 12.984881284929987, 12.947947996327233, 12.805608254651455, 12.497797440954956, 11.940415483717322, 11.851087998808337, 11.420079569355654, 11.309167993295228, 11.29693937475712, 9.58871944376417, 9.15000091887019, 9.097918884857384, 9.082847397004903, 8.931049868653062, 8.59588987957671, 7.745679332695433, 7.510810615566222, 54.02290255016861, 36.389591673417236, 10.168078044067384, 25.04972946130357, 28.257855803532927, 17.309404390554068, 76.0275963750785, 66.0377561164718, 40.044575199175334, 33.613897212577044, 31.67958831704275, 31.10011080661229, 24.987692180394685, 19.909160390742677, 17.931256091422267, 16.715443618482887, 14.966326620872843, 14.607784471689563, 13.000129874357757, 12.512048090069307, 11.11180358441179, 9.378740601695641, 9.284212707863066, 8.627537693382626, 8.405170342150067, 8.235020960991307, 7.631562170875054, 7.290664952627228, 7.1331038395017945, 6.978210531996522, 6.513863360910832, 6.34733906653876, 5.41499563312429, 5.399513172614733, 5.244773824726385, 4.626034542630306, 9.74309431254791, 24.901428441483514, 7.869765841414137, 5.780555360975807, 8.705172244087102, 54.78605852949088, 40.02885484195688, 36.32100318253364, 32.327380703300086, 32.22689008648495, 23.919191314543422, 21.999572453069543, 20.80462551335145, 18.964941181849696, 17.888067600807762, 17.527663610536827, 15.874416452981649, 13.782286286858163, 13.583965784859846, 13.357337189087792, 12.722830596907464, 12.399861804006083, 12.010461166441242, 11.89529179480124, 11.582907627545675, 11.423332082386667, 28.36906443405548, 10.670776256033074, 9.504868181488954, 9.406721662205255, 9.370880692402107, 8.967840664012188, 8.556666657395686, 8.117064437084776, 8.078463724669037, 24.78963554505097, 27.51990002547784, 14.758882350860546, 30.781681584844875, 18.38240681040927, 14.094801128504418, 10.145087254917636, 14.143921631964439, 11.31662035938711, 11.589342838693302, 88.55884476801654, 63.980628484998554, 39.6101194861699, 24.603625557144092, 24.246475834198197, 22.004330381248042, 19.112683705554442, 18.486844059339322, 17.546577034073515, 15.402827718233016, 14.714839983558448, 13.808665449709375, 13.706797740981006, 13.627216511925132, 13.157508964846324, 13.048143500011435, 12.344903911436909, 11.141674150776838, 10.645352809526333, 10.63330951495666, 10.359305028163533, 9.944335484200462, 9.85033527349134, 9.550853853613845, 9.039334976218603, 8.21842978863433, 7.550040757691936, 6.950743434917958, 6.883897813575046, 5.61676178448393, 18.242488490408697, 11.601135653923606, 20.145298538238993, 20.73319770890442, 10.68073463292224, 12.494742774512282, 123.3610727913656, 73.65522370866064, 64.6160586604509, 39.291122878036454, 34.14746015963884, 29.580718915428335, 26.794105821913853, 26.34570676980836, 20.164394903923338, 19.69595107039227, 16.679292170231832, 15.32862216210125, 15.012704150710203, 13.794776446652353, 13.71829741196659, 12.258014430261778, 9.216140880285023, 7.709950780426559, 7.5373001564083, 7.295127489537938, 6.537565656904652, 6.280705475324513, 6.06981465002788, 5.89701697987865, 5.8809472315377445, 125.11296534917322, 5.5630482009915445, 5.508991307504634, 16.279797241609824, 5.001826466043692, 85.80398628328844, 51.93802302955456, 68.26405020687068, 8.30925951510238, 32.78591420930035, 10.437907514264456, 19.7735968990289, 31.361224598516436, 18.85835852605865, 8.971144927700019, 8.73211494441948, 92.55908747184753, 48.74328899072243, 42.81867994939849, 31.895047659315537, 28.818206243778057, 25.065855253353327, 22.289107868657236, 20.612097118369185, 20.366580563198173, 16.35047865028958, 15.642130654412927, 14.581969149625728, 14.5168447777127, 12.287599510907933, 11.890024492454035, 11.410326297673283, 10.724920799023977, 10.289697872108903, 10.040997119310765, 9.594799738569842, 8.516086945656866, 8.134046043535452, 7.549839641765573, 7.398821164123287, 7.067400510224414, 6.751457583594465, 6.368577269590176, 6.218565943450217, 6.21756021951912, 6.139384277641498, 31.948847108665902, 104.3642621269266, 39.47884850684242, 51.002831601728296, 38.0379095004718, 17.250341036872303, 12.283018434832856, 32.85213138348545, 13.250544842545672, 58.90765895703294, 41.786089127764285, 62.38794627770514, 14.899358205911037, 15.517138227853446, 14.067118440892754, 11.982426181632416, 98.92767039601124, 82.18211040472988, 79.79349815572459, 61.32045643221977, 44.285112488181916, 36.60456386647324, 34.96468697117258, 30.608953562067335, 17.550594860600928, 16.159543410152367, 14.877740257100962, 13.040321245227744, 13.016961525005497, 10.903002881087428, 10.68762033737362, 10.233195029370787, 8.90784534784927, 8.907652655870352, 8.18436131761972, 7.783423833269376, 7.809095237650267, 7.3789627499347885, 7.275345891111186, 5.750451583448433, 5.350199983408895, 5.296391212987664, 5.280595427423345, 5.280374234380022, 5.122412661206689, 5.122058566460867, 32.346326402816295, 35.28730415012444, 14.438714817702552, 17.334000402061523, 16.542888922292477, 46.75526752162861, 10.514362366851424, 22.86051044823745, 50.05890272584847, 37.073450986308536, 26.411133398243603, 18.27408322794897, 11.509273805595145, 112.9262820088049, 32.317557072988905, 26.85668273370612, 25.83307059716901, 23.125412286219603, 20.467755224382827, 18.76019937479725, 18.094634963342784, 13.730474302011691, 13.639189250811134, 12.825522471288153, 12.562131185758165, 11.698385678011356, 10.758851988318447, 10.746958944749673, 10.587068234614001, 9.976509804049503, 9.667089644378265, 9.231731377516, 8.994016041227765, 8.91485437689954, 8.62085308386406, 8.566967932548911, 8.502103781774116, 8.489497197471815, 8.185345617361989, 8.184789652388398, 8.012572434467256, 7.78744431270352, 7.321757685375115, 38.8175498411984, 20.604114272029882, 46.15778681810156, 18.989206687195928, 35.44899680576668, 16.572323292509648, 13.242418722370136, 11.301599444345115, 10.717212201125019, 10.909638902888444, 9.051522293976365, 248.38663559794998, 174.9069095928977, 169.16442466344662, 71.6954061781412, 59.27265242276217, 20.733067168559458, 18.078084363010216, 17.242537286692063, 15.837754487297405, 15.540853925541612, 14.313868028367756, 13.936457362682077, 13.710409015377303, 13.398005278544803, 12.662974313123325, 12.496387208683451, 11.014659452335277, 10.84489694554387, 10.451979569682845, 9.729256933944033, 9.506747220375843, 9.495265219999796, 8.641495593977695, 8.168309384668824, 7.997732921416029, 7.857817252424792, 7.7639144273050515, 7.2138530792407645, 6.415818702119167, 82.52502531114654, 10.211003384604687, 43.62200717127257, 20.65238384479631, 34.65842520529304, 17.914905977431978, 82.27689673774915, 71.31545377653484, 36.51408332271784, 55.489796396776484, 24.32257981228932, 17.502736454388707, 19.140984238030544, 18.758433538925296, 15.579614514557363, 12.75015868328165, 93.40484964005186, 52.172011344079934, 42.74723866912979, 41.86820258552195, 39.04888406907405, 30.609030774554814, 27.091053636626903, 26.62579286413874, 24.135843935052446, 22.299473491755013, 21.642445692553416, 21.126342647501467, 20.67528515345539, 17.80205451345261, 14.493873610546434, 14.043003001743017, 13.924631596623701, 12.592813362263415, 10.682275091343818, 10.523477657134803, 10.231204316112986, 9.901278816303678, 9.798337301904406, 9.24480313492557, 9.16391597647217, 8.778126018948631, 7.106818883097588, 6.711858267498999, 6.6177245502340805, 6.552531008883765, 17.2854752430615, 7.781809010355666, 6.935666152439888, 7.193668344851049, 65.347552217608, 35.00098941450694, 26.98545337025975, 24.38612171156609, 23.968224664144493, 21.708704161572516, 20.063308806008184, 18.91976348749714, 18.799317065815455, 17.811376524513708, 17.766197052438596, 17.415644964415478, 14.804727897706828, 14.448314743324165, 13.783598439813723, 11.873891108665505, 11.124061666195937, 10.95413397090355, 10.558232510253902, 10.452823795365708, 10.365640684599668, 10.143425843276429, 9.799846715162365, 9.497948515224406, 8.89544798405131, 8.894968442258257, 8.712645044013353, 7.692121296665981, 7.691585456465357, 7.057996643033367, 44.78284979377932, 26.668698422695492, 24.639177021622046, 19.010035973378596, 11.872203161767104, 10.17806444386272, 19.51577462186906, 31.051905444974366, 18.45897710679409, 11.745859481892436, 66.7943438776945, 41.0755630931915, 39.44193041193313, 38.31326262191375, 29.137061447098166, 24.27169269875503, 19.222760357555206, 16.175106607715275, 15.552924967957823, 14.664873803178999, 13.635440316222208, 13.592542474353445, 12.330190099069995, 11.46060518999369, 10.240521370742737, 9.45884445096532, 9.0624168189232, 8.303140646080857, 7.948421281228906, 7.88029049051733, 7.220220356908734, 7.205044343399003, 6.651787791072481, 6.567719526050621, 6.4758820332536775, 6.423437667549147, 5.733107780009366, 5.694804888550059, 5.694418339126196, 5.12599408618078, 11.297440599958826, 14.25553542037989, 8.981319581086034, 22.434450719678665, 9.827008254165916, 9.495699652485582, 8.330507514001203, 81.51581279750175, 65.46554807990954, 29.51754360829206, 26.70805607882439, 26.593701831939757, 25.59856982393343, 23.14425772381109, 22.78469873644783, 22.14840727552296, 19.255233248513335, 16.859842902189275, 15.918649674862506, 15.83876554931947, 13.79544418234613, 13.437225568642953, 13.142562112406226, 11.475995118406605, 10.895577937726449, 9.58996928119121, 9.352870048309834, 8.564487996623843, 8.187002315781182, 7.829040517671277, 7.569421935001592, 7.124225402196762, 6.19630777174891, 6.196117438689178, 6.195627398079052, 6.195380769325598, 6.16627911256736, 71.08013100243552, 41.899896178749366, 12.954263203741116, 15.076352433073374, 22.23648162027856, 8.194264460271507, 10.880307328691867, 9.055879703399205, 11.800056722055178, 10.003452037049035, 8.685002600850213, 85.15591229552027, 72.81047390731675, 30.310507563887224, 22.523127262379862, 18.62751669572207, 17.68994830139788, 17.08859178835757, 16.83693535567165, 15.17828691171778, 15.030639169250332, 14.49727033930168, 14.105840839806788, 13.653651365140105, 12.540039814300764, 12.471118341106376, 11.770764981262712, 11.222495406014252, 9.548752126438991, 8.623554294416854, 8.488917612312685, 7.99567372151278, 7.667916630293001, 7.6676670085738525, 7.27331267576065, 7.118629698275572, 7.118426981717473, 6.829966710941016, 6.265953714913202, 6.17760110482937, 5.942030985824266, 13.259898173184029, 71.37487406092693, 12.786486000131726, 23.61426423225937, 14.354644144765428, 11.05969891394719, 33.477429740309255, 27.507636290541566, 14.5138920187862, 12.737356348341057, 127.41850990283046, 78.70089788715384, 63.862364745951645, 51.74243502250162, 37.88675957648422, 28.28035911937286, 21.015582137627533, 16.10201612911536, 14.457381245605816, 13.913828150807477, 13.548990990618089, 12.739937043828041, 11.476194234130498, 11.302073666010049, 10.474114168299193, 10.24614609053962, 10.12793458097429, 9.281259031991638, 8.718562031245218, 8.522121217356755, 8.229291703092326, 8.073586651644073, 7.411466735438509, 7.411461553807482, 6.725827395998535, 6.725133797673837, 6.46293364464673, 6.053371236242357, 5.984778655281107, 5.668730992614874, 83.38475478988116, 44.07752064907467, 245.64536301786507, 16.96330683852794, 54.035072838598445, 11.87115665688152, 34.50309529680181, 13.477915298045097, 27.11714217231034, 17.146649229411562, 11.533034505804581, 53.54002002877063, 36.46449860888813, 28.52838317230031, 25.498553153656253, 23.26217434152014, 20.311250714195086, 20.06622582464389, 18.885089434652954, 17.8371689361843, 17.08389934998978, 16.190896774112073, 14.95055076289821, 14.006931046269882, 13.358616358882214, 11.764266431732226, 11.477780992374647, 11.413663924022044, 11.257900359016771, 10.754121449727325, 10.173231046075026, 9.84919196672874, 9.666898464148256, 9.476048065058444, 8.838787431111522, 8.309758037033392, 7.986230738801718, 7.919138746485347, 7.5976381642627615, 7.053984284693796, 6.819420033671309, 65.22925976773571, 81.11523442331846, 11.92066213537395, 13.847187310346682, 12.252891805728307, 11.414078372532035, 16.978931892137172, 17.828559710317652, 11.934378706515247, 10.720965568927976, 10.86512980858921, 105.56245767048283, 46.86058356603309, 43.87466227032869, 31.478265146706818, 23.358684067571502, 21.186673544206503, 19.217558561816627, 17.540647867121262, 17.212215882904896, 16.73166685102944, 15.960454581278332, 15.78648729083652, 13.61752580167099, 9.936096058071112, 9.761394314107047, 9.514671035728378, 9.362002897431855, 9.361930754657502, 7.967645891386575, 7.951635205394687, 7.397078207852425, 7.69223433739762, 6.958971671914601, 6.798963507318962, 6.741155602426726, 6.565344162315468, 6.404923681724732, 6.280298041009722, 6.173998668946796, 5.982002197805625, 21.808239656320175, 20.008598070719593, 8.644473869647543, 13.476339386309634, 23.720724564807455, 22.69091652038142, 10.879847792521591, 9.206766676764897, 8.848671988492965, 8.136352771198347, 68.29705107104654, 52.771346224458284, 30.275664471031277, 27.849443638629207, 25.75130730947087, 24.445316980209398, 22.49535925372888, 22.26485871086653, 22.16889836965502, 22.038119181725094, 21.685640356487898, 19.871401623658265, 18.174759625580663, 17.435152162712384, 15.125819677794388, 13.26091846652493, 12.908151615695267, 11.323190151010953, 10.916231118148866, 10.525560544178019, 10.471379482824837, 10.191566511983094, 9.284831921070182, 9.113837576817838, 7.9016329399413685, 7.901314888514941, 7.495207699683077, 66.64691575357463, 7.320656406173983, 7.092040262409826, 14.133528141104357, 25.345684982254124, 23.284458187512406, 13.23797316903719, 38.501290616321874, 25.46262114865895, 12.695481969935543, 11.415927719377047, 41.10277477352409, 39.09992411338782, 33.7790667532495, 31.86908107396839, 31.38636481651593, 27.88831089425671, 19.530046885087607, 18.475270321312852, 15.91208460201519, 15.681025439191508, 14.371652873890158, 12.845588690885032, 12.72419808486276, 12.287268333949566, 12.211957645465333, 11.81340317504602, 10.466493189541572, 9.069066144691979, 8.951183678894855, 7.672401009057191, 7.409829345067949, 7.345279724822209, 7.3423424168944065, 7.326768448893973, 7.106005853517805, 6.772968380206682, 6.2364419846517, 6.222314285034879, 5.652893878216558, 5.511789570810575, 9.089355475283098, 20.706442707597574, 10.373840072214145, 6.300644228660469, 46.11704422850992, 26.401639681704104, 26.286162857813817, 22.630528261578917, 21.187997611587644, 17.073168864924273, 14.254421920220494, 13.099693759890563, 12.928091250978891, 12.293277150339211, 11.98444473644301, 11.074276899403275, 10.99216113111032, 10.473098305458162, 10.357506473489034, 10.151702130221832, 9.881283285932074, 9.71020963992841, 9.643369035561607, 9.26974612343129, 9.25452497845126, 9.21690165375019, 9.202459427122314, 8.880286947353802, 8.712003989808697, 8.166632194848182, 8.099240074466934, 8.047279075936936, 8.010095744264769, 7.942907501841468, 15.451994075012248, 10.128089751852983, 12.083393505366429, 17.659790224162666, 8.614064155395118, 8.732236698951587, 85.80633568324932, 66.6312117042056, 36.53254324257563, 32.049928002655776, 28.866324086544726, 28.362090055906435, 27.312291305158645, 23.9630827574223, 21.764743741911932, 12.987780161520101, 12.35865701833469, 10.748438991810346, 8.747603002128704, 8.079417491261871, 8.029183019786243, 7.465905011006775, 6.726004535544135, 6.482680838195985, 6.165640015646219, 5.923088614255886, 5.922201569021969, 5.868835537426391, 5.74835165435012, 5.667141544260614, 5.533660996286342, 5.024298006303045, 4.622730771970685, 4.621490908423118, 4.568296286534577, 4.2176505909202175, 23.54621625446074, 54.38647548171996, 13.345702675336254, 14.303637250426043, 16.5251222900433, 22.19004931611661, 22.272691649536025, 15.738656463111772, 9.420741301252752, 12.998370424586534, 7.532443402450068, 6.758591901542234, 110.67253356140299, 49.60504427855533, 41.492980781257614, 37.2314052977303, 35.40786381213156, 23.725643992250994, 17.817882650120463, 15.436314427937042, 13.820243112371374, 13.006671304468496, 12.384256316370319, 11.35087297328768, 11.237347639134644, 10.62533414703165, 9.825676377511856, 9.606648492150919, 9.533576505045101, 8.969902116166148, 7.888819128111629, 7.852004603023116, 7.0121630619937765, 6.869963757070137, 6.554567990589374, 6.323709231963726, 5.789377826900698, 5.774679690898895, 5.470985383512764, 5.404605765859676, 5.25488297487546, 5.254108728854465, 16.901676897146466, 7.023545687562123, 8.537622068508933, 16.98157335467447, 33.527648771635704, 22.75461499355208, 14.044122461810657, 10.3512170228073, 7.044855141235395, 121.74787036517718, 39.77289668258843, 37.4944230580023, 34.256042388703506, 33.24458372825627, 31.872763021633435, 30.086684828120514, 28.443611292940556, 27.882599445543775, 27.86800380816889, 21.606911969193124, 26.54937247020775, 18.795594176380522, 17.337821731156243, 17.32319998164923, 17.278677751883823, 14.622466023918092, 14.273586004482288, 13.29289265810957, 12.392160927227875, 11.769932841752912, 11.125391417130988, 10.617692187659554, 10.47990473332599, 10.012778534756755, 9.732575511791064, 9.28841545567202, 9.201106930685151, 8.41687656626802, 7.797202247315282, 26.653344713434127, 18.74212697463297, 21.85704321631366, 15.076255189881064, 76.60678585580074, 55.55670749489803, 33.878560979261735, 28.682780889368214, 28.634172273807057, 22.15239154404247, 20.89414006082962, 19.903556123592832, 18.956294790438204, 17.50585285203637, 17.30213854570383, 15.416975523219246, 15.119260011300447, 15.089352415979016, 14.904443927130876, 14.86700631327479, 14.617747508984504, 13.948320977424421, 13.910904515305791, 12.72467181380582, 11.888678234100555, 11.648566594817764, 11.38851848153924, 11.376598516039671, 11.362101884340808, 10.76282989726956, 10.587082995068089, 10.368100018619508, 9.661309904284437, 9.253811106308705, 23.837035133993115, 11.053433618189786, 12.490499005535357, 60.15105770479167, 52.65794208689289, 43.6258729741094, 39.889447277922315, 36.271724763322865, 25.59567908824144, 21.560151123508735, 19.927740341036124, 18.78016497160041, 18.71494888500677, 18.62472615803711, 17.83358304755443, 16.799360110059776, 15.989829709457105, 14.78217478762054, 13.717778073349391, 12.180990843832864, 11.044901503014573, 10.045762605620267, 9.787575488748253, 8.09981458597142, 7.497009980661487, 7.391462502689308, 25.800546958591905, 7.258506574707719, 6.928958355205141, 6.603126449256924, 6.376873663442866, 6.364487651717644, 6.220394374818307, 13.369371938866223, 31.508871346543927, 13.601217046299638, 11.526498646074721, 16.616633400638552, 96.30558636480912, 64.19504377220724, 44.51462361160867, 40.887108335680274, 36.61751396064307, 32.477290678126415, 32.43528088489838, 28.188760656019856, 27.300411471440015, 26.165337205960594, 19.05135305994154, 19.096580476343693, 17.903763154659664, 16.334261866418153, 16.112271991543178, 14.924099324150077, 13.509377031044249, 12.189301406616726, 12.139353140516953, 12.01980472442512, 11.914759559744654, 10.989645002928974, 10.352741748946336, 9.721346334361892, 8.543771359534164, 7.997748544127511, 7.840231956879877, 7.328094327336016, 6.986812923740351, 6.557535621964989, 10.02446581276759, 20.3791690491834, 12.46682140538474, 22.992684560869716, 12.608262938831484, 8.818810109308465, 9.013456718238261, 97.40578265889127, 93.40504482428466, 50.88648193446167, 44.06319073684447, 21.806108545453874, 20.738079801498845, 19.080306112399764, 18.97951323571591, 18.628902472130346, 15.721002951925946, 15.709006110043637, 15.098782409167386, 14.540182284305612, 14.450986024009788, 14.219688764802134, 13.609322835031223, 12.39122937661286, 10.95360837565752, 10.321040405174903, 9.906522560804088, 8.54793286437452, 8.13484668062168, 7.7352788571591615, 7.512570459109783, 7.2555181931977994, 7.050237796217594, 5.561180101400068, 5.407767495164321, 5.1737662331337315, 4.938881277621966, 8.05573544125201, 55.66404973562193, 11.862064017648708, 34.12309995180099, 58.74526563819298, 48.33917786675802, 26.262060431647356, 14.91482311579164, 10.420420915858273, 11.645564076233763, 87.73138611097859, 85.15401685729157, 65.91973841182993, 46.032967340885676, 45.4850426647007, 37.049194870851075, 34.616503901386366, 29.208310214956096, 29.028865944179078, 28.213791346903665, 27.38172427707076, 24.090331278305452, 23.577531771312593, 22.976378156761605, 22.5825789913492, 19.7907017685471, 17.287449490495298, 13.286199506307776, 11.902742491556541, 11.681290726555252, 9.884792963762315, 9.478697819573116, 9.475131304727206, 9.4749951045996, 9.200444574805589, 7.986941815745446, 7.478983439836935, 7.242024145262324, 6.551436464619269, 6.144710942848315, 32.16771721064681, 53.552250952108345, 17.14107894982025, 11.712287706038941, 18.507541081392265, 28.79752821947311, 17.246325489134176, 10.268032400697193, 10.462844384987337, 63.20273008178554, 65.91459099711463, 45.703121868807095, 45.471091093424064, 33.04518631591147, 31.10732949166394, 29.896568089484504, 28.411590284455922, 24.6209724344482, 19.517486574747718, 21.326831477038038, 17.33874971942547, 16.14193271058202, 15.279944471112083, 14.039377311939456, 13.82553871998921, 13.475607515631465, 12.599173842536588, 11.523776825089776, 10.924160543402886, 10.434919262036997, 10.205938937824957, 9.974083158131082, 9.731616499474674, 9.683081291581988, 9.013913740764597, 8.965514231283501, 8.36434816321264, 29.095006782510428, 8.21092913551871, 33.00753461184443, 61.71503339636542, 39.719119103264745, 13.175782796249047, 16.111381533355015, 23.448385881343395, 34.082467430200005, 26.248311995695836, 10.849385192436076, 38.16930839628536, 35.9802410131136, 32.6647881309216, 32.19852787982846, 30.643921549929505, 26.525871420413697, 25.395633430978197, 18.80268217326807, 17.14876391987054, 16.326736239335833, 15.601434311206365, 12.94596177013859, 12.469067944039628, 12.38120273499486, 11.567025865066835, 11.082943923166694, 10.097115254014746, 9.868907344899572, 9.513177757361936, 8.596923736028259, 7.793972989943294, 7.427007587343298, 7.3099639629312225, 7.078786387330392, 6.877199334660456, 6.608891467512933, 6.378231679914729, 6.227514760326444, 6.176784919181334, 5.894610301674679, 46.497502927869846, 14.9324291374802, 21.09858371206214, 16.914123810059625, 12.529279951040339, 17.001331862138493, 10.802264983838752, 9.705256800924804, 8.602464344548352, 7.907677758563026, 63.20908836299407, 56.23818669828297, 49.31231624851088, 48.53634677163502, 45.61069266995877, 45.35096117693326, 41.976488611096734, 37.467591817202404, 36.32011481707973, 29.144883802411687, 22.64726818434658, 19.777794894033413, 18.343787056939945, 17.602657151535343, 16.330288758623265, 15.33090195001517, 14.846558601415982, 14.135105081393581, 12.556726413876193, 12.215340835526154, 9.887595776720577, 8.54407312061597, 8.426387061690725, 7.88840895609742, 26.11476508997701, 6.533622661550132, 6.310514569338127, 5.981299661299711, 5.5840690325065, 5.257769356720543, 23.329447383405874, 15.732932421721864, 21.890538391652157, 13.382743893653902, 21.759872759725152, 13.065937287668211, 12.54472070667056, 12.668186309013343, 11.51624628775308, 46.10601435916043, 45.291710024286296, 35.291091438867525, 31.876810199774358, 31.653272198463316, 29.109216342365706, 19.234565819090847, 18.036905341578915, 17.566686301404264, 17.44543534116191, 17.365080874719812, 17.3001427549469, 16.804293478035223, 15.430882944984806, 15.229412988788848, 14.96770154795709, 14.718035285307431, 13.481189725346308, 13.242434197363584, 11.397943070816, 11.0956099755923, 10.753678564199106, 10.340953589184949, 10.1322422968054, 9.631198360155024, 9.551038815279105, 7.734627114947598, 7.336604099062578, 7.309368195924143, 19.820155035856196, 22.71788242927803, 32.354440157895176, 26.444948457973478, 23.4401603943272, 11.988971573885605, 139.77918146754277, 77.0427409793338, 67.10921581991018, 40.108236209219754, 36.53051777829539, 21.117152221170244, 18.924228678603665, 18.045035167233653, 16.019267664495977, 15.892147266034565, 14.048450017486786, 13.209369482769997, 13.172685385474804, 12.942210557915258, 12.86492125532386, 11.395699226515692, 10.839188239943336, 10.620471511029685, 10.21941698964035, 9.84495326568646, 9.754455305305935, 8.426980494677247, 8.196788358939202, 7.977711602918314, 7.0248081586006865, 6.572426521590949, 6.468151907099723, 6.314725493167225, 6.249479071186082, 41.98715340999092, 32.92317993293481, 8.251084522488943, 6.994741453592918, 15.934950256545623, 13.140430300895042, 7.988248013063893, 133.29620077394114, 58.535720787251016, 58.18216451092798, 51.84435826860112, 31.31293295534136, 25.806827151318238, 25.574508325921578, 25.545165259542642, 22.79687038482795, 20.488534737851722, 16.709191974807393, 16.606583487624974, 13.609189143133682, 11.394363878965839, 11.236263674192546, 11.190802761874734, 10.049149529570277, 9.83165825692739, 9.680238422695853, 9.373292137087605, 8.75565908222904, 8.054133624345651, 8.051332105161759, 7.387225719060793, 7.349983165763534, 7.129652792581849, 7.129647667851635, 6.362279676173144, 6.0415273673672, 5.876057231131077, 35.068581243532, 19.4087700252747, 25.759759351370967, 15.643224174796572, 10.893222205440606, 16.081111872699463, 12.648421804964848, 10.206028909723598], \"Total\": [328.0, 249.0, 175.0, 170.0, 151.0, 140.0, 136.0, 134.0, 161.0, 122.0, 146.0, 111.0, 128.0, 124.0, 113.0, 604.0, 106.0, 142.0, 100.0, 94.0, 98.0, 97.0, 99.0, 292.0, 94.0, 108.0, 89.0, 89.0, 86.0, 105.0, 75.4494506729102, 44.92472133342956, 36.63147208854281, 36.61984085926842, 30.812666108774895, 30.715925488108923, 27.65803132106675, 25.272573983827282, 24.763111183249954, 24.117497897995584, 18.926349410956142, 18.66276601778976, 17.189362113112335, 16.325330841089745, 15.315091676095811, 15.31466674034059, 13.155977671090387, 12.85617803603041, 12.626858096095983, 12.193020341951227, 10.47383340027692, 10.068629404882707, 9.938631675282743, 9.624581834877016, 9.30735519332188, 9.241996405496852, 9.241654917872655, 8.69746699802823, 8.380767177149247, 8.228273753865961, 18.158068792579698, 29.692473929167786, 103.5347442303748, 17.72420801808012, 434.07655630434795, 17.340868112924554, 14.100950547998798, 292.4838028301207, 85.63893386561072, 43.25876005827206, 30.828282956989746, 26.2077852661762, 26.18251222020514, 25.04727672449859, 23.97222385507928, 18.312122484924448, 18.05767984837449, 16.897078753145095, 16.808657943381053, 15.935530635891933, 13.863252497885698, 13.37424531518883, 13.361881079582483, 12.838341506795167, 12.717725814680056, 12.508419626221544, 12.129287476918027, 12.030585303598007, 11.581946757153224, 10.765397201607671, 10.199799533265546, 9.81716280835108, 9.81688226899604, 67.61956655687327, 8.696974037907182, 8.67850447492461, 8.127454234412143, 8.074314773066014, 29.095040313037003, 21.611536909063332, 54.53760075816422, 22.271520738437626, 28.57613762724928, 328.0145412429979, 292.4838028301207, 434.07655630434795, 136.69938170205924, 65.19193430459272, 57.993423886318524, 33.36829252953462, 27.451939724717672, 25.756843561777984, 21.075257768364118, 18.943262998765448, 15.61798570871116, 15.393003913821605, 15.236002537640887, 14.874138719137596, 14.489574237038246, 14.198860578365817, 11.854481490220989, 11.24507807705149, 10.729614339520731, 10.676155629748626, 10.63773568665668, 10.481087136029572, 10.413102225541305, 9.51258882340633, 9.113213343952717, 9.032509826037618, 8.875516809850666, 8.819699559692515, 8.781195855142446, 8.334045262054435, 6.793925945551636, 5.852650737820417, 21.892537137530006, 36.386262123273944, 161.68633769034142, 13.079612367099775, 18.543553325821836, 434.07655630434795, 496.4152084150975, 49.22394044839159, 151.71212768327644, 65.30188142346847, 59.894009830701506, 44.510039394675, 38.076991763496, 32.468951999944174, 32.46701958166817, 29.13569528046115, 28.313846919911573, 26.531913559661742, 21.764174563810283, 17.837459861411453, 17.343929062876654, 15.879304165145982, 14.624011360801335, 14.055331814290229, 13.244769800117272, 12.780171524767555, 11.421599022251444, 10.956389518052008, 10.903699013784625, 10.492022252593104, 27.340894734186314, 9.620399724787884, 8.893631892541519, 8.652394795942902, 7.7012073130544145, 26.91392529260264, 7.582656577737237, 7.436487881587476, 30.52165603611548, 21.711079604132227, 65.13753990373822, 25.87652498020257, 11.862637051259401, 108.09867221136977, 89.23952785031757, 604.7438067491884, 83.27587892120337, 362.05456532869925, 135.11876750019545, 42.452585876752465, 32.535355286444315, 26.80891042992574, 26.19292916854755, 24.661847729122364, 24.11153246253331, 24.028007087676418, 20.43290786864195, 19.672811528583075, 18.269644660859612, 17.064710290878885, 15.938356227050077, 15.743814931214693, 15.461274860755138, 15.423424717149706, 15.16348880895532, 14.193750971526, 13.885384947482658, 13.874829220368769, 13.8246405010239, 13.756687676242269, 13.493422381759808, 13.028872641674713, 11.878240209227082, 11.522043243938953, 10.557449291953926, 9.522394920988566, 9.378062916397942, 9.085430250572209, 8.807343590351666, 44.840089376515536, 23.84169951596235, 26.705118777771755, 15.748044678483552, 292.4838028301207, 328.0145412429979, 98.97469472752996, 604.7438067491884, 496.4152084150975, 100.78818817335359, 83.78284639306065, 83.56495104632326, 76.5142617416421, 65.63614131658099, 26.46162243975197, 24.727003817826677, 16.312486976851268, 16.02814153877753, 14.91316816266909, 13.4425893148315, 11.800143314057705, 11.183750786246486, 10.09195796445126, 9.284614145345422, 24.705662903649408, 7.94099602551145, 7.542885496286894, 7.54254370964765, 7.491472417794867, 7.235296355239661, 7.234908590819125, 7.169791865627771, 7.017815356287294, 6.682658934685848, 6.619941363359264, 6.465613339782825, 6.299490632547594, 6.248420394399999, 26.50390106559128, 30.34231235966782, 19.79767980540499, 89.23952785031757, 13.375684284766274, 13.837990893551673, 37.790642035413384, 14.99903746932113, 103.5347442303748, 65.24489652379711, 496.4152084150975, 98.97469472752996, 89.25411629823567, 51.66354844385956, 45.42549344660714, 41.67600172259634, 27.691112499000017, 27.513451921699897, 22.69764383494331, 21.06969553519594, 20.579410728640784, 17.69853782503952, 17.405837506713215, 15.54683671397461, 14.21315727197564, 13.941768158766934, 13.904834861987718, 13.762496192077602, 13.454692099266083, 12.8973023766595, 12.807974930465656, 12.376966776110498, 12.266054858955712, 12.253826240417604, 10.545606376342056, 10.106887784530674, 10.05480576583322, 10.039734262665387, 9.887936739110579, 9.552776765686707, 8.702566198355917, 8.467697483332723, 96.51431742756398, 98.93491685781854, 13.464422679398506, 135.11876750019545, 362.05456532869925, 604.7438067491884, 76.9840961695037, 66.99427428459916, 41.00107503214264, 34.57040497065118, 32.63616043459523, 32.0566105106587, 25.944191974925438, 20.865660091450348, 18.887755786318063, 17.671943347149984, 15.922826315951761, 15.564287526279273, 13.956629567212403, 13.468547782923952, 12.068303277266434, 10.335240294550285, 10.240712409981928, 9.58403738623727, 9.36167003500471, 9.191520655705867, 8.58806201220511, 8.247164645481872, 8.089603532356438, 7.934710224851166, 7.4703630537654755, 7.303838759393404, 6.371495325978934, 6.356012865469377, 6.201273517581029, 5.58253423548495, 13.620936473992744, 496.4152084150975, 33.440834710920335, 9.242926598036675, 434.07655630434795, 55.74369584577333, 40.986498366508954, 37.278647811996464, 33.28501828230497, 33.18452751061804, 24.876828554416498, 22.957238104805707, 21.762262948271303, 19.922578409795122, 18.845704830813617, 18.48530086008111, 16.83205369649206, 14.73992351480359, 14.541603012805272, 14.314974428130965, 13.680467856169663, 13.357499031951509, 12.968098394386669, 12.852929031469335, 12.5405448554911, 12.380969315803744, 30.849723973429136, 11.628413485942033, 10.46250540943438, 10.364358895933751, 10.328517920347533, 9.92547790327437, 9.514303885341112, 9.074701671150233, 9.036100952614463, 32.480739368248905, 48.49383759444024, 20.908864349166922, 496.4152084150975, 362.05456532869925, 107.84630582130137, 15.837282443572727, 202.79073868560198, 96.51431742756398, 434.07655630434795, 89.5154478314289, 64.93722114672951, 40.56671211358839, 25.5602199530342, 25.203068456603383, 22.960922941460694, 20.069276271561872, 19.44343721113428, 18.503169727114905, 16.359424260361248, 15.671432535018898, 14.76525800814318, 14.663390289194233, 14.583809060138359, 14.114101521715005, 14.004736048224661, 13.30149647600306, 12.098282307703379, 11.602069632021937, 11.589902106069509, 11.315897578078467, 10.900928035647047, 10.806927825217484, 10.507446401827071, 9.99592752888038, 9.175022336847556, 8.506633305905162, 7.907335983131183, 7.840490361788271, 6.573354332697155, 25.534521925256808, 15.674392225494467, 146.18992626737327, 292.4838028301207, 51.09233844100369, 604.7438067491884, 124.31714579543873, 74.61174100075834, 65.57213409310455, 40.24720122425568, 35.10352951120279, 30.5367882500899, 27.750177849392543, 27.301776127167628, 21.12046422206808, 20.652020395260866, 17.63536148758348, 16.284691484917346, 15.968773470483226, 14.750845774382261, 14.674366718414898, 13.214083833933431, 10.172210188848883, 8.66602008687487, 8.493369469174654, 8.251196804066817, 7.493634963352963, 7.236774781772824, 7.025883959264415, 6.853086286326961, 6.837016537986055, 146.18992626737327, 6.519117517796589, 6.465060613952945, 19.27255702784707, 5.9578957724920025, 102.37929662276015, 66.04880744406097, 92.7972705401878, 10.79259593812475, 105.09245530238346, 17.933447297250268, 135.11876750019545, 496.4152084150975, 292.4838028301207, 31.001873118324067, 604.7438067491884, 93.51640179082928, 49.700610345450016, 43.775978776388165, 32.852348119891246, 29.77549972402589, 26.023179213777354, 23.24640183912611, 21.56939056345541, 21.323882273431924, 17.307772069330223, 16.59942407557956, 15.539262588306306, 15.474142215449968, 13.24489292994858, 12.847317914166306, 12.367619724153588, 11.682214230304686, 11.24699129114955, 10.998290545914514, 10.55209315761049, 9.473380364697514, 9.0913394625761, 8.507133060806218, 8.356114583163931, 8.024693929265059, 7.708751002635109, 7.325870688630821, 7.175859362490862, 7.174853638559765, 7.096677696682143, 39.30942597417153, 142.07031296791504, 51.09233844100369, 69.56814725770172, 52.50522268433882, 22.796889114532945, 16.006975223889, 61.85424713639691, 20.544542255606217, 362.05456532869925, 202.79073868560198, 604.7438067491884, 50.668345879549776, 292.4838028301207, 496.4152084150975, 133.91389674619404, 99.88368170445057, 83.13814094986259, 80.7495050143148, 62.27732719996075, 45.241119955761754, 37.560570212475014, 35.92069347092374, 31.564988881298703, 18.506601189987332, 17.115549748800255, 15.833746614723461, 13.996327591153149, 13.972967854391896, 11.859009212335044, 11.643626666760019, 11.189201358757186, 9.863851689021512, 9.86365898945512, 9.14036764700612, 8.739434144554737, 8.777378286240154, 8.334969079321189, 8.231352220497588, 6.706457912834833, 6.306206312795295, 6.252397542374064, 6.236631621896788, 6.2363805637664225, 6.078419128586472, 6.078064895847267, 39.57821398557451, 43.59670054677173, 18.305651845677595, 24.129686430724647, 23.668573327263566, 102.1757041924976, 15.20539519032864, 79.4562710075546, 604.7438067491884, 496.4152084150975, 434.07655630434795, 362.05456532869925, 133.91389674619404, 113.8825048641788, 33.27377242053036, 27.81289793631298, 26.78928581858773, 24.08162746217068, 21.42397044956113, 19.716414552901742, 19.050850148814582, 14.686689499106155, 14.595404433957754, 13.781737661067421, 13.518346361709238, 12.654600858306443, 11.715067252554416, 11.703174124698899, 11.543283410565074, 10.93272498612404, 10.623304833654055, 10.187946555430331, 9.950231225751569, 9.871069552850612, 9.577068259815132, 9.523183108499984, 9.458318962173738, 9.445712461379818, 9.141560793313062, 9.14100482833947, 8.968787649566453, 8.743659488654595, 8.27797287004886, 51.85298122168768, 27.43681219693154, 133.91389674619404, 91.00097501897618, 604.7438067491884, 202.79073868560198, 98.93491685781854, 73.94899027871723, 64.5632723530696, 496.4152084150975, 135.11876750019545, 249.34328490354648, 175.8634424143689, 170.12358042275207, 72.65193916733914, 60.229182773544004, 21.689597305719353, 19.034614502691145, 18.199067423851957, 16.79428463859195, 16.497384062701503, 15.270398198641173, 14.892987505409405, 14.666939434610002, 14.354535458562282, 13.619504452389233, 13.452917735231608, 11.97118958949517, 11.801427082703762, 11.408509706842738, 10.685787071103926, 10.463277357535736, 10.451795357159689, 9.59802585939208, 9.124839521828717, 8.954263058575922, 8.814347391690701, 8.720444676478632, 8.170383236314235, 7.37234883927906, 95.98692602607514, 12.451934891197077, 67.52012459163136, 28.3115297987964, 54.410543225050205, 25.483771229791028, 604.7438067491884, 496.4152084150975, 142.07031296791504, 362.05456532869925, 96.51431742756398, 61.85424713639691, 102.1757041924976, 103.5347442303748, 65.13753990373822, 49.50720749499206, 94.36121481309725, 53.128376096897235, 43.703606940978275, 42.82473578920833, 40.005248637353866, 31.56539523428857, 28.047418064065052, 27.582285038928447, 25.09220993084028, 23.255837901624886, 22.598810089594924, 22.082707436369965, 21.631652587589173, 18.758418908378562, 15.450238005472386, 14.999367450178763, 14.880995994337878, 13.549177759152624, 11.638639494446233, 11.479842061631608, 11.187568725290435, 10.85764321572248, 10.754701696830356, 10.201167556386538, 10.120280377940123, 9.734490413874582, 8.063183278023539, 7.6682226624249505, 7.574088945160032, 7.508895405854667, 25.972635333219603, 11.858920978491861, 11.332464138969463, 54.53760075816422, 66.3040758004814, 35.9575125750595, 27.941976304198676, 25.342646566892405, 24.9247474726928, 22.66522700428941, 21.019832422108276, 19.87628652384226, 19.755840082309824, 18.767899334623507, 18.72272066936448, 18.372167788833938, 15.761250818488207, 15.404837551872474, 14.740121250468047, 12.835436073269976, 12.08058447685026, 11.91065678819795, 11.514755333722794, 11.409346607317428, 11.322163493147977, 11.099948651824738, 10.756369531538667, 10.454471424856632, 9.851970795387844, 9.851491256929725, 9.669167856140628, 8.648644105214291, 8.648108265013667, 8.014519453392888, 58.40957382257862, 35.795845644817746, 33.440834710920335, 25.601600862840343, 14.484712925009031, 12.428579582350032, 101.53284176998149, 604.7438067491884, 496.4152084150975, 65.24489652379711, 67.75060059710196, 42.032204112724514, 40.39818229826015, 39.269529742910144, 30.093313383810145, 25.227942776784513, 20.17901060677735, 17.131356686962327, 16.50917507523795, 15.621123834132433, 14.59169034310309, 14.548792534417212, 13.28644013667823, 12.41685521862379, 11.19677139762362, 10.415094477846202, 10.018666845804082, 9.259390743016278, 8.904671308109789, 8.836540517398213, 8.176470383789614, 8.161294370279883, 7.608037861951252, 7.523969557259229, 7.432132060134558, 7.379687694430028, 6.689357806890246, 6.651054915430939, 6.650668366007077, 6.082244113061661, 15.872733213532001, 21.53925253601988, 21.0962025547961, 434.07655630434795, 64.5632723530696, 103.5347442303748, 49.50720749499206, 82.47234258438944, 66.42208066152428, 30.47407229346757, 27.664584703160024, 27.55023045161503, 26.555098693755724, 24.100786302280127, 23.741227326135615, 23.104936139493134, 20.21176192293872, 17.816371464256644, 16.875178224679765, 16.795294107380027, 14.751972754602132, 14.393754122444044, 14.099090662223485, 12.432523668223864, 11.852106487543708, 10.54649783100847, 10.309398598127093, 9.521016566073671, 9.143530868386666, 8.7858725634044, 8.525950484818853, 8.080753952014023, 7.152836321566171, 7.152645988506439, 7.152155947896313, 7.151909319142859, 7.122807747430655, 91.00097501897618, 59.518724644195885, 17.087427217903283, 21.818162279503532, 49.22394044839159, 13.179514438378071, 133.91389674619404, 36.641983848195196, 604.7438067491884, 362.05456532869925, 107.84630582130137, 86.14642941184017, 73.76707354200951, 31.267206472223368, 23.47972460567011, 19.584114214285297, 18.646545646782464, 18.0451900226771, 17.793532721280872, 16.13488428673032, 15.987236539191674, 15.45386771497276, 15.062438193154659, 14.615507407681337, 13.4966371765024, 13.427715684396624, 12.72736232455296, 12.1790927493045, 10.50534946972924, 9.580151637707102, 9.445514955602933, 8.952271064803028, 8.624513973583248, 8.6242643518641, 8.229910019050896, 8.07522704156582, 8.07502432500772, 7.786564054231263, 7.222551058203449, 7.1341984481196175, 6.898628329114513, 16.443952813138363, 105.09245530238346, 16.6415518056453, 35.34794139047025, 21.07293368691227, 21.221958585191437, 434.07655630434795, 292.4838028301207, 98.902268362867, 362.05456532869925, 128.37489387005348, 79.65725494423558, 64.81872873757806, 52.69879168383298, 38.84311950329502, 29.23701468510473, 21.973961868187697, 17.058372994976796, 15.413737864013104, 14.870184769214765, 14.505347609025376, 13.696293673356704, 12.432550872987298, 12.25843031106677, 11.430470793173198, 11.202502708946907, 11.084291199381578, 10.237615652125047, 9.674918660739282, 9.478477840806113, 9.185648394562131, 9.02994327005136, 8.367823353845798, 8.367818172214772, 7.68218402377479, 7.681490421186243, 7.41929026305402, 7.009727863546747, 6.941135866592033, 6.625087611022163, 98.902268362867, 52.67641160509233, 328.0145412429979, 23.193363184309803, 161.68633769034142, 17.76825179052543, 292.4838028301207, 44.07142729246573, 434.07655630434795, 98.97469472752996, 202.79073868560198, 54.496881753848406, 37.42134856862174, 29.48520473352767, 26.455374719452696, 24.218995973155288, 21.268072926446745, 21.023047379514157, 19.84191133775711, 18.79399050318392, 18.040720956596708, 17.147718374636845, 15.907372375332846, 14.96375278683896, 14.31543791375248, 12.721087986602491, 12.434602547244912, 12.37048550158162, 12.214721931913859, 11.71094363196518, 11.130052600945291, 10.806013521599006, 10.623720033841272, 10.43286961992871, 9.795609012045878, 9.266579603645646, 8.943052293671984, 8.875960301355612, 8.554459719133026, 8.010805839564062, 7.776241588541575, 83.27587892120337, 108.09867221136977, 15.671592880779116, 20.33387325913417, 17.150499113518425, 17.16370955460456, 49.41992789726742, 133.91389674619404, 65.24489652379711, 135.11876750019545, 604.7438067491884, 106.518097588029, 47.81622684564667, 44.83030205887665, 32.43390642591257, 24.31432385568567, 22.142313324966455, 20.17319836326132, 18.496287782597452, 18.16785570692922, 17.68730663394281, 16.91611198597696, 16.742128694314804, 14.573165582430942, 10.891735838831064, 10.717034094867, 10.47031081648833, 10.317642680980033, 10.317583493530595, 8.923285672146529, 8.907274990081705, 8.352717988612378, 8.688994930174712, 7.914611452674555, 7.754603312077764, 7.6967953831866796, 7.520983952464509, 7.360563462484685, 7.235937821769675, 7.1296384724465875, 6.937641978565578, 27.280699446477158, 28.46452143267627, 10.710910229277884, 67.96035576704058, 496.4152084150975, 434.07655630434795, 103.5347442303748, 48.49383759444024, 61.85424713639691, 292.4838028301207, 69.25291781484856, 53.84980339640202, 31.23151613422466, 28.805300802043984, 26.707157511222928, 25.401167321205136, 23.451210235122947, 23.220740677948132, 23.124748567478356, 22.993969287462246, 22.641490407847932, 20.82725169562892, 19.13060968630966, 18.39100221407242, 16.081669729154424, 14.216768517884963, 13.864001667055302, 12.279040214112976, 11.872081171210606, 11.481410595538053, 11.427229534184871, 11.147416563343128, 10.240686518302718, 10.069687628177872, 8.857482991301401, 8.857164939874973, 8.45105775104311, 75.28047128157239, 8.276506457534017, 8.04789031376986, 16.458270720953408, 30.60536501069355, 38.05054101207297, 18.867099303921957, 434.07655630434795, 604.7438067491884, 58.40957382257862, 202.79073868560198, 42.05914231405495, 40.056291640207306, 34.73543718660503, 32.8254486312019, 32.34273237473574, 28.844681147629252, 20.486414442286275, 19.431637846236256, 16.868489413081438, 16.6373929718189, 15.328020422260398, 13.801956204027245, 13.680565598004973, 13.243635853137008, 13.168325160564544, 12.769770864306903, 11.422860702683785, 10.025433657834192, 9.907551218060885, 8.628768522199405, 8.366196858210161, 8.301647237964422, 8.298709930036619, 8.283135962036186, 8.062373490638619, 7.729335893348895, 7.192809497793913, 7.1786817981770925, 6.609261391358771, 6.468157083952788, 12.144761260086808, 434.07655630434795, 496.4152084150975, 39.57821398557451, 47.07379799789631, 27.35838816025551, 27.24291156485911, 23.587276854200184, 22.144746400448202, 18.029917345209793, 15.211170423109088, 14.056442255582613, 13.884839918014503, 13.250025626536502, 12.941193215060567, 12.031025400908867, 11.948909776317828, 11.429846781655453, 11.314254952106591, 11.108450606419122, 10.838031762129365, 10.666958118231715, 10.600117520433503, 10.226494624722605, 10.211277495018033, 10.17365012994748, 10.159207908896054, 9.837035425508091, 9.668752466005987, 9.123380671045473, 9.055988557130942, 9.0040275591311, 8.96684422046206, 8.899655978038759, 22.804325606717416, 16.095708125875706, 51.85298122168768, 434.07655630434795, 49.22394044839159, 133.91389674619404, 86.76229645403075, 67.58721917710896, 37.488552899703336, 33.00588866140847, 29.822295645903253, 29.318050689784002, 28.268251958641752, 24.91904341412677, 22.720704382573206, 13.943740785957239, 13.314617718252208, 11.704399616247484, 9.703563626565842, 9.035378137633273, 8.985143644223381, 8.421865635443913, 7.681965159981273, 7.4386414626331225, 7.12160065277668, 6.879049240650022, 6.8781621951608125, 6.824796161863529, 6.704312278787258, 6.623102171118019, 6.489621620723479, 5.980258630740183, 5.578691396407823, 5.577451532860255, 5.524256910971714, 5.173611215357355, 33.02735669531298, 101.53284176998149, 20.929568246840844, 25.50311322083549, 49.50720749499206, 362.05456532869925, 604.7438067491884, 292.4838028301207, 67.52012459163136, 434.07655630434795, 35.34794139047025, 32.480739368248905, 111.62977673910659, 50.56227338672042, 42.45020981937536, 38.18863436941134, 36.36509319877912, 24.68287303584201, 18.77511169676499, 16.393544045413478, 14.77747216137806, 13.96390033507062, 13.341485353432695, 12.308102003889806, 12.194576681517963, 11.582563209954966, 10.783014967350013, 10.56387753622468, 10.490805535647226, 9.927131146768273, 8.846048167344366, 8.809233633625242, 7.969392095016167, 7.827192787672261, 7.511797021191498, 7.28093826256585, 6.746606859608837, 6.731909121961412, 6.428214414114889, 6.3618347964618005, 6.212112005477584, 6.2113377594565895, 23.00825958023075, 9.785063252924715, 16.19913519093451, 92.7972705401878, 604.7438067491884, 362.05456532869925, 434.07655630434795, 496.4152084150975, 107.84630582130137, 122.70553036952614, 40.73025600342519, 38.451785694990534, 35.21340174768214, 34.20194476062872, 32.830140527179225, 31.0443558381577, 29.40097063801566, 28.839964509347737, 28.8253632425088, 22.56427133496074, 27.751325717407248, 19.75295348296886, 18.29518103774458, 18.28055935460409, 18.236037060517113, 15.57982533050643, 15.230945311070627, 14.25025196469791, 13.34952023774328, 12.727292156505872, 12.082750725891334, 11.575051521963701, 11.437264039914329, 10.970137847526376, 10.689934820473736, 10.245774764009578, 10.15846623727349, 9.374235872856358, 8.75456155390362, 36.641983848195196, 26.270294046285564, 37.378887700146095, 202.79073868560198, 77.5633592286039, 56.51329802364373, 34.83513218830637, 29.63935209706559, 29.59083297457531, 23.10896274895162, 21.85071133719428, 20.860127622204292, 19.912865995347353, 18.46242408755713, 18.258712319663502, 16.373547383722727, 16.075831216209597, 16.045923620888164, 15.861015132040023, 15.823635992031372, 15.574318803908579, 14.904892293034179, 14.867475815025582, 13.681243018714968, 12.845249443978595, 12.605137827725569, 12.345089686448388, 12.33316972299377, 12.318673240056384, 11.719401104250693, 11.543654199977237, 11.324671228236902, 10.617881109193585, 10.210382330257836, 31.272622020162007, 37.790642035413384, 434.07655630434795, 61.107487645575006, 53.61437400587421, 44.58230287395572, 40.84872426456952, 37.22815456730928, 26.552109237767944, 22.51658091475617, 20.884170132283558, 19.736594825407593, 19.67138058326019, 19.58115600015361, 18.79002101546797, 17.755789905668546, 16.946332571191494, 15.73860458097399, 14.674207875456863, 13.137420635080298, 12.001352382714815, 11.002192400988555, 10.744005279995687, 9.056244377218853, 8.453439771908922, 8.347892293936743, 29.147119064126805, 8.214936368081142, 7.885388146452575, 7.559556240504358, 7.3333034546903, 7.3209174429650785, 7.1768241660657415, 15.704908968578973, 49.41992789726742, 101.53284176998149, 98.97469472752996, 604.7438067491884, 97.26217842454261, 65.15163803507973, 45.47121221943742, 41.843911881699626, 37.574102850304435, 33.433880233813696, 33.39186925611126, 29.14535111393131, 28.257000169637315, 27.121925565671688, 20.007941396446288, 20.05983565958108, 18.86035147100149, 17.29085020346363, 17.06886034046965, 15.88068766418727, 14.46607078809364, 13.145889944443637, 13.09594158115683, 12.976393925375502, 12.871354629578436, 11.946233321148616, 11.309330065288162, 10.677934650703717, 9.50035967587599, 8.954336862529765, 8.796820273221703, 8.284682643677844, 7.943401240082178, 7.514123938306816, 12.225255133001085, 31.779062145377644, 20.37855507257465, 292.4838028301207, 98.97469472752996, 16.745456477644105, 64.5632723530696, 98.36263615218117, 94.38851425596789, 51.843317143225995, 45.02007661965627, 22.762942308100296, 21.694913573591386, 20.037139873509354, 19.936347001500554, 19.58573771895515, 16.677836710514505, 16.665839880624773, 16.055616169881933, 15.49701604289417, 15.407819791495449, 15.176522523390693, 14.566156598561083, 13.348063135201418, 11.910442158186157, 11.277874171617594, 10.86335655936715, 9.504766626196437, 9.091680439210238, 8.692112619485451, 8.469404223981343, 8.212351951786356, 8.007071554806151, 6.518013859988626, 6.364601253752879, 6.130599991722289, 5.895715038998749, 9.737769500030481, 79.4562710075546, 15.61361583372183, 64.5632723530696, 604.7438067491884, 496.4152084150975, 362.05456532869925, 98.97469472752996, 43.70695163841806, 98.93491685781854, 88.68845765633387, 86.11064629301177, 66.87635080520178, 46.9895809082321, 46.441656384603604, 38.00580725634936, 35.573144475637775, 30.16492343464864, 29.985478300997052, 29.170403866302962, 28.338336641039852, 25.04694670221607, 24.534144154618772, 23.950516449712726, 23.566232584585393, 20.74731553283083, 18.24406183939586, 14.24281186488941, 12.85935484268138, 12.637903081238887, 10.841405314540697, 10.435310170517797, 10.431743653627771, 10.431607459681448, 10.157056923706154, 8.943554164646011, 8.435595796590528, 8.198636494162887, 7.508048813519833, 7.101323291748879, 38.71754124387672, 67.96035576704058, 27.49500822816891, 17.73833215991656, 65.9403124298065, 434.07655630434795, 496.4152084150975, 25.50311322083549, 103.5347442303748, 64.15984138933324, 66.91276987547297, 46.660232799218434, 46.42820203670366, 34.00243660930171, 32.06444041688029, 30.853678955652722, 29.368701153327343, 25.57808332232457, 20.474597454487235, 22.412754118082603, 18.29586063487762, 17.099043572583795, 16.23705560249209, 14.996504603358355, 14.782649609642958, 14.432718489452716, 13.556284704538365, 12.480887687091553, 11.88127142203228, 11.392030124038774, 11.163049841792072, 10.931194294327469, 10.68872736147645, 10.640192153583765, 9.971024602766374, 9.922625101526988, 9.321459027329968, 32.468622715592986, 9.168039997520486, 38.488382659225216, 73.94899027871723, 50.07384355753528, 17.82050486788441, 24.8746517702538, 65.24489652379711, 496.4152084150975, 604.7438067491884, 48.49383759444024, 39.1265148776647, 36.93747643725019, 33.62199425982475, 33.155733937225605, 31.601127633141743, 27.483120971504633, 26.352839514052786, 19.759888313643888, 18.10596999265157, 17.28394283223286, 16.55864037445366, 13.903168556175222, 13.426278071805925, 13.338408851001613, 12.524231960680895, 12.040149963210462, 11.05432130065119, 10.826113420818446, 10.470383828730744, 9.554129786876755, 8.751179027833643, 8.384213625233647, 8.26717000082157, 8.03599242522074, 7.834405372550805, 7.566097505403282, 7.335437717805078, 7.184720806044784, 7.133990957071683, 6.851816339565028, 65.9403124298065, 19.163662610830368, 31.001873118324067, 24.981488883750007, 95.98692602607514, 496.4152084150975, 102.1757041924976, 202.79073868560198, 107.84630582130137, 52.50522268433882, 64.1655260780251, 57.19462276481197, 50.268752002057354, 49.49278465193268, 46.56712858415841, 46.307397015875054, 42.93292782008633, 38.4240276480535, 37.276550703296806, 30.101319545947916, 23.603703929380814, 20.7342306520142, 19.300222862737176, 18.55909353529157, 17.2867245230934, 16.287337695300618, 15.802994345106525, 15.091540823180594, 13.513162155663206, 13.171776657777212, 10.844031526625647, 9.500508862402983, 9.382822805039233, 8.844844697884433, 29.908400535684205, 7.490058411190174, 7.266950325832202, 6.9377354051810585, 6.540504774293513, 6.214205098507556, 27.961117320321414, 20.54802466495372, 30.04776057832233, 18.999506941284142, 44.07142729246573, 102.1757041924976, 292.4838028301207, 434.07655630434795, 496.4152084150975, 47.06239930964026, 46.248094929716856, 36.24747691405702, 32.83319506838861, 32.60965706465356, 30.065601304466636, 20.190950690364108, 18.993290338076317, 18.523071161213995, 18.401826659823136, 18.32146599788278, 18.256535939039214, 17.760678331460916, 16.387267798410495, 16.185797842214537, 15.924086938939197, 15.674420148032693, 14.437574580832425, 14.198819073881365, 12.354327924241689, 12.051994829017989, 11.710063417624795, 11.297339293440606, 11.088627152346643, 10.587583213580713, 10.507423670810809, 8.691011968373287, 8.292988954548697, 8.265753049349833, 22.81235089969285, 28.85276829717588, 43.70695163841806, 50.668345879549776, 604.7438067491884, 135.11876750019545, 140.7361059503916, 77.99967313724652, 68.06617091748976, 41.065159926278184, 37.48744129454777, 22.07407570059639, 19.881152132089994, 19.001958622446104, 16.97619160086868, 16.84907073152032, 15.005373496031572, 14.16644894896551, 14.129608838961135, 13.899134032199937, 13.821844710904525, 12.352622681804705, 11.796111693429667, 11.577394964516015, 11.176343409654308, 10.80187671917279, 10.711406380358849, 9.383903952394686, 9.153711815317068, 8.934635074667785, 7.9817316120870165, 7.529349984466367, 7.425075360586053, 7.271648946653555, 7.206402524672412, 48.59562177186762, 39.45902775872235, 11.832089328676096, 9.453995872249005, 202.79073868560198, 101.53284176998149, 135.11876750019545, 134.2536441202295, 59.493334496319065, 59.13924762656495, 52.802398435029104, 32.27001596066638, 26.763909794911605, 26.531631587524856, 26.50224812931224, 23.753953026381307, 21.445618095823182, 17.666274638286325, 17.56366614714382, 14.56627179209841, 12.351446526636504, 12.1933463157459, 12.148086483653353, 11.006232892196497, 10.788740937914914, 10.637321064249207, 10.330374778640959, 9.712741723782393, 9.011216265899005, 9.008414746715113, 8.34430836710574, 8.307065807316889, 8.086735434135203, 8.08673030940499, 7.319362325726115, 6.998610008920554, 6.8331398726844315, 41.07562428625649, 26.080636893809196, 107.84630582130137, 102.37929662276015, 54.410543225050205, 434.07655630434795, 133.91389674619404, 59.518724644195885], \"Category\": [\"Default\", \"Default\", \"Default\", \"Default\", \"Default\", \"Default\", \"Default\", \"Default\", \"Default\", \"Default\", \"Default\", \"Default\", \"Default\", \"Default\", \"Default\", \"Default\", \"Default\", \"Default\", \"Default\", \"Default\", \"Default\", \"Default\", \"Default\", \"Default\", \"Default\", \"Default\", \"Default\", \"Default\", \"Default\", \"Default\", \"Topic1\", \"Topic1\", \"Topic1\", \"Topic1\", \"Topic1\", \"Topic1\", \"Topic1\", \"Topic1\", \"Topic1\", \"Topic1\", \"Topic1\", \"Topic1\", \"Topic1\", \"Topic1\", \"Topic1\", \"Topic1\", \"Topic1\", \"Topic1\", \"Topic1\", \"Topic1\", \"Topic1\", \"Topic1\", \"Topic1\", \"Topic1\", \"Topic1\", \"Topic1\", \"Topic1\", \"Topic1\", \"Topic1\", \"Topic1\", \"Topic1\", \"Topic1\", \"Topic1\", \"Topic1\", \"Topic1\", \"Topic1\", \"Topic1\", \"Topic1\", \"Topic2\", \"Topic2\", \"Topic2\", \"Topic2\", \"Topic2\", \"Topic2\", \"Topic2\", \"Topic2\", \"Topic2\", \"Topic2\", \"Topic2\", \"Topic2\", \"Topic2\", \"Topic2\", \"Topic2\", \"Topic2\", \"Topic2\", \"Topic2\", \"Topic2\", \"Topic2\", \"Topic2\", \"Topic2\", \"Topic2\", \"Topic2\", \"Topic2\", \"Topic2\", \"Topic2\", \"Topic2\", \"Topic2\", \"Topic2\", \"Topic2\", \"Topic2\", \"Topic2\", \"Topic2\", \"Topic2\", \"Topic2\", \"Topic2\", \"Topic2\", \"Topic3\", \"Topic3\", \"Topic3\", \"Topic3\", \"Topic3\", \"Topic3\", \"Topic3\", \"Topic3\", \"Topic3\", \"Topic3\", \"Topic3\", \"Topic3\", \"Topic3\", \"Topic3\", \"Topic3\", \"Topic3\", \"Topic3\", \"Topic3\", \"Topic3\", \"Topic3\", \"Topic3\", \"Topic3\", \"Topic3\", \"Topic3\", \"Topic3\", \"Topic3\", \"Topic3\", \"Topic3\", \"Topic3\", \"Topic3\", \"Topic3\", \"Topic3\", \"Topic3\", \"Topic3\", \"Topic3\", \"Topic3\", \"Topic3\", \"Topic3\", \"Topic4\", \"Topic4\", \"Topic4\", \"Topic4\", \"Topic4\", \"Topic4\", \"Topic4\", \"Topic4\", \"Topic4\", \"Topic4\", \"Topic4\", \"Topic4\", \"Topic4\", \"Topic4\", \"Topic4\", \"Topic4\", \"Topic4\", \"Topic4\", \"Topic4\", \"Topic4\", \"Topic4\", \"Topic4\", \"Topic4\", \"Topic4\", \"Topic4\", \"Topic4\", \"Topic4\", \"Topic4\", \"Topic4\", \"Topic4\", \"Topic4\", \"Topic4\", \"Topic4\", \"Topic4\", \"Topic4\", \"Topic4\", \"Topic4\", \"Topic4\", \"Topic4\", \"Topic4\", \"Topic4\", \"Topic5\", \"Topic5\", \"Topic5\", \"Topic5\", \"Topic5\", \"Topic5\", \"Topic5\", \"Topic5\", \"Topic5\", \"Topic5\", \"Topic5\", \"Topic5\", \"Topic5\", \"Topic5\", \"Topic5\", \"Topic5\", \"Topic5\", \"Topic5\", \"Topic5\", \"Topic5\", \"Topic5\", \"Topic5\", \"Topic5\", \"Topic5\", \"Topic5\", \"Topic5\", \"Topic5\", \"Topic5\", \"Topic5\", \"Topic5\", \"Topic5\", \"Topic5\", \"Topic5\", \"Topic5\", \"Topic5\", \"Topic5\", \"Topic5\", \"Topic5\", \"Topic5\", \"Topic6\", \"Topic6\", \"Topic6\", \"Topic6\", \"Topic6\", \"Topic6\", \"Topic6\", \"Topic6\", \"Topic6\", \"Topic6\", \"Topic6\", \"Topic6\", \"Topic6\", \"Topic6\", \"Topic6\", \"Topic6\", \"Topic6\", \"Topic6\", \"Topic6\", \"Topic6\", \"Topic6\", \"Topic6\", \"Topic6\", \"Topic6\", \"Topic6\", \"Topic6\", \"Topic6\", \"Topic6\", \"Topic6\", \"Topic6\", \"Topic6\", \"Topic6\", \"Topic6\", \"Topic6\", \"Topic6\", \"Topic6\", \"Topic6\", \"Topic6\", \"Topic6\", \"Topic6\", \"Topic6\", \"Topic7\", \"Topic7\", \"Topic7\", \"Topic7\", \"Topic7\", \"Topic7\", \"Topic7\", \"Topic7\", \"Topic7\", \"Topic7\", \"Topic7\", \"Topic7\", \"Topic7\", \"Topic7\", \"Topic7\", \"Topic7\", \"Topic7\", \"Topic7\", \"Topic7\", \"Topic7\", \"Topic7\", \"Topic7\", \"Topic7\", \"Topic7\", \"Topic7\", \"Topic7\", \"Topic7\", \"Topic7\", \"Topic7\", \"Topic7\", \"Topic7\", \"Topic7\", \"Topic7\", \"Topic7\", \"Topic7\", \"Topic7\", \"Topic8\", \"Topic8\", \"Topic8\", \"Topic8\", \"Topic8\", \"Topic8\", \"Topic8\", \"Topic8\", \"Topic8\", \"Topic8\", \"Topic8\", \"Topic8\", \"Topic8\", \"Topic8\", \"Topic8\", \"Topic8\", \"Topic8\", \"Topic8\", \"Topic8\", \"Topic8\", \"Topic8\", \"Topic8\", \"Topic8\", \"Topic8\", \"Topic8\", \"Topic8\", \"Topic8\", \"Topic8\", \"Topic8\", \"Topic8\", \"Topic8\", \"Topic8\", \"Topic8\", \"Topic8\", \"Topic8\", \"Topic9\", \"Topic9\", \"Topic9\", \"Topic9\", \"Topic9\", \"Topic9\", \"Topic9\", \"Topic9\", \"Topic9\", \"Topic9\", \"Topic9\", \"Topic9\", \"Topic9\", \"Topic9\", \"Topic9\", \"Topic9\", \"Topic9\", \"Topic9\", \"Topic9\", \"Topic9\", \"Topic9\", \"Topic9\", \"Topic9\", \"Topic9\", \"Topic9\", \"Topic9\", \"Topic9\", \"Topic9\", \"Topic9\", \"Topic9\", \"Topic9\", \"Topic9\", \"Topic9\", \"Topic9\", \"Topic9\", \"Topic9\", \"Topic9\", \"Topic9\", \"Topic9\", \"Topic9\", \"Topic10\", \"Topic10\", \"Topic10\", \"Topic10\", \"Topic10\", \"Topic10\", \"Topic10\", \"Topic10\", \"Topic10\", \"Topic10\", \"Topic10\", \"Topic10\", \"Topic10\", \"Topic10\", \"Topic10\", \"Topic10\", \"Topic10\", \"Topic10\", \"Topic10\", \"Topic10\", \"Topic10\", \"Topic10\", \"Topic10\", \"Topic10\", \"Topic10\", \"Topic10\", \"Topic10\", \"Topic10\", \"Topic10\", \"Topic10\", \"Topic10\", \"Topic10\", \"Topic10\", \"Topic10\", \"Topic10\", \"Topic10\", \"Topic11\", \"Topic11\", \"Topic11\", \"Topic11\", \"Topic11\", \"Topic11\", \"Topic11\", \"Topic11\", \"Topic11\", \"Topic11\", \"Topic11\", \"Topic11\", \"Topic11\", \"Topic11\", \"Topic11\", \"Topic11\", \"Topic11\", \"Topic11\", \"Topic11\", \"Topic11\", \"Topic11\", \"Topic11\", \"Topic11\", \"Topic11\", \"Topic11\", \"Topic11\", \"Topic11\", \"Topic11\", \"Topic11\", \"Topic11\", \"Topic11\", \"Topic11\", \"Topic11\", \"Topic11\", \"Topic11\", \"Topic11\", \"Topic11\", \"Topic11\", \"Topic11\", \"Topic11\", \"Topic11\", \"Topic12\", \"Topic12\", \"Topic12\", \"Topic12\", \"Topic12\", \"Topic12\", \"Topic12\", \"Topic12\", \"Topic12\", \"Topic12\", \"Topic12\", \"Topic12\", \"Topic12\", \"Topic12\", \"Topic12\", \"Topic12\", \"Topic12\", \"Topic12\", \"Topic12\", \"Topic12\", \"Topic12\", \"Topic12\", \"Topic12\", \"Topic12\", \"Topic12\", \"Topic12\", \"Topic12\", \"Topic12\", \"Topic12\", \"Topic12\", \"Topic12\", \"Topic12\", \"Topic12\", \"Topic12\", \"Topic12\", \"Topic12\", \"Topic12\", \"Topic12\", \"Topic12\", \"Topic12\", \"Topic12\", \"Topic12\", \"Topic12\", \"Topic12\", \"Topic12\", \"Topic12\", \"Topic13\", \"Topic13\", \"Topic13\", \"Topic13\", \"Topic13\", \"Topic13\", \"Topic13\", \"Topic13\", \"Topic13\", \"Topic13\", \"Topic13\", \"Topic13\", \"Topic13\", \"Topic13\", \"Topic13\", \"Topic13\", \"Topic13\", \"Topic13\", \"Topic13\", \"Topic13\", \"Topic13\", \"Topic13\", \"Topic13\", \"Topic13\", \"Topic13\", \"Topic13\", \"Topic13\", \"Topic13\", \"Topic13\", \"Topic13\", \"Topic13\", \"Topic13\", \"Topic13\", \"Topic13\", \"Topic13\", \"Topic13\", \"Topic13\", \"Topic13\", \"Topic13\", \"Topic13\", \"Topic13\", \"Topic13\", \"Topic13\", \"Topic14\", \"Topic14\", \"Topic14\", \"Topic14\", \"Topic14\", \"Topic14\", \"Topic14\", \"Topic14\", \"Topic14\", \"Topic14\", \"Topic14\", \"Topic14\", \"Topic14\", \"Topic14\", \"Topic14\", \"Topic14\", \"Topic14\", \"Topic14\", \"Topic14\", \"Topic14\", \"Topic14\", \"Topic14\", \"Topic14\", \"Topic14\", \"Topic14\", \"Topic14\", \"Topic14\", \"Topic14\", \"Topic14\", \"Topic14\", \"Topic14\", \"Topic14\", \"Topic14\", \"Topic14\", \"Topic14\", \"Topic14\", \"Topic14\", \"Topic14\", \"Topic14\", \"Topic14\", \"Topic14\", \"Topic15\", \"Topic15\", \"Topic15\", \"Topic15\", \"Topic15\", \"Topic15\", \"Topic15\", \"Topic15\", \"Topic15\", \"Topic15\", \"Topic15\", \"Topic15\", \"Topic15\", \"Topic15\", \"Topic15\", \"Topic15\", \"Topic15\", \"Topic15\", \"Topic15\", \"Topic15\", \"Topic15\", \"Topic15\", \"Topic15\", \"Topic15\", \"Topic15\", \"Topic15\", \"Topic15\", \"Topic15\", \"Topic15\", \"Topic15\", \"Topic15\", \"Topic15\", \"Topic15\", \"Topic15\", \"Topic15\", \"Topic15\", \"Topic15\", \"Topic15\", \"Topic15\", \"Topic15\", \"Topic15\", \"Topic15\", \"Topic15\", \"Topic15\", \"Topic15\", \"Topic16\", \"Topic16\", \"Topic16\", \"Topic16\", \"Topic16\", \"Topic16\", \"Topic16\", \"Topic16\", \"Topic16\", \"Topic16\", \"Topic16\", \"Topic16\", \"Topic16\", \"Topic16\", \"Topic16\", \"Topic16\", \"Topic16\", \"Topic16\", \"Topic16\", \"Topic16\", \"Topic16\", \"Topic16\", \"Topic16\", \"Topic16\", \"Topic16\", \"Topic16\", \"Topic16\", \"Topic16\", \"Topic16\", \"Topic16\", \"Topic16\", \"Topic16\", \"Topic16\", \"Topic16\", \"Topic17\", \"Topic17\", \"Topic17\", \"Topic17\", \"Topic17\", \"Topic17\", \"Topic17\", \"Topic17\", \"Topic17\", \"Topic17\", \"Topic17\", \"Topic17\", \"Topic17\", \"Topic17\", \"Topic17\", \"Topic17\", \"Topic17\", \"Topic17\", \"Topic17\", \"Topic17\", \"Topic17\", \"Topic17\", \"Topic17\", \"Topic17\", \"Topic17\", \"Topic17\", \"Topic17\", \"Topic17\", \"Topic17\", \"Topic17\", \"Topic17\", \"Topic17\", \"Topic17\", \"Topic17\", \"Topic17\", \"Topic17\", \"Topic17\", \"Topic17\", \"Topic17\", \"Topic17\", \"Topic18\", \"Topic18\", \"Topic18\", \"Topic18\", \"Topic18\", \"Topic18\", \"Topic18\", \"Topic18\", \"Topic18\", \"Topic18\", \"Topic18\", \"Topic18\", \"Topic18\", \"Topic18\", \"Topic18\", \"Topic18\", \"Topic18\", \"Topic18\", \"Topic18\", \"Topic18\", \"Topic18\", \"Topic18\", \"Topic18\", \"Topic18\", \"Topic18\", \"Topic18\", \"Topic18\", \"Topic18\", \"Topic18\", \"Topic18\", \"Topic18\", \"Topic18\", \"Topic18\", \"Topic18\", \"Topic18\", \"Topic18\", \"Topic18\", \"Topic19\", \"Topic19\", \"Topic19\", \"Topic19\", \"Topic19\", \"Topic19\", \"Topic19\", \"Topic19\", \"Topic19\", \"Topic19\", \"Topic19\", \"Topic19\", \"Topic19\", \"Topic19\", \"Topic19\", \"Topic19\", \"Topic19\", \"Topic19\", \"Topic19\", \"Topic19\", \"Topic19\", \"Topic19\", \"Topic19\", \"Topic19\", \"Topic19\", \"Topic19\", \"Topic19\", \"Topic19\", \"Topic19\", \"Topic19\", \"Topic19\", \"Topic19\", \"Topic19\", \"Topic19\", \"Topic19\", \"Topic19\", \"Topic19\", \"Topic19\", \"Topic19\", \"Topic19\", \"Topic19\", \"Topic20\", \"Topic20\", \"Topic20\", \"Topic20\", \"Topic20\", \"Topic20\", \"Topic20\", \"Topic20\", \"Topic20\", \"Topic20\", \"Topic20\", \"Topic20\", \"Topic20\", \"Topic20\", \"Topic20\", \"Topic20\", \"Topic20\", \"Topic20\", \"Topic20\", \"Topic20\", \"Topic20\", \"Topic20\", \"Topic20\", \"Topic20\", \"Topic20\", \"Topic20\", \"Topic20\", \"Topic20\", \"Topic20\", \"Topic20\", \"Topic20\", \"Topic20\", \"Topic20\", \"Topic20\", \"Topic20\", \"Topic20\", \"Topic20\", \"Topic20\", \"Topic20\", \"Topic20\", \"Topic21\", \"Topic21\", \"Topic21\", \"Topic21\", \"Topic21\", \"Topic21\", \"Topic21\", \"Topic21\", \"Topic21\", \"Topic21\", \"Topic21\", \"Topic21\", \"Topic21\", \"Topic21\", \"Topic21\", \"Topic21\", \"Topic21\", \"Topic21\", \"Topic21\", \"Topic21\", \"Topic21\", \"Topic21\", \"Topic21\", \"Topic21\", \"Topic21\", \"Topic21\", \"Topic21\", \"Topic21\", \"Topic21\", \"Topic21\", \"Topic21\", \"Topic21\", \"Topic21\", \"Topic21\", \"Topic21\", \"Topic21\", \"Topic21\", \"Topic21\", \"Topic21\", \"Topic21\", \"Topic21\", \"Topic22\", \"Topic22\", \"Topic22\", \"Topic22\", \"Topic22\", \"Topic22\", \"Topic22\", \"Topic22\", \"Topic22\", \"Topic22\", \"Topic22\", \"Topic22\", \"Topic22\", \"Topic22\", \"Topic22\", \"Topic22\", \"Topic22\", \"Topic22\", \"Topic22\", \"Topic22\", \"Topic22\", \"Topic22\", \"Topic22\", \"Topic22\", \"Topic22\", \"Topic22\", \"Topic22\", \"Topic22\", \"Topic22\", \"Topic22\", \"Topic22\", \"Topic22\", \"Topic22\", \"Topic22\", \"Topic22\", \"Topic22\", \"Topic22\", \"Topic22\", \"Topic22\", \"Topic22\", \"Topic22\", \"Topic23\", \"Topic23\", \"Topic23\", \"Topic23\", \"Topic23\", \"Topic23\", \"Topic23\", \"Topic23\", \"Topic23\", \"Topic23\", \"Topic23\", \"Topic23\", \"Topic23\", \"Topic23\", \"Topic23\", \"Topic23\", \"Topic23\", \"Topic23\", \"Topic23\", \"Topic23\", \"Topic23\", \"Topic23\", \"Topic23\", \"Topic23\", \"Topic23\", \"Topic23\", \"Topic23\", \"Topic23\", \"Topic23\", \"Topic23\", \"Topic23\", \"Topic23\", \"Topic23\", \"Topic23\", \"Topic23\", \"Topic23\", \"Topic23\", \"Topic23\", \"Topic23\", \"Topic23\", \"Topic24\", \"Topic24\", \"Topic24\", \"Topic24\", \"Topic24\", \"Topic24\", \"Topic24\", \"Topic24\", \"Topic24\", \"Topic24\", \"Topic24\", \"Topic24\", \"Topic24\", \"Topic24\", \"Topic24\", \"Topic24\", \"Topic24\", \"Topic24\", \"Topic24\", \"Topic24\", \"Topic24\", \"Topic24\", \"Topic24\", \"Topic24\", \"Topic24\", \"Topic24\", \"Topic24\", \"Topic24\", \"Topic24\", \"Topic24\", \"Topic24\", \"Topic24\", \"Topic24\", \"Topic24\", \"Topic24\", \"Topic24\", \"Topic24\", \"Topic24\", \"Topic25\", \"Topic25\", \"Topic25\", \"Topic25\", \"Topic25\", \"Topic25\", \"Topic25\", \"Topic25\", \"Topic25\", \"Topic25\", \"Topic25\", \"Topic25\", \"Topic25\", \"Topic25\", \"Topic25\", \"Topic25\", \"Topic25\", \"Topic25\", \"Topic25\", \"Topic25\", \"Topic25\", \"Topic25\", \"Topic25\", \"Topic25\", \"Topic25\", \"Topic25\", \"Topic25\", \"Topic25\", \"Topic25\", \"Topic25\", \"Topic25\", \"Topic25\", \"Topic25\", \"Topic25\", \"Topic26\", \"Topic26\", \"Topic26\", \"Topic26\", \"Topic26\", \"Topic26\", \"Topic26\", \"Topic26\", \"Topic26\", \"Topic26\", \"Topic26\", \"Topic26\", \"Topic26\", \"Topic26\", \"Topic26\", \"Topic26\", \"Topic26\", \"Topic26\", \"Topic26\", \"Topic26\", \"Topic26\", \"Topic26\", \"Topic26\", \"Topic26\", \"Topic26\", \"Topic26\", \"Topic26\", \"Topic26\", \"Topic26\", \"Topic26\", \"Topic26\", \"Topic26\", \"Topic26\", \"Topic26\", \"Topic26\", \"Topic26\", \"Topic27\", \"Topic27\", \"Topic27\", \"Topic27\", \"Topic27\", \"Topic27\", \"Topic27\", \"Topic27\", \"Topic27\", \"Topic27\", \"Topic27\", \"Topic27\", \"Topic27\", \"Topic27\", \"Topic27\", \"Topic27\", \"Topic27\", \"Topic27\", \"Topic27\", \"Topic27\", \"Topic27\", \"Topic27\", \"Topic27\", \"Topic27\", \"Topic27\", \"Topic27\", \"Topic27\", \"Topic27\", \"Topic27\", \"Topic27\", \"Topic27\", \"Topic27\", \"Topic27\", \"Topic27\", \"Topic27\", \"Topic27\", \"Topic27\", \"Topic27\", \"Topic27\", \"Topic27\", \"Topic27\", \"Topic27\", \"Topic28\", \"Topic28\", \"Topic28\", \"Topic28\", \"Topic28\", \"Topic28\", \"Topic28\", \"Topic28\", \"Topic28\", \"Topic28\", \"Topic28\", \"Topic28\", \"Topic28\", \"Topic28\", \"Topic28\", \"Topic28\", \"Topic28\", \"Topic28\", \"Topic28\", \"Topic28\", \"Topic28\", \"Topic28\", \"Topic28\", \"Topic28\", \"Topic28\", \"Topic28\", \"Topic28\", \"Topic28\", \"Topic28\", \"Topic28\", \"Topic28\", \"Topic28\", \"Topic28\", \"Topic28\", \"Topic28\", \"Topic28\", \"Topic28\", \"Topic28\", \"Topic28\", \"Topic29\", \"Topic29\", \"Topic29\", \"Topic29\", \"Topic29\", \"Topic29\", \"Topic29\", \"Topic29\", \"Topic29\", \"Topic29\", \"Topic29\", \"Topic29\", \"Topic29\", \"Topic29\", \"Topic29\", \"Topic29\", \"Topic29\", \"Topic29\", \"Topic29\", \"Topic29\", \"Topic29\", \"Topic29\", \"Topic29\", \"Topic29\", \"Topic29\", \"Topic29\", \"Topic29\", \"Topic29\", \"Topic29\", \"Topic29\", \"Topic29\", \"Topic29\", \"Topic29\", \"Topic29\", \"Topic30\", \"Topic30\", \"Topic30\", \"Topic30\", \"Topic30\", \"Topic30\", \"Topic30\", \"Topic30\", \"Topic30\", \"Topic30\", \"Topic30\", \"Topic30\", \"Topic30\", \"Topic30\", \"Topic30\", \"Topic30\", \"Topic30\", \"Topic30\", \"Topic30\", \"Topic30\", \"Topic30\", \"Topic30\", \"Topic30\", \"Topic30\", \"Topic30\", \"Topic30\", \"Topic30\", \"Topic30\", \"Topic30\", \"Topic30\", \"Topic30\", \"Topic30\", \"Topic30\", \"Topic31\", \"Topic31\", \"Topic31\", \"Topic31\", \"Topic31\", \"Topic31\", \"Topic31\", \"Topic31\", \"Topic31\", \"Topic31\", \"Topic31\", \"Topic31\", \"Topic31\", \"Topic31\", \"Topic31\", \"Topic31\", \"Topic31\", \"Topic31\", \"Topic31\", \"Topic31\", \"Topic31\", \"Topic31\", \"Topic31\", \"Topic31\", \"Topic31\", \"Topic31\", \"Topic31\", \"Topic31\", \"Topic31\", \"Topic31\", \"Topic31\", \"Topic31\", \"Topic31\", \"Topic31\", \"Topic31\", \"Topic32\", \"Topic32\", \"Topic32\", \"Topic32\", \"Topic32\", \"Topic32\", \"Topic32\", \"Topic32\", \"Topic32\", \"Topic32\", \"Topic32\", \"Topic32\", \"Topic32\", \"Topic32\", \"Topic32\", \"Topic32\", \"Topic32\", \"Topic32\", \"Topic32\", \"Topic32\", \"Topic32\", \"Topic32\", \"Topic32\", \"Topic32\", \"Topic32\", \"Topic32\", \"Topic32\", \"Topic32\", \"Topic32\", \"Topic32\", \"Topic32\", \"Topic32\", \"Topic32\", \"Topic32\", \"Topic32\", \"Topic32\", \"Topic32\", \"Topic33\", \"Topic33\", \"Topic33\", \"Topic33\", \"Topic33\", \"Topic33\", \"Topic33\", \"Topic33\", \"Topic33\", \"Topic33\", \"Topic33\", \"Topic33\", \"Topic33\", \"Topic33\", \"Topic33\", \"Topic33\", \"Topic33\", \"Topic33\", \"Topic33\", \"Topic33\", \"Topic33\", \"Topic33\", \"Topic33\", \"Topic33\", \"Topic33\", \"Topic33\", \"Topic33\", \"Topic33\", \"Topic33\", \"Topic33\", \"Topic33\", \"Topic33\", \"Topic33\", \"Topic33\", \"Topic33\", \"Topic33\", \"Topic33\", \"Topic33\", \"Topic33\", \"Topic33\", \"Topic34\", \"Topic34\", \"Topic34\", \"Topic34\", \"Topic34\", \"Topic34\", \"Topic34\", \"Topic34\", \"Topic34\", \"Topic34\", \"Topic34\", \"Topic34\", \"Topic34\", \"Topic34\", \"Topic34\", \"Topic34\", \"Topic34\", \"Topic34\", \"Topic34\", \"Topic34\", \"Topic34\", \"Topic34\", \"Topic34\", \"Topic34\", \"Topic34\", \"Topic34\", \"Topic34\", \"Topic34\", \"Topic34\", \"Topic34\", \"Topic34\", \"Topic34\", \"Topic34\", \"Topic34\", \"Topic34\", \"Topic34\", \"Topic34\", \"Topic34\", \"Topic34\", \"Topic35\", \"Topic35\", \"Topic35\", \"Topic35\", \"Topic35\", \"Topic35\", \"Topic35\", \"Topic35\", \"Topic35\", \"Topic35\", \"Topic35\", \"Topic35\", \"Topic35\", \"Topic35\", \"Topic35\", \"Topic35\", \"Topic35\", \"Topic35\", \"Topic35\", \"Topic35\", \"Topic35\", \"Topic35\", \"Topic35\", \"Topic35\", \"Topic35\", \"Topic35\", \"Topic35\", \"Topic35\", \"Topic35\", \"Topic35\", \"Topic35\", \"Topic35\", \"Topic35\", \"Topic35\", \"Topic35\", \"Topic35\", \"Topic35\", \"Topic35\", \"Topic35\", \"Topic36\", \"Topic36\", \"Topic36\", \"Topic36\", \"Topic36\", \"Topic36\", \"Topic36\", \"Topic36\", \"Topic36\", \"Topic36\", \"Topic36\", \"Topic36\", \"Topic36\", \"Topic36\", \"Topic36\", \"Topic36\", \"Topic36\", \"Topic36\", \"Topic36\", \"Topic36\", \"Topic36\", \"Topic36\", \"Topic36\", \"Topic36\", \"Topic36\", \"Topic36\", \"Topic36\", \"Topic36\", \"Topic36\", \"Topic36\", \"Topic36\", \"Topic36\", \"Topic36\", \"Topic36\", \"Topic36\", \"Topic36\", \"Topic36\", \"Topic36\", \"Topic36\", \"Topic36\", \"Topic37\", \"Topic37\", \"Topic37\", \"Topic37\", \"Topic37\", \"Topic37\", \"Topic37\", \"Topic37\", \"Topic37\", \"Topic37\", \"Topic37\", \"Topic37\", \"Topic37\", \"Topic37\", \"Topic37\", \"Topic37\", \"Topic37\", \"Topic37\", \"Topic37\", \"Topic37\", \"Topic37\", \"Topic37\", \"Topic37\", \"Topic37\", \"Topic37\", \"Topic37\", \"Topic37\", \"Topic37\", \"Topic37\", \"Topic37\", \"Topic37\", \"Topic37\", \"Topic37\", \"Topic37\", \"Topic37\", \"Topic37\", \"Topic37\", \"Topic37\", \"Topic37\", \"Topic38\", \"Topic38\", \"Topic38\", \"Topic38\", \"Topic38\", \"Topic38\", \"Topic38\", \"Topic38\", \"Topic38\", \"Topic38\", \"Topic38\", \"Topic38\", \"Topic38\", \"Topic38\", \"Topic38\", \"Topic38\", \"Topic38\", \"Topic38\", \"Topic38\", \"Topic38\", \"Topic38\", \"Topic38\", \"Topic38\", \"Topic38\", \"Topic38\", \"Topic38\", \"Topic38\", \"Topic38\", \"Topic38\", \"Topic38\", \"Topic38\", \"Topic38\", \"Topic38\", \"Topic38\", \"Topic38\", \"Topic39\", \"Topic39\", \"Topic39\", \"Topic39\", \"Topic39\", \"Topic39\", \"Topic39\", \"Topic39\", \"Topic39\", \"Topic39\", \"Topic39\", \"Topic39\", \"Topic39\", \"Topic39\", \"Topic39\", \"Topic39\", \"Topic39\", \"Topic39\", \"Topic39\", \"Topic39\", \"Topic39\", \"Topic39\", \"Topic39\", \"Topic39\", \"Topic39\", \"Topic39\", \"Topic39\", \"Topic39\", \"Topic39\", \"Topic39\", \"Topic39\", \"Topic39\", \"Topic39\", \"Topic39\", \"Topic39\", \"Topic39\", \"Topic40\", \"Topic40\", \"Topic40\", \"Topic40\", \"Topic40\", \"Topic40\", \"Topic40\", \"Topic40\", \"Topic40\", \"Topic40\", \"Topic40\", \"Topic40\", \"Topic40\", \"Topic40\", \"Topic40\", \"Topic40\", \"Topic40\", \"Topic40\", \"Topic40\", \"Topic40\", \"Topic40\", \"Topic40\", \"Topic40\", \"Topic40\", \"Topic40\", \"Topic40\", \"Topic40\", \"Topic40\", \"Topic40\", \"Topic40\", \"Topic40\", \"Topic40\", \"Topic40\", \"Topic40\", \"Topic40\", \"Topic40\", \"Topic40\", \"Topic40\"], \"logprob\": [30.0, 29.0, 28.0, 27.0, 26.0, 25.0, 24.0, 23.0, 22.0, 21.0, 20.0, 19.0, 18.0, 17.0, 16.0, 15.0, 14.0, 13.0, 12.0, 11.0, 10.0, 9.0, 8.0, 7.0, 6.0, 5.0, 4.0, 3.0, 2.0, 1.0, -2.6919000148773193, -3.219099998474121, -3.428100109100342, -3.428499937057495, -3.6061999797821045, -3.609499931335449, -3.717900037765503, -3.811500072479248, -3.8326001167297363, -3.860100030899048, -4.113900184631348, -4.128699779510498, -4.21560001373291, -4.270299911499023, -4.3383002281188965, -4.3383002281188965, -4.501200199127197, -4.526100158691406, -4.545599937438965, -4.583499908447266, -4.749499797821045, -4.793099880218506, -4.807400226593018, -4.8429999351501465, -4.880300045013428, -4.888199806213379, -4.888199806213379, -4.956200122833252, -4.997900009155273, -5.018700122833252, -4.305699825286865, -3.969099998474121, -3.2980000972747803, -4.481299877166748, -3.3447999954223633, -4.725900173187256, -4.825900077819824, -4.727499961853027, -2.619999885559082, -3.3138999938964844, -3.661900043487549, -3.829900026321411, -3.830899953842163, -3.877000093460083, -3.922600030899048, -4.204899787902832, -4.219600200653076, -4.289899826049805, -4.295499801635742, -4.352099895477295, -4.500999927520752, -4.539700031280518, -4.540599822998047, -4.583799839019775, -4.593999862670898, -4.6118998527526855, -4.645299911499023, -4.654200077056885, -4.695499897003174, -4.7754998207092285, -4.83489990234375, -4.877200126647949, -4.877200126647949, -2.9583001136779785, -5.01230001449585, -5.014699935913086, -5.088699817657471, -5.096199989318848, -3.957900047302246, -4.297399997711182, -3.578700065612793, -4.361400127410889, -4.208600044250488, -3.3236000537872314, -3.8805999755859375, -4.569699764251709, -2.178299903869629, -2.926500082015991, -3.0453999042510986, -3.610599994659424, -3.8120999336242676, -3.878200054168701, -4.087399959564209, -4.19950008392334, -4.403900146484375, -4.419300079345703, -4.430300235748291, -4.455900192260742, -4.484000205993652, -4.50570011138916, -4.700500011444092, -4.757999897003174, -4.809500217437744, -4.814899921417236, -4.818900108337402, -4.83519983291626, -4.842400074005127, -4.942399978637695, -4.990200042724609, -5.000199794769287, -5.019800186157227, -5.026899814605713, -5.031799793243408, -5.09060001373291, -5.32480001449585, -5.5005998611450195, -4.190700054168701, -3.6989998817443848, -2.4189000129699707, -4.724999904632568, -4.715199947357178, -3.660799980163574, -3.800100088119507, -4.8267998695373535, -2.2184998989105225, -3.069999933242798, -3.1577000617980957, -3.460099935531616, -3.619999885559082, -3.783799886703491, -3.783799886703491, -3.8956000804901123, -3.9251999855041504, -3.992500066757202, -4.198800086975098, -4.407899856567383, -4.437600135803223, -4.531199932098389, -4.619100093841553, -4.661600112915039, -4.725500106811523, -4.763999938964844, -4.886099815368652, -4.93149995803833, -4.936800003051758, -4.979100227355957, -4.029900074005127, -5.074999809265137, -5.162600040435791, -5.193399906158447, -5.325399875640869, -4.076099872589111, -5.343100070953369, -5.3653998374938965, -4.108500003814697, -4.42579984664917, -3.515899896621704, -4.344200134277344, -5.016300201416016, -3.974100112915039, -4.236800193786621, -3.6638998985290527, -4.439899921417236, -4.269999980926514, -4.691299915313721, -3.30679988861084, -3.579900026321411, -3.7799999713897705, -3.8041000366210938, -3.8666999340057373, -3.890199899673462, -3.8938000202178955, -4.063199996948242, -4.103000164031982, -4.1809000968933105, -4.252999782562256, -4.325500011444092, -4.338600158691406, -4.357900142669678, -4.360499858856201, -4.378600120544434, -4.4492998123168945, -4.472899913787842, -4.473700046539307, -4.47760009765625, -4.482900142669678, -4.503699779510498, -4.541500091552734, -4.641600131988525, -4.674799919128418, -4.770500183105469, -4.8846001625061035, -4.901599884033203, -4.9369001388549805, -4.971700191497803, -3.435499906539917, -4.098700046539307, -4.10099983215332, -4.550000190734863, -2.9128000736236572, -3.354599952697754, -4.4903998374938965, -4.4355998039245605, -4.450399875640869, -2.4779000282287598, -2.664599895477295, -2.66729998588562, -2.756500005722046, -2.911900043487549, -3.8424999713897705, -3.912899971008301, -4.349899768829346, -4.368599891662598, -4.445499897003174, -4.55679988861084, -4.697800159454346, -4.756400108337402, -4.86929988861084, -4.9618000984191895, -3.9835000038146973, -5.137800216674805, -5.196499824523926, -5.196499824523926, -5.2042999267578125, -5.24429988861084, -5.24429988861084, -5.254799842834473, -5.2795000076293945, -5.336400032043457, -5.347400188446045, -5.375100135803223, -5.405700206756592, -5.415299892425537, -3.974900007247925, -3.8664000034332275, -4.289999961853027, -2.857800006866455, -4.682700157165527, -4.771599769592285, -4.013800144195557, -4.822700023651123, -4.558199882507324, -4.841800212860107, -4.667399883270264, -4.878300189971924, -2.541300058364868, -3.095900058746338, -3.2272000312805176, -3.3152999877929688, -3.7360000610351562, -3.7427000999450684, -3.9428000450134277, -4.020599842071533, -4.045300006866455, -4.204100131988525, -4.221700191497803, -4.341700077056885, -4.4375, -4.458199977874756, -4.460999965667725, -4.472099781036377, -4.496399879455566, -4.542099952697754, -4.549600124359131, -4.586599826812744, -4.596399784088135, -4.597499847412109, -4.76140022277832, -4.808199882507324, -4.813899993896484, -4.8155999183654785, -4.832499980926514, -4.870699882507324, -4.974800109863281, -5.0055999755859375, -3.032599925994873, -3.4277000427246094, -4.702700138092041, -3.801100015640259, -3.6805999279022217, -4.1707000732421875, -2.4588000774383545, -2.599600076675415, -3.099900007247925, -3.274899959564209, -3.334199905395508, -3.35260009765625, -3.571500062942505, -3.7987000942230225, -3.9033000469207764, -3.9735000133514404, -4.084000110626221, -4.10830020904541, -4.224899768829346, -4.263199806213379, -4.381800174713135, -4.551400184631348, -4.561500072479248, -4.634900093078613, -4.660999774932861, -4.68149995803833, -4.757599830627441, -4.803299903869629, -4.825099945068359, -4.847099781036377, -4.915900230407715, -4.941800117492676, -5.1006999015808105, -5.103499889373779, -5.132599830627441, -5.2581000328063965, -4.513299942016602, -3.574899911880493, -4.726799964904785, -5.035299777984619, -4.625899791717529, -2.980600118637085, -3.2945001125335693, -3.391700029373169, -3.50819993019104, -3.5113000869750977, -3.8094000816345215, -3.8931000232696533, -3.948899984359741, -4.041500091552734, -4.099899768829346, -4.120299816131592, -4.219399929046631, -4.3607001304626465, -4.375199794769287, -4.392000198364258, -4.440700054168701, -4.466400146484375, -4.498300075531006, -4.507900238037109, -4.5345001220703125, -4.548399925231934, -3.6387999057769775, -4.616600036621094, -4.7322998046875, -4.742700099945068, -4.746500015258789, -4.79040002822876, -4.837399959564209, -4.890100002288818, -4.894899845123291, -3.773699998855591, -3.6691999435424805, -4.292200088500977, -3.5571999549865723, -4.072700023651123, -4.3383002281188965, -4.667099952697754, -4.334799766540527, -4.557799816131592, -4.533999919891357, -2.447000026702881, -2.7720999717712402, -3.2516000270843506, -3.727799892425537, -3.7423999309539795, -3.8394999504089355, -3.9804000854492188, -4.013599872589111, -4.065800189971924, -4.196199893951416, -4.241799831390381, -4.3053998947143555, -4.31279993057251, -4.318600177764893, -4.353700160980225, -4.362100124359131, -4.417500019073486, -4.519999980926514, -4.5655999183654785, -4.566699981689453, -4.592800140380859, -4.633699893951416, -4.643199920654297, -4.674099922180176, -4.729100227355957, -4.8242998123168945, -4.909200191497803, -4.9918999671936035, -5.001500129699707, -5.204899787902832, -4.0269999504089355, -4.479599952697754, -3.9277000427246094, -3.8989999294281006, -4.562300205230713, -4.405399799346924, -2.4769999980926514, -2.992799997329712, -3.123699903488159, -3.6212000846862793, -3.7614998817443848, -3.9049999713897705, -4.004000186920166, -4.020899772644043, -4.2881999015808105, -4.311699867248535, -4.478000164031982, -4.562399864196777, -4.5833001136779785, -4.667900085449219, -4.673399925231934, -4.785999774932861, -5.071199893951416, -5.249599933624268, -5.272299766540527, -5.304999828338623, -5.414599895477295, -5.454699993133545, -5.488800048828125, -5.5177001953125, -5.520400047302246, -2.462899923324585, -5.576000213623047, -5.5858001708984375, -4.502200126647949, -5.682400226593018, -2.840100049972534, -3.342099905014038, -3.0687999725341797, -5.174799919128418, -3.8022000789642334, -4.946700096130371, -4.307799816131592, -3.84660005569458, -4.355199813842773, -5.098100185394287, -5.125199794769287, -2.806999921798706, -3.4482998847961426, -3.577899932861328, -3.8724000453948975, -3.973900079727173, -4.113399982452393, -4.230800151824951, -4.309000015258789, -4.321000099182129, -4.540599822998047, -4.58489990234375, -4.655099868774414, -4.659599781036377, -4.826300144195557, -4.8592000007629395, -4.900400161743164, -4.962299823760986, -5.003699779510498, -5.028200149536133, -5.073699951171875, -5.19290018081665, -5.238800048828125, -5.313399791717529, -5.333600044250488, -5.37939977645874, -5.425099849700928, -5.483500003814697, -5.507299900054932, -5.507500171661377, -5.520199775695801, -3.870699882507324, -2.687000036239624, -3.65910005569458, -3.4030001163482666, -3.6963000297546387, -4.486999988555908, -4.826700210571289, -3.842900037765503, -4.750800132751465, -3.2588999271392822, -3.602299928665161, -3.2014999389648438, -4.633600234985352, -4.592899799346924, -4.690999984741211, -4.851399898529053, -2.5989999771118164, -2.78439998626709, -2.8138999938964844, -3.077199935913086, -3.4026999473571777, -3.5931999683380127, -3.6389999389648438, -3.7720999717712402, -4.3282999992370605, -4.410799980163574, -4.493500232696533, -4.62529993057251, -4.627099990844727, -4.804299831390381, -4.8242998123168945, -4.867700099945068, -5.006400108337402, -5.006400108337402, -5.091100215911865, -5.14139986038208, -5.1381001472473145, -5.194699764251709, -5.208899974822998, -5.4440999031066895, -5.516200065612793, -5.526299953460693, -5.529300212860107, -5.529399871826172, -5.559700012207031, -5.559800148010254, -3.716900110244751, -3.6298000812530518, -4.523399829864502, -4.340700149536133, -4.387400150299072, -3.348400115966797, -4.84060001373291, -4.063899993896484, -3.2802000045776367, -3.5804998874664307, -3.919600009918213, -4.287899971008301, -4.750199794769287, -2.298099994659424, -3.5492000579833984, -3.734299898147583, -3.773200035095215, -3.8838999271392822, -4.00600004196167, -4.093100070953369, -4.129199981689453, -4.405200004577637, -4.411900043487549, -4.473400115966797, -4.494200229644775, -4.565400123596191, -4.649099826812744, -4.650199890136719, -4.665200233459473, -4.724599838256836, -4.756100177764893, -4.802199840545654, -4.8282999992370605, -4.837100028991699, -4.870699882507324, -4.8769001960754395, -4.884500026702881, -4.886000156402588, -4.922500133514404, -4.922599792480469, -4.94379997253418, -4.972300052642822, -5.033999919891357, -3.365999937057495, -3.9993999004364014, -3.1928000450134277, -4.080999851226807, -3.4567999839782715, -4.217100143432617, -4.441400051116943, -4.599899768829346, -4.6529998779296875, -4.635200023651123, -4.821899890899658, -2.0334999561309814, -2.384200096130371, -2.41759991645813, -3.276099920272827, -3.466399908065796, -4.5167999267578125, -4.653800010681152, -4.701099872589111, -4.786099910736084, -4.804999828338623, -4.88730001449585, -4.914000034332275, -4.930300235748291, -4.953400135040283, -5.009799957275391, -5.023099899291992, -5.1493000984191895, -5.16480016708374, -5.201700210571289, -5.273399829864502, -5.296500205993652, -5.297699928283691, -5.391900062561035, -5.448200225830078, -5.469299793243408, -5.486999988555908, -5.499000072479248, -5.572500228881836, -5.689700126647949, -3.1354000568389893, -5.224999904632568, -3.772900104522705, -4.520699977874756, -4.002999782562256, -4.662899971008301, -3.138400077819824, -3.281399965286255, -3.9507999420166016, -3.5322999954223633, -4.357100009918213, -4.686100006103516, -4.596700191497803, -4.6168999671936035, -4.802499771118164, -5.002999782562256, -2.3893001079559326, -2.97160005569458, -3.1709001064300537, -3.191699981689453, -3.261399984359741, -3.5048999786376953, -3.627000093460083, -3.6442999839782715, -3.742500066757202, -3.8215999603271484, -3.8515000343322754, -3.875699996948242, -3.8973000049591064, -4.046899795532227, -4.252500057220459, -4.28410005569458, -4.292500019073486, -4.393099784851074, -4.557600021362305, -4.5725998878479, -4.600800037384033, -4.633500099182129, -4.644000053405762, -4.702099800109863, -4.710899829864502, -4.753900051116943, -4.965099811553955, -5.022299766540527, -5.036399841308594, -5.046299934387207, -4.076300144195557, -4.8744001388549805, -4.989500045776367, -4.953000068664551, -2.804500102996826, -3.428800106048584, -3.6888999938964844, -3.7901999950408936, -3.807499885559082, -3.9065001010894775, -3.985300064086914, -4.044000148773193, -4.0503997802734375, -4.104400157928467, -4.106900215148926, -4.1269001960754395, -4.289299964904785, -4.313600063323975, -4.3607001304626465, -4.509900093078613, -4.575099945068359, -4.5904998779296875, -4.627299785614014, -4.63730001449585, -4.645699977874756, -4.667399883270264, -4.701900005340576, -4.733099937438965, -4.798699855804443, -4.798699855804443, -4.819399833679199, -4.943999767303467, -4.9440999031066895, -5.030099868774414, -3.1823999881744385, -3.700700044631958, -3.779900074005127, -4.039299964904785, -4.510000228881836, -4.664000034332275, -4.013000011444092, -3.5485999584198, -4.068699836730957, -4.520699977874756, -2.5924999713897705, -3.078700065612793, -3.11929988861084, -3.1482999324798584, -3.422100067138672, -3.60479998588562, -3.8380000591278076, -4.010700225830078, -4.049900054931641, -4.108699798583984, -4.18149995803833, -4.184599876403809, -4.282100200653076, -4.355199813842773, -4.467800140380859, -4.5472002029418945, -4.590000152587891, -4.677499771118164, -4.721199989318848, -4.729800224304199, -4.817200183868408, -4.819300174713135, -4.899199962615967, -4.9120001792907715, -4.926000118255615, -4.934199810028076, -5.047900199890137, -5.054599761962891, -5.054599761962891, -5.159800052642822, -4.36959981918335, -4.13700008392334, -4.598999977111816, -3.683500051498413, -4.508999824523926, -4.543300151824951, -4.674200057983398, -2.647900104522705, -2.8671998977661133, -3.6637001037597656, -3.763700008392334, -3.7679998874664307, -3.8062000274658203, -3.9070000648498535, -3.922600030899048, -3.950900077819824, -4.09089994430542, -4.223800182342529, -4.281199932098389, -4.286200046539307, -4.4243998527526855, -4.450699806213379, -4.472899913787842, -4.608500003814697, -4.660399913787842, -4.788000106811523, -4.813000202178955, -4.901100158691406, -4.946199893951416, -4.990900039672852, -5.024600028991699, -5.08519983291626, -5.224800109863281, -5.224800109863281, -5.224899768829346, -5.224899768829346, -5.229599952697754, -2.784899950027466, -3.3134000301361084, -4.487299919128418, -4.335599899291992, -3.947000026702881, -4.945300102233887, -4.661799907684326, -4.845300197601318, -4.580599784851074, -4.745800018310547, -4.8871002197265625, -2.609800100326538, -2.766400098800659, -3.6428000926971436, -3.93969988822937, -4.1296000480651855, -4.181300163269043, -4.21589994430542, -4.2307000160217285, -4.334400177001953, -4.344200134277344, -4.380300045013428, -4.407700061798096, -4.440299987792969, -4.525300025939941, -4.530900001525879, -4.588699817657471, -4.63640022277832, -4.797900199890137, -4.899799823760986, -4.915500164031982, -4.975399971008301, -5.017199993133545, -5.017300128936768, -5.070099830627441, -5.091599941253662, -5.091599941253662, -5.132999897003174, -5.219099998474121, -5.23330020904541, -5.272200107574463, -4.4695000648498535, -2.78629994392395, -4.505899906158447, -3.892400026321411, -4.390200138092041, -4.651000022888184, -3.5434000492095947, -3.739799976348877, -4.379199981689453, -4.509699821472168, -2.5237998962402344, -3.0055999755859375, -3.2144999504089355, -3.424999952316284, -3.7367000579833984, -4.029099941253662, -4.326000213623047, -4.592299938201904, -4.700099945068359, -4.738399982452393, -4.764900207519531, -4.826499938964844, -4.931000232696533, -4.946300029754639, -5.02239990234375, -5.044400215148926, -5.056000232696533, -5.1433000564575195, -5.2058000564575195, -5.228600025177002, -5.263599872589111, -5.282700061798096, -5.368199825286865, -5.368199825286865, -5.4653000831604, -5.465400218963623, -5.505199909210205, -5.5706000328063965, -5.581999778747559, -5.636300086975098, -2.9477999210357666, -3.5852999687194824, -1.867400050163269, -4.540200233459473, -3.3815999031066895, -4.897200107574463, -3.830199956893921, -4.770199775695801, -4.071100234985352, -4.5295000076293945, -4.926000118255615, -3.0439999103546143, -3.428100109100342, -3.6735000610351562, -3.785799980163574, -3.8775999546051025, -4.013299942016602, -4.025400161743164, -4.086100101470947, -4.143199920654297, -4.186299800872803, -4.239999771118164, -4.319699764251709, -4.384900093078613, -4.432300090789795, -4.5594000816345215, -4.584000110626221, -4.589600086212158, -4.603400230407715, -4.649199962615967, -4.704699993133545, -4.736999988555908, -4.75570011138916, -4.775700092315674, -4.845300197601318, -4.9070000648498535, -4.946700096130371, -4.9552001953125, -4.996600151062012, -5.070799827575684, -5.104700088500977, -2.8464999198913574, -2.6285998821258545, -4.546199798583984, -4.396399974822998, -4.518700122833252, -4.589600086212158, -4.192500114440918, -4.143599987030029, -4.545000076293945, -4.652200222015381, -4.638899803161621, -2.3215999603271484, -3.133699893951416, -3.19950008392334, -3.531599998474121, -3.829900026321411, -3.927500009536743, -4.025100231170654, -4.116399765014648, -4.135300159454346, -4.163599967956543, -4.2108001708984375, -4.221700191497803, -4.369500160217285, -4.684700012207031, -4.702499866485596, -4.728099822998047, -4.744200229644775, -4.744200229644775, -4.9054999351501465, -4.90749979019165, -4.979800224304199, -4.940700054168701, -5.040900230407715, -5.0640997886657715, -5.072700023651123, -5.099100112915039, -5.123799800872803, -5.143499851226807, -5.1605000495910645, -5.1921000480651855, -3.8986001014709473, -3.9846999645233154, -4.823999881744385, -4.380000114440918, -3.814500093460083, -3.8589000701904297, -4.593999862670898, -4.760900020599365, -4.800600051879883, -4.884500026702881, -2.861299991607666, -3.1191999912261963, -3.674799919128418, -3.7583000659942627, -3.8366000652313232, -3.888700008392334, -3.9718000888824463, -3.982100009918213, -3.9863998889923096, -3.9923999309539795, -4.008500099182129, -4.095799922943115, -4.185100078582764, -4.226600170135498, -4.36870002746582, -4.50029993057251, -4.527299880981445, -4.658299922943115, -4.694900035858154, -4.731299877166748, -4.736499786376953, -4.763599872589111, -4.8566999435424805, -4.87529993057251, -5.018099784851074, -5.018099784851074, -5.070899963378906, -2.885699987411499, -5.094399929046631, -5.126200199127197, -4.436600208282471, -3.8524999618530273, -3.937299966812134, -4.501999855041504, -3.4344000816345215, -3.847899913787842, -4.543900012969971, -4.650100231170654, -3.0390000343322754, -3.0889999866485596, -3.235300064086914, -3.2934999465942383, -3.3087000846862793, -3.4268999099731445, -3.7832000255584717, -3.83870005607605, -3.98799991607666, -4.002699851989746, -4.089900016784668, -4.202099800109863, -4.211599826812744, -4.246600151062012, -4.252699851989746, -4.285900115966797, -4.406899929046631, -4.55019998550415, -4.563300132751465, -4.71750020980835, -4.752299785614014, -4.761099815368652, -4.761499881744385, -4.763599872589111, -4.7941999435424805, -4.842199802398682, -4.924699783325195, -4.927000045776367, -5.022900104522705, -5.0482001304626465, -4.547999858856201, -3.7246999740600586, -4.415800094604492, -4.9145002365112305, -3.0099000930786133, -3.567699909210205, -3.5720999240875244, -3.7218000888824463, -3.7876999378204346, -4.003600120544434, -4.184000015258789, -4.268499851226807, -4.281700134277344, -4.332099914550781, -4.357500076293945, -4.436500072479248, -4.443900108337402, -4.492300033569336, -4.503399848937988, -4.523499965667725, -4.55049991607666, -4.56790018081665, -4.57480001449585, -4.614299774169922, -4.616000175476074, -4.620100021362305, -4.621600151062012, -4.657299995422363, -4.676400184631348, -4.741000175476074, -4.749300003051758, -4.755799770355225, -4.76039981842041, -4.768799781799316, -4.103400230407715, -4.5258002281188965, -4.349299907684326, -3.9697999954223633, -4.687699794769287, -4.674099922180176, -2.4779000282287598, -2.730799913406372, -3.3317999839782715, -3.4626998901367188, -3.5673000812530518, -3.5850000381469727, -3.6226999759674072, -3.753499984741211, -3.8496999740600586, -4.366000175476074, -4.415599822998047, -4.555200099945068, -4.761199951171875, -4.840700149536133, -4.84689998626709, -4.9197001457214355, -5.02400016784668, -5.0609002113342285, -5.111000061035156, -5.151100158691406, -5.151299953460693, -5.160299777984619, -5.181099891662598, -5.195300102233887, -5.219200134277344, -5.315700054168701, -5.39900016784668, -5.3993000984191895, -5.410900115966797, -5.490699768066406, -3.7709999084472656, -2.9339001178741455, -4.338799953460693, -4.269499778747559, -4.125100135803223, -3.830399990081787, -3.8266000747680664, -4.173900127410889, -4.687099933624268, -4.365200042724609, -4.910799980163574, -5.019199848175049, -2.162100076675415, -2.964600086212158, -3.1431000232696533, -3.251499891281128, -3.3017001152038574, -3.7021000385284424, -3.9883999824523926, -4.131899833679199, -4.242499828338623, -4.303199768066406, -4.352200031280518, -4.439300060272217, -4.449399948120117, -4.50540018081665, -4.583600044250488, -4.606200218200684, -4.613800048828125, -4.674799919128418, -4.803199768066406, -4.8078999519348145, -4.921000003814697, -4.941500186920166, -4.988500118255615, -5.0243000984191895, -5.112599849700928, -5.115200042724609, -5.1691999435424805, -5.181399822235107, -5.209499835968018, -5.20959997177124, -4.041200160980225, -4.919400215148926, -4.7241997718811035, -4.036499977111816, -3.356300115585327, -3.7439000606536865, -4.226399898529053, -4.531499862670898, -4.916299819946289, -2.2204999923706055, -3.339200019836426, -3.398200035095215, -3.488600015640259, -3.5185000896453857, -3.560699939727783, -3.618299961090088, -3.674499988555908, -3.6944000720977783, -3.694999933242798, -3.949399948120117, -3.7434000968933105, -4.088799953460693, -4.16949987411499, -4.170400142669678, -4.172999858856201, -4.339900016784668, -4.363999843597412, -4.435200214385986, -4.50540018081665, -4.5569000244140625, -4.6132001876831055, -4.659900188446045, -4.672999858856201, -4.718599796295166, -4.747000217437744, -4.793700218200684, -4.803100109100342, -4.892199993133545, -4.968699932098389, -3.739500045776367, -4.091700077056885, -3.9379000663757324, -4.309299945831299, -2.6008999347686768, -2.9221999645233154, -3.416800022125244, -3.5833001136779785, -3.5850000381469727, -3.841599941253662, -3.900099992752075, -3.948699951171875, -3.9974000453948975, -4.077000141143799, -4.088799953460693, -4.204100131988525, -4.223599910736084, -4.225599765777588, -4.2378997802734375, -4.2403998374938965, -4.257299900054932, -4.304200172424316, -4.3069000244140625, -4.395999908447266, -4.464000225067139, -4.484399795532227, -4.506999969482422, -4.507999897003174, -4.509300231933594, -4.563499927520752, -4.579999923706055, -4.600900173187256, -4.671500205993652, -4.7144999504089355, -3.7683000564575195, -4.536799907684326, -4.414599895477295, -2.8066000938415527, -2.93969988822937, -3.1277999877929688, -3.217400074005127, -3.3124001026153564, -3.6610000133514404, -3.8326001167297363, -3.911400079727173, -3.9707000255584717, -3.974100112915039, -3.9790000915527344, -4.02239990234375, -4.082099914550781, -4.131499767303467, -4.210000038146973, -4.284800052642822, -4.403600215911865, -4.501500129699707, -4.59630012512207, -4.622399806976318, -4.811600208282471, -4.888999938964844, -4.90310001373291, -3.65310001373291, -4.921299934387207, -4.967800140380859, -5.015900135040283, -5.05079984664917, -5.052700042724609, -5.0756001472473145, -4.310500144958496, -3.453200101852417, -4.293300151824951, -4.458799839019775, -4.093100070953369, -2.4962000846862793, -2.9017999172210693, -3.267899990081787, -3.3529000282287598, -3.463200092315674, -3.583199977874756, -3.5845000743865967, -3.7248001098632812, -3.7567999362945557, -3.799299955368042, -4.116600036621094, -4.114200115203857, -4.178699970245361, -4.270400047302246, -4.28410005569458, -4.3607001304626465, -4.460299968719482, -4.563199996948242, -4.567299842834473, -4.577199935913086, -4.585899829864502, -4.666800022125244, -4.726500034332275, -4.789400100708008, -4.918499946594238, -4.984600067138672, -5.00439977645874, -5.072000026702881, -5.119699954986572, -5.18310022354126, -4.758699893951416, -4.049200057983398, -4.540599822998047, -3.928499937057495, -4.529399871826172, -4.8867998123168945, -4.864999771118164, -2.4976000785827637, -2.539599895477295, -3.146899938583374, -3.2908999919891357, -3.99429988861084, -4.044600009918213, -4.127900123596191, -4.133200168609619, -4.151800155639648, -4.321499824523926, -4.322299957275391, -4.3618998527526855, -4.399600028991699, -4.405799865722656, -4.421899795532227, -4.465799808502197, -4.559500217437744, -4.6828999519348145, -4.742300033569336, -4.783299922943115, -4.930799961090088, -4.980400085449219, -5.030700206756592, -5.059999942779541, -5.094799995422363, -5.123499870300293, -5.3607001304626465, -5.388700008392334, -5.4328999519348145, -5.479400157928467, -4.990099906921387, -3.0571999549865723, -4.6031999588012695, -3.546600103378296, -3.0032999515533447, -3.1982998847961426, -3.8083999156951904, -4.374199867248535, -4.732800006866455, -4.621600151062012, -2.6914000511169434, -2.7211999893188477, -2.9772000312805176, -3.3362998962402344, -3.348299980163574, -3.5534000396728516, -3.621299982070923, -3.7911999225616455, -3.7973999977111816, -3.8257999420166016, -3.855799913406372, -3.983799934387207, -4.005300045013428, -4.031199932098389, -4.048500061035156, -4.1803998947143555, -4.315700054168701, -4.57889986038208, -4.688899993896484, -4.707699775695801, -4.874599933624268, -4.916600227355957, -4.916999816894531, -4.916999816894531, -4.946400165557861, -5.087800025939941, -5.153500080108643, -5.185699939727783, -5.285999774932861, -5.350100040435791, -3.694700002670288, -3.184999942779541, -4.32420015335083, -4.704999923706055, -4.247499942779541, -3.8053998947143555, -4.317999839782715, -4.836599826812744, -4.817800045013428, -3.0380001068115234, -2.996000051498413, -3.3622000217437744, -3.3671998977661133, -3.6863999366760254, -3.7469000816345215, -3.786600112915039, -3.8375000953674316, -3.9807000160217285, -4.2129998207092285, -4.1244001388549805, -4.331399917602539, -4.402900218963623, -4.457799911499023, -4.542500019073486, -4.557799816131592, -4.583399772644043, -4.650700092315674, -4.7399001121521, -4.793300151824951, -4.839200019836426, -4.861400127410889, -4.884300231933594, -4.908899784088135, -4.913899898529053, -4.985599994659424, -4.990900039672852, -5.060299873352051, -3.813800096511841, -5.07889986038208, -3.6875998973846436, -3.061800003051758, -3.502500057220459, -4.605899810791016, -4.404799938201904, -4.0295000076293945, -3.6554999351501465, -3.9166998863220215, -4.80019998550415, -3.256700038909912, -3.3157999515533447, -3.4124999046325684, -3.426800012588501, -3.476300001144409, -3.6205999851226807, -3.6642000675201416, -3.9647998809814453, -4.05679988861084, -4.105899810791016, -4.151400089263916, -4.3379998207092285, -4.375500202178955, -4.382599830627441, -4.4506001472473145, -4.493299961090088, -4.58650016784668, -4.609399795532227, -4.646100044250488, -4.747300148010254, -4.845399856567383, -4.893599987030029, -4.9095001220703125, -4.9415998458862305, -4.9704999923706055, -5.010300159454346, -5.045899868011475, -5.069799900054932, -5.078000068664551, -5.12470006942749, -3.0594000816345215, -4.195199966430664, -3.8494999408721924, -4.0706000328063965, -4.370699882507324, -4.065499782562256, -4.519000053405762, -4.626100063323975, -4.746699810028076, -4.830900192260742, -2.8914999961853027, -3.0083999633789062, -3.1398000717163086, -3.1556999683380127, -3.2177999019622803, -3.2235000133514404, -3.3008999824523926, -3.4144999980926514, -3.4456000328063965, -3.6656999588012695, -3.9179000854492188, -4.053400039672852, -4.128699779510498, -4.169899940490723, -4.244999885559082, -4.30810022354126, -4.340199947357178, -4.3892998695373535, -4.507699966430664, -4.535299777984619, -4.746699810028076, -4.8927001953125, -4.906599998474121, -4.972599983215332, -3.7755000591278076, -5.160999774932861, -5.195799827575684, -5.249300003051758, -5.3180999755859375, -5.378300189971924, -3.8882999420166016, -4.282199859619141, -3.951900005340576, -4.443999767303467, -3.957900047302246, -4.4679999351501465, -4.508699893951416, -4.498899936676025, -4.594200134277344, -3.1222000122070312, -3.1401000022888184, -3.3896000385284424, -3.491300106048584, -3.498300075531006, -3.5820999145507812, -3.996500015258789, -4.060800075531006, -4.087200164794922, -4.094099998474121, -4.098700046539307, -4.102499961853027, -4.1315999031066895, -4.216800212860107, -4.230000019073486, -4.247300148010254, -4.264100074768066, -4.351900100708008, -4.369800090789795, -4.519800186157227, -4.546599864959717, -4.577899932861328, -4.617099761962891, -4.637499809265137, -4.688199996948242, -4.696499824523926, -4.90749979019165, -4.960299968719482, -4.964000225067139, -3.9665000438690186, -3.8299999237060547, -3.4763998985290527, -3.678100109100342, -3.7987000942230225, -4.469200134277344, -2.082900047302246, -2.6786000728607178, -2.816699981689453, -3.331399917602539, -3.424799919128418, -3.972899913787842, -4.082499980926514, -4.130099773406982, -4.249199867248535, -4.257199764251709, -4.380499839782715, -4.4421000480651855, -4.444799900054932, -4.462500095367432, -4.468500137329102, -4.589799880981445, -4.639800071716309, -4.660200119018555, -4.698699951171875, -4.736000061035156, -4.745299816131592, -4.891600131988525, -4.9191999435424805, -4.946300029754639, -5.073500156402588, -5.140100002288818, -5.156099796295166, -5.180099964141846, -5.190499782562256, -3.285599946975708, -3.5288000106811523, -4.912600040435791, -5.0777997970581055, -4.254499912261963, -4.447299957275391, -4.945000171661377, -2.2163000106811523, -3.039299964904785, -3.045300006866455, -3.1607000827789307, -3.664900064468384, -3.858299970626831, -3.867300033569336, -3.868499994277954, -3.982300043106079, -4.089000225067139, -4.292900085449219, -4.299099922180176, -4.498199939727783, -4.67579984664917, -4.689799785614014, -4.69379997253418, -4.801400184631348, -4.823299884796143, -4.838799953460693, -4.870999813079834, -4.939199924468994, -5.02269983291626, -5.023099899291992, -5.1092000007629395, -5.114200115203857, -5.144599914550781, -5.144599914550781, -5.258500099182129, -5.310200214385986, -5.3379998207092285, -3.5515999794006348, -4.143199920654297, -3.860100030899048, -4.35890007019043, -4.720799922943115, -4.331299781799316, -4.571400165557861, -4.785900115966797], \"loglift\": [30.0, 29.0, 28.0, 27.0, 26.0, 25.0, 24.0, 23.0, 22.0, 21.0, 20.0, 19.0, 18.0, 17.0, 16.0, 15.0, 14.0, 13.0, 12.0, 11.0, 10.0, 9.0, 8.0, 7.0, 6.0, 5.0, 4.0, 3.0, 2.0, 1.0, 3.7283, 3.7195, 3.7146, 3.7146, 3.7095, 3.7094, 3.7058, 3.7024, 3.7016, 3.7006, 3.6892, 3.6884, 3.6838, 3.6806, 3.6765, 3.6765, 3.6655, 3.6637, 3.6622, 3.6593, 3.6452, 3.6411, 3.6398, 3.6363, 3.6325, 3.6317, 3.6317, 3.6244, 3.6198, 3.6174, 3.5388, 3.3837, 2.8057, 3.3874, 1.3257, 3.1646, 3.2715, 0.3377, 3.6735, 3.6625, 3.6533, 3.6477, 3.6476, 3.6459, 3.6441, 3.6312, 3.6304, 3.6266, 3.6263, 3.6229, 3.6134, 3.6106, 3.6106, 3.6074, 3.6067, 3.6053, 3.6027, 3.602, 3.5987, 3.5918, 3.5864, 3.5823, 3.5823, 3.5714, 3.5683, 3.5681, 3.5597, 3.5588, 3.4152, 3.373, 3.166, 3.2789, 3.1825, 1.627, 1.1846, 0.1007, 3.6475, 3.6397, 3.6379, 3.6254, 3.6191, 3.6167, 3.6081, 3.6027, 3.5913, 3.5904, 3.5897, 3.5881, 3.5863, 3.5848, 3.5704, 3.5657, 3.5612, 3.5607, 3.5603, 3.5589, 3.5582, 3.5486, 3.5437, 3.5426, 3.5405, 3.5398, 3.5392, 3.5327, 3.5028, 3.4761, 3.4668, 3.4505, 3.2391, 3.4476, 3.1083, 1.0096, 0.7361, 2.0204, 3.5032, 3.4946, 3.4934, 3.4878, 3.4841, 3.4796, 3.4796, 3.4761, 3.4751, 3.4728, 3.4646, 3.4544, 3.4528, 3.4474, 3.4419, 3.439, 3.4345, 3.4317, 3.422, 3.4182, 3.4177, 3.4139, 3.4053, 3.4048, 3.3957, 3.3924, 3.3769, 3.3749, 3.3747, 3.3718, 3.2167, 3.24, 3.0512, 3.1461, 3.2539, 2.0865, 2.0155, 0.6749, 1.8815, 0.5818, 1.1462, 3.6885, 3.6814, 3.6749, 3.6741, 3.6717, 3.6708, 3.6706, 3.6633, 3.6614, 3.6575, 3.6536, 3.6494, 3.6486, 3.6474, 3.6472, 3.6461, 3.6415, 3.6399, 3.6398, 3.6396, 3.6392, 3.6377, 3.635, 3.6273, 3.6246, 3.6163, 3.6054, 3.6037, 3.6, 3.5963, 3.505, 3.4735, 3.3578, 3.4369, 2.1524, 1.596, 1.6583, -0.0968, 0.0859, 3.6527, 3.6508, 3.6507, 3.6496, 3.6476, 3.6254, 3.6228, 3.6018, 3.6007, 3.5959, 3.5884, 3.5777, 3.5728, 3.5626, 3.5535, 3.5531, 3.5338, 3.5266, 3.5266, 3.5256, 3.5204, 3.5204, 3.519, 3.5156, 3.5077, 3.5061, 3.5021, 3.4975, 3.496, 3.4915, 3.4647, 3.4681, 3.3945, 3.4675, 3.3446, 3.0978, 3.213, 1.5455, 1.7236, -0.1312, 1.2705, 3.7108, 3.703, 3.7004, 3.6984, 3.6865, 3.6862, 3.6786, 3.6752, 3.674, 3.6661, 3.6651, 3.6581, 3.6519, 3.6505, 3.6503, 3.6496, 3.6479, 3.6446, 3.644, 3.6412, 3.6404, 3.6403, 3.6265, 3.6222, 3.6216, 3.6215, 3.6199, 3.6161, 3.6052, 3.6017, 3.1414, 2.7215, 3.4408, 2.0364, 1.1712, 0.1681, 3.9413, 3.9394, 3.9302, 3.9257, 3.924, 3.9235, 3.9162, 3.9069, 3.9018, 3.8981, 3.8918, 3.8904, 3.8828, 3.8801, 3.8712, 3.8567, 3.8557, 3.8486, 3.846, 3.8439, 3.8357, 3.8305, 3.8279, 3.8253, 3.8168, 3.8134, 3.7911, 3.7907, 3.7863, 3.7658, 3.6187, 0.9613, 2.507, 3.4844, 0.0445, 3.7422, 3.7359, 3.7335, 3.7304, 3.7303, 3.7203, 3.7169, 3.7146, 3.7103, 3.7074, 3.7064, 3.701, 3.6924, 3.6914, 3.6903, 3.687, 3.6852, 3.6828, 3.6821, 3.6801, 3.679, 3.6757, 3.6736, 3.6636, 3.6626, 3.6623, 3.6581, 3.6535, 3.648, 3.6475, 3.4893, 3.193, 3.4112, 0.9791, 0.7792, 1.7247, 3.3142, 1.0967, 1.6161, 0.1364, 3.8022, 3.7981, 3.7891, 3.7748, 3.7742, 3.7704, 3.7641, 3.7625, 3.7598, 3.7527, 3.7499, 3.7459, 3.7455, 3.7451, 3.7427, 3.7422, 3.7383, 3.7306, 3.7269, 3.7268, 3.7246, 3.7211, 3.7202, 3.7175, 3.7123, 3.7028, 3.6936, 3.684, 3.6828, 3.6557, 3.4766, 3.512, 1.831, 1.1663, 2.2477, -0.0666, 3.4438, 3.4386, 3.4368, 3.4274, 3.4239, 3.4197, 3.4164, 3.4158, 3.4051, 3.4041, 3.3957, 3.391, 3.3897, 3.3845, 3.3841, 3.3764, 3.3528, 3.3346, 3.332, 3.3283, 3.315, 3.3098, 3.3052, 3.3012, 3.3008, 3.2958, 3.2929, 3.2914, 3.2827, 3.2766, 3.2749, 3.2111, 3.1444, 3.19, 2.2866, 2.9102, 1.5297, 0.6896, 0.71, 2.2114, -0.7863, 3.3985, 3.3893, 3.3866, 3.3792, 3.3761, 3.3713, 3.3667, 3.3634, 3.3628, 3.3519, 3.3494, 3.3452, 3.3449, 3.3337, 3.3313, 3.3282, 3.3233, 3.3198, 3.3177, 3.3136, 3.3022, 3.2975, 3.2894, 3.2871, 3.2817, 3.2762, 3.2687, 3.2656, 3.2655, 3.2638, 3.2014, 3.1003, 3.1509, 3.0983, 3.0864, 3.13, 3.1439, 2.776, 2.9702, 1.5929, 1.8291, 1.1373, 2.1848, 0.4723, -0.1548, 0.995, 3.5407, 3.5387, 3.5384, 3.5348, 3.5289, 3.5245, 3.5233, 3.5195, 3.4972, 3.4928, 3.488, 3.4795, 3.4794, 3.4662, 3.4646, 3.461, 3.4483, 3.4483, 3.4398, 3.4344, 3.4334, 3.4285, 3.4268, 3.3965, 3.3859, 3.3843, 3.3839, 3.3839, 3.3792, 3.3791, 3.3485, 3.3388, 3.313, 3.2195, 3.1921, 2.7685, 3.1814, 2.3045, 1.0587, 0.9558, 0.7508, 0.564, 1.0962, 3.7104, 3.6896, 3.6838, 3.6824, 3.6783, 3.6731, 3.6691, 3.6673, 3.6515, 3.651, 3.6469, 3.6454, 3.6402, 3.6336, 3.6335, 3.6323, 3.6273, 3.6245, 3.6202, 3.6177, 3.6169, 3.6136, 3.613, 3.6122, 3.6121, 3.6083, 3.6083, 3.606, 3.603, 3.596, 3.4292, 3.4324, 2.6537, 2.1518, 0.8821, 1.2143, 1.7077, 1.8404, 1.923, -0.099, 1.0156, 3.1913, 3.1897, 3.1895, 3.1819, 3.1791, 3.15, 3.1436, 3.1411, 3.1365, 3.1354, 3.1304, 3.1288, 3.1277, 3.1262, 3.1223, 3.1214, 3.1119, 3.1106, 3.1076, 3.1014, 3.0993, 3.0992, 3.0902, 3.0844, 3.0822, 3.0803, 3.0789, 3.0706, 3.0562, 3.044, 2.9967, 2.7583, 2.8797, 2.7441, 2.8427, 1.2004, 1.2548, 1.8365, 1.3195, 1.8168, 1.9327, 1.5203, 1.4869, 1.7646, 1.8386, 3.8072, 3.7993, 3.7953, 3.7948, 3.7932, 3.7867, 3.7827, 3.7821, 3.7786, 3.7754, 3.7742, 3.7732, 3.7722, 3.7651, 3.7535, 3.7516, 3.751, 3.7442, 3.7317, 3.7305, 3.7281, 3.7252, 3.7243, 3.719, 3.7182, 3.714, 3.6912, 3.6842, 3.6825, 3.6812, 3.4103, 3.3961, 3.3264, 1.7917, 3.7449, 3.7325, 3.7246, 3.7209, 3.7203, 3.7163, 3.7128, 3.7101, 3.7098, 3.7071, 3.707, 3.7059, 3.6968, 3.6953, 3.6923, 3.6815, 3.6769, 3.6757, 3.6727, 3.6719, 3.6711, 3.6693, 3.6663, 3.6635, 3.6573, 3.6573, 3.6552, 3.6422, 3.6422, 3.6323, 3.4938, 3.4651, 3.454, 3.4617, 3.5605, 3.5596, 2.1103, 0.7903, 0.4675, 2.0448, 3.9353, 3.9265, 3.9255, 3.9249, 3.9172, 3.9109, 3.901, 3.8921, 3.8898, 3.8863, 3.8817, 3.8815, 3.8748, 3.8694, 3.8602, 3.8532, 3.8492, 3.8405, 3.8359, 3.835, 3.8251, 3.8249, 3.8152, 3.8136, 3.8118, 3.8107, 3.7952, 3.7943, 3.7943, 3.7785, 3.6095, 3.5368, 3.0956, 0.9869, 2.067, 1.5604, 2.1673, 3.6833, 3.6804, 3.663, 3.6597, 3.6596, 3.6582, 3.6544, 3.6538, 3.6526, 3.6464, 3.6397, 3.6366, 3.6363, 3.6279, 3.6262, 3.6247, 3.6149, 3.6108, 3.5998, 3.5975, 3.589, 3.5844, 3.5796, 3.5759, 3.5689, 3.5514, 3.5514, 3.5514, 3.5513, 3.5507, 3.4479, 3.3439, 3.418, 3.3253, 2.9003, 3.2197, 1.1847, 2.2971, -0.2418, 0.1061, 1.1758, 3.6778, 3.6763, 3.6583, 3.6478, 3.6393, 3.6367, 3.6349, 3.6341, 3.6282, 3.6277, 3.6255, 3.6237, 3.6213, 3.6158, 3.6155, 3.6112, 3.6076, 3.5939, 3.5842, 3.5826, 3.5764, 3.5718, 3.5718, 3.5658, 3.5633, 3.5633, 3.5583, 3.5473, 3.5454, 3.5401, 3.4741, 3.3025, 3.4258, 3.286, 3.3054, 3.0376, 1.127, 1.3254, 1.7703, 0.3421, 3.3649, 3.3603, 3.3575, 3.3541, 3.3474, 3.3391, 3.3278, 3.3147, 3.3083, 3.3059, 3.3042, 3.3, 3.2923, 3.2911, 3.285, 3.2831, 3.2821, 3.2743, 3.2683, 3.266, 3.2624, 3.2604, 3.251, 3.251, 3.2394, 3.2394, 3.2344, 3.2257, 3.2241, 3.2165, 3.2017, 3.1942, 3.0832, 3.0596, 2.2763, 2.9691, 1.235, 2.1876, 0.5993, 1.6193, 0.5054, 3.7015, 3.6933, 3.6862, 3.6824, 3.6789, 3.6732, 3.6726, 3.6698, 3.6669, 3.6647, 3.6618, 3.6572, 3.6531, 3.65, 3.641, 3.6391, 3.6387, 3.6376, 3.634, 3.6293, 3.6265, 3.6248, 3.623, 3.6164, 3.6102, 3.606, 3.6051, 3.6006, 3.592, 3.5879, 3.4749, 3.432, 3.4456, 3.335, 3.3829, 3.3112, 2.6508, 1.7028, 2.0205, 1.1852, -0.3001, 3.7537, 3.7426, 3.7412, 3.7328, 3.7226, 3.7186, 3.7142, 3.7097, 3.7087, 3.7072, 3.7046, 3.704, 3.6949, 3.6709, 3.6693, 3.667, 3.6655, 3.6655, 3.6495, 3.6493, 3.6412, 3.6409, 3.6341, 3.6312, 3.6302, 3.6269, 3.6237, 3.6211, 3.6188, 3.6145, 3.5389, 3.4102, 3.5484, 2.1448, 0.7217, 0.8115, 1.5098, 2.1012, 1.8182, 0.1807, 3.6446, 3.6383, 3.6274, 3.6248, 3.6221, 3.6201, 3.6169, 3.6165, 3.6163, 3.616, 3.6154, 3.6115, 3.6072, 3.6051, 3.5972, 3.5889, 3.5871, 3.5775, 3.5746, 3.5716, 3.5712, 3.5689, 3.5605, 3.5588, 3.5443, 3.5443, 3.5385, 3.5367, 3.5358, 3.5321, 3.5062, 3.4699, 3.1674, 3.3042, 1.236, 0.4909, 2.1323, 0.7813, 3.9655, 3.9643, 3.9606, 3.9589, 3.9585, 3.9548, 3.9407, 3.938, 3.9301, 3.9293, 3.9241, 3.9167, 3.916, 3.9136, 3.9131, 3.9107, 3.9011, 3.8883, 3.887, 3.871, 3.8671, 3.8661, 3.8661, 3.8658, 3.8622, 3.8564, 3.8458, 3.8455, 3.8322, 3.8285, 3.6987, 0.9457, 0.1204, 2.1509, 3.882, 3.8669, 3.8668, 3.8611, 3.8584, 3.848, 3.8376, 3.832, 3.8311, 3.8276, 3.8257, 3.8197, 3.8191, 3.8151, 3.8142, 3.8125, 3.8101, 3.8086, 3.8079, 3.8043, 3.8041, 3.8038, 3.8036, 3.8002, 3.7983, 3.7917, 3.7909, 3.7902, 3.7897, 3.7888, 3.5133, 3.4393, 2.4459, 0.7006, 2.1595, 1.1724, 3.8025, 3.7994, 3.7878, 3.7842, 3.781, 3.7805, 3.7792, 3.7745, 3.7706, 3.7426, 3.7391, 3.7284, 3.7099, 3.7018, 3.7011, 3.6931, 3.6807, 3.6761, 3.6695, 3.664, 3.664, 3.6627, 3.6598, 3.6577, 3.6543, 3.6394, 3.6257, 3.6256, 3.6236, 3.6093, 3.4753, 3.1894, 3.3637, 3.2353, 2.7164, 1.0215, 0.5122, 0.8913, 1.8441, 0.3052, 2.2676, 2.2438, 3.8664, 3.8559, 3.8522, 3.8496, 3.8483, 3.8354, 3.8227, 3.8148, 3.808, 3.804, 3.8005, 3.794, 3.7932, 3.7887, 3.782, 3.78, 3.7793, 3.7736, 3.7605, 3.76, 3.747, 3.7445, 3.7387, 3.734, 3.722, 3.7216, 3.7137, 3.7119, 3.7076, 3.7076, 3.5665, 3.5434, 3.2345, 2.1767, 0.9826, 1.108, 0.444, 0.0047, 1.1466, 3.7134, 3.6974, 3.696, 3.6936, 3.6928, 3.6916, 3.6899, 3.6881, 3.6874, 3.6874, 3.6778, 3.6769, 3.6715, 3.6675, 3.6674, 3.6673, 3.6578, 3.6563, 3.6517, 3.6468, 3.643, 3.6387, 3.6349, 3.6338, 3.6299, 3.6274, 3.6231, 3.6222, 3.6135, 3.6054, 3.4029, 3.3835, 3.1846, 1.1221, 3.7916, 3.787, 3.7762, 3.7712, 3.7712, 3.7618, 3.7593, 3.7571, 3.7548, 3.7508, 3.7502, 3.7438, 3.7427, 3.7426, 3.7418, 3.7417, 3.7407, 3.7377, 3.7375, 3.7316, 3.7267, 3.7251, 3.7234, 3.7233, 3.7232, 3.7189, 3.7175, 3.7158, 3.7096, 3.7057, 3.5325, 2.5747, 0.2558, 3.8244, 3.8222, 3.8185, 3.8164, 3.8141, 3.8035, 3.7968, 3.7933, 3.7905, 3.7903, 3.7901, 3.7879, 3.7848, 3.7821, 3.7775, 3.7728, 3.7646, 3.7571, 3.7492, 3.7469, 3.7285, 3.7201, 3.7185, 3.7182, 3.7164, 3.7109, 3.7049, 3.7004, 3.7002, 3.6971, 3.6792, 3.3901, 1.8299, 1.6899, 0.2458, 3.67, 3.6651, 3.6587, 3.6568, 3.6541, 3.6509, 3.6509, 3.6465, 3.6455, 3.644, 3.6309, 3.6307, 3.6279, 3.623, 3.6222, 3.6178, 3.6115, 3.6044, 3.6041, 3.6033, 3.6027, 3.5965, 3.5915, 3.5861, 3.5738, 3.5669, 3.5648, 3.5572, 3.5516, 3.5438, 3.4814, 3.2356, 3.1885, 1.1367, 1.6194, 3.0387, 1.711, 3.6573, 3.6566, 3.6485, 3.6456, 3.6242, 3.622, 3.6182, 3.6179, 3.617, 3.608, 3.608, 3.6057, 3.6034, 3.603, 3.602, 3.5992, 3.5927, 3.5834, 3.5784, 3.5749, 3.561, 3.5559, 3.5505, 3.5472, 3.5432, 3.5398, 3.5083, 3.5042, 3.4974, 3.49, 3.4775, 3.3112, 3.3923, 3.0294, 1.3355, 1.3379, 1.0434, 1.7746, 2.2334, 1.5276, 3.5671, 3.5668, 3.5636, 3.5574, 3.5572, 3.5525, 3.5507, 3.5458, 3.5456, 3.5446, 3.5436, 3.539, 3.5382, 3.5365, 3.5354, 3.5308, 3.5241, 3.5085, 3.5007, 3.4993, 3.4856, 3.4818, 3.4818, 3.4818, 3.4791, 3.4649, 3.4576, 3.4539, 3.4417, 3.4333, 3.3927, 3.3397, 3.1055, 3.1629, 2.3074, 0.8651, 0.2182, 2.6682, 1.2859, 3.5443, 3.5443, 3.5386, 3.5385, 3.5308, 3.529, 3.5278, 3.5262, 3.5212, 3.5114, 3.5096, 3.5056, 3.5017, 3.4986, 3.4934, 3.4924, 3.4907, 3.4861, 3.4795, 3.4753, 3.4716, 3.4697, 3.4677, 3.4655, 3.465, 3.4584, 3.4579, 3.451, 3.4496, 3.449, 3.4057, 3.3785, 3.3276, 3.2573, 3.125, 2.536, 0.8807, 0.4221, 2.062, 3.8201, 3.8186, 3.816, 3.8156, 3.8141, 3.8094, 3.8079, 3.7952, 3.7906, 3.7879, 3.7853, 3.7735, 3.7709, 3.7704, 3.7654, 3.762, 3.7543, 3.7523, 3.749, 3.7393, 3.729, 3.7237, 3.7218, 3.7181, 3.7146, 3.7096, 3.7051, 3.7019, 3.7008, 3.6944, 3.4955, 3.5954, 3.46, 3.4549, 1.8087, 0.4708, 1.5979, 0.8054, 1.3162, 1.9518, 3.6906, 3.6888, 3.6864, 3.6861, 3.6849, 3.6848, 3.6831, 3.6804, 3.6797, 3.6734, 3.6643, 3.6584, 3.6548, 3.6527, 3.6487, 3.6451, 3.6432, 3.6402, 3.6322, 3.6303, 3.6133, 3.5995, 3.5981, 3.5912, 3.57, 3.569, 3.5645, 3.5573, 3.5476, 3.5385, 3.5246, 3.4386, 3.3889, 3.3552, 2.9999, 1.649, 0.5565, 0.1715, -0.058, 3.7699, 3.7696, 3.7637, 3.7609, 3.7607, 3.7581, 3.7419, 3.7388, 3.7374, 3.7371, 3.7368, 3.7366, 3.7351, 3.7303, 3.7295, 3.7285, 3.7275, 3.7219, 3.7207, 3.7099, 3.7078, 3.7052, 3.702, 3.7002, 3.6958, 3.695, 3.6739, 3.6679, 3.6675, 3.6498, 3.5514, 3.4897, 3.1402, 0.5401, 1.3683, 3.7138, 3.7083, 3.7065, 3.6971, 3.6948, 3.6763, 3.6713, 3.669, 3.6626, 3.6622, 3.6547, 3.6507, 3.6505, 3.6493, 3.6489, 3.64, 3.636, 3.6344, 3.6311, 3.6279, 3.6271, 3.6131, 3.6102, 3.6074, 3.5929, 3.5847, 3.5827, 3.5795, 3.5782, 3.5745, 3.5396, 3.3602, 3.4194, 1.177, 1.676, 0.8925, 3.6276, 3.6185, 3.6184, 3.6164, 3.6046, 3.5983, 3.598, 3.5979, 3.5936, 3.5891, 3.579, 3.5787, 3.5668, 3.5541, 3.553, 3.5526, 3.5438, 3.5418, 3.5404, 3.5375, 3.531, 3.5224, 3.5224, 3.5129, 3.5123, 3.5088, 3.5088, 3.4946, 3.4877, 3.4838, 3.4766, 3.3393, 2.2028, 1.7561, 2.0263, 0.3392, 1.2751, 1.8714]}, \"token.table\": {\"Topic\": [22, 24, 11, 15, 10, 20, 28, 11, 6, 13, 9, 17, 2, 4, 28, 25, 40, 8, 1, 32, 16, 13, 21, 28, 20, 39, 13, 33, 3, 18, 14, 22, 4, 33, 5, 10, 3, 30, 33, 6, 34, 7, 4, 21, 23, 31, 26, 27, 23, 35, 8, 13, 26, 31, 2, 1, 3, 34, 37, 27, 9, 8, 16, 22, 11, 40, 32, 13, 18, 33, 35, 5, 25, 17, 24, 10, 1, 29, 10, 6, 9, 30, 5, 17, 34, 11, 27, 7, 19, 11, 33, 4, 15, 23, 36, 22, 19, 21, 11, 19, 23, 19, 6, 28, 34, 21, 1, 6, 15, 18, 23, 34, 4, 18, 18, 35, 32, 12, 33, 3, 15, 16, 23, 33, 38, 6, 25, 10, 26, 14, 18, 23, 26, 8, 36, 33, 40, 10, 35, 18, 37, 10, 31, 32, 36, 2, 9, 15, 16, 40, 12, 20, 2, 5, 2, 33, 40, 14, 30, 29, 3, 20, 36, 11, 18, 29, 2, 1, 5, 1, 9, 6, 37, 3, 36, 5, 6, 15, 17, 20, 21, 22, 31, 32, 33, 40, 39, 6, 15, 40, 34, 14, 22, 8, 30, 27, 37, 6, 13, 1, 33, 10, 20, 31, 24, 8, 11, 1, 30, 31, 10, 13, 39, 2, 8, 17, 39, 15, 11, 33, 34, 20, 8, 25, 10, 13, 39, 25, 8, 5, 28, 37, 9, 11, 40, 39, 13, 39, 22, 19, 22, 18, 18, 8, 31, 2, 11, 20, 22, 24, 21, 2, 30, 6, 20, 21, 25, 21, 36, 3, 25, 16, 32, 9, 23, 35, 13, 31, 24, 18, 9, 22, 25, 30, 12, 28, 24, 26, 17, 32, 6, 16, 36, 4, 12, 35, 37, 18, 36, 16, 40, 30, 12, 20, 4, 14, 18, 32, 33, 14, 36, 19, 7, 9, 23, 40, 12, 39, 37, 24, 17, 21, 36, 4, 22, 6, 17, 22, 30, 35, 38, 13, 25, 5, 17, 15, 20, 26, 13, 3, 5, 27, 7, 21, 35, 37, 11, 37, 3, 34, 27, 5, 35, 35, 37, 8, 6, 3, 24, 15, 30, 1, 2, 18, 15, 34, 36, 6, 20, 3, 12, 15, 27, 12, 28, 30, 18, 38, 4, 34, 35, 34, 14, 5, 15, 21, 28, 12, 16, 29, 1, 31, 4, 12, 22, 4, 1, 40, 32, 40, 15, 13, 31, 26, 19, 31, 9, 22, 23, 19, 14, 38, 11, 19, 1, 33, 40, 36, 21, 31, 23, 12, 28, 36, 1, 2, 5, 10, 11, 12, 19, 20, 21, 23, 27, 30, 32, 37, 40, 36, 8, 19, 5, 11, 28, 5, 21, 40, 38, 33, 39, 37, 27, 24, 28, 6, 1, 9, 27, 7, 5, 34, 19, 29, 35, 15, 26, 12, 16, 37, 7, 23, 39, 24, 30, 12, 29, 23, 18, 1, 2, 33, 17, 40, 9, 24, 24, 31, 10, 20, 33, 30, 25, 9, 22, 39, 3, 10, 28, 22, 15, 25, 27, 16, 13, 21, 10, 3, 18, 1, 13, 31, 38, 17, 7, 19, 32, 23, 21, 24, 32, 2, 22, 34, 9, 32, 12, 37, 6, 8, 33, 12, 28, 29, 27, 3, 3, 5, 6, 8, 9, 10, 11, 12, 13, 14, 15, 17, 20, 22, 23, 24, 25, 26, 28, 29, 32, 33, 34, 35, 36, 37, 38, 32, 12, 26, 28, 32, 21, 24, 17, 16, 15, 20, 22, 1, 28, 25, 37, 10, 24, 13, 11, 28, 11, 39, 24, 22, 27, 20, 2, 31, 16, 25, 38, 5, 31, 27, 6, 11, 2, 23, 16, 1, 2, 3, 6, 7, 9, 14, 19, 23, 28, 34, 36, 39, 40, 24, 1, 29, 1, 15, 22, 4, 7, 39, 4, 34, 36, 28, 13, 17, 21, 37, 21, 39, 20, 22, 12, 2, 17, 26, 35, 27, 11, 38, 14, 5, 23, 36, 33, 21, 1, 9, 11, 23, 25, 38, 4, 19, 40, 13, 28, 28, 23, 20, 20, 20, 14, 17, 17, 40, 17, 7, 13, 5, 16, 22, 2, 1, 3, 9, 11, 12, 13, 14, 16, 17, 18, 21, 24, 26, 29, 34, 35, 36, 39, 40, 24, 30, 4, 29, 8, 21, 11, 27, 39, 9, 1, 33, 6, 38, 12, 19, 39, 38, 7, 19, 2, 40, 11, 40, 14, 3, 37, 3, 17, 11, 23, 23, 16, 3, 2, 37, 26, 1, 40, 13, 3, 29, 37, 26, 35, 6, 31, 7, 6, 36, 19, 24, 29, 4, 7, 9, 15, 6, 12, 15, 21, 6, 38, 18, 38, 14, 16, 21, 25, 19, 7, 22, 27, 32, 23, 32, 15, 38, 34, 25, 34, 32, 26, 9, 15, 34, 19, 2, 25, 32, 3, 40, 6, 29, 37, 8, 12, 30, 25, 36, 14, 4, 21, 9, 25, 27, 27, 2, 32, 40, 1, 33, 15, 10, 22, 4, 39, 3, 10, 11, 8, 15, 18, 22, 26, 27, 16, 14, 32, 19, 2, 25, 39, 5, 13, 15, 36, 37, 33, 26, 12, 9, 4, 13, 12, 4, 14, 19, 12, 28, 37, 29, 12, 28, 27, 7, 4, 5, 14, 26, 33, 37, 38, 3, 33, 31, 26, 36, 10, 24, 6, 22, 36, 26, 34, 22, 37, 35, 40, 24, 39, 7, 28, 13, 11, 14, 16, 2, 24, 38, 17, 7, 25, 4, 12, 1, 7, 11, 10, 34, 9, 8, 19, 32, 16, 22, 33, 29, 27, 10, 1, 31, 31, 7, 13, 14, 16, 17, 33, 35, 37, 18, 13, 17, 21, 34, 26, 7, 9, 40, 34, 2, 1, 20, 24, 35, 10, 12, 15, 26, 14, 12, 4, 16, 20, 18, 19, 29, 1, 13, 24, 11, 21, 34, 25, 12, 15, 16, 23, 15, 36, 14, 28, 18, 10, 3, 11, 35, 30, 38, 2, 19, 23, 28, 15, 1, 28, 17, 30, 26, 15, 29, 5, 15, 3, 4, 32, 34, 5, 26, 9, 12, 13, 14, 19, 22, 24, 26, 40, 9, 9, 12, 22, 22, 11, 20, 8, 5, 35, 34, 1, 21, 32, 8, 40, 9, 38, 29, 31, 20, 30, 7, 4, 34, 9, 2, 12, 35, 31, 36, 37, 26, 4, 40, 17, 16, 18, 40, 16, 8, 22, 7, 16, 19, 15, 12, 16, 15, 22, 31, 40, 20, 2, 30, 23, 3, 11, 33, 34, 28, 3, 33, 27, 17, 36, 35, 35, 29, 28, 15, 31, 6, 23, 36, 3, 11, 19, 26, 32, 39, 24, 21, 20, 10, 33, 13, 2, 35, 3, 11, 17, 15, 22, 8, 29, 7, 6, 4, 20, 34, 5, 25, 17, 35, 26, 1, 30, 32, 4, 39, 25, 29, 9, 12, 34, 40, 8, 11, 21, 24, 13, 33, 10, 4, 6, 16, 3, 6, 4, 1, 17, 39, 39, 5, 34, 5, 18, 22, 16, 34, 28, 7, 18, 30, 8, 25, 30, 17, 20, 28, 6, 4, 3, 6, 10, 35, 3, 10, 29, 39, 23, 32, 39, 32, 5, 38, 39, 9, 8, 26, 32, 32, 28, 6, 18, 11, 4, 19, 39, 18, 20, 4, 21, 24, 24, 37, 14, 32, 21, 40, 38, 32, 10, 11, 36, 32, 2, 20, 4, 9, 19, 19, 25, 4, 30, 25, 30, 6, 16, 15, 12, 30, 14, 22, 23, 21, 29, 6, 8, 13, 32, 29, 32, 27, 22, 14, 2, 26, 28, 39, 29, 36, 16, 27, 20, 20, 31, 27, 14, 19, 17, 14, 37, 16, 7, 20, 13, 37, 35, 28, 4, 10, 15, 9, 20, 3, 14, 14, 18, 18, 35, 38, 32, 10, 10, 7, 21, 38, 5, 19, 2, 10, 12, 13, 18, 19, 39, 32, 2, 35, 1, 30, 35, 8, 17, 32, 7, 38, 36, 16, 17, 27, 31, 39, 33, 38, 24, 36, 22, 27, 19, 7, 1, 35, 31, 25, 27, 31, 5, 40, 9, 13, 14, 6, 10, 11, 23, 13, 40, 14, 7, 40, 12, 2, 8, 23, 37, 40, 9, 30, 4, 35, 9, 12, 15, 14, 39, 38, 27, 23, 17, 19, 29, 2, 5, 21, 14, 37, 1, 40, 32, 31, 16, 26, 39, 38, 3, 15, 11, 18, 21, 11, 19, 33, 15, 1, 37, 12, 9, 23, 27, 39, 6, 2, 36, 1, 12, 24, 8, 15, 18, 24, 27, 14, 40, 37, 13, 36, 24, 39, 18, 26, 5, 4, 20, 27, 36, 24, 29, 23, 34, 24, 13, 27, 2, 26, 22, 31, 9, 1, 7, 21, 30, 8, 17, 1, 3, 21, 21, 8, 8, 19, 22, 14, 23, 32, 37, 5, 23, 14, 29, 4, 33, 24, 29, 21, 33, 14, 4, 31, 35, 17, 18, 15, 30, 20, 3, 4, 13, 28, 27, 30, 33, 10, 22, 6, 35, 28, 27, 9, 23, 17, 40, 29, 40, 11, 5, 12, 29, 14, 38, 37, 16, 17, 19, 9, 27, 30, 5, 38, 16, 30, 30, 12, 34, 12, 9, 14, 12, 39, 33, 19, 34, 21, 27, 34, 40, 9, 36, 3, 22, 23, 3, 13, 11, 39, 39, 24, 36, 29, 32, 6, 29, 11, 11, 10, 36, 34, 16, 15, 12, 2, 6, 34, 25, 5, 38, 31, 27, 13, 36, 12, 3, 21, 16, 38, 26, 37, 30, 1, 21, 36, 23, 22, 21, 19, 7, 26, 35, 24, 2, 23, 35, 18, 33, 39, 19, 22, 20, 5, 23, 5, 29, 32, 35, 35, 37, 5, 9, 26, 24, 35, 26, 24, 33, 26, 2, 36, 5, 13, 10, 31, 17, 8, 21, 38, 1, 37, 20, 20, 25, 18, 13, 28, 21, 6, 33, 1, 12, 38, 31, 28, 33, 31, 38, 2, 3, 4, 7, 9, 11, 13, 14, 17, 19, 20, 22, 23, 38, 39, 40, 26, 3, 14, 17, 25, 11, 33, 40, 25, 35, 3, 27, 25, 39, 38, 13, 7, 31, 20, 13, 34, 24, 18, 23, 27, 34, 1, 11, 5, 29, 3, 9, 20, 35, 40, 36, 12, 4, 37, 8, 3, 15, 11, 25, 17, 28, 5, 25, 12, 28, 17, 1, 8, 18, 39, 39, 7, 14, 10, 12, 22, 26, 9, 19, 27, 20, 23, 3, 8, 23, 8, 19, 38, 12, 14, 22, 15, 13, 2, 35, 37, 7, 40, 16, 15, 15, 29, 36, 40, 36, 25, 2, 9, 24, 26, 7, 20, 24, 10, 5, 7, 25, 2, 4, 5, 6, 7, 8, 9, 11, 12, 13, 14, 15, 17, 19, 20, 22, 24, 27, 28, 31, 33, 35, 38, 39, 9, 14, 35, 4, 1, 2, 3, 4, 5, 8, 9, 11, 12, 13, 18, 20, 21, 23, 24, 25, 26, 27, 28, 30, 32, 34, 37, 38, 40, 17, 23, 2, 40, 34, 4, 23, 4, 5, 7, 10, 11, 12, 13, 14, 15, 17, 18, 19, 22, 23, 24, 25, 26, 27, 28, 31, 33, 34, 35, 38, 40, 33, 34, 18], \"Freq\": [0.6408870975708744, 0.29131231707767014, 0.8392224689604892, 0.9056371094367724, 0.8837124877634394, 0.43212183351105043, 0.5555852145142077, 0.920369970877278, 0.8081755113360213, 0.15153290837550398, 0.9759311381595105, 0.951701116411697, 0.8972468888672073, 0.7535633051098112, 0.22934535372907297, 0.8435045999937862, 0.9400863186887187, 0.9755841759915357, 0.9762083094986758, 0.9896371309134355, 0.9707996148222363, 0.9447228354892697, 0.9414812402992948, 0.9309719840487715, 0.9554033067120047, 0.8953919139554183, 0.2894673977062577, 0.7047901857195839, 0.9319999473948174, 0.9303599578292158, 0.29507413189490317, 0.6885063077547741, 0.899520026987968, 0.9224774633597791, 0.9260631041503219, 0.9728062956490341, 0.9279191172616138, 0.9927367866192657, 0.9203746373541094, 0.9343957515444563, 0.9639801336395416, 0.8967838580934326, 0.944625774781996, 0.9021776692909265, 0.8965307504355143, 0.9885408714124518, 0.9308336346020617, 0.7731543468373492, 0.7026290621925124, 0.28105162487700497, 0.8062859968722009, 0.9725665510275748, 0.9543766986175459, 0.9770577550511841, 0.9068958107335608, 0.9644872567572247, 0.946114687292583, 0.19466591388817614, 0.7786636555527046, 0.9724268159746376, 0.9502598987604957, 0.7866566833374026, 0.9298258828459386, 0.8738197055567297, 0.939333257355431, 0.8388951716591438, 0.9247561432713481, 0.9348224412786711, 0.8984048622562998, 0.8866919286230778, 0.9357248510468752, 0.9403499497174755, 0.9736298195126223, 0.7704216458878689, 0.22256625325649543, 0.9257622407262592, 0.8352457301386433, 0.913809326799791, 0.9547587375013062, 0.555693125835783, 0.10584630968300629, 0.29107735162826726, 0.9657833357673526, 0.9253126901188057, 0.912741116243126, 0.7412489122973714, 0.18531222807434286, 0.8904818369285898, 0.9031695198773212, 0.8539850693218933, 0.9679282746098681, 0.7830103481710059, 0.18423772898141316, 0.9357185720886257, 0.9236925211563142, 0.9392923700849649, 0.9541785786239103, 0.9111992082377135, 0.9081219818799927, 0.9220452801847467, 0.8844401322612643, 0.8389368114526217, 0.8292680362228586, 0.9943583445429757, 0.8944989712953387, 0.9651612892950636, 0.3960023304715086, 0.11590312111361227, 0.18351327509655277, 0.08692734083520921, 0.10624452768747791, 0.09658593426134356, 0.9531051077906835, 0.813042536275434, 0.9676713790253791, 0.9007312107902796, 0.8842256740470507, 0.8723074128063467, 0.977341739591556, 0.8778462325046504, 0.9400397331237231, 0.9807416023938165, 0.8380505614511831, 0.2287965558140202, 0.7321489786048647, 0.9387676613910283, 0.9748533937654311, 0.9404425596253849, 0.9374743848396886, 0.9705372579197283, 0.9622791696892394, 0.26310797799837565, 0.6577699449959391, 0.942043811969031, 0.9815003757653965, 0.9235593317112579, 0.8905839470929949, 0.9253323573296609, 0.9070180428982442, 0.9339598895968737, 0.9173603883880818, 0.9481067041383536, 0.965870184839415, 0.8179788389860111, 0.08179788389860111, 0.5867511506767125, 0.11001584075188359, 0.09167986729323632, 0.12835181421053085, 0.05500792037594179, 0.969359063084184, 0.9059220810099109, 0.887317134006403, 0.0887317134006403, 0.9497539775173114, 0.9852893726857227, 0.9848037502308457, 0.9146850408010934, 0.9416527845198254, 0.9663592363261716, 0.8410035168679161, 0.1529097303396211, 0.9251797237612909, 0.991801008895475, 0.9513260836347504, 0.9115655736500039, 0.9593538079618197, 0.8656138402349787, 0.880530671565736, 0.8260790379938288, 0.1101438717325105, 0.9195409640042139, 0.8648355190253056, 0.948980089345423, 0.9651422604785712, 0.13134670468838566, 0.09093233401503623, 0.04041437067334944, 0.01010359266833736, 0.02020718533667472, 0.1717610753617351, 0.07072514867836151, 0.12124311202004831, 0.13134670468838566, 0.1515538900250604, 0.060621556010024155, 0.9335842227344365, 0.8815015115876671, 0.8610960789463621, 0.9611244524212716, 0.983888281902369, 0.952935105962327, 0.8892132809656988, 0.878845107614528, 0.9541569759189539, 0.9323179625579614, 0.9747606226228687, 0.9705987905699052, 0.9726259195415407, 0.8595352636525658, 0.9482391259402979, 0.7049280206885631, 0.23497600689618772, 0.9530705166920026, 0.9819080862672342, 0.9851588170001608, 0.9824215878338706, 0.9334033774554998, 0.9310623718898322, 0.916563371294969, 0.9467207358604638, 0.9743687166933734, 0.9472707712739392, 0.9377308825603982, 0.8214858237777295, 0.8832234233370563, 0.8080726064881888, 0.9910265414136087, 0.9912747373405265, 0.9468933172114683, 0.8538005075580226, 0.963202894913183, 0.8703674070550882, 0.9083980291309045, 0.9003666717267677, 0.9288150706201739, 0.9501273847626608, 0.9762567313252113, 0.8708070391692441, 0.9544560609899247, 0.9624614409396055, 0.9657545915807091, 0.7173990777073289, 0.23913302590244298, 0.9266178650630449, 0.9257650554602702, 0.7045263538258697, 0.24865636017383638, 0.9001777941563209, 0.9521774856756919, 0.9429590032895763, 0.8858925876417826, 0.9021125334688722, 0.9114785854546064, 0.8833683883491644, 0.9548357999316586, 0.31400922078610505, 0.6755955962367715, 0.933068741300625, 0.9032235545240875, 0.8748546040616682, 0.9581880003954979, 0.916111802071175, 0.9932393780017883, 0.1516648732965944, 0.8392122989078222, 0.9112776191110961, 0.9892900096848749, 0.8756802142161471, 0.981716537217262, 0.9271311403728401, 0.9595691453483955, 0.9798319075882408, 0.5773929511243748, 0.18559059143283474, 0.2268329450845758, 0.801714820295786, 0.9792227473476897, 0.9842190065180666, 0.893114599278358, 0.9583034291653173, 0.9496677742336453, 0.9748177861986259, 0.9519927639034187, 0.8454660414978598, 0.9273844124559865, 0.8751027508535403, 0.9503483848427559, 0.9706498856524352, 0.9445434805588854, 0.8904841001756832, 0.0809531000159712, 0.8179470988399762, 0.9573296720437489, 0.06159793156361709, 0.8931700076724478, 0.8256558433696033, 0.6930123408501666, 0.25200448758187877, 0.9748720812494779, 0.9714574663879326, 0.9341975064271859, 0.9652967709862812, 0.9594717080546, 0.9717154188496451, 0.17037550296158455, 0.15488682087416777, 0.13939813878675097, 0.5266151909721704, 0.9922507424188526, 0.8410439592795396, 0.9759770583838148, 0.949230612591954, 0.9081399387241061, 0.9731682493032795, 0.9268922163898626, 0.9500304699617507, 0.929695128323367, 0.9634129146974166, 0.8937715182758421, 0.9662881288730772, 0.8847741796818336, 0.9350386530576822, 0.2405209931641078, 0.7493154017804897, 0.13794182349139572, 0.18392243132186098, 0.18392243132186098, 0.06130747710728699, 0.3525179933669002, 0.06130747710728699, 0.8085256199702033, 0.1515985537444131, 0.8530546309314752, 0.9628984215905922, 0.9456456287809312, 0.8307314066246907, 0.8846382453734392, 0.9850755670293623, 0.864295750206385, 0.9471984873866484, 0.9551351119801365, 0.06807131477933477, 0.2949756973771173, 0.11345219129889128, 0.49918964171512165, 0.8290986220978062, 0.9345721509383659, 0.281875429714781, 0.6765010313154745, 0.8722135559874321, 0.9376074792521983, 0.9355650735410548, 0.9258268420332461, 0.9473176784894459, 0.9636068074180926, 0.9279862071370842, 0.982870059745638, 0.947428865647364, 0.22383796265906253, 0.7674444434025001, 0.9807891156266481, 0.8980771441183162, 0.9636692254566314, 0.9950902677525528, 0.2881393687696811, 0.6976005770213332, 0.822387831965205, 0.074762530178655, 0.9070603761335956, 0.7320318920074964, 0.2604344231180516, 0.8949463793600824, 0.9244401842079013, 0.891277628871472, 0.9784289449050106, 0.8220649988813283, 0.9717610996221151, 0.9389545341190759, 0.9323327769786227, 0.9291719225053942, 0.9598770085026149, 0.9616560821982298, 0.908332906276519, 0.9682060807308067, 0.8973416433317182, 0.9658373933710582, 0.2529741116785416, 0.6745976311427776, 0.9708749811715099, 0.912132895023789, 0.9579552883513209, 0.19213246629482458, 0.012008279143426536, 0.7805381443227248, 0.9800636460222937, 0.6382548445485667, 0.28366881979936304, 0.5888543106841533, 0.3434983478990894, 0.9168064786447927, 0.9863102429659937, 0.9540549049612075, 0.8800669564957725, 0.8423644457011106, 0.9869386990707496, 0.9459441393149622, 0.9423126736952183, 0.961141249588344, 0.9942727153177914, 0.9482717103734832, 0.9445026120005349, 0.875517941744144, 0.9481381344227923, 0.8656458254601793, 0.9205258118322672, 0.8573130939361233, 0.8937696609456502, 0.9556765469044648, 0.9792065770435059, 0.9556729787552755, 0.7237375266162729, 0.11427434630783256, 0.15236579507711007, 0.03418992745320725, 0.0820558258876974, 0.21197755020988496, 0.07179884765173523, 0.06496086216109379, 0.054703883925131605, 0.030770934707886527, 0.09573179686898031, 0.11966474608622538, 0.027351941962565803, 0.054703883925131605, 0.03418992745320725, 0.07863683314237668, 0.044446905689169425, 0.006837985490641451, 0.8934947410974816, 0.7341639114970978, 0.22024917344912934, 0.07543325314690699, 0.7327801734270964, 0.1831950433567741, 0.7969230543854156, 0.16777327460745592, 0.8880585791098453, 0.9410156208775016, 0.10288992748096781, 0.8642753908401296, 0.8046081390523838, 0.9695239636863774, 0.9567726095901059, 0.8783605972126283, 0.8549669228080462, 0.9141563598718341, 0.881571680249626, 0.9912139663749606, 0.8887476389798298, 0.969826806947634, 0.9871021024597524, 0.24561988884898478, 0.7368596665469543, 0.9148131238678381, 0.9076111531004113, 0.8813784567495104, 0.2647261851624805, 0.6176944320457878, 0.9326317176757836, 0.742698015214621, 0.1485396030429242, 0.9176611617231932, 0.8697931665424253, 0.9909172169808781, 0.9403873129547409, 0.9729264927716238, 0.9026896306994231, 0.864130423314332, 0.949646047741649, 0.10269292161791978, 0.8215433729433582, 0.9733710007592782, 0.9085760857459301, 0.13069603968462376, 0.8168502480288986, 0.0636743582532515, 0.8277666572922695, 0.9780823500711817, 0.9701740804871724, 0.9700936606340709, 0.9631239856368905, 0.9485140967982629, 0.9551247969547496, 0.9412898653339465, 0.9325106684202478, 0.9095040888951632, 0.9282574091532394, 0.9688746563201689, 0.935184717990674, 0.8767277474702058, 0.868230677743699, 0.9012650797739331, 0.9735025832235905, 0.7647911212353652, 0.16388381169329255, 0.8852538977644538, 0.9502058859222446, 0.8073053534911717, 0.9510550402065443, 0.9275648414674007, 0.9574341716316851, 0.9153447776971672, 0.925000485934758, 0.1888035579071586, 0.12586903860477242, 0.629345193023862, 0.9557898944677545, 0.09298560278425758, 0.8900050552207511, 0.947166284033096, 0.9167618155771083, 0.9620177085276516, 0.9671348146891396, 0.9076256249202229, 0.06483040178001592, 0.8799583419947603, 0.9491872029078352, 0.906352438891592, 0.8545483840048603, 0.9679688249859043, 0.2407776302012546, 0.1337653501118081, 0.5885675404919557, 0.9245531327805063, 0.8831418016748529, 0.05438995329374129, 0.02618775528957914, 0.022158869860413117, 0.05036106786457527, 0.06244772415207333, 0.002014442714583011, 0.06244772415207333, 0.02820219800416215, 0.07453438043957139, 0.022158869860413117, 0.14302543273539375, 0.03625996886249419, 0.008057770858332043, 0.010072213572915054, 0.04834662514999226, 0.004028885429166022, 0.020144427145830108, 0.010072213572915054, 0.020144427145830108, 0.014101099002081076, 0.006043328143749032, 0.09669325029998452, 0.03424552614791118, 0.06849105229582236, 0.03424552614791118, 0.02417331257499613, 0.012086656287498065, 0.984720783551595, 0.6327714600919154, 0.29204836619626867, 0.7388650993231496, 0.21731326450680868, 0.26501159078336095, 0.6890301360367385, 0.913522805428261, 0.9582013359543199, 0.9946127087237737, 0.781177149332313, 0.18027164984591837, 0.9055572531561756, 0.8240696162537657, 0.9584842628885429, 0.9900433031724062, 0.9127759886843193, 0.9409004885443482, 0.8752383174237373, 0.8483617790512363, 0.906606336406657, 0.9639723014449793, 0.9947696012659959, 0.9448384673236876, 0.3344550598198124, 0.6211308253796516, 0.9294643948389777, 0.06861741620500415, 0.892026410665054, 0.9564721507650918, 0.9060955868216183, 0.9645574590817072, 0.9546917822745052, 0.8195694114493268, 0.8360842412899364, 0.9906562449622685, 0.9685635739035697, 0.7403453103462533, 0.23135790948320414, 0.8938492576491767, 0.0649071838547611, 0.0649071838547611, 0.018544909672788885, 0.027817364509183328, 0.04636227418197221, 0.1298143677095222, 0.055634729018366656, 0.08345209352754998, 0.027817364509183328, 0.0649071838547611, 0.0649071838547611, 0.08345209352754998, 0.018544909672788885, 0.2410838257462555, 0.9381178958112164, 0.953664434730252, 0.9503197440743535, 0.9766920424264579, 0.8567529573016442, 0.8633174636359515, 0.9799519337922747, 0.896438069428607, 0.9556790207008308, 0.9143811950214152, 0.07315049560171322, 0.961543896322572, 0.9081380211626627, 0.9911528921504383, 0.9803318908417402, 0.8365377355609263, 0.9209608273995539, 0.9576901165037569, 0.8525236448054728, 0.986692084400162, 0.9005526332334992, 0.9379155138611233, 0.9218178112501919, 0.9105519704844613, 0.8838407868949523, 0.9238128123240382, 0.8723260414273669, 0.9490981204829453, 0.9655844483461623, 0.8833968603028117, 0.9298725429658002, 0.9484103892758827, 0.9809776524394873, 0.8523745744332542, 0.9782942381024907, 0.9188175202089027, 0.962754930640842, 0.9469488828329188, 0.9550814847112562, 0.9056405487596302, 0.844086497445593, 0.11761004695322587, 0.7056602817193552, 0.16801435279032267, 0.8225823021129415, 0.8893359469218983, 0.8937202500047207, 0.9418437105442881, 0.965326250822547, 0.9518959867841251, 0.9394423324758611, 0.1380766060297155, 0.828459636178293, 0.7421410911681585, 0.23436034457941848, 0.9552960250735635, 0.9146454761063085, 0.9114338859635559, 0.9305052350810268, 0.959467816504094, 0.943315541299461, 0.8823702829303136, 0.024655958316478075, 0.00986238332659123, 0.0690366832861386, 0.0345183416430693, 0.20711004985841583, 0.004931191663295615, 0.08383025827602546, 0.024655958316478075, 0.044380724969660536, 0.02958714997977369, 0.05917429995954738, 0.054243108296251764, 0.03944953330636492, 0.07396787494943423, 0.03944953330636492, 0.04931191663295615, 0.04931191663295615, 0.07889906661272984, 0.024655958316478075, 0.9605681604142452, 0.9418074940904558, 0.9530504977772555, 0.8784108773905882, 0.9314569780185494, 0.8559533432392267, 0.8301960127491891, 0.10377450159364864, 0.8739624057875034, 0.8983717663984603, 0.9503551800990148, 0.9530331709500202, 0.8926851604965823, 0.9311733648028881, 0.9060095890142154, 0.9785902421700555, 0.9353100682303713, 0.9018248934345078, 0.9648264966028057, 0.9687788960548122, 0.23005573155401854, 0.7285098165877253, 0.8400135851380831, 0.15628159723499221, 0.9397447899336293, 0.10030626667650283, 0.8693209778630245, 0.9471097583894829, 0.8608756611646123, 0.952318994885016, 0.9951360604464342, 0.9814789992316761, 0.906134908409908, 0.9013559628574016, 0.8612783041412362, 0.9698749546022596, 0.9751019645959849, 0.7072499263650472, 0.2694285433771608, 0.912440303301399, 0.8244869972728234, 0.16489739945456466, 0.9878212678899996, 0.8858958376192915, 0.9026153638717358, 0.9932788772976918, 0.9670100604882589, 0.94459608333868, 0.8300664851394849, 0.11319088433720248, 0.9383118063193833, 0.828298682391088, 0.8743349777622959, 0.062166942272612824, 0.5595024804535155, 0.11397272749979018, 0.2486677690904513, 0.8978462104144569, 0.8361367882100323, 0.7417472721976601, 0.24724909073255338, 0.9358539768138368, 0.9127119747442086, 0.9200795431116181, 0.9730130520702834, 0.8456176542118437, 0.933372693648701, 0.808702690859571, 0.8450905589480676, 0.9281050597681305, 0.9101999979835582, 0.862658149471008, 0.7266703242832, 0.27250137160619997, 0.872297278296148, 0.936510694916171, 0.9545277024164833, 0.9477030930188518, 0.9495246104406465, 0.9133599521871881, 0.8449129484037825, 0.9586340002683396, 0.8768679383717153, 0.8683605122484681, 0.9341137984751657, 0.8627512618056077, 0.8389078822819571, 0.8669466322207711, 0.8977167778639794, 0.9373795133858221, 0.9188761924535445, 0.9807361832913611, 0.7937149670747167, 0.9428557035100276, 0.9791130230944204, 0.9390614453282548, 0.8894193260581365, 0.8929533063862364, 0.8358080450819816, 0.9420010195342029, 0.9448397241799747, 0.9245995113111564, 0.9495195485137707, 0.9647532018601772, 0.9502531095567993, 0.9059198914618533, 0.9112251688495115, 0.7561426196114314, 0.20622071443948128, 0.86561561127603, 0.9547602695051086, 0.9342525282921175, 0.9557234944936177, 0.9173530884067, 0.9908823819298006, 0.8917316868155407, 0.07431097390129507, 0.9155664236753991, 0.9169026832041319, 0.8847634715478158, 0.08079631638291501, 0.2625880282444738, 0.16159263276583002, 0.14139355367010129, 0.020199079095728753, 0.3433843446273888, 0.912858208239139, 0.9515432960120425, 0.9496229333905729, 0.8749355271123576, 0.914336229070269, 0.15205645807311383, 0.8363105194021261, 0.11744474965782635, 0.45999193615981987, 0.18595418695822508, 0.10765768718634082, 0.1272318121293119, 0.8990068355575638, 0.9205860790581478, 0.9822738680418333, 0.8884603232122544, 0.2535007039519643, 0.7182519945305655, 0.9859033854799701, 0.9610204846828294, 0.9592060338819743, 0.9105527017683164, 0.9740551842206016, 0.7859367871012308, 0.9110388303551031, 0.9713667704526395, 0.9080589057302753, 0.9466221059179185, 0.8962675374406893, 0.9349266013607033, 0.985615569655434, 0.9731630923849712, 0.7521264752987457, 0.2314235308611525, 0.14305579974420063, 0.8225708485291536, 0.890376236364568, 0.9948837976196295, 0.986146811375887, 0.9441570872508283, 0.8884912832021596, 0.9257147026754547, 0.9855672735885663, 0.9602803236971234, 0.8917991961225303, 0.6996880919075597, 0.23322936396918656, 0.922676757134294, 0.9759727150891414, 0.9403766890008214, 0.9717669940414303, 0.9819226269233567, 0.8197435422633995, 0.9735217980076777, 0.9871836240199685, 0.919269077379883, 0.9587160007735909, 0.8017470949496196, 0.14578953164418093, 0.7653950411319499, 0.07289476582209047, 0.9518903920762164, 0.914413144143534, 0.9746233935913595, 0.9250577993298696, 0.9421344411949136, 0.9263243861600914, 0.695611177071547, 0.27051545775004604, 0.9308082460951201, 0.9482622092205086, 0.9231457947018158, 0.9210646515471832, 0.968957688057794, 0.9866586555754946, 0.8653081664634997, 0.8729898174307693, 0.9583171206907944, 0.9788891660677629, 0.9013109261854374, 0.8742272317771822, 0.9292064377459558, 0.9050991075504673, 0.8719324821555386, 0.9351055614059313, 0.9307515902490338, 0.8385350162081335, 0.3638755774337625, 0.07075358450100937, 0.1313995140733031, 0.05053827464357812, 0.09096889435844062, 0.12129185914458748, 0.080861239429725, 0.080861239429725, 0.9602382107249373, 0.990718147260693, 0.9470202702251928, 0.9379558064952351, 0.9603133213553678, 0.9771890511586871, 0.9813381496745257, 0.9568962224751811, 0.981048848125577, 0.8627625257933963, 0.9347001708630789, 0.9830736331801524, 0.6643593249996775, 0.2847254249998618, 0.9768201814203081, 0.9581496378037335, 0.9463830210046404, 0.8934291909525732, 0.9056586257438618, 0.911755301876172, 0.8377099105490656, 0.8755341507365213, 0.945999025838706, 0.9276153505511263, 0.6499761297003198, 0.2785611984429942, 0.9299496623837403, 0.5766723981106094, 0.11533447962212187, 0.2883361990553047, 0.8775757622735529, 0.8791109478828547, 0.9331727871892062, 0.939719289211484, 0.533512273251513, 0.2910066945008253, 0.03233407716675836, 0.14550334725041264, 0.8647010945787846, 0.13543511119908674, 0.904501593561732, 0.9318675651448423, 0.8577070844903175, 0.9021541314279141, 0.5931980676369365, 0.3774896794053232, 0.9692384806205806, 0.9386145164030812, 0.9774257299834979, 0.9435649246462299, 0.9543257100215031, 0.8064309363901199, 0.1832797582704818, 0.9933955044917347, 0.8507252200634585, 0.8048792416478013, 0.9296817081896525, 0.8919037236219794, 0.9248428417110283, 0.9698507314365055, 0.9627835795199134, 0.2746846193555867, 0.7063318783429372, 0.9604311516070558, 0.9953060596133546, 0.9870229266402682, 0.9735354323731323, 0.9572162983003419, 0.8833933423757006, 0.03733742443083753, 0.08960981863401007, 0.08960981863401007, 0.3435043047637053, 0.08214233374784256, 0.1344147279510151, 0.05973987908934005, 0.06720736397550756, 0.09707730352017759, 0.9459587942326145, 0.15263514669337405, 0.8140541156979949, 0.9254106502839414, 0.8984683503787472, 0.9341260995809049, 0.938248456087359, 0.9805074976307298, 0.9411259094926283, 0.9335508753729722, 0.9782285393265607, 0.9794162032399419, 0.9056484007876056, 0.9128328360205108, 0.9637447248821053, 0.9021313522273315, 0.0876718058912082, 0.8767180589120819, 0.9747140732921331, 0.913421312548744, 0.9896014101525571, 0.9749532301195061, 0.9369162623402886, 0.935512063683865, 0.992237347739188, 0.9536918168513003, 0.9414276996128215, 0.9476792756314606, 0.93983265110789, 0.925980279436743, 0.9746199110585482, 0.9744233391849425, 0.9272715274844027, 0.9225129981791017, 0.9682598923411206, 0.9559129657951385, 0.9245476257465196, 0.8969470871807476, 0.9622855043336429, 0.9626554550699614, 0.9670392317270292, 0.9081105362142802, 0.9192318378146986, 0.9210101862178927, 0.9481820562839662, 0.8138518850373253, 0.8891266776270353, 0.9322276608810022, 0.6432576836300775, 0.03675758192171871, 0.11027274576515614, 0.20216670056945293, 0.9578866890821833, 0.946909239978649, 0.9529044970891186, 0.918127298345608, 0.966211965304902, 0.5576172742612235, 0.39033209198285646, 0.8624563959226736, 0.804979570204122, 0.8543137501251352, 0.9593570363902673, 0.9550430312120552, 0.9135672727384527, 0.9046236062824516, 0.9858502034899943, 0.9589648110332079, 0.9354593987652433, 0.9532156483141839, 0.8765386765636949, 0.8877178738689119, 0.7226482570284009, 0.21679447710852026, 0.9712084022513396, 0.20315317930478186, 0.16252254344382547, 0.44693699447052004, 0.18283786137430366, 0.9607020993003637, 0.9496072664748255, 0.9376802103891542, 0.8644118362353692, 0.9795685590982501, 0.765579923442387, 0.19139498086059675, 0.9153910731147903, 0.9925392127532394, 0.9773992712808149, 0.9412309690232418, 0.08045971732925228, 0.8045971732925228, 0.9527050627231394, 0.9187790150599621, 0.6491450447388041, 0.32457252236940204, 0.8976787971513726, 0.9921797565008519, 0.9171199596905459, 0.8469628217839541, 0.8298169055028973, 0.9449949221752657, 0.8432061492553147, 0.8734148117934384, 0.9369665097542478, 0.8921756420998426, 0.17915307379079976, 0.23887076505439966, 0.5374592213723992, 0.7586845961071119, 0.16859657691269153, 0.9078170229194831, 0.9655414788841862, 0.6314214598135375, 0.31571072990676874, 0.9789404185118251, 0.8712171816465327, 0.8821998285553397, 0.9540445777759776, 0.9491618908032616, 0.8970688359205788, 0.8226302426313618, 0.8155808577873523, 0.9599686846055827, 0.224115932499623, 0.7619941704987182, 0.95097034910734, 0.9400496773522381, 0.9903080634567972, 0.9855569098767037, 0.22348962165552808, 0.7542774730874072, 0.8947470235535029, 0.9740617124542945, 0.9634323770649313, 0.9223896450571598, 0.9210313378623629, 0.9415724274221172, 0.9577529581570551, 0.985574424663847, 0.9868959535822398, 0.9043586298266388, 0.8950943667735971, 0.8983231140946951, 0.9610671101701755, 0.9652117072697326, 0.8754374460375337, 0.9760261513063324, 0.923542689173925, 0.8936739712134605, 0.9149943391402692, 0.8002022406304693, 0.9535970183201203, 0.16478638611097401, 0.82393193055487, 0.9517060204333915, 0.9863588089811306, 0.9540995003871501, 0.952265000641691, 0.8989087087993048, 0.9329991022017906, 0.8722922743381073, 0.253547781517271, 0.6761274173793892, 0.9543830626738683, 0.9362361972079735, 0.7971505459408984, 0.17329359694367358, 0.9643048251858031, 0.895650575363763, 0.9483061860475841, 0.9323028030339512, 0.9473325544561708, 0.8943180767215699, 0.829312481931536, 0.9691580546624854, 0.9280655446680195, 0.3035013177990993, 0.6070026355981986, 0.9405401574034367, 0.98892112261018, 0.9428505053910683, 0.9885410257638186, 0.9302403788180572, 0.8788473296116139, 0.9327389663280133, 0.922166260347614, 0.9532440922681761, 0.8934218270787563, 0.8365382535728855, 0.9799623484982044, 0.900428249025915, 0.9555154417634188, 0.9092199801781724, 0.2903050394939018, 0.6773784254857708, 0.9823237286150864, 0.9594437353431736, 0.8697381151377583, 0.9648884196563576, 0.9336393261504043, 0.9800280998526902, 0.7607932917121252, 0.17556768270279813, 0.9127094270903533, 0.9330777238364624, 0.8367003691923117, 0.9392889076120945, 0.9280688676747496, 0.9787613290713184, 0.891999805259599, 0.8190152754554528, 0.9502060581934642, 0.8919823182999228, 0.9513368656291445, 0.9458438211607729, 0.9917489631710797, 0.9749927074274068, 0.9280268145984533, 0.7847451413192061, 0.8398351491629156, 0.9163144112727465, 0.9103887226961342, 0.9207923287858873, 0.8854084331766019, 0.9355941787753532, 0.941326654613218, 0.919860168045885, 0.20439316009553726, 0.7153760603343805, 0.9513422117797952, 0.9191812926952135, 0.9136098830671782, 0.945127650465419, 0.8903586093632752, 0.9420793008350908, 0.8936279902708709, 0.8181851517630115, 0.8791471360752969, 0.20878897172297312, 0.7802114206490048, 0.9497886592727625, 0.26316472398215085, 0.6842282823535921, 0.9407972426930905, 0.9837795926995123, 0.8505560794463298, 0.7234274323232669, 0.26306452084482435, 0.953395924927641, 0.8994500748683476, 0.629437342285121, 0.10746491209745969, 0.24563408479419357, 0.9505673097593867, 0.8668704536680524, 0.8892779517829764, 0.9550849516350262, 0.9389617458321889, 0.8561151293200985, 0.8639877311618857, 0.9470562023514091, 0.9571706487069548, 0.9094195119971594, 0.9481717144582822, 0.9491020631002065, 0.8918821710275011, 0.8352884841484994, 0.15187063348154536, 0.9451403848167291, 0.9790963422822355, 0.9709016149196963, 0.11499515676859338, 0.7330941243997828, 0.014374394596074173, 0.07187197298037087, 0.04312318378822252, 0.014374394596074173, 0.8449327875391579, 0.9283467830665364, 0.9614700733515201, 0.982761487525905, 0.9348168640459806, 0.8958125370507742, 0.9835001941361279, 0.9088054289996902, 0.9315789914395975, 0.9750420825806484, 0.846867787872105, 0.96626290795496, 0.9242035643736553, 0.19698059909826207, 0.5318476175653075, 0.13788641936878343, 0.12803738941387033, 0.9837333490660679, 0.8851641736391984, 0.8958354894348416, 0.9486643739726273, 0.957569040430342, 0.9398175353420375, 0.9844434216437429, 0.9447668643981072, 0.9736255828721209, 0.87780666756653, 0.828065283349063, 0.9616891316507014, 0.8425072245044557, 0.9576631426251038, 0.9657999301418848, 0.905492401194358, 0.160562609376602, 0.80281304688301, 0.8751240822958701, 0.8368443760221557, 0.1368083322199719, 0.8550520763748244, 0.8291945215378586, 0.982100773631717, 0.8877824883944098, 0.9707726272115051, 0.971845125388629, 0.8656150627176517, 0.9944779548727256, 0.594901950072824, 0.13997692942889978, 0.20996539414334967, 0.9645884786208416, 0.9906621222206318, 0.8713738088472203, 0.9587669050840926, 0.9249159089067354, 0.8582347437825422, 0.9657002630984649, 0.9736019169489138, 0.9173844106342577, 0.9636640550958437, 0.9200537784282932, 0.9267383755948173, 0.9274943048098673, 0.8415573977821986, 0.9617409293069429, 0.8847761157386547, 0.9523495106585292, 0.12804310394546137, 0.12194581328139177, 0.7499667516805594, 0.9335337745674356, 0.9276720093746831, 0.9021554702204072, 0.9325914464500916, 0.9571129577606273, 0.9703206490899184, 0.8893034247962066, 0.9433857672543086, 0.9424964312479409, 0.9517080792867988, 0.08030880411260038, 0.8030880411260038, 0.7872965767631854, 0.09084191270344447, 0.1211225502712593, 0.941911220162356, 0.8388504071977528, 0.9445764765067876, 0.9358225026813043, 0.9691835497727712, 0.978270109506721, 0.8362539923817042, 0.8853376076642124, 0.93072928279633, 0.8964667770830231, 0.8325929587554849, 0.8941544023224985, 0.9412927842023147, 0.9581425861221118, 0.18396584683983824, 0.18396584683983824, 0.6044592110451829, 0.937036118542005, 0.6516575652979985, 0.05924159684527258, 0.14810399211318145, 0.13329359290186332, 0.12172669525738533, 0.8520868668016973, 0.9818356343465833, 0.8946600542317857, 0.8349023907182384, 0.9243650673366756, 0.8904991501280853, 0.9053316718515404, 0.8989111511435054, 0.9835454298337609, 0.0848705718633107, 0.6789645749064857, 0.22632152496882854, 0.871080960458685, 0.8457674788168592, 0.9648574147160097, 0.19128799214298317, 0.794580890440084, 0.9716674831783344, 0.7928697146896381, 0.9869679445613596, 0.6735058721927342, 0.26940234887709363, 0.34399078920833437, 0.6475120738039235, 0.9557940100066927, 0.9198080316733195, 0.9686190872470619, 0.8926576730049326, 0.9800332428937382, 0.2392284782708353, 0.7475889945963603, 0.9141309954971775, 0.6617751476622864, 0.33397998106321, 0.870923821200904, 0.9315256443922536, 0.8487765554474387, 0.6875006156724452, 0.2750002462689781, 0.8751773082099179, 0.9829299194124729, 0.9677817981868828, 0.9620250131130006, 0.8028529938402525, 0.15611030435782688, 0.9450621601475863, 0.8859605170490363, 0.9231593081179592, 0.8799253398192394, 0.9513616952765422, 0.9322200839790319, 0.9873689479333555, 0.7855951693834325, 0.9149487134512115, 0.2814109747003939, 0.04020156781434198, 0.6432250850294717, 0.9613987367473227, 0.9653899700749563, 0.9545134366265026, 0.9479490053710697, 0.9296626944102926, 0.9110376458936442, 0.9850734683947769, 0.9124224779268548, 0.7778209745183894, 0.8311697553734522, 0.8814557289719755, 0.9086295263998017, 0.9942418002264864, 0.8945491692652542, 0.9321920681162846, 0.9705186830926262, 0.9723341348938428, 0.9913116831220681, 0.9498014006612402, 0.9606697955094988, 0.9590844281007589, 0.967907261364366, 0.9942502153945185, 0.8426561390466389, 0.9894049546664619, 0.9701657939006066, 0.963888863080412, 0.8534028915534825, 0.8469451121563539, 0.9238213311244934, 0.9629391363889037, 0.6545350435909214, 0.3080164911016101, 0.9400466952085227, 0.769686912498008, 0.21551233549944226, 0.8830278423506044, 0.9539003808961329, 0.9204911958598275, 0.9820881306857708, 0.9520115739940803, 0.9457150046909211, 0.15496851833144018, 0.8264987644343476, 0.9340470968471951, 0.9067573458635116, 0.9432772789402469, 0.745715782297794, 0.21932817126405707, 0.9205258011509617, 0.9526478010867004, 0.952772928842208, 0.9867398917222735, 0.07274047650405793, 0.6182940502844924, 0.2545916677642027, 0.9649731762692513, 0.955074824722279, 0.19142916886766742, 0.7657166754706697, 0.9207048760286413, 0.8399282437151562, 0.8504070549391274, 0.9684282514358503, 0.9843362583333478, 0.9869972108600896, 0.28020747812806984, 0.6805038754538839, 0.9820709203653476, 0.8812345981817207, 0.9825550213029078, 0.91226457133564, 0.9211104805941698, 0.9690114793993666, 0.892801301576172, 0.835105519333746, 0.9582006256226258, 0.9839004835017737, 0.9795915747659135, 0.9416023181174882, 0.2666837794212833, 0.6667094485532084, 0.8860834459827008, 0.9276212562749495, 0.9232703750690816, 0.9393629741956752, 0.9089097550322327, 0.9631188324987725, 0.7996932322543069, 0.9824211750912297, 0.9606820056315157, 0.2814007848912942, 0.6753618837391062, 0.8822519530487923, 0.9569731995401859, 0.621283631748009, 0.3106418158740045, 0.8910425342697237, 0.21557891196143886, 0.7329683006688921, 0.9389168327849634, 0.94594446205921, 0.9835441287278585, 0.8859413354824429, 0.9452772125268415, 0.9324498766553706, 0.9362729478165253, 0.8725965421358999, 0.9031911218860367, 0.05611513295575428, 0.11223026591150856, 0.7294967284248056, 0.9031764623597773, 0.9664831418639233, 0.8770026781406248, 0.9490256139222097, 0.9449875598101979, 0.9031871442664041, 0.09336274682487174, 0.8402647214238457, 0.9077102042345393, 0.9618814733898877, 0.925344896967238, 0.9723313723177145, 0.23296245261785278, 0.7321677082275373, 0.7114740869759704, 0.26212203204377854, 0.9203762505172478, 0.1797345552206098, 0.7988202454249324, 0.8749023666747386, 0.8506361474645252, 0.060759724818894655, 0.9002155524931088, 0.9539150197580805, 0.8467226389809763, 0.7619993621427503, 0.19049984053568758, 0.9860301196704931, 0.852106417670898, 0.9349117499007465, 0.9872168900010605, 0.9082806599874909, 0.9419692355057717, 0.8938654545806917, 0.9044816809404795, 0.8668486921753066, 0.7905641756411075, 0.1216252577909396, 0.9754425413914463, 0.9473436935040896, 0.9888795865166123, 0.9112814852562166, 0.861640545828237, 0.8480735528983664, 0.1578895040113965, 0.29604282002136845, 0.5131408880370386, 0.9818764002866807, 0.9020403321315402, 0.960047625238566, 0.8360243836500646, 0.9278733482334063, 0.07400896400261744, 0.014801792800523487, 0.09621165320340268, 0.1850224100065436, 0.04440537840157047, 0.1480179280052349, 0.022202689200785233, 0.0666080676023557, 0.029603585601046974, 0.022202689200785233, 0.014801792800523487, 0.08140986040287919, 0.022202689200785233, 0.08881075680314093, 0.05920717120209395, 0.029603585601046974, 0.9428773118872105, 0.9589942299767502, 0.9399159478269328, 0.8764743805387122, 0.9418954681371005, 0.9729667372416871, 0.9611320532818513, 0.9606440863799266, 0.1299093298949406, 0.857401577306608, 0.9706158264321989, 0.8065988971427218, 0.2115507587506722, 0.7404276556273527, 0.9813044012255381, 0.8937188347382397, 0.9871563517441971, 0.9626787279202109, 0.8989844495270234, 0.9303678456480469, 0.9318100404204145, 0.9720433121813871, 0.9021649659554857, 0.8981422498921432, 0.5489525878182708, 0.3921089912987649, 0.6770401243180533, 0.22568004143935108, 0.9369484693127259, 0.9622439980679578, 0.8221979886078579, 0.13703299810130964, 0.5183310463943577, 0.23560502108834439, 0.1884840168706755, 0.899657532922219, 0.9739551063386472, 0.8068324853800707, 0.8526218778962169, 0.952998344728645, 0.9366667503549172, 0.9188727584477153, 0.16468005892984547, 0.7410602651843047, 0.9009050684532748, 0.9497034292500761, 0.952755101958169, 0.9707162251748906, 0.9092322082466402, 0.9473880138031971, 0.9514823714276792, 0.18960758409530074, 0.09480379204765037, 0.4266170642144267, 0.23700948011912593, 0.8251223407534306, 0.9859489248199473, 0.9617184248172465, 0.2152964678393356, 0.7633238405212807, 0.8846281944441584, 0.9143027824684853, 0.9613934932705712, 0.8662558025610149, 0.9682798398131536, 0.927588502320696, 0.8151549851557963, 0.8856895983593345, 0.9585126908204045, 0.9330939802449235, 0.9619768276781879, 0.8388280858475246, 0.9155690999622226, 0.7496731788583678, 0.06247276490486398, 0.06247276490486398, 0.9376928268215815, 0.9794896913950804, 0.9167880140952754, 0.9668030876871341, 0.925565741423457, 0.9692636011025392, 0.8780736399067551, 0.8681434811334031, 0.932090663519979, 0.2664606641884829, 0.7232503742258822, 0.7827313757612666, 0.1565462751522533, 0.9141625345059821, 0.978827467100698, 0.9289020936920591, 0.973746661536404, 0.9580704311955239, 0.9149097884371137, 0.9605313256979205, 0.8410194983546383, 0.9265435302678545, 0.9571556375897011, 0.915896018330829, 0.9304271272817977, 0.8341663993520534, 0.016572087675659517, 0.05247827763958847, 0.022096116900879356, 0.013810073063049596, 0.07733640915307774, 0.005524029225219839, 0.04971626302697855, 0.019334102288269435, 0.16295886214398525, 0.04971626302697855, 0.008286043837829759, 0.15191080369354557, 0.013810073063049596, 0.027620146126099192, 0.03590618996392895, 0.008286043837829759, 0.005524029225219839, 0.060764321477418226, 0.06352633609002814, 0.016572087675659517, 0.0718123799278579, 0.030382160738709113, 0.019334102288269435, 0.011048058450439678, 0.9253476982557661, 0.14875118589909722, 0.8384157750676389, 0.9060180117206529, 0.08984590260307812, 0.02764489310863942, 0.07141597386398517, 0.006911223277159855, 0.004607482184773237, 0.020733669831479565, 0.02764489310863942, 0.018429928739092948, 0.004607482184773237, 0.059897268402052076, 0.05068230403250561, 0.0760234560487584, 0.0622010094944387, 0.052986045124892224, 0.08984590260307812, 0.04837856294011899, 0.04146733966295913, 0.029948634201026038, 0.032252375293412655, 0.02764489310863942, 0.016126187646706328, 0.06680849167921193, 0.029948634201026038, 0.006911223277159855, 0.036859857478185896, 0.9307936457307794, 0.909469415711791, 0.9731323681521501, 0.9917077349841672, 0.9613815219132775, 0.9089483915248212, 0.864847165440001, 0.059529340521102106, 0.02149670629928687, 0.028111077468298218, 0.019843113507034035, 0.014882335130275526, 0.10252275311967585, 0.08267963961264181, 0.05787574772884927, 0.13559460896473258, 0.05126137655983792, 0.009921556753517018, 0.019843113507034035, 0.0181895207147812, 0.00826796396126418, 0.041339819806320906, 0.006614371169011345, 0.00826796396126418, 0.0363790414295624, 0.056222154936596436, 0.028111077468298218, 0.09756197474291733, 0.0033071855845056724, 0.04299341259857374, 0.038032634221815236, 0.00826796396126418, 0.7685599625221181, 0.19213999063052953, 0.9594501850580486], \"Term\": [\"abandon\", \"abandon\", \"abduction\", \"ability\", \"aboard\", \"abuse\", \"abuse\", \"academic\", \"academy\", \"academy\", \"accident\", \"accidentally\", \"account\", \"accuse\", \"accuse\", \"achieve\", \"act\", \"action\", \"activist\", \"actor\", \"actress\", \"actually\", \"adaptation\", \"adopt\", \"adult\", \"adulthood\", \"adventure\", \"adventure\", \"adventurous\", \"advice\", \"affair\", \"affair\", \"affection\", \"afloat\", \"aftermath\", \"age\", \"agency\", \"agent\", \"ahead\", \"alcoholic\", \"alien\", \"alive\", \"ally\", \"amateur\", \"ambition\", \"ambitious\", \"amidst\", \"amnesia\", \"ancient\", \"ancient\", \"ancient_china\", \"animal\", \"animate\", \"animated\", \"animation\", \"anniversary\", \"annual\", \"anthology\", \"anthology\", \"apart\", \"apartment\", \"apocalypse\", \"appear\", \"appearance\", \"architect\", \"archival_footage\", \"argentine\", \"arm\", \"array\", \"arrival\", \"arrive\", \"arrogant\", \"artist\", \"aspire\", \"aspire\", \"assassin\", \"assassination\", \"assign\", \"assistant\", \"attack\", \"attack\", \"attack\", \"attempt\", \"attend\", \"attention\", \"attorney\", \"attorney\", \"attraction\", \"audience\", \"audition\", \"author\", \"avenge\", \"avenge\", \"avoid\", \"await\", \"awkward\", \"bachelor\", \"backdrop\", \"balance\", \"ballet\", \"bangkok\", \"banker\", \"barbecue\", \"base\", \"baseball\", \"basketball\", \"battle\", \"battle\", \"battle\", \"battle\", \"battle\", \"battle\", \"beach\", \"beast\", \"beautiful\", \"beauty\", \"beauty_pageant\", \"becomes_entangled\", \"begin\", \"behavior\", \"believe\", \"beloved\", \"beset\", \"best_friend\", \"best_friend\", \"betrayal\", \"big\", \"billionaire\", \"biological\", \"birth\", \"birthday\", \"bitter\", \"bitter\", \"bizarre\", \"black\", \"blind\", \"blood\", \"bloody\", \"bodyguard\", \"border\", \"bound\", \"bounty\", \"brave\", \"brazil\", \"brazil\", \"break\", \"break\", \"break\", \"break\", \"break\", \"bride\", \"brilliant\", \"bring\", \"bring\", \"broadway\", \"brother\", \"brutal\", \"bud\", \"buddy\", \"build\", \"building\", \"building\", \"bureaucracy\", \"business\", \"businessman\", \"cabin\", \"camera\", \"campus\", \"canada\", \"cancer\", \"cancer\", \"candid\", \"candy\", \"captain\", \"capture\", \"career\", \"career\", \"career\", \"career\", \"career\", \"career\", \"career\", \"career\", \"career\", \"career\", \"career\", \"carefree\", \"carry\", \"carry_out\", \"cartel\", \"catch\", \"catholic\", \"caught\", \"cause\", \"celebrate\", \"celebration\", \"celebrity\", \"center\", \"century\", \"chain\", \"challenge\", \"champion\", \"champion\", \"championship\", \"chance\", \"change\", \"chaos\", \"chaotic\", \"character\", \"charge\", \"charismatic\", \"charm\", \"chase\", \"cheat\", \"cheer\", \"cheerful\", \"chess\", \"child\", \"childhood\", \"china\", \"choice\", \"choose\", \"choose_between\", \"church\", \"circle\", \"circus\", \"civil\", \"civil_war\", \"civilization\", \"clash\", \"class\", \"classic\", \"classmate\", \"classmate\", \"clean\", \"clever\", \"close\", \"close\", \"closer\", \"coach\", \"coast\", \"cocaine\", \"cold_war\", \"collapse\", \"colleague\", \"collection\", \"college\", \"college\", \"collide\", \"colonial\", \"color\", \"colorful\", \"combat\", \"come\", \"comedian\", \"comedian\", \"comedic\", \"comedy\", \"comfort\", \"comic\", \"commercial\", \"common\", \"community\", \"company\", \"company\", \"company\", \"compel\", \"compete\", \"competition\", \"competitive\", \"complete\", \"complex\", \"complicate\", \"concert\", \"condition\", \"confidence\", \"confine\", \"conflict\", \"confront\", \"connect\", \"connection\", \"connection\", \"conquer\", \"conservative\", \"conspiracy\", \"conspiracy\", \"contemporary\", \"contest\", \"contest\", \"control\", \"controversial\", \"convince\", \"corporate\", \"corrupt\", \"corruption\", \"country\", \"country\", \"country\", \"country\", \"couple\", \"courage\", \"course\", \"court\", \"cousin\", \"cover\", \"crack\", \"crash\", \"crazy\", \"create\", \"creation\", \"creative\", \"creator\", \"creature\", \"crime\", \"crime\", \"criminal\", \"criminal\", \"criminal\", \"criminal\", \"criminal\", \"criminal\", \"crisis\", \"crisis\", \"crook\", \"cross\", \"crowd\", \"cruel\", \"cruise\", \"crush\", \"cuisine\", \"culinary\", \"cultural\", \"culture\", \"culture\", \"culture\", \"culture\", \"cunning\", \"curiosity\", \"curious\", \"curious\", \"current\", \"curse\", \"custody\", \"custom\", \"cutthroat\", \"daily\", \"damage\", \"dance\", \"dancer\", \"danger\", \"danger\", \"dangerous\", \"dare\", \"date\", \"daughter\", \"deadly\", \"deadly\", \"deal\", \"deal\", \"dealer\", \"death\", \"death\", \"debate\", \"decade\", \"deceit\", \"decide\", \"deeply\", \"defeat\", \"defend\", \"defense\", \"deliver\", \"demon\", \"demonic\", \"derail\", \"desert\", \"design\", \"desperate\", \"desperately\", \"desperately\", \"despite\", \"destiny\", \"destroy\", \"detective\", \"detective\", \"detective\", \"determine\", \"devastate\", \"devastate\", \"devote\", \"devote\", \"die\", \"different\", \"difficult\", \"dimension\", \"dinosaur\", \"director\", \"dirty\", \"disappearance\", \"disaster\", \"discover\", \"discovery\", \"discus\", \"discuss\", \"disease\", \"disguise\", \"display\", \"distant\", \"disturb\", \"diverse\", \"divorce\", \"do_anything\", \"doctor\", \"doctor\", \"doctor\", \"documentary\", \"documentary\", \"documentary\", \"documentary\", \"documentary\", \"documentary\", \"documentary\", \"documentary\", \"documentary\", \"documentary\", \"documentary\", \"documentary\", \"documentary\", \"documentary\", \"documentary\", \"donkey\", \"dragon\", \"dragon\", \"drama\", \"drama\", \"drama\", \"dramatic\", \"dramatic\", \"draw\", \"drawn\", \"dream\", \"dream\", \"drinking\", \"drive\", \"driver\", \"drug_dealer\", \"drug_kingpin\", \"drug_lord\", \"dynamic\", \"each_other\", \"eager\", \"early\", \"earth\", \"eccentric\", \"eccentric\", \"eclectic\", \"economic\", \"education\", \"eerie\", \"eerie\", \"effect\", \"effort\", \"effort\", \"elaborate\", \"elephant\", \"elite\", \"elusive\", \"embark\", \"embrace\", \"emerge\", \"emotional\", \"emperor\", \"emperor\", \"empire\", \"employee\", \"encounter\", \"encounter\", \"endure\", \"endure\", \"enemy\", \"energy\", \"engage\", \"engineer\", \"enigmatic\", \"entangle\", \"enter\", \"enthusiast\", \"entire\", \"entrepreneur\", \"escape\", \"especially\", \"estate\", \"evade\", \"even\", \"event\", \"everyday\", \"everyday\", \"everyone_else\", \"evidence\", \"exact_revenge\", \"examine\", \"excite\", \"executive\", \"existence\", \"expand\", \"experience\", \"experience\", \"experience\", \"expert\", \"explore\", \"explore\", \"expose\", \"extinction\", \"extraordinary\", \"extreme\", \"face\", \"face\", \"factory\", \"fail\", \"failure\", \"fairy\", \"faith\", \"fall\", \"fall\", \"fall\", \"familial\", \"familiar\", \"family\", \"family\", \"family\", \"family\", \"family\", \"family\", \"family\", \"family\", \"family\", \"family\", \"family\", \"family\", \"family\", \"family\", \"family\", \"family\", \"family\", \"family\", \"family\", \"family\", \"family\", \"family\", \"family\", \"family\", \"family\", \"family\", \"family\", \"famous\", \"fantasy\", \"fantasy\", \"farmer\", \"farmer\", \"fashion\", \"fashion\", \"fashion_designer\", \"fateful\", \"father\", \"favorite\", \"favorite\", \"fearless\", \"feature\", \"fellow\", \"female\", \"fend_off\", \"festival\", \"fiction\", \"fictional\", \"field\", \"fierce\", \"fight\", \"fighter\", \"figure\", \"figure\", \"fill\", \"final\", \"final\", \"finally\", \"financial\", \"find\", \"firsthand\", \"fisherman\", \"flirt\", \"follow\", \"footage\", \"football\", \"football\", \"forbidden\", \"force\", \"force\", \"force\", \"force\", \"force\", \"force\", \"force\", \"force\", \"force\", \"force\", \"force\", \"force\", \"force\", \"force\", \"forest\", \"forever\", \"forge\", \"fortune\", \"foster\", \"fourth\", \"frame\", \"franchise\", \"frank\", \"freedom\", \"freedom\", \"fresh\", \"freshman\", \"friend\", \"friendship\", \"fugitive\", \"fulfill\", \"funny\", \"furry\", \"future\", \"gain\", \"gangster\", \"gather\", \"gender\", \"general\", \"genius\", \"genre\", \"german\", \"get\", \"getaway\", \"ghost\", \"giant\", \"gift\", \"glimpse\", \"global\", \"globe\", \"glory\", \"go\", \"golden\", \"good\", \"gorgeous\", \"government\", \"government\", \"government\", \"grade\", \"graduation\", \"grand\", \"grandfather\", \"grandmother\", \"grandson\", \"grant\", \"grapple\", \"grapple\", \"great\", \"great\", \"greed\", \"greedy\", \"green\", \"grieve\", \"grisly\", \"gritty\", \"ground\", \"group\", \"group\", \"group\", \"group\", \"group\", \"group\", \"group\", \"group\", \"group\", \"group\", \"group\", \"group\", \"group\", \"group\", \"group\", \"group\", \"group\", \"group\", \"group\", \"grow\", \"grueling\", \"guard\", \"guest\", \"guide\", \"hacker\", \"handsome\", \"handsome\", \"hapless\", \"happen\", \"happiness\", \"happy\", \"hatch\", \"have_been\", \"heal\", \"heart\", \"heartbreak\", \"heartbroken\", \"heiress\", \"help\", \"hidden\", \"hidden\", \"high_school\", \"high_school\", \"highly\", \"hilarious\", \"hilarious\", \"hire\", \"historic\", \"historical\", \"history\", \"holiday\", \"honest\", \"honor\", \"hopeful\", \"horror\", \"horse\", \"hospital\", \"hospital\", \"hostage\", \"hotel\", \"hotel\", \"house\", \"household\", \"housewife\", \"human\", \"humanity\", \"humble\", \"humor\", \"humor\", \"humorous\", \"hungry\", \"hunt\", \"husband\", \"husband\", \"husband\", \"husband\", \"hustler\", \"iceland\", \"iconic\", \"iconic\", \"idealistic\", \"identical\", \"identify\", \"identity\", \"illegal\", \"illness\", \"image\", \"imaginative\", \"immigrant\", \"immigration\", \"immortal\", \"impact\", \"impact\", \"important\", \"impress\", \"incident\", \"increasingly\", \"incredible\", \"independence\", \"independent\", \"industry\", \"infant\", \"infidelity\", \"infiltrate\", \"influence\", \"inherit\", \"injustice\", \"inmate\", \"inner\", \"innocence\", \"inside\", \"insight\", \"inspiration\", \"inspire\", \"inspired\", \"installment\", \"instead\", \"instructor\", \"insurance\", \"intense\", \"intent\", \"interactive\", \"international\", \"intersect\", \"interview\", \"intimacy\", \"intimate\", \"intimate\", \"intimate_look\", \"intrepid\", \"intrigue\", \"invasion\", \"inventor\", \"investigate\", \"investigation\", \"investigation\", \"investigator\", \"involve\", \"irreverent\", \"island\", \"island\", \"island\", \"island\", \"island\", \"island\", \"isolate\", \"isolated\", \"japan\", \"jerry\", \"jimmy\", \"journalist\", \"journalist\", \"journey\", \"journey\", \"journey\", \"journey\", \"journey\", \"juggle\", \"jungle\", \"justice\", \"kidnap\", \"kill\", \"kill\", \"killer\", \"kingdom\", \"kitchen\", \"knight\", \"know\", \"kung_fu\", \"late\", \"later\", \"laugh\", \"launch\", \"laura\", \"lavish\", \"lawyer\", \"lead\", \"leader\", \"leader\", \"leaf\", \"leaf\", \"league\", \"learn\", \"leave\", \"legacy\", \"legal\", \"legend\", \"legendary\", \"lethal\", \"letter\", \"lifelong\", \"lifelong\", \"lifetime\", \"light\", \"link\", \"little\", \"live\", \"lively\", \"living\", \"local\", \"location\", \"lonely\", \"longs\", \"look\", \"look\", \"look\", \"loom\", \"loose\", \"lose\", \"loser\", \"lovable\", \"love_triangle\", \"lover\", \"lover\", \"loyal\", \"lucky\", \"luxury\", \"machine\", \"magic\", \"magical\", \"magically\", \"magician\", \"major\", \"make\", \"making\", \"manage\", \"manager\", \"manga\", \"mansion\", \"marijuana\", \"marital\", \"market\", \"marriage\", \"marriage\", \"marriage\", \"marriage\", \"marriage\", \"marriage\", \"marriage\", \"marriage\", \"married\", \"marry\", \"martial\", \"martin\", \"massive\", \"master\", \"match\", \"matriarch\", \"may_be\", \"meaning\", \"mechanic\", \"medical\", \"medium\", \"medium\", \"meeting\", \"member\", \"memory\", \"mental\", \"mentor\", \"mermaid\", \"metal\", \"meteoric_rise\", \"middle\", \"midst\", \"military\", \"military\", \"million\", \"millionaire\", \"millionaire\", \"millionaire\", \"minister\", \"mischief\", \"mischievous\", \"misfit\", \"miss\", \"miss\", \"miss\", \"miss\", \"mission\", \"mission\", \"mistake\", \"mistakenly\", \"mistress\", \"mobster\", \"model\", \"model\", \"modern\", \"modest\", \"money\", \"monkey\", \"monster\", \"more_than\", \"more_than\", \"mother\", \"motion\", \"motley_crew\", \"mount\", \"mountain\", \"mouse\", \"move\", \"movement\", \"movie\", \"movie\", \"much_more\", \"murder\", \"music\", \"musical\", \"musician\", \"mutant\", \"mysterious\", \"mysterious\", \"mysterious\", \"mysterious\", \"mysterious\", \"mysterious\", \"mysterious\", \"mysterious\", \"mysterious\", \"mysteriously\", \"mystery\", \"mystery\", \"mystical\", \"mythical\", \"nasty\", \"nation\", \"national\", \"native\", \"natural\", \"nature\", \"navigate\", \"near_future\", \"nearly\", \"need\", \"nefarious\", \"neighbor\", \"neighbor\", \"neighborhood\", \"nephew\", \"new_york\", \"newly\", \"newspaper\", \"next_door\", \"night\", \"nightmare\", \"north\", \"north_pole\", \"northern\", \"not_knowing\", \"notorious\", \"novel\", \"novelist\", \"nuclear\", \"nurse\", \"obsession\", \"ocean\", \"offbeat\", \"offer\", \"office\", \"officer\", \"official\", \"old\", \"older_brother\", \"once_again\", \"onslaught\", \"operation\", \"opposite\", \"order\", \"order\", \"order\", \"order\", \"ordinary\", \"organization\", \"organized_crime\", \"origin\", \"original\", \"orphan\", \"orphan\", \"otherworldly\", \"outbreak\", \"outer_space\", \"outrageous\", \"outside\", \"outspoken\", \"overcome\", \"owner\", \"painful\", \"painter\", \"palace\", \"paradise\", \"parallel\", \"paranormal\", \"paranormal\", \"partner\", \"party\", \"party\", \"party\", \"party\", \"passion\", \"passionate\", \"patient\", \"patriarch\", \"peace\", \"peaceful\", \"peaceful\", \"peculiar\", \"people\", \"perfect\", \"perform\", \"performance\", \"performance\", \"perilous\", \"period\", \"person\", \"person\", \"persona\", \"personal\", \"personality\", \"perspective\", \"petty\", \"phenomenon\", \"philosophy\", \"phone\", \"photographer\", \"physic\", \"physical\", \"physical\", \"physical\", \"pianist\", \"pianist\", \"piece\", \"place\", \"plague\", \"plague\", \"planet\", \"plant\", \"plastic\", \"playboy\", \"player\", \"playful\", \"plenty\", \"plucky\", \"point\", \"police\", \"police\", \"police_officer\", \"policeman\", \"political\", \"politician\", \"politics\", \"politics\", \"pop_star\", \"popular\", \"possess\", \"possibility\", \"possible\", \"potential\", \"poverty\", \"power\", \"powerful\", \"practice\", \"prank\", \"precious\", \"pregnant\", \"prepare\", \"present\", \"president\", \"pressure\", \"prevent\", \"priest\", \"prime_minister\", \"prince\", \"princess\", \"princess\", \"principal\", \"prison\", \"prisoner\", \"private\", \"prize\", \"problem\", \"process\", \"prodigy\", \"prodigy\", \"producer\", \"production\", \"professional\", \"professional\", \"professor\", \"profound\", \"program\", \"project\", \"prominent\", \"promise\", \"prompt\", \"property\", \"propose\", \"prosecutor\", \"prosecutor\", \"prostitute\", \"protect\", \"protection\", \"prove\", \"provocative\", \"psychiatrist\", \"psychic\", \"psychological\", \"psychologist\", \"psychology\", \"psychotic\", \"public\", \"purpose\", \"pursue\", \"pursuit\", \"queen\", \"queen\", \"quest\", \"question\", \"quick\", \"quickly\", \"quiet\", \"quirky\", \"race\", \"race\", \"racial\", \"racism\", \"radical\", \"radio\", \"ragtag\", \"raise\", \"ranch\", \"range\", \"rapper\", \"rattle\", \"reach\", \"ready\", \"reality\", \"realize\", \"realm\", \"reason\", \"rebel\", \"rebellion\", \"rebellious\", \"rebuild\", \"receive\", \"recent\", \"recently\", \"recently_deceased\", \"reclaim\", \"reclaim\", \"reconnect\", \"record\", \"recover\", \"redemption\", \"rediscover\", \"reflect\", \"regime\", \"regional\", \"regret\", \"relationship\", \"relationship\", \"religion\", \"religious\", \"religious\", \"reluctantly\", \"remote\", \"remote_island\", \"renowned\", \"renowned\", \"reporter\", \"reputation\", \"rescue\", \"rescue\", \"rescue\", \"research\", \"resilient\", \"resistance\", \"resort\", \"respective\", \"responsibility\", \"responsible\", \"restaurant\", \"restore\", \"retell\", \"retire\", \"retirement\", \"retrieve\", \"return\", \"return\", \"reunion\", \"reunite\", \"reveal\", \"revenge\", \"revenge\", \"revenge\", \"revenge\", \"revenge\", \"revenge\", \"revive\", \"revolution\", \"revolutionary\", \"right\", \"rise\", \"risky\", \"rival\", \"rivalry\", \"rivet\", \"road_trip\", \"robbery\", \"robot\", \"rock_band\", \"romance\", \"romance\", \"romance\", \"romance\", \"romantic\", \"rookie\", \"roommate\", \"royal\", \"run\", \"runaway\", \"rural\", \"russia\", \"ruthless\", \"sacred\", \"sadistic\", \"safety\", \"satirical\", \"save\", \"scandal\", \"scene\", \"scheme\", \"scheme\", \"scholar\", \"scholarship\", \"school\", \"school\", \"schoolteacher\", \"science\", \"scientific\", \"scientist\", \"score\", \"scrappy\", \"search\", \"season\", \"season\", \"season\", \"second\", \"secret\", \"secretive\", \"secretly\", \"secure\", \"security\", \"seek\", \"seemingly\", \"send\", \"senior\", \"sensation\", \"sense\", \"separate\", \"separation\", \"sequel\", \"serial\", \"serial_killer\", \"series\", \"series\", \"series\", \"serve\", \"service\", \"set\", \"settle\", \"seven\", \"sexual\", \"sexually\", \"shadowy\", \"shady\", \"shake\", \"shape\", \"shape\", \"share\", \"share\", \"share\", \"sharp\", \"shed_light\", \"shelter\", \"sheriff\", \"shock\", \"short\", \"show\", \"showdown\", \"side\", \"signal\", \"silence\", \"silly\", \"simple\", \"sing\", \"singer\", \"singer\", \"singer\", \"singh\", \"single\", \"single\", \"single\", \"single\", \"sinister\", \"sinister\", \"sister\", \"skeptical\", \"sketch_comedy\", \"skilled\", \"slacker\", \"sleep\", \"slowly\", \"small\", \"small_town\", \"small_town\", \"small_town\", \"smart\", \"smith\", \"soccer\", \"social\", \"social\", \"social_media\", \"socially_awkward\", \"society\", \"soldier\", \"soldier\", \"solve\", \"solve\", \"sound\", \"source\", \"south\", \"southern\", \"space\", \"spark\", \"spark\", \"speak\", \"special\", \"special\", \"specie\", \"speech\", \"spell\", \"spend\", \"spend\", \"spending\", \"spirit\", \"spiritual\", \"spooky\", \"sport\", \"sport\", \"spotlight\", \"spread\", \"spree\", \"spring\", \"squad\", \"staff\", \"stage\", \"stalk\", \"stalker\", \"stand\", \"stand\", \"stand\", \"stardom\", \"start\", \"state\", \"station\", \"status\", \"stay_alive\", \"steal\", \"stick\", \"stigma\", \"stock\", \"store\", \"storm\", \"story\", \"straight\", \"strain\", \"strange\", \"stranger\", \"street\", \"strength\", \"strict\", \"strike\", \"string\", \"struggle\", \"stuck\", \"student\", \"studio\", \"study\", \"stumble\", \"subject\", \"suburban\", \"success\", \"successful\", \"successful\", \"sudden\", \"suddenly\", \"suddenly\", \"suffer\", \"suicide\", \"suitor\", \"summer\", \"super\", \"superhero\", \"supernatural\", \"supernatural\", \"support\", \"surface\", \"surgeon\", \"surprise\", \"surprise\", \"surprising\", \"surround\", \"survival\", \"survive\", \"suspect\", \"suspect\", \"suspect\", \"suspicious\", \"sweep\", \"sweet\", \"sweet\", \"swept\", \"switch\", \"sword\", \"tackle\", \"take\", \"tale\", \"talent\", \"talent\", \"talented\", \"talk\", \"target\", \"taxi_driver\", \"teach\", \"teacher\", \"teamwork\", \"technological\", \"technology\", \"teen\", \"teenage\", \"teens\", \"television\", \"television\", \"temple\", \"tenacious\", \"tense\", \"terminally_ill\", \"terrible\", \"terrify\", \"terrifying\", \"terrorist\", \"test\", \"thanks\", \"thanks\", \"theater\", \"therapist\", \"thief\", \"thief\", \"thing\", \"think\", \"think\", \"threat\", \"threaten\", \"thriller\", \"thrive\", \"throne\", \"throw\", \"thrown\", \"thrust\", \"tiger\", \"time\", \"time\", \"time\", \"title\", \"torn_between\", \"torture\", \"touch\", \"tough\", \"toxic\", \"trace\", \"trace\", \"track\", \"track_down\", \"trade\", \"traditional\", \"tragedy\", \"tragedy\", \"tragic\", \"tragic\", \"trail\", \"train\", \"train\", \"trainer\", \"training\", \"training\", \"transfer\", \"transform\", \"transformative\", \"transport\", \"transport\", \"trap\", \"trauma\", \"traumatic\", \"travel\", \"treacherous\", \"treasure\", \"treat\", \"treatment\", \"triad\", \"trial\", \"trial\", \"trouble\", \"truck\", \"true_story\", \"trump\", \"trust\", \"trusty\", \"truth\", \"truth\", \"truth\", \"try\", \"tumultuous\", \"turbulent\", \"turkey\", \"turmoil\", \"turn\", \"turn\", \"turn\", \"turn\", \"turn\", \"turn\", \"turn\", \"turn\", \"turn\", \"turn\", \"turn\", \"turn\", \"turn\", \"turn\", \"turn\", \"turn\", \"turned_upside\", \"twist\", \"tycoon\", \"ultimate\", \"unable\", \"unaware\", \"uncle\", \"uncover\", \"undercover\", \"undercover\", \"underground\", \"understand\", \"underwater\", \"underwater\", \"underworld\", \"unemployed\", \"unexpected\", \"unexpectedly\", \"unfiltered\", \"unhappy\", \"union\", \"unique\", \"uniquely\", \"united\", \"universe\", \"universe\", \"university\", \"university\", \"unknown\", \"unlikely\", \"unravel\", \"unravel\", \"unusual\", \"unusual\", \"unusual\", \"urban\", \"vacation\", \"valiant\", \"valuable\", \"vampire\", \"variety\", \"vengeance\", \"vengeful\", \"vengeful\", \"venture\", \"version\", \"very_different\", \"veteran\", \"vibrant\", \"vicious\", \"victim\", \"video\", \"video\", \"video\", \"video\", \"viking\", \"village\", \"violence\", \"violent\", \"violent\", \"virtual\", \"virus\", \"visit\", \"visual\", \"voice\", \"volatile\", \"vulnerable\", \"wacky\", \"wake\", \"war_i\", \"warrior\", \"waste\", \"watch\", \"water\", \"water\", \"water\", \"wealth\", \"wealthy\", \"wealthy_businessman\", \"wed\", \"wedding\", \"weekend\", \"weigh\", \"weird\", \"welcome\", \"well\", \"well\", \"white\", \"white\", \"wicked\", \"widow\", \"widower\", \"wilderness\", \"wildlife\", \"wildly\", \"win\", \"window\", \"winner\", \"winter\", \"witch\", \"witness\", \"wizard\", \"woman\", \"woman\", \"woman\", \"woman\", \"woman\", \"woman\", \"woman\", \"woman\", \"woman\", \"woman\", \"woman\", \"woman\", \"woman\", \"woman\", \"woman\", \"woman\", \"woman\", \"woman\", \"woman\", \"woman\", \"woman\", \"woman\", \"woman\", \"woman\", \"wonder\", \"work\", \"work\", \"worker\", \"world\", \"world\", \"world\", \"world\", \"world\", \"world\", \"world\", \"world\", \"world\", \"world\", \"world\", \"world\", \"world\", \"world\", \"world\", \"world\", \"world\", \"world\", \"world\", \"world\", \"world\", \"world\", \"world\", \"world\", \"world\", \"wound\", \"wrestle\", \"write\", \"writer\", \"wrong\", \"wrongly\", \"yearn\", \"young\", \"young\", \"young\", \"young\", \"young\", \"young\", \"young\", \"young\", \"young\", \"young\", \"young\", \"young\", \"young\", \"young\", \"young\", \"young\", \"young\", \"young\", \"young\", \"young\", \"young\", \"young\", \"young\", \"young\", \"young\", \"youth\", \"youth\", \"zombie\"]}, \"R\": 30, \"lambda.step\": 0.01, \"plot.opts\": {\"xlab\": \"PC1\", \"ylab\": \"PC2\"}, \"topic.order\": [1, 2, 3, 4, 5, 6, 7, 8, 9, 10, 11, 12, 13, 14, 15, 16, 17, 18, 19, 20, 21, 22, 23, 24, 25, 26, 27, 28, 29, 30, 31, 32, 33, 34, 35, 36, 37, 38, 39, 40]};\n",
       "\n",
       "function LDAvis_load_lib(url, callback){\n",
       "  var s = document.createElement('script');\n",
       "  s.src = url;\n",
       "  s.async = true;\n",
       "  s.onreadystatechange = s.onload = callback;\n",
       "  s.onerror = function(){console.warn(\"failed to load library \" + url);};\n",
       "  document.getElementsByTagName(\"head\")[0].appendChild(s);\n",
       "}\n",
       "\n",
       "if(typeof(LDAvis) !== \"undefined\"){\n",
       "   // already loaded: just create the visualization\n",
       "   !function(LDAvis){\n",
       "       new LDAvis(\"#\" + \"ldavis_el1109225213372162403065169663\", ldavis_el1109225213372162403065169663_data);\n",
       "   }(LDAvis);\n",
       "}else if(typeof define === \"function\" && define.amd){\n",
       "   // require.js is available: use it to load d3/LDAvis\n",
       "   require.config({paths: {d3: \"https://cdnjs.cloudflare.com/ajax/libs/d3/3.5.5/d3.min\"}});\n",
       "   require([\"d3\"], function(d3){\n",
       "      window.d3 = d3;\n",
       "      LDAvis_load_lib(\"https://cdn.rawgit.com/bmabey/pyLDAvis/files/ldavis.v1.0.0.js\", function(){\n",
       "        new LDAvis(\"#\" + \"ldavis_el1109225213372162403065169663\", ldavis_el1109225213372162403065169663_data);\n",
       "      });\n",
       "    });\n",
       "}else{\n",
       "    // require.js not available: dynamically load d3 & LDAvis\n",
       "    LDAvis_load_lib(\"https://cdnjs.cloudflare.com/ajax/libs/d3/3.5.5/d3.min.js\", function(){\n",
       "         LDAvis_load_lib(\"https://cdn.rawgit.com/bmabey/pyLDAvis/files/ldavis.v1.0.0.js\", function(){\n",
       "                 new LDAvis(\"#\" + \"ldavis_el1109225213372162403065169663\", ldavis_el1109225213372162403065169663_data);\n",
       "            })\n",
       "         });\n",
       "}\n",
       "</script>"
      ],
      "text/plain": [
       "PreparedData(topic_coordinates=              x         y  topics  cluster      Freq\n",
       "topic                                               \n",
       "0      0.131250 -0.052659       1        1  2.372899\n",
       "1      0.127366  0.137856       2        1  2.510118\n",
       "2      0.098764 -0.062123       3        1  2.587376\n",
       "3     -0.117152  0.064470       4        1  2.991223\n",
       "4      0.042065  0.192173       5        1  2.444710\n",
       "5      0.013012 -0.054200       6        1  2.567438\n",
       "6     -0.103412  0.035727       7        1  2.419409\n",
       "7      0.033604 -0.071253       8        1  1.918200\n",
       "8     -0.022230 -0.058437       9        1  2.329417\n",
       "9      0.012682  0.091913      10        1  2.208346\n",
       "10     0.017687  0.064991      11        1  3.169897\n",
       "11    -0.138550  0.054686      12        1  3.308247\n",
       "12    -0.108049  0.004327      13        1  2.871662\n",
       "13    -0.105287 -0.050674      14        1  2.426347\n",
       "14    -0.188236  0.060845      15        1  4.096110\n",
       "15     0.037732 -0.077629      16        1  2.198411\n",
       "16    -0.096448 -0.032998      17        1  2.329744\n",
       "17     0.049943 -0.053371      18        1  1.926425\n",
       "18    -0.026990  0.020208      19        1  2.484940\n",
       "19     0.096278  0.093030      20        1  2.498800\n",
       "20     0.188138  0.171564      21        1  3.430825\n",
       "21    -0.074594 -0.001223      22        1  2.425356\n",
       "22     0.053534 -0.030758      23        1  2.321990\n",
       "23     0.000631 -0.035577      24        1  2.577101\n",
       "24     0.043681 -0.065568      25        1  1.852723\n",
       "25     0.038988 -0.080887      26        1  2.019085\n",
       "26    -0.019352  0.086119      27        1  2.206800\n",
       "27    -0.069300  0.023490      28        1  2.075459\n",
       "28     0.029008 -0.107956      29        1  2.420485\n",
       "29     0.107294 -0.007921      30        1  2.228042\n",
       "30    -0.053042  0.038136      31        1  2.149012\n",
       "31     0.102102  0.059873      32        1  2.522498\n",
       "32    -0.152392  0.033106      33        1  2.555043\n",
       "33     0.073776 -0.133919      34        1  2.793181\n",
       "34    -0.108658 -0.051901      35        1  2.845854\n",
       "35     0.011962 -0.112076      36        1  2.138894\n",
       "36     0.070231 -0.007584      37        1  2.458422\n",
       "37    -0.062646  0.018214      38        1  2.258551\n",
       "38     0.010730 -0.062122      39        1  2.421843\n",
       "39     0.055880 -0.039890      40        1  2.639117, topic_info=            Term        Freq       Total Category  logprob  loglift\n",
       "339       series  328.000000  328.000000  Default  30.0000  30.0000\n",
       "154       father  249.000000  249.000000  Default  29.0000  29.0000\n",
       "101     daughter  175.000000  175.000000  Default  28.0000  28.0000\n",
       "217       mother  170.000000  170.000000  Default  27.0000  27.0000\n",
       "70        murder  151.000000  151.000000  Default  26.0000  26.0000\n",
       "..           ...         ...         ...      ...      ...      ...\n",
       "39   high_school   15.643224  102.379297  Topic40  -4.3589   1.7561\n",
       "218        order   10.893222   54.410543  Topic40  -4.7208   2.0263\n",
       "23         world   16.081112  434.076556  Topic40  -4.3313   0.3392\n",
       "90    mysterious   12.648422  133.913897  Topic40  -4.5714   1.2751\n",
       "164   government   10.206029   59.518725  Topic40  -4.7859   1.8714\n",
       "\n",
       "[1576 rows x 6 columns], token_table=      Topic      Freq       Term\n",
       "term                            \n",
       "396      22  0.640887    abandon\n",
       "396      24  0.291312    abandon\n",
       "2508     11  0.839222  abduction\n",
       "2311     15  0.905637    ability\n",
       "87       10  0.883712     aboard\n",
       "...     ...       ...        ...\n",
       "118      38  0.038033      young\n",
       "118      40  0.008268      young\n",
       "899      33  0.768560      youth\n",
       "899      34  0.192140      youth\n",
       "3725     18  0.959450     zombie\n",
       "\n",
       "[1799 rows x 3 columns], R=30, lambda_step=0.01, plot_opts={'xlab': 'PC1', 'ylab': 'PC2'}, topic_order=[1, 2, 3, 4, 5, 6, 7, 8, 9, 10, 11, 12, 13, 14, 15, 16, 17, 18, 19, 20, 21, 22, 23, 24, 25, 26, 27, 28, 29, 30, 31, 32, 33, 34, 35, 36, 37, 38, 39, 40])"
      ]
     },
     "execution_count": 44,
     "metadata": {},
     "output_type": "execute_result"
    }
   ],
   "source": [
    "#To easily read the top topics per genre, you just have to input the number of the topic in the texinput of the chart \n",
    "#and it will display the top words used in each topic for easier reading. \n",
    "import pyLDAvis.gensim\n",
    "pyLDAvis.enable_notebook()\n",
    "vis = pyLDAvis.gensim.prepare(ldamodel, corpus, dictionary, sort_topics=False)\n",
    "vis\n",
    "\n",
    "#Here we are using the PyLDAvis visual tool. In the left side it depicts the global view of the model, on how prevalent each topic is and how they relate to each other. \n",
    "#the bars represent the terms that are most useful in interpreting the topic currently selected"
   ]
  },
  {
   "cell_type": "code",
   "execution_count": null,
   "metadata": {
    "id": "apiPtc_7M615",
    "scrolled": true
   },
   "outputs": [],
   "source": []
  },
  {
   "cell_type": "code",
   "execution_count": 45,
   "metadata": {
    "colab": {
     "base_uri": "https://localhost:8080/",
     "height": 302
    },
    "id": "ZakyTLFCf4Jq",
    "outputId": "6a273c2f-23a5-4ac3-a7c6-0ced46aa2f5d"
   },
   "outputs": [
    {
     "name": "stderr",
     "output_type": "stream",
     "text": [
      "c:\\python39\\lib\\site-packages\\ipykernel\\ipkernel.py:287: DeprecationWarning: `should_run_async` will not call `transform_cell` automatically in the future. Please pass the result to `transformed_cell` argument and any exception that happen during thetransform in `preprocessing_exc_tuple` in IPython 7.17 and above.\n",
      "  and should_run_async(code)\n"
     ]
    },
    {
     "data": {
      "text/plain": [
       "<AxesSubplot:title={'center':'Top keywords for Movies'}>"
      ]
     },
     "execution_count": 45,
     "metadata": {},
     "output_type": "execute_result"
    },
    {
     "data": {
      "image/png": "[encoded data removed]",
      "text/plain": [
       "<Figure size 432x288 with 1 Axes>"
      ]
     },
     "metadata": {
      "needs_background": "light"
     },
     "output_type": "display_data"
    }
   ],
   "source": [
    "#Top Keywords per type (Movies and TV Shows)\n",
    "#This will show the top keywords from their description and will tell what are the common themes for movies, shows, and all of types in Netflix. \n",
    "\n",
    "KWMovies.plot(kind=\"barh\", fontsize=14, title=\"Top keywords for Movies\")"
   ]
  },
  {
   "cell_type": "code",
   "execution_count": 46,
   "metadata": {
    "colab": {
     "base_uri": "https://localhost:8080/",
     "height": 302
    },
    "id": "8iHZkgroOjO0",
    "outputId": "c9cbb2b3-b055-431c-c542-d1cf96093e75"
   },
   "outputs": [
    {
     "name": "stderr",
     "output_type": "stream",
     "text": [
      "c:\\python39\\lib\\site-packages\\ipykernel\\ipkernel.py:287: DeprecationWarning: `should_run_async` will not call `transform_cell` automatically in the future. Please pass the result to `transformed_cell` argument and any exception that happen during thetransform in `preprocessing_exc_tuple` in IPython 7.17 and above.\n",
      "  and should_run_async(code)\n"
     ]
    },
    {
     "data": {
      "text/plain": [
       "<AxesSubplot:title={'center':'Top Keywords for TV Shows'}>"
      ]
     },
     "execution_count": 46,
     "metadata": {},
     "output_type": "execute_result"
    },
    {
     "data": {
      "image/png": "[encoded data removed]",
      "text/plain": [
       "<Figure size 432x288 with 1 Axes>"
      ]
     },
     "metadata": {
      "needs_background": "light"
     },
     "output_type": "display_data"
    }
   ],
   "source": [
    "KWShows.plot(kind=\"barh\", fontsize=14, title=\"Top Keywords for TV Shows\")"
   ]
  },
  {
   "cell_type": "code",
   "execution_count": 47,
   "metadata": {
    "colab": {
     "base_uri": "https://localhost:8080/",
     "height": 302
    },
    "id": "HMtqvm6KO-VW",
    "outputId": "cc6793e4-9415-41f4-8da1-bec2f7d4518d"
   },
   "outputs": [
    {
     "name": "stderr",
     "output_type": "stream",
     "text": [
      "c:\\python39\\lib\\site-packages\\ipykernel\\ipkernel.py:287: DeprecationWarning: `should_run_async` will not call `transform_cell` automatically in the future. Please pass the result to `transformed_cell` argument and any exception that happen during thetransform in `preprocessing_exc_tuple` in IPython 7.17 and above.\n",
      "  and should_run_async(code)\n"
     ]
    },
    {
     "data": {
      "text/plain": [
       "<AxesSubplot:title={'center':'Top Keywords in Netflix'}>"
      ]
     },
     "execution_count": 47,
     "metadata": {},
     "output_type": "execute_result"
    },
    {
     "data": {
      "image/png": "[encoded data removed]",
      "text/plain": [
       "<Figure size 432x288 with 1 Axes>"
      ]
     },
     "metadata": {
      "needs_background": "light"
     },
     "output_type": "display_data"
    }
   ],
   "source": [
    "KW.plot(kind=\"barh\", fontsize=14, title=\"Top Keywords in Netflix\")\n"
   ]
  },
  {
   "cell_type": "code",
   "execution_count": 48,
   "metadata": {
    "colab": {
     "base_uri": "https://localhost:8080/",
     "height": 293
    },
    "id": "D9cOrjmbI58z",
    "outputId": "a1acd651-3813-4f4c-f60e-27fb12d69fef"
   },
   "outputs": [
    {
     "name": "stderr",
     "output_type": "stream",
     "text": [
      "c:\\python39\\lib\\site-packages\\ipykernel\\ipkernel.py:287: DeprecationWarning: `should_run_async` will not call `transform_cell` automatically in the future. Please pass the result to `transformed_cell` argument and any exception that happen during thetransform in `preprocessing_exc_tuple` in IPython 7.17 and above.\n",
      "  and should_run_async(code)\n"
     ]
    },
    {
     "data": {
      "text/html": [
       "<div>\n",
       "<style scoped>\n",
       "    .dataframe tbody tr th:only-of-type {\n",
       "        vertical-align: middle;\n",
       "    }\n",
       "\n",
       "    .dataframe tbody tr th {\n",
       "        vertical-align: top;\n",
       "    }\n",
       "\n",
       "    .dataframe thead th {\n",
       "        text-align: right;\n",
       "    }\n",
       "</style>\n",
       "<table border=\"1\" class=\"dataframe\">\n",
       "  <thead>\n",
       "    <tr style=\"text-align: right;\">\n",
       "      <th></th>\n",
       "      <th>Description</th>\n",
       "      <th>Tokens</th>\n",
       "      <th>topic_1</th>\n",
       "      <th>topic_1_prob</th>\n",
       "      <th>topic_2</th>\n",
       "      <th>topic_2_prob</th>\n",
       "      <th>topic_3</th>\n",
       "      <th>topic_3_prob</th>\n",
       "    </tr>\n",
       "  </thead>\n",
       "  <tbody>\n",
       "    <tr>\n",
       "      <th>0</th>\n",
       "      <td>Comic Sam Kinison lets it rip with this perfor...</td>\n",
       "      <td>[comic, sam, it, rip, with, this, performance,...</td>\n",
       "      <td>2</td>\n",
       "      <td>0.15</td>\n",
       "      <td>16</td>\n",
       "      <td>0.289287</td>\n",
       "      <td>26</td>\n",
       "      <td>0.146431</td>\n",
       "    </tr>\n",
       "    <tr>\n",
       "      <th>1</th>\n",
       "      <td>While suitors swoon over her cousin, a single ...</td>\n",
       "      <td>[while, swoon, over, her, cousin, a, single, w...</td>\n",
       "      <td>8</td>\n",
       "      <td>0.18</td>\n",
       "      <td>14</td>\n",
       "      <td>0.215085</td>\n",
       "      <td>32</td>\n",
       "      <td>0.190691</td>\n",
       "    </tr>\n",
       "    <tr>\n",
       "      <th>2</th>\n",
       "      <td>While investigating a series of murders and th...</td>\n",
       "      <td>[while, investigating, a, series, of, and, the...</td>\n",
       "      <td>11</td>\n",
       "      <td>0.15</td>\n",
       "      <td>20</td>\n",
       "      <td>0.14643</td>\n",
       "      <td>21</td>\n",
       "      <td>0.574901</td>\n",
       "    </tr>\n",
       "    <tr>\n",
       "      <th>3</th>\n",
       "      <td>Eight stories celebrating family, faith, love ...</td>\n",
       "      <td>[eight, family, faith, love, and, forgiveness,...</td>\n",
       "      <td>14</td>\n",
       "      <td>0.21</td>\n",
       "      <td>20</td>\n",
       "      <td>0.104366</td>\n",
       "      <td>32</td>\n",
       "      <td>0.220633</td>\n",
       "    </tr>\n",
       "    <tr>\n",
       "      <th>4</th>\n",
       "      <td>Lazy, lasagna-loving fat cat Garfield lives li...</td>\n",
       "      <td>[lazy, fat, cat, life, on, his, own, which, te...</td>\n",
       "      <td>2</td>\n",
       "      <td>0.26</td>\n",
       "      <td>4</td>\n",
       "      <td>0.256231</td>\n",
       "      <td>34</td>\n",
       "      <td>0.256285</td>\n",
       "    </tr>\n",
       "  </tbody>\n",
       "</table>\n",
       "</div>"
      ],
      "text/plain": [
       "                                         Description  \\\n",
       "0  Comic Sam Kinison lets it rip with this perfor...   \n",
       "1  While suitors swoon over her cousin, a single ...   \n",
       "2  While investigating a series of murders and th...   \n",
       "3  Eight stories celebrating family, faith, love ...   \n",
       "4  Lazy, lasagna-loving fat cat Garfield lives li...   \n",
       "\n",
       "                                              Tokens  topic_1  topic_1_prob  \\\n",
       "0  [comic, sam, it, rip, with, this, performance,...        2          0.15   \n",
       "1  [while, swoon, over, her, cousin, a, single, w...        8          0.18   \n",
       "2  [while, investigating, a, series, of, and, the...       11          0.15   \n",
       "3  [eight, family, faith, love, and, forgiveness,...       14          0.21   \n",
       "4  [lazy, fat, cat, life, on, his, own, which, te...        2          0.26   \n",
       "\n",
       "  topic_2 topic_2_prob topic_3 topic_3_prob  \n",
       "0      16     0.289287      26     0.146431  \n",
       "1      14     0.215085      32     0.190691  \n",
       "2      20      0.14643      21     0.574901  \n",
       "3      20     0.104366      32     0.220633  \n",
       "4       4     0.256231      34     0.256285  "
      ]
     },
     "execution_count": 48,
     "metadata": {},
     "output_type": "execute_result"
    }
   ],
   "source": [
    "#If people were to guess the same description, would they have the same answers?- As seen here in this data set, every topic in each description ended up with different results.\n",
    "unseen_df.head()"
   ]
  },
  {
   "cell_type": "markdown",
   "metadata": {
    "id": "2jhZT4QAWcZx"
   },
   "source": [
    "# Final Learnings: \n",
    "\n",
    "Doing this project was a challenge for us especially when looking for the most suitable model to use based on what we want to know about the dataset. Luckily, we found a dataset that already consists of useful information and requires little data cleaning. \n",
    "\n",
    "We had the most difficulty in using the LDA model and visualizing it because it was not part of the discussion in class, but it was made possible and we extracted meaningful results that answers our questions. \n",
    "\n",
    "Based on the result we saw how there are common topics for most genres and types like the topics 19 and 18 (where tha words can be seen in the pyLDavis Chart). Also, based on the unseen data extracted from the model it can be seen how other words related to the words in their description gives a different definition for the movie/show.\n",
    "\n",
    "\n",
    "\n",
    "\n",
    "\n"
   ]
  },
  {
   "cell_type": "markdown",
   "metadata": {
    "id": "tSIcjeWPV-E8"
   },
   "source": [
    "#References: \n",
    "\n",
    "**Data set:**\n",
    "\n",
    "*Retrieved from:* Kaggle.com\n",
    "\n",
    "*Title:* Netflix Movies and TV Shows (Movies and TV Shows listings on Netflix)\n",
    "\n",
    "*link:* https://www.kaggle.com/shivamb/netflix-shows/notebooks\n",
    "\n",
    "\n",
    "\n",
    "**LDA Topic Modelling sources:**\n",
    "- https://towardsdatascience.com/lda-topic-modeling-an-explanation-e184c90aadcd\n",
    "- https://towardsdatascience.com/latent-dirichlet-allocation-lda-9d1cd064ffa2\n",
    "\n",
    "\n",
    "**Other Sources**\n",
    "- .Larose and D. Larose, (2019)  Data Science Using Python and R \n",
    "- https://stats.stackexchange.com/questions/185983/calculating-precision-and-recall-for-lda"
   ]
  },
  {
   "cell_type": "code",
   "execution_count": null,
   "metadata": {
    "id": "NR68lcxkWbdU"
   },
   "outputs": [],
   "source": []
  }
 ],
 "metadata": {
  "colab": {
   "collapsed_sections": [],
   "name": "CS170-Balita-Rono.ipynb",
   "provenance": []
  },
  "kernelspec": {
   "display_name": "Python 3",
   "language": "python",
   "name": "python3"
  },
  "language_info": {
   "codemirror_mode": {
    "name": "ipython",
    "version": 3
   },
   "file_extension": ".py",
   "mimetype": "text/x-python",
   "name": "python",
   "nbconvert_exporter": "python",
   "pygments_lexer": "ipython3",
   "version": "3.9.0"
  }
 },
 "nbformat": 4,
 "nbformat_minor": 1
}
