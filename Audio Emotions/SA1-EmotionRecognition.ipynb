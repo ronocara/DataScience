{
  "cells": [
    {
      "cell_type": "markdown",
      "id": "e45f9a13",
      "metadata": {
        "id": "e45f9a13"
      },
      "source": [
        "# Module 1: Summative Assesment\n",
        "\n",
        "\n",
        "Emotion Recognition thru voice. \n",
        "\n",
        "We will be using the package Librosa for the audio analysis"
      ]
    },
    {
      "cell_type": "markdown",
      "id": "b0c60d2d",
      "metadata": {
        "id": "b0c60d2d"
      },
      "source": [
        "## Importing packages"
      ]
    },
    {
      "cell_type": "code",
      "execution_count": null,
      "id": "9f1a76f8",
      "metadata": {
        "id": "9f1a76f8"
      },
      "outputs": [],
      "source": [
        "# importing packages\n",
        "import librosa\n",
        "import IPython.display as ipd\n",
        "import csv\n",
        "import matplotlib.pyplot as plt\n",
        "import numpy as np\n",
        "%matplotlib inline\n",
        "import os\n",
        "#pip install --ignore-installed --upgrade https://storage.googleapis.com/tensorflow/mac/cpu/tensorflow-1.6.0-py3-none-any.whl"
      ]
    },
    {
      "cell_type": "markdown",
      "id": "086d4748",
      "metadata": {
        "id": "086d4748"
      },
      "source": [
        "## Preparing the Dataset"
      ]
    },
    {
      "cell_type": "code",
      "execution_count": null,
      "id": "da74cc3c",
      "metadata": {
        "id": "da74cc3c"
      },
      "outputs": [],
      "source": [
        "# Headers for the dataset\n",
        "\n",
        "header = 'filename pitch magnitude harmony Perceptrual chroma_stft spectral_centroid spectral_bandwidth rolloff zero_crossing_rate LPC'\n",
        "for i in range(1, 21):\n",
        "    header += f' mfcc{i}'\n",
        "header += ' Emotion '\n",
        "header = header.split()\n"
      ]
    },
    {
      "cell_type": "markdown",
      "id": "a5cee497",
      "metadata": {
        "id": "a5cee497"
      },
      "source": [
        "## Feature Extraction\n",
        "\n",
        "In this part audio files of different from different folders will be passed into the loop. In the loop it will perform the feature extraction. After getting the values it will be stored in the dataset 'dataset_combined'. \n",
        "\n",
        "The features to be extracted are the following:\n",
        "\n",
        "1. Pitch\n",
        "    -  position of a single sound in the complete range of sound. Sounds are higher or lower in pitch according to the frequency of vibration of the sound waves producing them\n",
        "    \n",
        "2. Harmonics and Perceptrual\n",
        "    - Harmonics are characteristichs that represent the sound color. Perceptrual shock wave represents the sound rhythm and emotion\n",
        "    \n",
        "3. Chroma Frequencies\n",
        "    -  tells us the intensity of each of the 12 notes at a specific point in time. for music audio in which the entire spectrum is projected onto 12 bins representing the 12 distinct semitones ( or chromas) of the musical octave.\n",
        "    \n",
        "4. Spectral Centroid\n",
        "    - It indicates where the ”centre of mass” for a sound is located and is calculated as the weighted mean of the frequencies present in the sound.\n",
        "    \n",
        "5. Spectral Bandwidth\n",
        "\n",
        "\n",
        "6. Spectral Rolloff\n",
        "    - Spectral rolloff is the frequency below which a specified percentage of the total spectral energy, e.g. 85%, lies.\n",
        "    \n",
        "7. Zero crossing rate\n",
        "    - the rate of sign-changes along a signal, i.e., the rate at which the signal changes from positive to negative or back.\n",
        "    \n",
        "8. Mel-Frequency Cepstral Coefficients\n",
        "    -  The mel frequency cepstral coefficients (MFCCs) of a signal are a small set of features (usually about 10–20) which concisely describe the overall shape of a spectral envelope.\n",
        "    \n",
        "9. Linear Prediction Coefficients ( LPC )\n",
        "    - determines the coefficients of a forward linear predictor by minimizing the prediction error in the least squares sense"
      ]
    },
    {
      "cell_type": "code",
      "execution_count": null,
      "id": "7bf03850",
      "metadata": {
        "id": "7bf03850"
      },
      "outputs": [],
      "source": [
        "    # adding the header to the dataset\n",
        "    file = open('dataset_combined.csv', 'w', newline='')\n",
        "    with file:\n",
        "        writer = csv.writer(file)\n",
        "        writer.writerow(header)\n",
        "        \n",
        "    # names for the categories of emotions used. Also the names of each folders    \n",
        "    genres = 'Angry Disgusted Fearful Happy Neutral Sad Surprised'.split()\n",
        "    \n",
        "    # loop for getting .wav files from different folders\n",
        "    for g in genres:\n",
        "        for filename in os.listdir(f'./Emotions/{g}'):\n",
        "            \n",
        "            # getting name for audio categories. Ex Angry\n",
        "            emotion = f'./Emotions/{g}'\n",
        "            \n",
        "            # getting each .wav file\n",
        "            audio_path = f'./Emotions/{g}/{filename}'\n",
        "            y , sr = librosa.load(audio_path, mono=True, duration=3)\n",
        "            \n",
        "            ## Feature Extraction \n",
        "            \n",
        "            #pitch\n",
        "            pitches, magnitudes = librosa.piptrack(y=y, sr=sr)\n",
        "            #Harmonics and Perceptrual\n",
        "            y_harm, y_perc = librosa.effects.hpss(y)\n",
        "            #Chroma Frequencies\n",
        "            chroma_stft = librosa.feature.chroma_stft(y=y, sr=sr)\n",
        "            # Spectral Centroid\n",
        "            spec_cent = librosa.feature.spectral_centroid(y=y, sr=sr)\n",
        "            #Spectral Bandwidth\n",
        "            spec_bw = librosa.feature.spectral_bandwidth(y=y, sr=sr)\n",
        "            #Spectral Rolloff\n",
        "            rolloff = librosa.feature.spectral_rolloff(y=y, sr=sr)\n",
        "            #Zero crossing rate\n",
        "            zcr = librosa.feature.zero_crossing_rate(y)\n",
        "            #Mel-Frequency Cepstral Coefficients\n",
        "            mfcc = librosa.feature.mfcc(y=y, sr=sr)\n",
        "            #LPC\n",
        "            lpc = librosa.lpc(y, order=16)\n",
        "            \n",
        "            # appending values per row in the dataset\n",
        "            to_append = f'{filename}  {np.mean(pitches)} {np.mean(magnitudes)} {np.mean(y_harm)} {np.mean(y_perc)} {np.mean(chroma_stft)} {np.mean(spec_cent)} {np.mean(spec_bw)} {np.mean(rolloff)} {np.mean(zcr)} {np.mean(lpc)}'    \n",
        "            #appending all MFCC values\n",
        "            for e in mfcc:\n",
        "                to_append += f' {np.mean(e)}'\n",
        "                \n",
        "            # appending audio category\n",
        "            to_append += f' {g}'\n",
        "            \n",
        "            # writing to dataset\n",
        "            file = open('dataset_combined.csv', 'a', newline='')\n",
        "            with file:\n",
        "                writer = csv.writer(file)\n",
        "                writer.writerow(to_append.split())"
      ]
    },
    {
      "cell_type": "code",
      "execution_count": null,
      "id": "d41b1cf0",
      "metadata": {
        "id": "d41b1cf0"
      },
      "outputs": [],
      "source": [
        ""
      ]
    }
  ],
  "metadata": {
    "kernelspec": {
      "display_name": "Python 3 (ipykernel)",
      "language": "python",
      "name": "python3"
    },
    "language_info": {
      "codemirror_mode": {
        "name": "ipython",
        "version": 3
      },
      "file_extension": ".py",
      "mimetype": "text/x-python",
      "name": "python",
      "nbconvert_exporter": "python",
      "pygments_lexer": "ipython3",
      "version": "3.10.5"
    },
    "colab": {
      "name": "SA1-Rono-Sibug.ipynb",
      "provenance": []
    }
  },
  "nbformat": 4,
  "nbformat_minor": 5
}